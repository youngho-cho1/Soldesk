{
 "cells": [
  {
   "cell_type": "markdown",
   "metadata": {},
   "source": [
    "## 모집단의 표본추출"
   ]
  },
  {
   "cell_type": "code",
   "execution_count": 2,
   "metadata": {},
   "outputs": [],
   "source": [
    "import warnings\n",
    "warnings.filterwarnings(action='ignore')\n",
    "\n",
    "import platform\n",
    "import os\n",
    "import csv\n",
    "import time\n",
    "import pandas as pd\n",
    "import numpy as np\n",
    "import seaborn as sns\n",
    "import matplotlib.pyplot as plt\n",
    "import matplotlib\n",
    "# import xlrd  # Excel read\n",
    "\n",
    "# from wordcloud import WordCloud\n",
    "from matplotlib import rc\n",
    "import scipy as sp\n",
    "from scipy import stats  # 통계 지원\n",
    "\n",
    "rc('font', family='Malgun Gothic')\n",
    "plt.rcParams[\"font.size\"] = 12         # 글자 크기\n",
    "plt.rcParams['axes.unicode_minus'] = False # minus 부호는 unicode 적용시 한글이 깨짐으로 설정\n",
    "\n",
    "# Dataframe의 출력을 소수점 이하 3자리로 제한\n",
    "pd.set_option('precision', 3)\n",
    "\n",
    "%matplotlib inline"
   ]
  },
  {
   "cell_type": "code",
   "execution_count": 6,
   "metadata": {},
   "outputs": [
    {
     "name": "stdout",
     "output_type": "stream",
     "text": [
      "count    100000.000\n",
      "mean          4.000\n",
      "std           0.800\n",
      "min           0.528\n",
      "25%           3.460\n",
      "50%           4.001\n",
      "75%           4.537\n",
      "max           7.336\n",
      "Name: length, dtype: float64\n",
      "(100000,)\n",
      "<class 'pandas.core.series.Series'>\n"
     ]
    }
   ],
   "source": [
    "fish = pd.read_csv('./data/fish_length-100000.csv')['length']\n",
    "print(fish.describe())\n",
    "print(fish.shape) # 1차원 배열 요소 100,000개\n",
    "print(type(fish)) # <class 'pandas.core.series.Series'>: 변수가 1개인경우"
   ]
  },
  {
   "cell_type": "code",
   "execution_count": 8,
   "metadata": {},
   "outputs": [
    {
     "name": "stdout",
     "output_type": "stream",
     "text": [
      "[3.91409066 3.88698145 2.73004145 3.55878316 3.54563433 4.64140557\n",
      " 3.93855385 5.39118337 4.93761542 3.36206477]\n",
      "<class 'numpy.ndarray'>\n",
      "(10,)\n"
     ]
    }
   ],
   "source": [
    "np.random.seed(6) # 표본의 특징을 잘 나타내는 seed 값\n",
    "sample = np.random.choice(fish, size=10, replace=False) # 비복원추출\n",
    "print(sample)\n",
    "print(type(sample))\n",
    "print(sample.shape)"
   ]
  },
  {
   "cell_type": "code",
   "execution_count": 10,
   "metadata": {},
   "outputs": [
    {
     "name": "stdout",
     "output_type": "stream",
     "text": [
      "4.000000000000023\n",
      "3.9906354030081888\n"
     ]
    }
   ],
   "source": [
    "print(fish.mean())   # 모평균\n",
    "print(sample.mean()) # 표본평균"
   ]
  },
  {
   "cell_type": "markdown",
   "metadata": {},
   "source": [
    "### 표본을 이용하여 처리시 분산값이 모분산에 근접하도록 n-1을 해야함."
   ]
  },
  {
   "cell_type": "code",
   "execution_count": 14,
   "metadata": {},
   "outputs": [
    {
     "name": "stdout",
     "output_type": "stream",
     "text": [
      "0.6400000000000087\n",
      "0.56698437738894\n",
      "0.6299826415432668\n"
     ]
    }
   ],
   "source": [
    "print(np.var(fish, ddof=0))   # n-ddof, 모분산\n",
    "print(np.var(sample, ddof=0)) # 표본에 모분산을 적용하는 실수 발생\n",
    "print(np.var(sample, ddof=1)) # 표본에 표본분산을 적용 ★\n",
    "# 표본분산의 정확도를 높이기위하여 표본에는 표본분산을 적용해야함."
   ]
  },
  {
   "cell_type": "code",
   "execution_count": 15,
   "metadata": {},
   "outputs": [
    {
     "name": "stdout",
     "output_type": "stream",
     "text": [
      "0.8000000000000054\n",
      "0.7529836501471596\n",
      "0.7937144584441351\n"
     ]
    }
   ],
   "source": [
    "print(np.std(fish, ddof=0))   # 모표준편차\n",
    "print(np.std(sample, ddof=0)) # 표본 표준편차, 공식 오류\n",
    "print(np.std(sample, ddof=1)) # n-1 표본의 표준편차가 모표분편차에 근접함\n",
    "# 표본을 이용하여 모집단을 추론하면 n-1을 해야함."
   ]
  },
  {
   "cell_type": "code",
   "execution_count": null,
   "metadata": {},
   "outputs": [],
   "source": []
  },
  {
   "cell_type": "code",
   "execution_count": null,
   "metadata": {},
   "outputs": [],
   "source": []
  },
  {
   "cell_type": "code",
   "execution_count": null,
   "metadata": {},
   "outputs": [],
   "source": []
  }
 ],
 "metadata": {
  "kernelspec": {
   "display_name": "ai",
   "language": "python",
   "name": "ai"
  },
  "language_info": {
   "codemirror_mode": {
    "name": "ipython",
    "version": 3
   },
   "file_extension": ".py",
   "mimetype": "text/x-python",
   "name": "python",
   "nbconvert_exporter": "python",
   "pygments_lexer": "ipython3",
   "version": "3.7.11"
  }
 },
 "nbformat": 4,
 "nbformat_minor": 4
}
