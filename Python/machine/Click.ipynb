{
 "cells": [
  {
   "cell_type": "markdown",
   "id": "4d4d50cd",
   "metadata": {},
   "source": [
    "### 광고"
   ]
  },
  {
   "cell_type": "code",
   "execution_count": 39,
   "id": "b2934b7b",
   "metadata": {},
   "outputs": [],
   "source": [
    "# %autosave 0 \n",
    "import warnings\n",
    "warnings.filterwarnings(action='ignore') \n",
    "\n",
    "import numpy as np\n",
    "import tensorflow as tf\n",
    "\n",
    "from tensorflow.keras.models import Sequential  # class\n",
    "from tensorflow.keras.models import load_model  # model 파일 로딩\n",
    "from tensorflow.keras.layers import Dense       # 전결합층\n",
    "from tensorflow.keras.optimizers import Adam    # 가중치, bias 최적화\n",
    "from tensorflow.keras.utils import plot_model   # 네트워크 입출력 시각화\n",
    "\n",
    "import matplotlib.pyplot as plt\n",
    "import matplotlib\n",
    "from matplotlib import rc\n",
    "rc('font', family='Malgun Gothic')\n",
    "\n",
    "# print(tf.__version__)"
   ]
  },
  {
   "cell_type": "code",
   "execution_count": 40,
   "id": "6fff9c74",
   "metadata": {},
   "outputs": [
    {
     "name": "stdout",
     "output_type": "stream",
     "text": [
      "<class 'numpy.ndarray'>\n",
      "(20, 2)\n",
      "[[235. 591.]\n",
      " [216. 539.]\n",
      " [148. 413.]\n",
      " [ 35. 310.]\n",
      " [ 85. 308.]\n",
      " [204. 519.]\n",
      " [ 49. 325.]\n",
      " [ 25. 332.]\n",
      " [173. 498.]\n",
      " [191. 498.]\n",
      " [134. 392.]\n",
      " [ 99. 334.]\n",
      " [117. 385.]\n",
      " [112. 387.]\n",
      " [162. 425.]\n",
      " [272. 659.]\n",
      " [159. 400.]\n",
      " [159. 427.]\n",
      " [ 59. 319.]\n",
      " [198. 522.]]\n"
     ]
    }
   ],
   "source": [
    "data = np.loadtxt('./data/click.csv', skiprows=1, delimiter=',')\n",
    "print(type(data))\n",
    "print(data.shape)\n",
    "print(data)"
   ]
  },
  {
   "cell_type": "code",
   "execution_count": 41,
   "id": "98b49857",
   "metadata": {},
   "outputs": [
    {
     "name": "stdout",
     "output_type": "stream",
     "text": [
      "[235. 216. 148.  35.  85. 204.  49.  25. 173. 191. 134.  99. 117. 112.\n",
      " 162. 272. 159. 159.  59. 198.]\n"
     ]
    }
   ],
   "source": [
    "x_train = data[:, 0]\n",
    "print(x_train)"
   ]
  },
  {
   "cell_type": "code",
   "execution_count": 42,
   "id": "43318dca",
   "metadata": {},
   "outputs": [
    {
     "name": "stdout",
     "output_type": "stream",
     "text": [
      "[591. 539. 413. 310. 308. 519. 325. 332. 498. 498. 392. 334. 385. 387.\n",
      " 425. 659. 400. 427. 319. 522.]\n"
     ]
    }
   ],
   "source": [
    "y_train = data[:, 1]\n",
    "print(y_train)"
   ]
  },
  {
   "cell_type": "code",
   "execution_count": 43,
   "id": "fef88831",
   "metadata": {},
   "outputs": [
    {
     "data": {
      "image/png": "[encoded data removed]",
      "text/plain": [
       "<Figure size 432x288 with 1 Axes>"
      ]
     },
     "metadata": {
      "needs_background": "light"
     },
     "output_type": "display_data"
    }
   ],
   "source": [
    "plt.plot(x_train, y_train)\n",
    "plt.show()"
   ]
  },
  {
   "cell_type": "code",
   "execution_count": 44,
   "id": "d97336f5",
   "metadata": {},
   "outputs": [
    {
     "data": {
      "text/plain": [
       "array([235., 216., 148.,  35.,  85., 204.,  49.,  25., 173., 191., 134.,\n",
       "        99., 117., 112., 162., 272., 159., 159.,  59., 198.])"
      ]
     },
     "execution_count": 44,
     "metadata": {},
     "output_type": "execute_result"
    }
   ],
   "source": [
    "data[:,0]"
   ]
  },
  {
   "cell_type": "code",
   "execution_count": 45,
   "id": "a5114c14",
   "metadata": {},
   "outputs": [
    {
     "data": {
      "text/plain": [
       "array([ 7,  3,  6, 18,  4, 11, 13, 12, 10,  2, 17, 16, 14,  8,  9, 19,  5,\n",
       "        1,  0, 15], dtype=int64)"
      ]
     },
     "execution_count": 45,
     "metadata": {},
     "output_type": "execute_result"
    }
   ],
   "source": [
    "idx = data[:,0].argsort() # 원본 데이터의 값이 정렬이 되도록 생성된 index, 0 ~\n",
    "idx"
   ]
  },
  {
   "cell_type": "code",
   "execution_count": 46,
   "id": "7aaa2433",
   "metadata": {},
   "outputs": [
    {
     "name": "stdout",
     "output_type": "stream",
     "text": [
      "[ 25. 332.]\n",
      "[ 35. 310.]\n",
      "[ 49. 325.]\n",
      "[[235. 591.]\n",
      " [216. 539.]\n",
      " [148. 413.]\n",
      " [ 35. 310.]\n",
      " [ 85. 308.]\n",
      " [204. 519.]\n",
      " [ 49. 325.]\n",
      " [ 25. 332.]\n",
      " [173. 498.]\n",
      " [191. 498.]\n",
      " [134. 392.]\n",
      " [ 99. 334.]\n",
      " [117. 385.]\n",
      " [112. 387.]\n",
      " [162. 425.]\n",
      " [272. 659.]\n",
      " [159. 400.]\n",
      " [159. 427.]\n",
      " [ 59. 319.]\n",
      " [198. 522.]]\n"
     ]
    }
   ],
   "source": [
    "print(data[7, :]) # 원본 데이터 index 7임으로 8번째 값\n",
    "print(data[3, :]) # 원본 데이터 index 3임으로 4번째 값\n",
    "print(data[6, :]) # 원본 데이터 index 6임으로 7번째 값\n",
    "print(data)"
   ]
  },
  {
   "cell_type": "code",
   "execution_count": 47,
   "id": "f20457cd",
   "metadata": {},
   "outputs": [
    {
     "data": {
      "text/plain": [
       "array([[ 25., 332.],\n",
       "       [ 35., 310.],\n",
       "       [ 49., 325.],\n",
       "       [ 59., 319.],\n",
       "       [ 85., 308.],\n",
       "       [ 99., 334.],\n",
       "       [112., 387.],\n",
       "       [117., 385.],\n",
       "       [134., 392.],\n",
       "       [148., 413.],\n",
       "       [159., 427.],\n",
       "       [159., 400.],\n",
       "       [162., 425.],\n",
       "       [173., 498.],\n",
       "       [191., 498.],\n",
       "       [198., 522.],\n",
       "       [204., 519.],\n",
       "       [216., 539.],\n",
       "       [235., 591.],\n",
       "       [272., 659.]])"
      ]
     },
     "execution_count": 47,
     "metadata": {},
     "output_type": "execute_result"
    }
   ],
   "source": [
    "data[idx]"
   ]
  },
  {
   "cell_type": "code",
   "execution_count": 48,
   "id": "42004a90",
   "metadata": {},
   "outputs": [
    {
     "data": {
      "text/plain": [
       "array([[272., 659.],\n",
       "       [235., 591.],\n",
       "       [216., 539.],\n",
       "       [204., 519.],\n",
       "       [198., 522.],\n",
       "       [191., 498.],\n",
       "       [173., 498.],\n",
       "       [162., 425.],\n",
       "       [159., 400.],\n",
       "       [159., 427.],\n",
       "       [148., 413.],\n",
       "       [134., 392.],\n",
       "       [117., 385.],\n",
       "       [112., 387.],\n",
       "       [ 99., 334.],\n",
       "       [ 85., 308.],\n",
       "       [ 59., 319.],\n",
       "       [ 49., 325.],\n",
       "       [ 35., 310.],\n",
       "       [ 25., 332.]])"
      ]
     },
     "execution_count": 48,
     "metadata": {},
     "output_type": "execute_result"
    }
   ],
   "source": [
    "data[idx][::-1]# 내림차순 정렬"
   ]
  },
  {
   "cell_type": "code",
   "execution_count": 49,
   "id": "a0a52bef",
   "metadata": {
    "scrolled": true
   },
   "outputs": [
    {
     "data": {
      "image/png": "[encoded data removed]",
      "text/plain": [
       "<Figure size 432x288 with 1 Axes>"
      ]
     },
     "metadata": {
      "needs_background": "light"
     },
     "output_type": "display_data"
    }
   ],
   "source": [
    "ds = data[idx]\n",
    "x_train = ds[:,0]\n",
    "y_train = ds[:,1]\n",
    "plt.plot(x_train, y_train)\n",
    "plt.plot(x_train, y_train, 'o')\n",
    "plt.show()"
   ]
  },
  {
   "cell_type": "code",
   "execution_count": 53,
   "id": "c720543f",
   "metadata": {},
   "outputs": [
    {
     "name": "stdout",
     "output_type": "stream",
     "text": [
      "Model: \"sequential_5\"\n",
      "_________________________________________________________________\n",
      "Layer (type)                 Output Shape              Param #   \n",
      "=================================================================\n",
      "dense_5 (Dense)              (None, 1)                 2         \n",
      "=================================================================\n",
      "Total params: 2\n",
      "Trainable params: 2\n",
      "Non-trainable params: 0\n",
      "_________________________________________________________________\n",
      "Epoch 1/200\n",
      "16/16 [==============================] - 0s 10ms/step - loss: 122433.9283 - val_loss: 243182.0000\n",
      "Epoch 2/200\n",
      "16/16 [==============================] - 0s 4ms/step - loss: 122466.6994 - val_loss: 239979.6562\n",
      "Epoch 3/200\n",
      "16/16 [==============================] - 0s 4ms/step - loss: 122859.5386 - val_loss: 236859.3750\n",
      "Epoch 4/200\n",
      "16/16 [==============================] - 0s 4ms/step - loss: 133378.5836 - val_loss: 233606.7188\n",
      "Epoch 5/200\n",
      "16/16 [==============================] - 0s 4ms/step - loss: 115125.6521 - val_loss: 230742.5156\n",
      "Epoch 6/200\n",
      "16/16 [==============================] - 0s 4ms/step - loss: 115839.9991 - val_loss: 227708.2656\n",
      "Epoch 7/200\n",
      "16/16 [==============================] - 0s 4ms/step - loss: 119806.5790 - val_loss: 224542.5000\n",
      "Epoch 8/200\n",
      "16/16 [==============================] - 0s 4ms/step - loss: 109165.8732 - val_loss: 221597.5312\n",
      "Epoch 9/200\n",
      "16/16 [==============================] - 0s 4ms/step - loss: 112019.4830 - val_loss: 218564.6875\n",
      "Epoch 10/200\n",
      "16/16 [==============================] - 0s 4ms/step - loss: 106026.3451 - val_loss: 215630.2656\n",
      "Epoch 11/200\n",
      "16/16 [==============================] - 0s 3ms/step - loss: 127672.1696 - val_loss: 212578.4688\n",
      "Epoch 12/200\n",
      "16/16 [==============================] - 0s 4ms/step - loss: 123483.2509 - val_loss: 209622.7188\n",
      "Epoch 13/200\n",
      "16/16 [==============================] - 0s 4ms/step - loss: 109877.6103 - val_loss: 206888.4062\n",
      "Epoch 14/200\n",
      "16/16 [==============================] - 0s 3ms/step - loss: 111966.2863 - val_loss: 203901.2188\n",
      "Epoch 15/200\n",
      "16/16 [==============================] - 0s 4ms/step - loss: 123297.2091 - val_loss: 200939.2812\n",
      "Epoch 16/200\n",
      "16/16 [==============================] - 0s 4ms/step - loss: 112393.8470 - val_loss: 198239.9688\n",
      "Epoch 17/200\n",
      "16/16 [==============================] - 0s 4ms/step - loss: 100919.6668 - val_loss: 195516.8281\n",
      "Epoch 18/200\n",
      "16/16 [==============================] - 0s 4ms/step - loss: 97974.7707 - val_loss: 192832.5469\n",
      "Epoch 19/200\n",
      "16/16 [==============================] - 0s 3ms/step - loss: 106384.5726 - val_loss: 189852.2188\n",
      "Epoch 20/200\n",
      "16/16 [==============================] - 0s 3ms/step - loss: 102843.3883 - val_loss: 187350.1250\n",
      "Epoch 21/200\n",
      "16/16 [==============================] - 0s 4ms/step - loss: 96694.4733 - val_loss: 184702.5781\n",
      "Epoch 22/200\n",
      "16/16 [==============================] - 0s 3ms/step - loss: 90860.1705 - val_loss: 182107.0312\n",
      "Epoch 23/200\n",
      "16/16 [==============================] - 0s 3ms/step - loss: 102130.2050 - val_loss: 179220.1250\n",
      "Epoch 24/200\n",
      "16/16 [==============================] - 0s 4ms/step - loss: 101343.0414 - val_loss: 176765.1250\n",
      "Epoch 25/200\n",
      "16/16 [==============================] - 0s 4ms/step - loss: 100193.6999 - val_loss: 174066.4531\n",
      "Epoch 26/200\n",
      "16/16 [==============================] - 0s 3ms/step - loss: 95925.7803 - val_loss: 171492.6250\n",
      "Epoch 27/200\n",
      "16/16 [==============================] - 0s 4ms/step - loss: 105420.9949 - val_loss: 168867.4062\n",
      "Epoch 28/200\n",
      "16/16 [==============================] - 0s 4ms/step - loss: 86696.7335 - val_loss: 166548.4844\n",
      "Epoch 29/200\n",
      "16/16 [==============================] - 0s 4ms/step - loss: 92611.9577 - val_loss: 164145.4375\n",
      "Epoch 30/200\n",
      "16/16 [==============================] - 0s 4ms/step - loss: 90514.0041 - val_loss: 161682.9062\n",
      "Epoch 31/200\n",
      "16/16 [==============================] - 0s 4ms/step - loss: 88894.1204 - val_loss: 159281.0781\n",
      "Epoch 32/200\n",
      "16/16 [==============================] - 0s 4ms/step - loss: 89369.3424 - val_loss: 156855.0312\n",
      "Epoch 33/200\n",
      "16/16 [==============================] - 0s 4ms/step - loss: 89416.7507 - val_loss: 154373.0938\n",
      "Epoch 34/200\n",
      "16/16 [==============================] - 0s 4ms/step - loss: 81293.2638 - val_loss: 152181.2969\n",
      "Epoch 35/200\n",
      "16/16 [==============================] - 0s 4ms/step - loss: 79611.0850 - val_loss: 149853.7812\n",
      "Epoch 36/200\n",
      "16/16 [==============================] - 0s 4ms/step - loss: 91024.5322 - val_loss: 147435.1094\n",
      "Epoch 37/200\n",
      "16/16 [==============================] - 0s 4ms/step - loss: 86649.8925 - val_loss: 145163.5312\n",
      "Epoch 38/200\n",
      "16/16 [==============================] - 0s 4ms/step - loss: 91726.9049 - val_loss: 142859.4531\n",
      "Epoch 39/200\n",
      "16/16 [==============================] - 0s 3ms/step - loss: 82675.1425 - val_loss: 140746.5156\n",
      "Epoch 40/200\n",
      "16/16 [==============================] - 0s 4ms/step - loss: 86042.4954 - val_loss: 138378.1562\n",
      "Epoch 41/200\n",
      "16/16 [==============================] - 0s 4ms/step - loss: 77730.1282 - val_loss: 136259.2500\n",
      "Epoch 42/200\n",
      "16/16 [==============================] - 0s 4ms/step - loss: 84760.8442 - val_loss: 134125.8750\n",
      "Epoch 43/200\n",
      "16/16 [==============================] - 0s 4ms/step - loss: 75782.3369 - val_loss: 131958.2969\n",
      "Epoch 44/200\n",
      "16/16 [==============================] - 0s 4ms/step - loss: 77970.8006 - val_loss: 129881.2500\n",
      "Epoch 45/200\n",
      "16/16 [==============================] - 0s 5ms/step - loss: 79988.1926 - val_loss: 127706.9609\n",
      "Epoch 46/200\n",
      "16/16 [==============================] - 0s 3ms/step - loss: 77368.6475 - val_loss: 125662.0625\n",
      "Epoch 47/200\n",
      "16/16 [==============================] - 0s 4ms/step - loss: 83598.0956 - val_loss: 123532.0781\n",
      "Epoch 48/200\n",
      "16/16 [==============================] - 0s 4ms/step - loss: 76187.0643 - val_loss: 121564.8281\n",
      "Epoch 49/200\n",
      "16/16 [==============================] - 0s 4ms/step - loss: 75114.9867 - val_loss: 119560.3594\n",
      "Epoch 50/200\n",
      "16/16 [==============================] - 0s 4ms/step - loss: 76400.6944 - val_loss: 117560.1406\n",
      "Epoch 51/200\n",
      "16/16 [==============================] - 0s 4ms/step - loss: 70366.8192 - val_loss: 115538.0156\n",
      "Epoch 52/200\n",
      "16/16 [==============================] - 0s 4ms/step - loss: 70059.5763 - val_loss: 113697.2656\n",
      "Epoch 53/200\n",
      "16/16 [==============================] - 0s 3ms/step - loss: 71844.5404 - val_loss: 111706.0156\n",
      "Epoch 54/200\n",
      "16/16 [==============================] - 0s 4ms/step - loss: 73165.1282 - val_loss: 109788.1875\n",
      "Epoch 55/200\n",
      "16/16 [==============================] - 0s 4ms/step - loss: 72276.1255 - val_loss: 107994.6406\n",
      "Epoch 56/200\n",
      "16/16 [==============================] - 0s 4ms/step - loss: 71709.2091 - val_loss: 106059.3828\n",
      "Epoch 57/200\n",
      "16/16 [==============================] - 0s 4ms/step - loss: 68304.0108 - val_loss: 104215.1172\n",
      "Epoch 58/200\n",
      "16/16 [==============================] - 0s 3ms/step - loss: 68516.8936 - val_loss: 102455.2734\n",
      "Epoch 59/200\n",
      "16/16 [==============================] - 0s 4ms/step - loss: 67767.5790 - val_loss: 100638.0000\n",
      "Epoch 60/200\n",
      "16/16 [==============================] - 0s 4ms/step - loss: 69911.3470 - val_loss: 98921.2188\n",
      "Epoch 61/200\n",
      "16/16 [==============================] - 0s 4ms/step - loss: 66043.3991 - val_loss: 97209.3828\n",
      "Epoch 62/200\n",
      "16/16 [==============================] - 0s 4ms/step - loss: 73090.9352 - val_loss: 95377.1328\n",
      "Epoch 63/200\n",
      "16/16 [==============================] - 0s 4ms/step - loss: 70772.5871 - val_loss: 93718.7422\n",
      "Epoch 64/200\n",
      "16/16 [==============================] - 0s 4ms/step - loss: 63437.0926 - val_loss: 92009.7109\n",
      "Epoch 65/200\n",
      "16/16 [==============================] - 0s 4ms/step - loss: 57884.9798 - val_loss: 90309.7969\n",
      "Epoch 66/200\n",
      "16/16 [==============================] - 0s 4ms/step - loss: 66186.7833 - val_loss: 88800.6875\n",
      "Epoch 67/200\n",
      "16/16 [==============================] - 0s 4ms/step - loss: 65407.3254 - val_loss: 87177.0625\n",
      "Epoch 68/200\n",
      "16/16 [==============================] - 0s 3ms/step - loss: 58729.0138 - val_loss: 85491.6094\n",
      "Epoch 69/200\n",
      "16/16 [==============================] - 0s 3ms/step - loss: 67434.9398 - val_loss: 83963.7344\n",
      "Epoch 70/200\n",
      "16/16 [==============================] - 0s 4ms/step - loss: 59222.6903 - val_loss: 82306.6250\n",
      "Epoch 71/200\n",
      "16/16 [==============================] - 0s 4ms/step - loss: 61962.0754 - val_loss: 80750.7734\n"
     ]
    },
    {
     "name": "stdout",
     "output_type": "stream",
     "text": [
      "Epoch 72/200\n",
      "16/16 [==============================] - 0s 4ms/step - loss: 60814.5616 - val_loss: 79191.1016\n",
      "Epoch 73/200\n",
      "16/16 [==============================] - 0s 3ms/step - loss: 55947.6939 - val_loss: 77767.8984\n",
      "Epoch 74/200\n",
      "16/16 [==============================] - 0s 3ms/step - loss: 58694.1889 - val_loss: 76224.7812\n",
      "Epoch 75/200\n",
      "16/16 [==============================] - 0s 3ms/step - loss: 55018.1425 - val_loss: 74747.3516\n",
      "Epoch 76/200\n",
      "16/16 [==============================] - 0s 4ms/step - loss: 52789.7916 - val_loss: 73358.8750\n",
      "Epoch 77/200\n",
      "16/16 [==============================] - 0s 4ms/step - loss: 57322.2417 - val_loss: 71832.3672\n",
      "Epoch 78/200\n",
      "16/16 [==============================] - 0s 4ms/step - loss: 51689.4922 - val_loss: 70349.6641\n",
      "Epoch 79/200\n",
      "16/16 [==============================] - 0s 4ms/step - loss: 57122.7376 - val_loss: 69015.5312\n",
      "Epoch 80/200\n",
      "16/16 [==============================] - 0s 3ms/step - loss: 59994.0880 - val_loss: 67679.0547\n",
      "Epoch 81/200\n",
      "16/16 [==============================] - 0s 3ms/step - loss: 44003.9860 - val_loss: 66234.0391\n",
      "Epoch 82/200\n",
      "16/16 [==============================] - 0s 3ms/step - loss: 55111.5944 - val_loss: 64931.6836\n",
      "Epoch 83/200\n",
      "16/16 [==============================] - 0s 3ms/step - loss: 49389.0977 - val_loss: 63621.7383\n",
      "Epoch 84/200\n",
      "16/16 [==============================] - 0s 4ms/step - loss: 50503.1544 - val_loss: 62277.9961\n",
      "Epoch 85/200\n",
      "16/16 [==============================] - 0s 3ms/step - loss: 52317.2812 - val_loss: 61019.8164\n",
      "Epoch 86/200\n",
      "16/16 [==============================] - 0s 4ms/step - loss: 46906.1077 - val_loss: 59702.4492\n",
      "Epoch 87/200\n",
      "16/16 [==============================] - 0s 4ms/step - loss: 52999.0269 - val_loss: 58469.0117\n",
      "Epoch 88/200\n",
      "16/16 [==============================] - 0s 3ms/step - loss: 53078.5032 - val_loss: 57194.7383\n",
      "Epoch 89/200\n",
      "16/16 [==============================] - 0s 4ms/step - loss: 56854.8966 - val_loss: 55958.6836\n",
      "Epoch 90/200\n",
      "16/16 [==============================] - 0s 4ms/step - loss: 46747.8784 - val_loss: 54735.9141\n",
      "Epoch 91/200\n",
      "16/16 [==============================] - 0s 3ms/step - loss: 44950.1459 - val_loss: 53534.5781\n",
      "Epoch 92/200\n",
      "16/16 [==============================] - 0s 3ms/step - loss: 51267.0446 - val_loss: 52369.0547\n",
      "Epoch 93/200\n",
      "16/16 [==============================] - 0s 3ms/step - loss: 52700.3279 - val_loss: 51226.7578\n",
      "Epoch 94/200\n",
      "16/16 [==============================] - 0s 3ms/step - loss: 47749.4575 - val_loss: 50076.4297\n",
      "Epoch 95/200\n",
      "16/16 [==============================] - 0s 3ms/step - loss: 49529.6730 - val_loss: 48934.1523\n",
      "Epoch 96/200\n",
      "16/16 [==============================] - 0s 3ms/step - loss: 41299.2181 - val_loss: 47875.9141\n",
      "Epoch 97/200\n",
      "16/16 [==============================] - 0s 3ms/step - loss: 46329.7716 - val_loss: 46765.2383\n",
      "Epoch 98/200\n",
      "16/16 [==============================] - 0s 3ms/step - loss: 40374.2482 - val_loss: 45717.0898\n",
      "Epoch 99/200\n",
      "16/16 [==============================] - 0s 3ms/step - loss: 42800.7941 - val_loss: 44626.0156\n",
      "Epoch 100/200\n",
      "16/16 [==============================] - 0s 3ms/step - loss: 41451.5446 - val_loss: 43603.8516\n",
      "Epoch 101/200\n",
      "16/16 [==============================] - 0s 3ms/step - loss: 41402.7395 - val_loss: 42544.9258\n",
      "Epoch 102/200\n",
      "16/16 [==============================] - 0s 3ms/step - loss: 39541.8936 - val_loss: 41501.9336\n",
      "Epoch 103/200\n",
      "16/16 [==============================] - 0s 3ms/step - loss: 41718.2136 - val_loss: 40552.9961\n",
      "Epoch 104/200\n",
      "16/16 [==============================] - 0s 3ms/step - loss: 39246.4236 - val_loss: 39541.1289\n",
      "Epoch 105/200\n",
      "16/16 [==============================] - 0s 3ms/step - loss: 44341.0188 - val_loss: 38586.5273\n",
      "Epoch 106/200\n",
      "16/16 [==============================] - 0s 3ms/step - loss: 42077.9699 - val_loss: 37626.2500\n",
      "Epoch 107/200\n",
      "16/16 [==============================] - 0s 4ms/step - loss: 42510.1415 - val_loss: 36716.4609\n",
      "Epoch 108/200\n",
      "16/16 [==============================] - 0s 4ms/step - loss: 40271.2663 - val_loss: 35797.5703\n",
      "Epoch 109/200\n",
      "16/16 [==============================] - 0s 3ms/step - loss: 36194.3587 - val_loss: 34878.2344\n",
      "Epoch 110/200\n",
      "16/16 [==============================] - 0s 3ms/step - loss: 33332.9980 - val_loss: 33983.4062\n",
      "Epoch 111/200\n",
      "16/16 [==============================] - 0s 3ms/step - loss: 36075.7474 - val_loss: 33087.3906\n",
      "Epoch 112/200\n",
      "16/16 [==============================] - 0s 3ms/step - loss: 35325.3847 - val_loss: 32203.3281\n",
      "Epoch 113/200\n",
      "16/16 [==============================] - 0s 4ms/step - loss: 39303.9543 - val_loss: 31366.1348\n",
      "Epoch 114/200\n",
      "16/16 [==============================] - 0s 3ms/step - loss: 37639.1164 - val_loss: 30548.2383\n",
      "Epoch 115/200\n",
      "16/16 [==============================] - 0s 3ms/step - loss: 37466.2966 - val_loss: 29721.3359\n",
      "Epoch 116/200\n",
      "16/16 [==============================] - 0s 3ms/step - loss: 35270.6583 - val_loss: 28885.6016\n",
      "Epoch 117/200\n",
      "16/16 [==============================] - 0s 3ms/step - loss: 34911.2475 - val_loss: 28093.2539\n",
      "Epoch 118/200\n",
      "16/16 [==============================] - 0s 3ms/step - loss: 34870.5005 - val_loss: 27324.6250\n",
      "Epoch 119/200\n",
      "16/16 [==============================] - 0s 3ms/step - loss: 30448.6352 - val_loss: 26542.3008\n",
      "Epoch 120/200\n",
      "16/16 [==============================] - 0s 3ms/step - loss: 34511.2006 - val_loss: 25829.2832\n",
      "Epoch 121/200\n",
      "16/16 [==============================] - 0s 4ms/step - loss: 44427.7112 - val_loss: 25087.4980\n",
      "Epoch 122/200\n",
      "16/16 [==============================] - 0s 3ms/step - loss: 34098.4830 - val_loss: 24340.6484\n",
      "Epoch 123/200\n",
      "16/16 [==============================] - 0s 3ms/step - loss: 32533.8932 - val_loss: 23632.3633\n",
      "Epoch 124/200\n",
      "16/16 [==============================] - 0s 3ms/step - loss: 28037.2684 - val_loss: 22925.8711\n",
      "Epoch 125/200\n",
      "16/16 [==============================] - 0s 3ms/step - loss: 34231.5287 - val_loss: 22231.1309\n",
      "Epoch 126/200\n",
      "16/16 [==============================] - 0s 5ms/step - loss: 32117.0749 - val_loss: 21563.3477\n",
      "Epoch 127/200\n",
      "16/16 [==============================] - 0s 3ms/step - loss: 28044.4138 - val_loss: 20903.5312\n",
      "Epoch 128/200\n",
      "16/16 [==============================] - 0s 3ms/step - loss: 35279.2054 - val_loss: 20263.7168\n",
      "Epoch 129/200\n",
      "16/16 [==============================] - 0s 4ms/step - loss: 24765.1845 - val_loss: 19615.7246\n",
      "Epoch 130/200\n",
      "16/16 [==============================] - 0s 3ms/step - loss: 41274.8813 - val_loss: 19010.4512\n",
      "Epoch 131/200\n",
      "16/16 [==============================] - 0s 4ms/step - loss: 23454.6079 - val_loss: 18392.2695\n",
      "Epoch 132/200\n",
      "16/16 [==============================] - 0s 5ms/step - loss: 31172.8790 - val_loss: 17793.5664\n",
      "Epoch 133/200\n",
      "16/16 [==============================] - 0s 4ms/step - loss: 26680.4571 - val_loss: 17192.5137\n",
      "Epoch 134/200\n",
      "16/16 [==============================] - 0s 4ms/step - loss: 38889.3888 - val_loss: 16653.8945\n",
      "Epoch 135/200\n",
      "16/16 [==============================] - 0s 4ms/step - loss: 23788.8302 - val_loss: 16072.2754\n",
      "Epoch 136/200\n",
      "16/16 [==============================] - 0s 5ms/step - loss: 21348.6709 - val_loss: 15502.3926\n",
      "Epoch 137/200\n",
      "16/16 [==============================] - 0s 3ms/step - loss: 28191.8234 - val_loss: 14975.2266\n",
      "Epoch 138/200\n",
      "16/16 [==============================] - 0s 3ms/step - loss: 25476.6966 - val_loss: 14459.3564\n",
      "Epoch 139/200\n",
      "16/16 [==============================] - 0s 3ms/step - loss: 33482.5371 - val_loss: 13941.0596\n",
      "Epoch 140/200\n",
      "16/16 [==============================] - 0s 3ms/step - loss: 21749.8675 - val_loss: 13448.3027\n",
      "Epoch 141/200\n",
      "16/16 [==============================] - 0s 4ms/step - loss: 21418.7227 - val_loss: 12939.6650\n",
      "Epoch 142/200\n",
      "16/16 [==============================] - 0s 4ms/step - loss: 27021.8009 - val_loss: 12482.9785\n",
      "Epoch 143/200\n",
      "16/16 [==============================] - 0s 3ms/step - loss: 21138.7749 - val_loss: 11986.9453\n",
      "Epoch 144/200\n",
      "16/16 [==============================] - 0s 4ms/step - loss: 23297.9033 - val_loss: 11551.9160\n",
      "Epoch 145/200\n",
      "16/16 [==============================] - 0s 4ms/step - loss: 24453.8932 - val_loss: 11085.0371\n",
      "Epoch 146/200\n",
      "16/16 [==============================] - 0s 4ms/step - loss: 23539.5926 - val_loss: 10659.8848\n",
      "Epoch 147/200\n"
     ]
    },
    {
     "name": "stdout",
     "output_type": "stream",
     "text": [
      "16/16 [==============================] - 0s 3ms/step - loss: 30376.1598 - val_loss: 10245.9668\n",
      "Epoch 148/200\n",
      "16/16 [==============================] - 0s 4ms/step - loss: 29613.4442 - val_loss: 9835.5020\n",
      "Epoch 149/200\n",
      "16/16 [==============================] - 0s 3ms/step - loss: 34455.9818 - val_loss: 9424.1973\n",
      "Epoch 150/200\n",
      "16/16 [==============================] - 0s 3ms/step - loss: 26681.7714 - val_loss: 9032.1777\n",
      "Epoch 151/200\n",
      "16/16 [==============================] - 0s 3ms/step - loss: 23596.9914 - val_loss: 8646.0605\n",
      "Epoch 152/200\n",
      "16/16 [==============================] - 0s 4ms/step - loss: 23126.6049 - val_loss: 8266.0645\n",
      "Epoch 153/200\n",
      "16/16 [==============================] - 0s 3ms/step - loss: 26817.0962 - val_loss: 7911.5010\n",
      "Epoch 154/200\n",
      "16/16 [==============================] - 0s 3ms/step - loss: 17742.6377 - val_loss: 7536.6138\n",
      "Epoch 155/200\n",
      "16/16 [==============================] - 0s 3ms/step - loss: 22107.7578 - val_loss: 7200.1748\n",
      "Epoch 156/200\n",
      "16/16 [==============================] - 0s 3ms/step - loss: 26498.9699 - val_loss: 6866.4775\n",
      "Epoch 157/200\n",
      "16/16 [==============================] - 0s 3ms/step - loss: 27919.0261 - val_loss: 6541.6538\n",
      "Epoch 158/200\n",
      "16/16 [==============================] - 0s 3ms/step - loss: 19208.6614 - val_loss: 6228.0513\n",
      "Epoch 159/200\n",
      "16/16 [==============================] - 0s 3ms/step - loss: 23518.5286 - val_loss: 5924.7637\n",
      "Epoch 160/200\n",
      "16/16 [==============================] - 0s 4ms/step - loss: 19265.7971 - val_loss: 5621.2754\n",
      "Epoch 161/200\n",
      "16/16 [==============================] - 0s 3ms/step - loss: 15655.7911 - val_loss: 5342.8760\n",
      "Epoch 162/200\n",
      "16/16 [==============================] - 0s 3ms/step - loss: 13132.6686 - val_loss: 5053.6479\n",
      "Epoch 163/200\n",
      "16/16 [==============================] - 0s 3ms/step - loss: 23078.6796 - val_loss: 4788.2026\n",
      "Epoch 164/200\n",
      "16/16 [==============================] - 0s 3ms/step - loss: 20074.8952 - val_loss: 4534.3955\n",
      "Epoch 165/200\n",
      "16/16 [==============================] - 0s 3ms/step - loss: 19469.4822 - val_loss: 4278.6689\n",
      "Epoch 166/200\n",
      "16/16 [==============================] - 0s 4ms/step - loss: 14622.8865 - val_loss: 4036.3999\n",
      "Epoch 167/200\n",
      "16/16 [==============================] - 0s 5ms/step - loss: 23846.7982 - val_loss: 3805.0393\n",
      "Epoch 168/200\n",
      "16/16 [==============================] - 0s 5ms/step - loss: 14620.5122 - val_loss: 3580.1855\n",
      "Epoch 169/200\n",
      "16/16 [==============================] - 0s 3ms/step - loss: 20720.1217 - val_loss: 3357.7788\n",
      "Epoch 170/200\n",
      "16/16 [==============================] - 0s 4ms/step - loss: 28824.9342 - val_loss: 3151.0869\n",
      "Epoch 171/200\n",
      "16/16 [==============================] - 0s 5ms/step - loss: 22404.4640 - val_loss: 2945.8481\n",
      "Epoch 172/200\n",
      "16/16 [==============================] - 0s 4ms/step - loss: 25990.5211 - val_loss: 2754.4819\n",
      "Epoch 173/200\n",
      "16/16 [==============================] - 0s 3ms/step - loss: 16864.6077 - val_loss: 2566.9761\n",
      "Epoch 174/200\n",
      "16/16 [==============================] - 0s 4ms/step - loss: 22275.8798 - val_loss: 2392.1555\n",
      "Epoch 175/200\n",
      "16/16 [==============================] - 0s 3ms/step - loss: 16280.1663 - val_loss: 2225.1426\n",
      "Epoch 176/200\n",
      "16/16 [==============================] - 0s 3ms/step - loss: 19264.2192 - val_loss: 2056.2393\n",
      "Epoch 177/200\n",
      "16/16 [==============================] - 0s 3ms/step - loss: 15966.1744 - val_loss: 1904.8495\n",
      "Epoch 178/200\n",
      "16/16 [==============================] - 0s 3ms/step - loss: 21091.0686 - val_loss: 1757.3402\n",
      "Epoch 179/200\n",
      "16/16 [==============================] - 0s 3ms/step - loss: 11096.6079 - val_loss: 1616.7513\n",
      "Epoch 180/200\n",
      "16/16 [==============================] - 0s 3ms/step - loss: 16163.2557 - val_loss: 1484.3943\n",
      "Epoch 181/200\n",
      "16/16 [==============================] - 0s 3ms/step - loss: 18493.7942 - val_loss: 1356.2109\n",
      "Epoch 182/200\n",
      "16/16 [==============================] - 0s 3ms/step - loss: 26983.3496 - val_loss: 1234.4958\n",
      "Epoch 183/200\n",
      "16/16 [==============================] - 0s 3ms/step - loss: 15437.2249 - val_loss: 1124.9739\n",
      "Epoch 184/200\n",
      "16/16 [==============================] - 0s 3ms/step - loss: 17696.5647 - val_loss: 1016.6434\n",
      "Epoch 185/200\n",
      "16/16 [==============================] - 0s 3ms/step - loss: 17495.1276 - val_loss: 915.0312\n",
      "Epoch 186/200\n",
      "16/16 [==============================] - 0s 3ms/step - loss: 12407.5307 - val_loss: 823.2181\n",
      "Epoch 187/200\n",
      "16/16 [==============================] - 0s 3ms/step - loss: 18413.4451 - val_loss: 735.0668\n",
      "Epoch 188/200\n",
      "16/16 [==============================] - 0s 3ms/step - loss: 15405.7974 - val_loss: 654.2866\n",
      "Epoch 189/200\n",
      "16/16 [==============================] - 0s 3ms/step - loss: 15284.1103 - val_loss: 579.3177\n",
      "Epoch 190/200\n",
      "16/16 [==============================] - 0s 3ms/step - loss: 15709.0037 - val_loss: 511.8611\n",
      "Epoch 191/200\n",
      "16/16 [==============================] - 0s 3ms/step - loss: 20464.4499 - val_loss: 449.9093\n",
      "Epoch 192/200\n",
      "16/16 [==============================] - 0s 3ms/step - loss: 16224.4176 - val_loss: 391.5122\n",
      "Epoch 193/200\n",
      "16/16 [==============================] - 0s 4ms/step - loss: 15707.5838 - val_loss: 341.4438\n",
      "Epoch 194/200\n",
      "16/16 [==============================] - 0s 3ms/step - loss: 11838.9456 - val_loss: 294.4402\n",
      "Epoch 195/200\n",
      "16/16 [==============================] - 0s 3ms/step - loss: 25191.1739 - val_loss: 255.1405\n",
      "Epoch 196/200\n",
      "16/16 [==============================] - 0s 3ms/step - loss: 13908.3152 - val_loss: 221.3123\n",
      "Epoch 197/200\n",
      "16/16 [==============================] - 0s 3ms/step - loss: 21177.9479 - val_loss: 191.1709\n",
      "Epoch 198/200\n",
      "16/16 [==============================] - 0s 4ms/step - loss: 21100.9596 - val_loss: 166.4540\n",
      "Epoch 199/200\n",
      "16/16 [==============================] - 0s 3ms/step - loss: 19790.4846 - val_loss: 146.5547\n",
      "Epoch 200/200\n",
      "16/16 [==============================] - 0s 3ms/step - loss: 21309.0804 - val_loss: 132.4866\n"
     ]
    }
   ],
   "source": [
    "model = Sequential()\n",
    "model.add(Dense(1, input_dim=1, activation='linear'))\n",
    "model.compile(optimizer='adam', loss='mse')\n",
    "model.summary()\n",
    "hist = model.fit(x_train, y_train, validation_split=0.2, shuffle=True,\n",
    "                epochs=200, batch_size=1)\n",
    "\n"
   ]
  },
  {
   "cell_type": "code",
   "execution_count": 54,
   "id": "cf7f2991",
   "metadata": {},
   "outputs": [
    {
     "data": {
      "image/png": "[encoded data removed]",
      "text/plain": [
       "<Figure size 720x360 with 1 Axes>"
      ]
     },
     "metadata": {
      "needs_background": "light"
     },
     "output_type": "display_data"
    }
   ],
   "source": [
    "import matplotlib.pyplot as plt\n",
    "%matplotlib inline  \n",
    "\n",
    "fig, loss_ax = plt.subplots()\n",
    "# plt.figure(figsize=(6,4)) # ERROR\n",
    "fig.set_size_inches(10, 5)  # 챠트 크기 설정\n",
    "\n",
    "# 왼쪽 y 축 설정\n",
    "loss_ax.plot(hist.history['loss'], 'y', label='train loss')\n",
    "loss_ax.plot(hist.history['val_loss'], 'r', label='val loss')\n",
    "loss_ax.set_ylim([0.0, 243182.0000]) # 값을 반영하여 변경 ★\n",
    "\n",
    "# 축 레이블 설정\n",
    "loss_ax.set_xlabel('epoch')  # 학습 횟수\n",
    "loss_ax.set_ylabel('loss')   # 오차\n",
    "\n",
    "loss_ax.legend(loc='upper left') # 오차 레이블 위치\n",
    "\n",
    "plt.show()\n",
    "# train loss: 하강하면 훈련이 정상적으로 진행되고 있음\n",
    "# val loss: 하강하면 훈련되지 않은 데이터를 대상으로 한 테스트도 정상적으로 진행됨."
   ]
  },
  {
   "cell_type": "code",
   "execution_count": 59,
   "id": "e49ff7f1",
   "metadata": {},
   "outputs": [
    {
     "name": "stdout",
     "output_type": "stream",
     "text": [
      "(5,)\n"
     ]
    }
   ],
   "source": [
    "# 테스트 데이터 준비, 훈련/검증에 사용하지 않은 데이터\n",
    "x = np.array([50, 120, 140, 160, 250])\n",
    "print(x.shape)"
   ]
  },
  {
   "cell_type": "code",
   "execution_count": 60,
   "id": "5da5584d",
   "metadata": {},
   "outputs": [
    {
     "name": "stdout",
     "output_type": "stream",
     "text": [
      "(5, 1)\n",
      "[[125.34629]\n",
      " [297.33115]\n",
      " [346.4697 ]\n",
      " [395.60822]\n",
      " [616.73157]]\n"
     ]
    }
   ],
   "source": [
    "p = model.predict(x)\n",
    "print(p.shape)\n",
    "print(p)"
   ]
  },
  {
   "cell_type": "code",
   "execution_count": 66,
   "id": "4b323066",
   "metadata": {},
   "outputs": [
    {
     "data": {
      "image/png": "[encoded data removed]",
      "text/plain": [
       "<Figure size 432x288 with 1 Axes>"
      ]
     },
     "metadata": {
      "needs_background": "light"
     },
     "output_type": "display_data"
    }
   ],
   "source": [
    "x_train = ds[:,0]\n",
    "y_train = ds[:,1]\n",
    "plt.plot(x_train, y_train)\n",
    "plt.plot(x_train, y_train, 'x')\n",
    "plt.plot(x, p)\n",
    "plt.plot(x, p, 'o')\n",
    "plt.show()"
   ]
  },
  {
   "cell_type": "code",
   "execution_count": 67,
   "id": "f12f5832",
   "metadata": {},
   "outputs": [],
   "source": [
    "# 변수 1개를 가지고 매출액을 판단하는 것은 매우 특성이 부족함을 알 수 있다.\n",
    "# 예) 자율 학습시간 -> 성적\n",
    "# 예) 자율 학습시간 + 학원 + 온라인 강의 + 도서 구임 권수 -> 성적"
   ]
  },
  {
   "cell_type": "code",
   "execution_count": 68,
   "id": "ebb23704",
   "metadata": {},
   "outputs": [],
   "source": [
    "model.save('./data/Click.h5')"
   ]
  },
  {
   "cell_type": "code",
   "execution_count": 69,
   "id": "6ae36b0c",
   "metadata": {},
   "outputs": [],
   "source": [
    "model = load_model('./data/Click.h5')"
   ]
  },
  {
   "cell_type": "code",
   "execution_count": 70,
   "id": "18478071",
   "metadata": {},
   "outputs": [
    {
     "name": "stdout",
     "output_type": "stream",
     "text": [
      "광고비를 입력하세요.100\n",
      "[[248.19261]]\n"
     ]
    }
   ],
   "source": [
    "pay = int(input('광고비를 입력하세요.'))\n",
    "x = np.array([pay])\n",
    "p = model.predict(x)\n",
    "print(p)"
   ]
  },
  {
   "cell_type": "code",
   "execution_count": null,
   "id": "20735bfe",
   "metadata": {},
   "outputs": [],
   "source": []
  }
 ],
 "metadata": {
  "kernelspec": {
   "display_name": "ai",
   "language": "python",
   "name": "ai"
  },
  "language_info": {
   "codemirror_mode": {
    "name": "ipython",
    "version": 3
   },
   "file_extension": ".py",
   "mimetype": "text/x-python",
   "name": "python",
   "nbconvert_exporter": "python",
   "pygments_lexer": "ipython3",
   "version": "3.7.11"
  }
 },
 "nbformat": 4,
 "nbformat_minor": 5
}
