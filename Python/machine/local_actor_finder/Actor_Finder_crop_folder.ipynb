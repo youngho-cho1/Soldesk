{
 "cells": [
  {
   "cell_type": "markdown",
   "metadata": {},
   "source": [
    "### 영화배우 이미지 파일 목록 확인"
   ]
  },
  {
   "cell_type": "code",
   "execution_count": 29,
   "metadata": {},
   "outputs": [
    {
     "name": "stdout",
     "output_type": "stream",
     "text": [
      "file: 20220224174732_1.jpg\n",
      "file: 20220224174732_2.jpg\n",
      "file: 20220224174732_3.jpg\n"
     ]
    }
   ],
   "source": [
    "# 특정 폴더의 파일 목록 확인\n",
    "import os\n",
    "\n",
    "path = \"./src_crop/actor3/\"\n",
    "file_list = os.listdir(path)\n",
    "file_list_py = [file for file in file_list if file.endswith(\".jpg\")]\n",
    "for file in file_list_py:\n",
    "    print (\"file: {}\".format(file))"
   ]
  },
  {
   "cell_type": "markdown",
   "metadata": {},
   "source": [
    "### 영화배우 이미지 목록 Crop\n",
    "- 폴더이름을 한글로 지정하면 Crop이 안됨으로 영문으로 할것\n",
    "- 폴더명에 공백은 사용 가능"
   ]
  },
  {
   "cell_type": "code",
   "execution_count": 1,
   "metadata": {},
   "outputs": [
    {
     "name": "stdout",
     "output_type": "stream",
     "text": [
      "폴더를 입력하세요(actor1, actor2, actor3등): actor4\n",
      "file: actor4.jpg\n",
      "이미지 발견 px:  x:449 y:328 w:67 h:67\n"
     ]
    }
   ],
   "source": [
    "# GPU는 메모리 해제가 안됨으로 CPU에서 실행\n",
    "# 특정 폴더의 이미지의 얼굴을 검색하여 Crop\n",
    "# 폴더명에 공백 가능\n",
    "import os\n",
    "import cv2\n",
    "import datetime\n",
    "\n",
    "# /src 폴더의 원본 이미지를 crop하여 /src_crop 폴더로 저장함.\n",
    "newfolder = './src_crop'\n",
    "if os.path.exists(newfolder) == False:\n",
    "    os.mkdir(newfolder)\n",
    "\n",
    "face_cascade = cv2.CascadeClassifier('./haarcascade_frontalface_default.xml')\n",
    "\n",
    "# Amanda Seyfried, Andrew Lincoln, Anne Hathaway\n",
    "# Keira Christina Knightley, Pierce Brosnan\n",
    "# Zo Jung Seok, Jae Hong\n",
    "cropDir = input('폴더를 입력하세요(actor1, actor2, actor3등): ') \n",
    "\n",
    "path = \"./src/\" + cropDir  # /src/Jae Hong\n",
    "file_list = os.listdir(path)\n",
    "file_list_py = [file for file in file_list if file.endswith(\".jpg\")]\n",
    "count = 0\n",
    "\n",
    "for file in file_list_py:\n",
    "    print (\"file: {}\".format(file))\n",
    "    img = cv2.imread(\"./src/\" + file)\n",
    "    gray = cv2.cvtColor(img, cv2.COLOR_BGR2GRAY)\n",
    "    faces = face_cascade.detectMultiScale(gray, 1.3,5)\n",
    "    for (x,y,w,h) in faces:\n",
    "        cropped = img[y - int(h / 2.5):y + h + int(h / 4), x - int(w / 4):x + w + int(w / 4)]\n",
    "        # 이미지를 저장\n",
    "        \n",
    "        count += 1\n",
    "        now = datetime.datetime.now()\n",
    "        nowDatetime = now.strftime('%Y%m%d%H%M%S')\n",
    "        \n",
    "        # 폴더가 자동으로 생성이 안됨으로 직접 확인 후 생성\n",
    "        if os.path.exists(\"./src_crop/\" + cropDir) == False: # 폴더 생성\n",
    "            os.mkdir(\"./src_crop/\" + cropDir)\n",
    "\n",
    "        print('이미지 발견 px: ' + ' x:' + str(x) + ' y:' +str(y) + ' w:' + str(w) + ' h:' + str(h))\n",
    "        cv2.imwrite(\"./src_crop/\" + cropDir + \"/\" + nowDatetime + \"_\" + str(count) + \".jpg\", cropped)\n",
    "        \n",
    "    # cv2.imshow('Image view', img)\n",
    "    # cv2.waitKey(0)\n",
    "    # cv2.destroyAllWindows()"
   ]
  },
  {
   "cell_type": "code",
   "execution_count": null,
   "metadata": {},
   "outputs": [],
   "source": []
  },
  {
   "cell_type": "code",
   "execution_count": null,
   "metadata": {},
   "outputs": [],
   "source": []
  },
  {
   "cell_type": "code",
   "execution_count": null,
   "metadata": {},
   "outputs": [],
   "source": []
  }
 ],
 "metadata": {
  "kernelspec": {
   "display_name": "ai",
   "language": "python",
   "name": "ai"
  },
  "language_info": {
   "codemirror_mode": {
    "name": "ipython",
    "version": 3
   },
   "file_extension": ".py",
   "mimetype": "text/x-python",
   "name": "python",
   "nbconvert_exporter": "python",
   "pygments_lexer": "ipython3",
   "version": "3.7.10"
  }
 },
 "nbformat": 4,
 "nbformat_minor": 2
}
