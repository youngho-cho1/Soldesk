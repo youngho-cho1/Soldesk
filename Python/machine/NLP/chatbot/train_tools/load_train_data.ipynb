{
 "cells": [
  {
   "cell_type": "code",
   "execution_count": 1,
   "metadata": {},
   "outputs": [],
   "source": [
    "import pymysql\n",
    "import openpyxl\n",
    "import os\n",
    "\n",
    "# 경로 설정\n",
    "os.chdir('../')\n",
    "\n",
    "from config.GlobalParams import * # DB 접속 정보 불러오기"
   ]
  },
  {
   "cell_type": "code",
   "execution_count": 2,
   "metadata": {},
   "outputs": [],
   "source": [
    "# 학습 데이터 초기화\n",
    "def all_clear_train_data(db):\n",
    "    # 기존 학습 데이터 삭제\n",
    "    sql = '''\n",
    "            DELETE FROM chatbot_train_data\n",
    "        '''\n",
    "    with db.cursor() as cursor:\n",
    "        cursor.execute(sql)\n",
    "\n",
    "    # auto increment 초기화\n",
    "    sql = '''\n",
    "    ALTER TABLE chatbot_train_data AUTO_INCREMENT=1\n",
    "    '''\n",
    "    with db.cursor() as cursor:\n",
    "        cursor.execute(sql)"
   ]
  },
  {
   "cell_type": "code",
   "execution_count": 3,
   "metadata": {},
   "outputs": [],
   "source": [
    "# db에 데이터 저장\n",
    "def insert_data(db, xls_row):\n",
    "    # Excel 행을 5개를 컬럼과 대응하는 변수에 저장\n",
    "    intent, ner, query, answer, answer_img_url = xls_row \n",
    "\n",
    "    sql = '''\n",
    "        INSERT chatbot_train_data(intent, ner, query, answer, answer_image) \n",
    "        VALUES(\n",
    "         '%s', '%s', '%s', '%s', '%s'\n",
    "        )\n",
    "    ''' % (intent.value, ner.value, query.value, answer.value, answer_img_url.value)\n",
    "\n",
    "    # 엑셀에서 불러온 cell에 데이터가 없는 경우, null 로 치환\n",
    "    sql = sql.replace(\"'None'\", \"null\")\n",
    "\n",
    "    with db.cursor() as cursor:\n",
    "        cursor.execute(sql)\n",
    "        print('{} 저장'.format(query.value)) # 질문(Query) 출력\n",
    "        db.commit()"
   ]
  },
  {
   "cell_type": "code",
   "execution_count": 4,
   "metadata": {},
   "outputs": [
    {
     "name": "stdout",
     "output_type": "stream",
     "text": [
      "안녕하세요 저장\n",
      "반가워요 저장\n",
      "{B_FOOD} 주문할게요 저장\n",
      "{B_DT} 예약 저장\n",
      "None 저장\n"
     ]
    }
   ],
   "source": [
    "# Excel -> MariaDB\n",
    "os.chdir('./train_tools/') # 기본 경로 설정\n",
    "train_file = './train_data.xlsx'\n",
    "db = None\n",
    "try:\n",
    "    db = pymysql.connect(\n",
    "        host=DB_HOST,\n",
    "        user=DB_USER,\n",
    "        passwd=DB_PASSWORD,\n",
    "        db=DB_NAME,\n",
    "        charset='utf8'\n",
    "    )\n",
    "\n",
    "    # 기존 학습 데이터 초기화, db 연결 객체\n",
    "    all_clear_train_data(db)\n",
    "\n",
    "    # 학습 엑셀 파일 불러오기\n",
    "    wb = openpyxl.load_workbook(train_file)\n",
    "    sheet = wb['Sheet1'] # 첫번째 Sheet\n",
    "    # 헤더는 불러오지 않음, 2번째 행부터 읽어옴\n",
    "    for row in sheet.iter_rows(min_row=2): \n",
    "        # 데이터 저장, Excel -> DBMS\n",
    "        insert_data(db, row)\n",
    "\n",
    "    wb.close()\n",
    "\n",
    "except Exception as e:\n",
    "    print(e)\n",
    "\n",
    "finally:\n",
    "    if db is not None:\n",
    "        db.close()\n",
    "\n"
   ]
  },
  {
   "cell_type": "code",
   "execution_count": null,
   "metadata": {},
   "outputs": [],
   "source": []
  },
  {
   "cell_type": "code",
   "execution_count": null,
   "metadata": {},
   "outputs": [],
   "source": []
  }
 ],
 "metadata": {
  "kernelspec": {
   "display_name": "ai",
   "language": "python",
   "name": "ai"
  },
  "language_info": {
   "codemirror_mode": {
    "name": "ipython",
    "version": 3
   },
   "file_extension": ".py",
   "mimetype": "text/x-python",
   "name": "python",
   "nbconvert_exporter": "python",
   "pygments_lexer": "ipython3",
   "version": "3.7.13"
  }
 },
 "nbformat": 4,
 "nbformat_minor": 2
}
