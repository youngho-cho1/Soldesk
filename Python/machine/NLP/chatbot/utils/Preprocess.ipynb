{
 "cells": [
  {
   "cell_type": "code",
   "execution_count": 1,
   "metadata": {},
   "outputs": [
    {
     "name": "stdout",
     "output_type": "stream",
     "text": [
      "C:\\kd\\ws_python\\notebook\\machine\\NLP\\chatbot\n"
     ]
    }
   ],
   "source": [
    "import os \n",
    "\n",
    "abs_path = '../'\n",
    "os.chdir(abs_path) # C:\\kd1\\ws_python\\notebook\\machine\\NLP\\chatbot\n",
    "print(os.getcwd())\n",
    "\n",
    "from utils.Preprocess import Preprocess  # Preprocess.py\n",
    "\n",
    "from tensorflow.keras import preprocessing"
   ]
  },
  {
   "cell_type": "code",
   "execution_count": 4,
   "metadata": {},
   "outputs": [],
   "source": [
    "# 사전 읽어오기\n",
    "# C:/kd1/ws_python/notebook/machine/NLP/chatbot/dict/chatbot_dict.bin\n",
    "# {'OOV': 1, '하': 2, '주문': 3, '시': 4, '분': 5, '가능': 6,\n",
    "#  '예약': 7, '주': 8, '어요': 9, '고': 10, '싶': 11, '어': 12,\n",
    "#  '모레': 13, '내일': 14, '변경': 15, 'ㄹ': 16, '취소': 17...\n",
    "\n",
    "# ./dict/user_dic.tsv\n",
    "# 엔엘피\tNNG\n",
    "# 가락지빵\tNNG\n",
    "# 가래떡\tNNG\n",
    "# 가루우유\tNNG\n",
    "p = Preprocess(word2index_dic='./dict/chatbot_dict.bin',\n",
    "               userdic = './dict/user_dic.tsv')"
   ]
  },
  {
   "cell_type": "code",
   "execution_count": 5,
   "metadata": {},
   "outputs": [
    {
     "name": "stdout",
     "output_type": "stream",
     "text": [
      "[('내일', 'NNG'), ('오전', 'NNP'), ('10시', 'NNG'), ('에', 'JKB'), ('짬뽕', 'NNG'), ('주문', 'NNG'), ('하', 'XSV'), ('고', 'EC'), ('싶어ㅋㅋ', 'NA')]\n"
     ]
    }
   ],
   "source": [
    "# 품사 태깅\n",
    "sent = \"내일 오전 10시에 짬뽕 주문하고 싶어ㅋㅋ\"\n",
    "pos = p.pos(sent) \n",
    "print(pos)"
   ]
  },
  {
   "cell_type": "code",
   "execution_count": 6,
   "metadata": {},
   "outputs": [
    {
     "name": "stdout",
     "output_type": "stream",
     "text": [
      "[('내일', 'NNG'), ('오전', 'NNP'), ('10시', 'NNG'), ('짬뽕', 'NNG'), ('주문', 'NNG'), ('싶어ㅋㅋ', 'NA')]\n"
     ]
    }
   ],
   "source": [
    "# 필요한 태그만 선별\n",
    "keywords = p.get_keywords(pos, without_tag=False)\n",
    "print(keywords)"
   ]
  },
  {
   "cell_type": "code",
   "execution_count": 7,
   "metadata": {},
   "outputs": [
    {
     "name": "stdout",
     "output_type": "stream",
     "text": [
      "['내일', '오전', '10시', '짬뽕', '주문', '싶어ㅋㅋ']\n"
     ]
    }
   ],
   "source": [
    "# 필요한 태그만 선별, 단어만 선택\n",
    "keywords = p.get_keywords(pos, without_tag=True)\n",
    "print(keywords)"
   ]
  },
  {
   "cell_type": "code",
   "execution_count": 9,
   "metadata": {},
   "outputs": [
    {
     "name": "stdout",
     "output_type": "stream",
     "text": [
      "[[14, 269, 1, 202, 3, 1]]\n"
     ]
    }
   ],
   "source": [
    "w2i = p.get_wordidx_sequence(keywords)\n",
    "sequences = [w2i]\n",
    "print(sequences)"
   ]
  },
  {
   "cell_type": "code",
   "execution_count": 10,
   "metadata": {},
   "outputs": [
    {
     "name": "stdout",
     "output_type": "stream",
     "text": [
      "['내일', '오전', '10시', '짬뽕', '주문', '싶어ㅋㅋ']\n",
      "[[14, 269, 1, 202, 3, 1]]\n",
      "[[ 14 269   1 202   3   1   0   0   0   0   0   0   0   0   0]]\n"
     ]
    }
   ],
   "source": [
    "MAX_SEQ_LEN = 15    # 임베딩 벡터 크기\n",
    "padded_seqs = preprocessing.sequence.pad_sequences(sequences, maxlen=MAX_SEQ_LEN, padding='post')\n",
    "\n",
    "print(keywords)\n",
    "print(sequences)\n",
    "print(padded_seqs)"
   ]
  },
  {
   "cell_type": "code",
   "execution_count": null,
   "metadata": {},
   "outputs": [],
   "source": []
  },
  {
   "cell_type": "code",
   "execution_count": null,
   "metadata": {},
   "outputs": [],
   "source": []
  },
  {
   "cell_type": "code",
   "execution_count": null,
   "metadata": {},
   "outputs": [],
   "source": []
  },
  {
   "cell_type": "code",
   "execution_count": null,
   "metadata": {},
   "outputs": [],
   "source": []
  }
 ],
 "metadata": {
  "kernelspec": {
   "display_name": "ai",
   "language": "python",
   "name": "ai"
  },
  "language_info": {
   "codemirror_mode": {
    "name": "ipython",
    "version": 3
   },
   "file_extension": ".py",
   "mimetype": "text/x-python",
   "name": "python",
   "nbconvert_exporter": "python",
   "pygments_lexer": "ipython3",
   "version": "3.7.13"
  }
 },
 "nbformat": 4,
 "nbformat_minor": 4
}
