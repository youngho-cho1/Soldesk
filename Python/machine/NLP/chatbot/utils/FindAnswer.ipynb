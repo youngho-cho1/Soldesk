{
 "cells": [
  {
   "cell_type": "code",
   "execution_count": 1,
   "metadata": {},
   "outputs": [],
   "source": [
    "import os \n",
    "\n",
    "abs_path = '../'\n",
    "os.chdir(abs_path) # /machine/NLP/chatbot/\n",
    "\n",
    "from config.GlobalParams import *\n",
    "from utils.Database import Database\n",
    "from utils.Preprocess import Preprocess\n",
    "# abs_path = './utils/'\n",
    "# os.chdir(abs_path)\n",
    "\n",
    "# 전처리 객체 생성\n",
    "p = Preprocess(word2index_dic='./dict/chatbot_dict.bin',\n",
    "               userdic='./dict/user_dic.tsv')"
   ]
  },
  {
   "cell_type": "code",
   "execution_count": 2,
   "metadata": {},
   "outputs": [],
   "source": [
    "# 질문/답변 학습 디비 연결 객체 생성\n",
    "db = Database(\n",
    "    host=DB_HOST, user=DB_USER, password=DB_PASSWORD, db_name=DB_NAME\n",
    ")\n",
    "db.connect()    # 디비 연결\n",
    "# ConnectionRefusedError: MariaDB server 실행"
   ]
  },
  {
   "cell_type": "code",
   "execution_count": 3,
   "metadata": {},
   "outputs": [],
   "source": [
    "# 의도 파악]\n",
    "# del IntentModel\n",
    "from models.intent.IntentModel import IntentModel\n",
    "\n",
    "intent = IntentModel(model_name='./models/intent/intent_model.h5', preprocess=p)"
   ]
  },
  {
   "cell_type": "code",
   "execution_count": 4,
   "metadata": {},
   "outputs": [
    {
     "name": "stdout",
     "output_type": "stream",
     "text": [
      "pos: [('오전', 'NNG'), ('에', 'JKB'), ('탕수육', 'NNG'), ('10', 'SN'), ('개', 'NNB'), ('주문', 'NNG'), ('하', 'XSV'), ('ㅂ니다', 'EF'), ('.', 'SF')]\n",
      "keywords: ['오전', '탕수육', '10', '개', '주문']\n",
      "sequences: [[269, 431, 105, 611, 3]]\n",
      "padded_seqs: [[269 431 105 611   3   0   0   0   0   0   0   0   0   0   0]]\n",
      "predict probability: [[8.2924382e-15 2.3796201e-05 9.9997616e-01 7.1427171e-09 1.6317978e-11]]\n",
      "predict_class: tf.Tensor([2], shape=(1,), dtype=int64)\n",
      "type(predict_class): <class 'tensorflow.python.framework.ops.EagerTensor'>\n",
      "predict: 2\n",
      "intent_name: 주문\n",
      "pos: [('안녕하세요', 'NNP')]\n",
      "keywords: ['안녕하세요']\n",
      "sequences: [[353]]\n",
      "padded_seqs: [[353   0   0   0   0   0   0   0   0   0   0   0   0   0   0]]\n",
      "predict probability: [[0.6397399  0.04100596 0.06333051 0.11619129 0.13973239]]\n",
      "predict_class: tf.Tensor([0], shape=(1,), dtype=int64)\n",
      "type(predict_class): <class 'tensorflow.python.framework.ops.EagerTensor'>\n",
      "predict: 0\n",
      "intent_name: 인사\n",
      "pos: [('짜장면', 'NNG'), ('주문', 'NNG'), ('하', 'XSV'), ('ㄹ게요', 'EC')]\n",
      "keywords: ['짜장면', '주문']\n",
      "sequences: [[527, 3]]\n",
      "padded_seqs: [[527   3   0   0   0   0   0   0   0   0   0   0   0   0   0]]\n",
      "predict probability: [[3.6006850e-15 1.7941446e-18 1.0000000e+00 9.9025526e-09 2.1982688e-15]]\n",
      "predict_class: tf.Tensor([2], shape=(1,), dtype=int64)\n",
      "type(predict_class): <class 'tensorflow.python.framework.ops.EagerTensor'>\n",
      "predict: 2\n",
      "intent_name: 주문\n"
     ]
    }
   ],
   "source": [
    "# 원문\n",
    "query = \"오전에 탕수육 10개 주문합니다.\"\n",
    "predict = intent.predict_class(query) # 0: 인사, 1: 욕설, 2: 주문, 3: 예약, 4: 기타\n",
    "print('predict:', predict) # predict: 2\n",
    "intent_name = intent.labels[predict] # {0: \"인사\", 1: \"욕설\", 2: \"주문\", 3: \"예약\", 4: \"기타\"}\n",
    "print('intent_name:', intent_name)\n",
    "\n",
    "query = \"안녕하세요\"\n",
    "predict = intent.predict_class(query)\n",
    "print('predict:', predict)\n",
    "intent_name = intent.labels[predict]\n",
    "print('intent_name:', intent_name)\n",
    "\n",
    "query = \"짜장면 주문할게요\"\n",
    "predict = intent.predict_class(query)\n",
    "print('predict:', predict)\n",
    "intent_name = intent.labels[predict]\n",
    "print('intent_name:', intent_name)"
   ]
  },
  {
   "cell_type": "code",
   "execution_count": 5,
   "metadata": {},
   "outputs": [],
   "source": [
    "# 개체명 인식\n",
    "from models.ner.NerModel import NerModel\n",
    "ner = NerModel(model_name='./models/ner/ner_model.h5', preprocess=p)"
   ]
  },
  {
   "cell_type": "code",
   "execution_count": 6,
   "metadata": {},
   "outputs": [
    {
     "name": "stdout",
     "output_type": "stream",
     "text": [
      "predicts: [('오전', 'B_DT'), ('탕수육', 'B_FOOD'), ('10', 'O'), ('개', 'O'), ('주문', 'O')]\n",
      "ner_tags: ['B_DT', 'B_FOOD']\n"
     ]
    }
   ],
   "source": [
    "query = \"오전에 탕수육 10개 주문합니다.\"\n",
    "predicts = ner.predict(query)\n",
    "ner_tags = ner.predict_tags(query)\n",
    "print('predicts:', predicts)\n",
    "print('ner_tags:', ner_tags)"
   ]
  },
  {
   "cell_type": "code",
   "execution_count": 7,
   "metadata": {},
   "outputs": [
    {
     "name": "stdout",
     "output_type": "stream",
     "text": [
      "질문 :  오전에 탕수육 10개 주문합니다.\n",
      "====================================================================================================\n",
      "의도 파악 :  주문\n",
      "개체명 인식 :  [('오전', 'B_DT'), ('탕수육', 'B_FOOD'), ('10', 'O'), ('개', 'O'), ('주문', 'O')]\n",
      "답변 검색에 필요한 NER 태그 :  ['B_DT', 'B_FOOD']\n",
      "====================================================================================================\n"
     ]
    }
   ],
   "source": [
    "print(\"질문 : \", query)\n",
    "print(\"=\" * 100)\n",
    "print(\"의도 파악 : \", intent_name)\n",
    "print(\"개체명 인식 : \", predicts)\n",
    "print(\"답변 검색에 필요한 NER 태그 : \", ner_tags)\n",
    "print(\"=\" * 100)"
   ]
  },
  {
   "cell_type": "code",
   "execution_count": 8,
   "metadata": {},
   "outputs": [
    {
     "name": "stdout",
     "output_type": "stream",
     "text": [
      "predicts: [('오전', 'B_DT'), ('탕수육', 'B_FOOD'), ('10', 'O'), ('개', 'O'), ('주문', 'O')]\n",
      "answer_text: {B_FOOD} 주문 처리 완료되었습니다. \n",
      "주문해주셔서 감사합니다.\n",
      "answer_image: None\n",
      "답변: 탕수육 주문 처리 완료되었습니다. \n",
      "주문해주셔서 감사합니다.\n"
     ]
    }
   ],
   "source": [
    "# 답변 검색\n",
    "from utils.FindAnswer import FindAnswer\n",
    "\n",
    "try:\n",
    "    f = FindAnswer(db)\n",
    "    answer_text, answer_image = f.search(intent_name, ner_tags)\n",
    "    print('predicts:', predicts)\n",
    "    print('answer_text:', answer_text)\n",
    "    print('answer_image:', answer_image)\n",
    "    answer = f.tag_to_word(predicts, answer_text)\n",
    "except:\n",
    "    answer = \"죄송해요 무슨 말인지 모르겠어요\"\n",
    "\n",
    "print(\"답변:\", answer)\n",
    "\n",
    "db.close() # 디비 연결 끊음"
   ]
  },
  {
   "cell_type": "code",
   "execution_count": null,
   "metadata": {},
   "outputs": [],
   "source": []
  },
  {
   "cell_type": "code",
   "execution_count": null,
   "metadata": {},
   "outputs": [],
   "source": []
  }
 ],
 "metadata": {
  "kernelspec": {
   "display_name": "ai",
   "language": "python",
   "name": "ai"
  },
  "language_info": {
   "codemirror_mode": {
    "name": "ipython",
    "version": 3
   },
   "file_extension": ".py",
   "mimetype": "text/x-python",
   "name": "python",
   "nbconvert_exporter": "python",
   "pygments_lexer": "ipython3",
   "version": "3.7.11"
  }
 },
 "nbformat": 4,
 "nbformat_minor": 2
}
