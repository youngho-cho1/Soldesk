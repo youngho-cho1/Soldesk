{
 "cells": [
  {
   "cell_type": "markdown",
   "metadata": {
    "id": "yEWrU4bIIlKz"
   },
   "source": [
    "## 의도(intent) 분류 모델 제작(Colab GPU)\n"
   ]
  },
  {
   "cell_type": "code",
   "execution_count": 2,
   "metadata": {
    "colab": {
     "base_uri": "https://localhost:8080/"
    },
    "executionInfo": {
     "elapsed": 18611,
     "status": "ok",
     "timestamp": 1655098929515,
     "user": {
      "displayName": "강사엄기흥",
      "userId": "12410353940363031053"
     },
     "user_tz": -540
    },
    "id": "8shxOV6HIlK5",
    "outputId": "1bcb5a12-0d32-481e-b0d5-c16fbb1de0df"
   },
   "outputs": [
    {
     "name": "stdout",
     "output_type": "stream",
     "text": [
      "Mounted at /content/drive\n"
     ]
    }
   ],
   "source": [
    "# GPU 런타임 환경 설정\n",
    "\n",
    "# 보안 문제로 ipynb 파일 open시마다 실행\n",
    "from google.colab import drive\n",
    "drive.mount('/content/drive') # 마운트 이름은 자유롭게 지정 가능"
   ]
  },
  {
   "cell_type": "code",
   "execution_count": 3,
   "metadata": {
    "colab": {
     "base_uri": "https://localhost:8080/"
    },
    "executionInfo": {
     "elapsed": 5293,
     "status": "ok",
     "timestamp": 1655098939082,
     "user": {
      "displayName": "강사엄기흥",
      "userId": "12410353940363031053"
     },
     "user_tz": -540
    },
    "id": "3NmyuElSJMdc",
    "outputId": "8967c9b5-0b1e-4f4d-cf29-49b65555bc96"
   },
   "outputs": [
    {
     "name": "stdout",
     "output_type": "stream",
     "text": [
      "Looking in indexes: https://pypi.org/simple, https://us-python.pkg.dev/colab-wheels/public/simple/\n",
      "Collecting konlpy\n",
      "  Downloading konlpy-0.6.0-py2.py3-none-any.whl (19.4 MB)\n",
      "\u001b[K     |████████████████████████████████| 19.4 MB 1.2 MB/s \n",
      "\u001b[?25hRequirement already satisfied: numpy>=1.6 in /usr/local/lib/python3.7/dist-packages (from konlpy) (1.21.6)\n",
      "Requirement already satisfied: lxml>=4.1.0 in /usr/local/lib/python3.7/dist-packages (from konlpy) (4.2.6)\n",
      "Collecting JPype1>=0.7.0\n",
      "  Downloading JPype1-1.4.0-cp37-cp37m-manylinux_2_5_x86_64.manylinux1_x86_64.whl (453 kB)\n",
      "\u001b[K     |████████████████████████████████| 453 kB 59.4 MB/s \n",
      "\u001b[?25hRequirement already satisfied: typing-extensions in /usr/local/lib/python3.7/dist-packages (from JPype1>=0.7.0->konlpy) (4.2.0)\n",
      "Installing collected packages: JPype1, konlpy\n",
      "Successfully installed JPype1-1.4.0 konlpy-0.6.0\n"
     ]
    }
   ],
   "source": [
    "!pip install konlpy"
   ]
  },
  {
   "cell_type": "code",
   "execution_count": 4,
   "metadata": {
    "colab": {
     "base_uri": "https://localhost:8080/"
    },
    "executionInfo": {
     "elapsed": 4942,
     "status": "ok",
     "timestamp": 1655099087130,
     "user": {
      "displayName": "강사엄기흥",
      "userId": "12410353940363031053"
     },
     "user_tz": -540
    },
    "id": "yzihq5FNIlK8",
    "outputId": "0d2c0334-d045-4ea5-e503-4f2c6b7a489e"
   },
   "outputs": [
    {
     "name": "stdout",
     "output_type": "stream",
     "text": [
      "MAX_SEQ_LEN: 15\n"
     ]
    }
   ],
   "source": [
    "import os\n",
    "import time\n",
    "import pandas as pd\n",
    "import tensorflow as tf\n",
    "from tensorflow.keras import preprocessing\n",
    "from tensorflow.keras.models import Model\n",
    "from tensorflow.keras.layers import Input, Embedding, Dense, Dropout, Conv1D, GlobalMaxPool1D, concatenate\n",
    "from tensorflow.keras.utils import plot_model   # 네트워크 입출력 시각화\n",
    "from tensorflow.keras.callbacks import EarlyStopping # 학습 자동 중지\n",
    "\n",
    "import matplotlib.pyplot as plt\n",
    "from matplotlib import font_manager, rc\n",
    "\n",
    "import platform \n",
    "\n",
    "if (platform.system() == 'Windows'):  # Windows, Linux, Darwin\n",
    "    rc('font', family=font_manager.FontProperties(fname=\"C:/Windows/Fonts/malgun.ttf\").get_name())\n",
    "    path = '.' # Local\n",
    "else:    \n",
    "    rc('font', family='NanumBarunGothic')  # Ubuntu 18.04 기준 한글 처리\n",
    "    path = '/content/drive/My Drive/kd_ml/NLP/chatbot/models/intent/' # Colab\n",
    "\n",
    "os.chdir(path) # 기본 경로 설정\n",
    "\n",
    "plt.rcParams[\"font.size\"] = 12         # 글자 크기\n",
    "# plt.rcParams[\"figure.figsize\"] = (10, 4) # 10:4의 그래프 비율\n",
    "plt.rcParams['axes.unicode_minus'] = False  # minus 부호는 unicode 적용시 한글이 깨짐으로 설정\n",
    "\n",
    "%matplotlib inline\n",
    "\n",
    "# ---------------------------------------------------------------------\n",
    "# gpu 사용시 런타임에서 필요한 양만큼의 GPU 메모리를 할당후 자동 증가 처리\n",
    "# OS 메모리도 초기화됨.\n",
    "# ---------------------------------------------------------------------\n",
    "import tensorflow as tf\n",
    "\n",
    "gpus = tf.config.experimental.list_physical_devices('GPU')\n",
    "if gpus:\n",
    "    try:\n",
    "        tf.config.experimental.set_memory_growth(gpus[0], True)\n",
    "    except RuntimeError as e:\n",
    "        # 프로그램 시작시에 메모리 증가가 설정되어야만 합니다\n",
    "        print(e)\n",
    "    \n",
    "# ---------------------------------------------------------------------\n",
    "\n",
    "os.chdir('../../')\n",
    "from utils.Preprocess import Preprocess\n",
    "from config.GlobalParams import MAX_SEQ_LEN\n",
    "os.chdir('./models/intent/')      \n",
    "print('MAX_SEQ_LEN:', MAX_SEQ_LEN)"
   ]
  },
  {
   "cell_type": "code",
   "execution_count": 2,
   "metadata": {
    "executionInfo": {
     "elapsed": 7846,
     "status": "ok",
     "timestamp": 1655094051842,
     "user": {
      "displayName": "강사엄기흥",
      "userId": "12410353940363031053"
     },
     "user_tz": -540
    },
    "id": "yfWPSrkSIlK_"
   },
   "outputs": [],
   "source": [
    "# 데이터 읽어오기\n",
    "train_file = \"./total_train_data.csv\"\n",
    "data = pd.read_csv(train_file, delimiter=',') # 안부 인사드립니다.,0\n",
    "queries = data['query'].tolist()  # 안부 인사드립니다.\n",
    "intents = data['intent'].tolist() # 0\n",
    "\n",
    "p = Preprocess(word2index_dic='../../dict/chatbot_dict.bin',\n",
    "               userdic='../../dict/user_dic.tsv')"
   ]
  },
  {
   "cell_type": "code",
   "execution_count": 3,
   "metadata": {
    "colab": {
     "base_uri": "https://localhost:8080/"
    },
    "executionInfo": {
     "elapsed": 4,
     "status": "ok",
     "timestamp": 1655094053045,
     "user": {
      "displayName": "강사엄기흥",
      "userId": "12410353940363031053"
     },
     "user_tz": -540
    },
    "id": "1rvXGa3XIlLA",
    "outputId": "a69b063f-636b-4371-f846-3075289edf87"
   },
   "outputs": [
    {
     "name": "stdout",
     "output_type": "stream",
     "text": [
      "pos: [('헬로우', 'NNG')]\n",
      "keywords: ['헬로우']\n",
      "seq: [9422]\n"
     ]
    }
   ],
   "source": [
    "# 단어 시퀀스 생성 test\n",
    "sentence = queries[0]\n",
    "pos = p.pos(sentence) # 품사 태깅\n",
    "print('pos:', pos)\n",
    "keywords = p.get_keywords(pos, without_tag=True) # 단어만 추출\n",
    "print('keywords:', keywords)\n",
    "seq = p.get_wordidx_sequence(keywords) # 키워드를 단어 인덱스 시퀀스로 변환\n",
    "print('seq:', seq)"
   ]
  },
  {
   "cell_type": "code",
   "execution_count": 4,
   "metadata": {
    "colab": {
     "base_uri": "https://localhost:8080/"
    },
    "executionInfo": {
     "elapsed": 291,
     "status": "ok",
     "timestamp": 1655094054789,
     "user": {
      "displayName": "강사엄기흥",
      "userId": "12410353940363031053"
     },
     "user_tz": -540
    },
    "id": "FqIy6j2dIlLC",
    "outputId": "a3a3fd5c-733c-4af0-d426-c5851bfc4692"
   },
   "outputs": [
    {
     "name": "stdout",
     "output_type": "stream",
     "text": [
      "[[9422], [6708], [2967, 1051, 66], [684, 1051, 2, 567, 896, 684, 1051, 8, 149, 1135], [684, 1051, 2, 567, 666, 684, 1051, 8, 732, 162]]\n"
     ]
    }
   ],
   "source": [
    "# 단어 시퀀스 생성 test, 문장을 수치화 테스트 \n",
    "sequences = []\n",
    "for sentence in queries[0:5]:\n",
    "    pos = p.pos(sentence) # 품사 태깅\n",
    "    keywords = p.get_keywords(pos, without_tag=True)\n",
    "    seq = p.get_wordidx_sequence(keywords)\n",
    "    sequences.append(seq)\n",
    "    \n",
    "print(sequences)    "
   ]
  },
  {
   "cell_type": "code",
   "execution_count": 5,
   "metadata": {
    "colab": {
     "base_uri": "https://localhost:8080/"
    },
    "executionInfo": {
     "elapsed": 11,
     "status": "ok",
     "timestamp": 1655094055874,
     "user": {
      "displayName": "강사엄기흥",
      "userId": "12410353940363031053"
     },
     "user_tz": -540
    },
    "id": "eDJZgpTDIlLD",
    "outputId": "2662c250-c7c0-41ad-ec8a-0d34888327ca"
   },
   "outputs": [
    {
     "name": "stdout",
     "output_type": "stream",
     "text": [
      "[[9422    0    0    0    0    0    0    0    0    0    0    0    0    0\n",
      "     0]\n",
      " [6708    0    0    0    0    0    0    0    0    0    0    0    0    0\n",
      "     0]\n",
      " [2967 1051   66    0    0    0    0    0    0    0    0    0    0    0\n",
      "     0]\n",
      " [ 684 1051    2  567  896  684 1051    8  149 1135    0    0    0    0\n",
      "     0]\n",
      " [ 684 1051    2  567  666  684 1051    8  732  162    0    0    0    0\n",
      "     0]]\n"
     ]
    }
   ],
   "source": [
    "# 입력 차원 통일\n",
    "# 단어 시퀀스 벡터 크기가 15임으로 15가 안되는 문장 0으로 padding\n",
    "padded_seqs = preprocessing.sequence.pad_sequences(sequences, maxlen=MAX_SEQ_LEN, padding='post')\n",
    "print(padded_seqs[0:5])"
   ]
  },
  {
   "cell_type": "code",
   "execution_count": 6,
   "metadata": {
    "executionInfo": {
     "elapsed": 42792,
     "status": "ok",
     "timestamp": 1655094099791,
     "user": {
      "displayName": "강사엄기흥",
      "userId": "12410353940363031053"
     },
     "user_tz": -540
    },
    "id": "U6Sr3HQsIlLF"
   },
   "outputs": [],
   "source": [
    "# 단어 시퀀스 생성, Colab: 32s\n",
    "sequences = []\n",
    "for sentence in queries:\n",
    "    pos = p.pos(sentence) # 품사 태깅\n",
    "    keywords = p.get_keywords(pos, without_tag=True) # 토큰만 분리\n",
    "    seq = p.get_wordidx_sequence(keywords) # 토큰을 숫자로 변경\n",
    "    sequences.append(seq) # 숫자 저장"
   ]
  },
  {
   "cell_type": "code",
   "execution_count": 7,
   "metadata": {
    "colab": {
     "base_uri": "https://localhost:8080/"
    },
    "executionInfo": {
     "elapsed": 266,
     "status": "ok",
     "timestamp": 1655094103037,
     "user": {
      "displayName": "강사엄기흥",
      "userId": "12410353940363031053"
     },
     "user_tz": -540
    },
    "id": "gW8uVZfkJ4Y7",
    "outputId": "bf6ce48c-33e9-4faa-f7bd-5b1db1e1e59e"
   },
   "outputs": [
    {
     "name": "stdout",
     "output_type": "stream",
     "text": [
      "[[9422], [6708], [2967, 1051, 66], [684, 1051, 2, 567, 896, 684, 1051, 8, 149, 1135], [684, 1051, 2, 567, 666, 684, 1051, 8, 732, 162]]\n"
     ]
    }
   ],
   "source": [
    "print(sequences[0:5]) # 5개의 문장만 확인"
   ]
  },
  {
   "cell_type": "code",
   "execution_count": 8,
   "metadata": {
    "colab": {
     "base_uri": "https://localhost:8080/"
    },
    "executionInfo": {
     "elapsed": 415,
     "status": "ok",
     "timestamp": 1655094104516,
     "user": {
      "displayName": "강사엄기흥",
      "userId": "12410353940363031053"
     },
     "user_tz": -540
    },
    "id": "ArVbNw-fIlLG",
    "outputId": "4dcd4392-2d07-432f-8d25-57a386213fa1"
   },
   "outputs": [
    {
     "name": "stdout",
     "output_type": "stream",
     "text": [
      "(105658, 15)\n",
      "105658\n"
     ]
    }
   ],
   "source": [
    "# 단어 인덱스 시퀀스 벡터 ○2\n",
    "# 단어 시퀀스 벡터 크기\n",
    "padded_seqs = preprocessing.sequence.pad_sequences(sequences, maxlen=MAX_SEQ_LEN, padding='post')\n",
    "\n",
    "# (105658, 15)\n",
    "print(padded_seqs.shape)\n",
    "print(len(intents)) #105658"
   ]
  },
  {
   "cell_type": "code",
   "execution_count": 9,
   "metadata": {
    "colab": {
     "base_uri": "https://localhost:8080/",
     "height": 1000
    },
    "executionInfo": {
     "elapsed": 2702,
     "status": "ok",
     "timestamp": 1655094108351,
     "user": {
      "displayName": "강사엄기흥",
      "userId": "12410353940363031053"
     },
     "user_tz": -540
    },
    "id": "Kl5yTF5PIlLH",
    "outputId": "84c2da2a-0ee3-4cf0-c7a3-ad920cbf8834"
   },
   "outputs": [
    {
     "name": "stdout",
     "output_type": "stream",
     "text": [
      "Model: \"model\"\n",
      "__________________________________________________________________________________________________\n",
      " Layer (type)                   Output Shape         Param #     Connected to                     \n",
      "==================================================================================================\n",
      " input_1 (InputLayer)           [(None, 15)]         0           []                               \n",
      "                                                                                                  \n",
      " embedding (Embedding)          (None, 15, 128)      2272256     ['input_1[0][0]']                \n",
      "                                                                                                  \n",
      " dropout (Dropout)              (None, 15, 128)      0           ['embedding[0][0]']              \n",
      "                                                                                                  \n",
      " conv1d (Conv1D)                (None, 13, 128)      49280       ['dropout[0][0]']                \n",
      "                                                                                                  \n",
      " conv1d_1 (Conv1D)              (None, 12, 128)      65664       ['dropout[0][0]']                \n",
      "                                                                                                  \n",
      " conv1d_2 (Conv1D)              (None, 11, 128)      82048       ['dropout[0][0]']                \n",
      "                                                                                                  \n",
      " global_max_pooling1d (GlobalMa  (None, 128)         0           ['conv1d[0][0]']                 \n",
      " xPooling1D)                                                                                      \n",
      "                                                                                                  \n",
      " global_max_pooling1d_1 (Global  (None, 128)         0           ['conv1d_1[0][0]']               \n",
      " MaxPooling1D)                                                                                    \n",
      "                                                                                                  \n",
      " global_max_pooling1d_2 (Global  (None, 128)         0           ['conv1d_2[0][0]']               \n",
      " MaxPooling1D)                                                                                    \n",
      "                                                                                                  \n",
      " concatenate (Concatenate)      (None, 384)          0           ['global_max_pooling1d[0][0]',   \n",
      "                                                                  'global_max_pooling1d_1[0][0]', \n",
      "                                                                  'global_max_pooling1d_2[0][0]'] \n",
      "                                                                                                  \n",
      " dense (Dense)                  (None, 128)          49280       ['concatenate[0][0]']            \n",
      "                                                                                                  \n",
      " dropout_1 (Dropout)            (None, 128)          0           ['dense[0][0]']                  \n",
      "                                                                                                  \n",
      " logits (Dense)                 (None, 5)            645         ['dropout_1[0][0]']              \n",
      "                                                                                                  \n",
      " dense_1 (Dense)                (None, 5)            30          ['logits[0][0]']                 \n",
      "                                                                                                  \n",
      "==================================================================================================\n",
      "Total params: 2,519,203\n",
      "Trainable params: 2,519,203\n",
      "Non-trainable params: 0\n",
      "__________________________________________________________________________________________________\n"
     ]
    },
    {
     "data": {
      "image/png": "[encoded data removed]",
      "text/plain": [
       "<IPython.core.display.Image object>"
      ]
     },
     "execution_count": 9,
     "metadata": {},
     "output_type": "execute_result"
    }
   ],
   "source": [
    "# 학습용, 검증용, 테스트용 데이터셋 생성 ○3\n",
    "# 학습셋:검증셋:테스트셋 = 7:2:1\n",
    "ds = tf.data.Dataset.from_tensor_slices((padded_seqs, intents))\n",
    "ds = ds.shuffle(len(queries))\n",
    "\n",
    "train_size = int(len(padded_seqs) * 0.7)\n",
    "val_size = int(len(padded_seqs) * 0.2)\n",
    "test_size = int(len(padded_seqs) * 0.1)\n",
    "\n",
    "train_ds = ds.take(train_size).batch(10)\n",
    "val_ds = ds.skip(train_size).take(val_size).batch(10)\n",
    "test_ds = ds.skip(train_size + val_size).take(test_size).batch(10)\n",
    "\n",
    "# 하이퍼 파라미터 설정\n",
    "dropout_prob = 0.5\n",
    "EMB_SIZE = 128\n",
    "EPOCH = 5\n",
    "VOCAB_SIZE = len(p.word_index) + 1 #전체 단어 개수\n",
    "\n",
    "\n",
    "# CNN 모델 정의  ○4\n",
    "input_layer = Input(shape=(MAX_SEQ_LEN,))\n",
    "embedding_layer = Embedding(VOCAB_SIZE, EMB_SIZE, input_length=MAX_SEQ_LEN)(input_layer)\n",
    "dropout_emb = Dropout(rate=dropout_prob)(embedding_layer)\n",
    "\n",
    "conv1 = Conv1D(\n",
    "    filters=128,\n",
    "    kernel_size=3,\n",
    "    padding='valid',\n",
    "    activation=tf.nn.relu)(dropout_emb)\n",
    "pool1 = GlobalMaxPool1D()(conv1)\n",
    "\n",
    "conv2 = Conv1D(\n",
    "    filters=128,\n",
    "    kernel_size=4,\n",
    "    padding='valid',\n",
    "    activation=tf.nn.relu)(dropout_emb)\n",
    "pool2 = GlobalMaxPool1D()(conv2)\n",
    "\n",
    "conv3 = Conv1D(\n",
    "    filters=128,\n",
    "    kernel_size=5,\n",
    "    padding='valid',\n",
    "    activation=tf.nn.relu)(dropout_emb)\n",
    "pool3 = GlobalMaxPool1D()(conv3)\n",
    "\n",
    "# 3,4,5gram 이후 합치기\n",
    "concat = concatenate([pool1, pool2, pool3])\n",
    "\n",
    "hidden = Dense(128, activation=tf.nn.relu)(concat)\n",
    "dropout_hidden = Dropout(rate=dropout_prob)(hidden)\n",
    "logits = Dense(5, name='logits')(dropout_hidden)\n",
    "predictions = Dense(5, activation=tf.nn.softmax)(logits)\n",
    "\n",
    "\n",
    "# 모델 생성  ○5\n",
    "model = Model(inputs=input_layer, outputs=predictions)\n",
    "model.compile(optimizer='adam',\n",
    "              loss='sparse_categorical_crossentropy',\n",
    "              metrics=['accuracy'])\n",
    "\n",
    "model.summary()\n",
    "plot_model(model, to_file='./train_model.png', show_shapes=True, show_layer_names=True)"
   ]
  },
  {
   "cell_type": "code",
   "execution_count": 10,
   "metadata": {
    "colab": {
     "base_uri": "https://localhost:8080/"
    },
    "executionInfo": {
     "elapsed": 237981,
     "status": "ok",
     "timestamp": 1655094347717,
     "user": {
      "displayName": "강사엄기흥",
      "userId": "12410353940363031053"
     },
     "user_tz": -540
    },
    "id": "hvxnTHNEIlLI",
    "outputId": "691424c1-22a8-4810-be74-81bd482ee2ec"
   },
   "outputs": [
    {
     "name": "stdout",
     "output_type": "stream",
     "text": [
      "Epoch 1/5\n",
      "7396/7396 [==============================] - 60s 8ms/step - loss: 0.0422 - accuracy: 0.9872 - val_loss: 0.0112 - val_accuracy: 0.9934\n",
      "Epoch 2/5\n",
      "7396/7396 [==============================] - 44s 6ms/step - loss: 0.0155 - accuracy: 0.9947 - val_loss: 0.0067 - val_accuracy: 0.9973\n",
      "Epoch 3/5\n",
      "7396/7396 [==============================] - 44s 6ms/step - loss: 0.0118 - accuracy: 0.9953 - val_loss: 0.0064 - val_accuracy: 0.9948\n",
      "Epoch 4/5\n",
      "7396/7396 [==============================] - 44s 6ms/step - loss: 0.0101 - accuracy: 0.9962 - val_loss: 0.0062 - val_accuracy: 0.9975\n",
      "Epoch 5/5\n",
      "7396/7396 [==============================] - 43s 6ms/step - loss: 0.0093 - accuracy: 0.9964 - val_loss: 0.0072 - val_accuracy: 0.9974\n",
      "Time: 234.82940077781677\n",
      "1057/1057 [==============================] - 3s 3ms/step - loss: 0.0065 - accuracy: 0.9978\n",
      "Accuracy: 99.782300\n",
      "loss: 0.006491\n"
     ]
    }
   ],
   "source": [
    "# 모델 학습 ○6\n",
    "start = time.time()\n",
    "\n",
    "# 학습의 자동 종료(patience=5: 학습 결과가 개선되지 않아도 학습을 진행할 횟수)\n",
    "es = EarlyStopping(monitor='val_loss', patience=6, restore_best_weights=True)\n",
    "\n",
    "hist = model.fit(train_ds, validation_data=val_ds, epochs=EPOCH, verbose=1, callbacks=[es])\n",
    "print('Time:', time.time() - start)  # i5 8500: 531, Colab GPU: 299\n",
    "\n",
    "# 모델 평가(테스트 데이터 셋 이용) ○7\n",
    "loss, accuracy = model.evaluate(test_ds, verbose=1)\n",
    "print('Accuracy: %f' % (accuracy * 100))\n",
    "print('loss: %f' % (loss))\n",
    "\n",
    "# 모델 저장  ○8\n",
    "model.save('./intent_model.h5')"
   ]
  },
  {
   "cell_type": "code",
   "execution_count": 1,
   "metadata": {
    "colab": {
     "base_uri": "https://localhost:8080/",
     "height": 248
    },
    "executionInfo": {
     "elapsed": 275,
     "status": "error",
     "timestamp": 1655098902466,
     "user": {
      "displayName": "강사엄기흥",
      "userId": "12410353940363031053"
     },
     "user_tz": -540
    },
    "id": "0GZuCePCIlLJ",
    "outputId": "005ac3fb-2d92-458a-d79d-3b19dafb6559"
   },
   "outputs": [
    {
     "ename": "NameError",
     "evalue": "ignored",
     "output_type": "error",
     "traceback": [
      "\u001b[0;31m---------------------------------------------------------------------------\u001b[0m",
      "\u001b[0;31mNameError\u001b[0m                                 Traceback (most recent call last)",
      "\u001b[0;32m<ipython-input-1-9e9287ddc94e>\u001b[0m in \u001b[0;36m<module>\u001b[0;34m()\u001b[0m\n\u001b[0;32m----> 1\u001b[0;31m \u001b[0mfig\u001b[0m\u001b[0;34m,\u001b[0m \u001b[0mloss_ax\u001b[0m \u001b[0;34m=\u001b[0m \u001b[0mplt\u001b[0m\u001b[0;34m.\u001b[0m\u001b[0msubplots\u001b[0m\u001b[0;34m(\u001b[0m\u001b[0;34m)\u001b[0m\u001b[0;34m\u001b[0m\u001b[0;34m\u001b[0m\u001b[0m\n\u001b[0m\u001b[1;32m      2\u001b[0m \u001b[0;31m# plt.figure(figsize=(6,4)) # ERROR\u001b[0m\u001b[0;34m\u001b[0m\u001b[0;34m\u001b[0m\u001b[0;34m\u001b[0m\u001b[0m\n\u001b[1;32m      3\u001b[0m \u001b[0mfig\u001b[0m\u001b[0;34m.\u001b[0m\u001b[0mset_size_inches\u001b[0m\u001b[0;34m(\u001b[0m\u001b[0;36m10\u001b[0m\u001b[0;34m,\u001b[0m \u001b[0;36m5\u001b[0m\u001b[0;34m)\u001b[0m  \u001b[0;31m# 챠트 크기 설정\u001b[0m\u001b[0;34m\u001b[0m\u001b[0;34m\u001b[0m\u001b[0m\n\u001b[1;32m      4\u001b[0m \u001b[0;34m\u001b[0m\u001b[0m\n\u001b[1;32m      5\u001b[0m \u001b[0macc_ax\u001b[0m \u001b[0;34m=\u001b[0m \u001b[0mloss_ax\u001b[0m\u001b[0;34m.\u001b[0m\u001b[0mtwinx\u001b[0m\u001b[0;34m(\u001b[0m\u001b[0;34m)\u001b[0m   \u001b[0;31m# 오른쪽 y 축 설정\u001b[0m\u001b[0;34m\u001b[0m\u001b[0;34m\u001b[0m\u001b[0m\n",
      "\u001b[0;31mNameError\u001b[0m: name 'plt' is not defined"
     ]
    }
   ],
   "source": [
    "fig, loss_ax = plt.subplots()\n",
    "# plt.figure(figsize=(6,4)) # ERROR\n",
    "fig.set_size_inches(10, 5)  # 챠트 크기 설정\n",
    "\n",
    "acc_ax = loss_ax.twinx()   # 오른쪽 y 축 설정\n",
    "\n",
    "# 왼쪽 y 축 설정\n",
    "loss_ax.plot(hist.history['loss'], 'y', label='train loss')\n",
    "loss_ax.plot(hist.history['val_loss'], 'r', label='val loss')\n",
    "loss_ax.set_ylim([0.0, 0.02]) # 값을 반영하여 변경\n",
    "\n",
    "# 오른쪽 y 축 설정\n",
    "acc_ax.plot(hist.history['accuracy'], 'b', label='train accuracy')\n",
    "acc_ax.plot(hist.history['val_accuracy'], 'g', label='val accuracy')\n",
    "acc_ax.set_ylim([0.0, 1]) # 0.0, 1: 0 ~ 100 %, 정확도임으로 변경하지 않음\n",
    "\n",
    "# 축 레이블 설정\n",
    "loss_ax.set_xlabel('epoch')  # 학습 횟수\n",
    "loss_ax.set_ylabel('loss')   # 오차\n",
    "acc_ax.set_ylabel('accuracy') # 정확도\n",
    "\n",
    "loss_ax.legend(loc='upper left') # 오차 레이블 위치\n",
    "acc_ax.legend(loc='lower left')  # 정확도 레이블 위치\n",
    "\n",
    "plt.show()"
   ]
  },
  {
   "cell_type": "code",
   "execution_count": 5,
   "metadata": {
    "executionInfo": {
     "elapsed": 4432,
     "status": "ok",
     "timestamp": 1655099189816,
     "user": {
      "displayName": "강사엄기흥",
      "userId": "12410353940363031053"
     },
     "user_tz": -540
    },
    "id": "ch4yNfM2IlLK"
   },
   "outputs": [],
   "source": [
    "import tensorflow as tf\n",
    "from tensorflow.keras.models import Model, load_model\n",
    "from tensorflow.keras import preprocessing\n",
    "\n",
    "intent_labels = {0: \"인사\", 1: \"욕설\", 2: \"주문\", 3: \"예약\", 4: \"기타\"}\n",
    "\n",
    "# 의도 분류 모델 불러오기\n",
    "model = load_model('./intent_model.h5')"
   ]
  },
  {
   "cell_type": "code",
   "execution_count": 6,
   "metadata": {
    "colab": {
     "base_uri": "https://localhost:8080/"
    },
    "executionInfo": {
     "elapsed": 7081,
     "status": "ok",
     "timestamp": 1655099197989,
     "user": {
      "displayName": "강사엄기흥",
      "userId": "12410353940363031053"
     },
     "user_tz": -540
    },
    "id": "o04nTCdiIlLK",
    "outputId": "3399740d-82c0-492e-c8a0-2653659cd0fd"
   },
   "outputs": [
    {
     "name": "stdout",
     "output_type": "stream",
     "text": [
      "pos: [('오늘', 'NNG'), ('탕수육', 'NNP'), ('주문', 'NNP'), ('가능', 'XR'), ('하', 'XSA'), ('ㄴ가요', 'EF'), ('?', 'SF')]\n",
      "keywords: ['오늘', '탕수육', '주문', '가능']\n",
      "seq: [40, 431, 3, 6]\n",
      "sequences: [[40, 431, 3, 6]]\n"
     ]
    }
   ],
   "source": [
    "query = \"오늘 탕수육 주문 가능한가요?\"\n",
    "# query = \"안녕하세요?\"\n",
    "from utils.Preprocess import Preprocess\n",
    "p = Preprocess(word2index_dic='../../dict/chatbot_dict.bin',\n",
    "               userdic='../../user_dic.tsv')\n",
    "pos = p.pos(query)\n",
    "print('pos:', pos)\n",
    "keywords = p.get_keywords(pos, without_tag=True)\n",
    "print('keywords:', keywords)\n",
    "seq = p.get_wordidx_sequence(keywords)\n",
    "print('seq:', seq)\n",
    "sequences = [seq]\n",
    "print('sequences:', sequences)"
   ]
  },
  {
   "cell_type": "code",
   "execution_count": 7,
   "metadata": {
    "colab": {
     "base_uri": "https://localhost:8080/"
    },
    "executionInfo": {
     "elapsed": 11647,
     "status": "ok",
     "timestamp": 1655099215793,
     "user": {
      "displayName": "강사엄기흥",
      "userId": "12410353940363031053"
     },
     "user_tz": -540
    },
    "id": "zGNtBHE8PIEe",
    "outputId": "8b8e1063-3390-4f2e-8231-778d0138a2a4"
   },
   "outputs": [
    {
     "name": "stdout",
     "output_type": "stream",
     "text": [
      "padded_seqs: [[ 40 431   3   6   0   0   0   0   0   0   0   0   0   0   0]]\n",
      "오늘 탕수육 주문 가능한가요?\n",
      "의도 예측 점수:  [[4.5328366e-24 8.0535234e-29 1.0000000e+00 1.8156581e-13 4.3753630e-24]]\n",
      "predict.shape: (1, 5)\n",
      "predict_class:  tf.Tensor([2], shape=(1,), dtype=int64)\n",
      "의도 예측 클래스:  [2]\n",
      "의도:  주문\n"
     ]
    }
   ],
   "source": [
    "# 단어 시퀀스 벡터 크기: 15 \n",
    "from config.GlobalParams import MAX_SEQ_LEN\n",
    "padded_seqs = preprocessing.sequence.pad_sequences(sequences, maxlen=MAX_SEQ_LEN, padding='post')\n",
    "print('padded_seqs:', padded_seqs)\n",
    "predict = model.predict(padded_seqs)\n",
    "predict_class = tf.math.argmax(predict, axis=1) # (1, 5): 하나의 행안에서 열중에서 가장 큰 값\n",
    "\n",
    "print(query)\n",
    "print(\"의도 예측 점수: \", predict)\n",
    "print(\"predict.shape:\", predict.shape)\n",
    "print(\"predict_class: \", predict_class)\n",
    "print(\"의도 예측 클래스: \", predict_class.numpy())\n",
    "print(\"의도: \", intent_labels[predict_class.numpy()[0]])"
   ]
  },
  {
   "cell_type": "code",
   "execution_count": 8,
   "metadata": {
    "colab": {
     "base_uri": "https://localhost:8080/"
    },
    "executionInfo": {
     "elapsed": 4478,
     "status": "ok",
     "timestamp": 1655099224175,
     "user": {
      "displayName": "강사엄기흥",
      "userId": "12410353940363031053"
     },
     "user_tz": -540
    },
    "id": "NrBXtBcTPkSG",
    "outputId": "f504ce02-6c46-41ac-9849-1cb38af42369"
   },
   "outputs": [
    {
     "name": "stdout",
     "output_type": "stream",
     "text": [
      "keywords: ['안녕하세요']\n",
      "seq: [353]\n",
      "sequences: [[353]]\n",
      "안녕하세요?\n",
      "의도 예측 점수 :  [[0.6397398  0.04100597 0.06333052 0.1161913  0.13973242]]\n",
      "의도 예측 클래스 :  [0]\n",
      "의도  :  인사\n"
     ]
    }
   ],
   "source": [
    "from utils.Preprocess import Preprocess\n",
    "from config.GlobalParams import MAX_SEQ_LEN\n",
    "\n",
    "query = \"안녕하세요?\"\n",
    "p = Preprocess(word2index_dic='../../dict/chatbot_dict.bin',\n",
    "               userdic='../../user_dic.tsv')\n",
    "pos = p.pos(query)\n",
    "keywords = p.get_keywords(pos, without_tag=True)\n",
    "print('keywords:', keywords)\n",
    "seq = p.get_wordidx_sequence(keywords)\n",
    "print('seq:', seq)\n",
    "sequences = [seq]\n",
    "print('sequences:', sequences)\n",
    "\n",
    "padded_seqs = preprocessing.sequence.pad_sequences(sequences, maxlen=MAX_SEQ_LEN, padding='post')\n",
    "\n",
    "predict = model.predict(padded_seqs)\n",
    "predict_class = tf.math.argmax(predict, axis=1)\n",
    "print(query)\n",
    "print(\"의도 예측 점수 : \", predict)\n",
    "print(\"의도 예측 클래스 : \", predict_class.numpy())\n",
    "print(\"의도  : \", intent_labels[predict_class.numpy()[0]])"
   ]
  },
  {
   "cell_type": "code",
   "execution_count": 9,
   "metadata": {
    "colab": {
     "base_uri": "https://localhost:8080/"
    },
    "executionInfo": {
     "elapsed": 306,
     "status": "ok",
     "timestamp": 1655099235749,
     "user": {
      "displayName": "강사엄기흥",
      "userId": "12410353940363031053"
     },
     "user_tz": -540
    },
    "id": "-bYzZMkdQrGt",
    "outputId": "4fea07b3-97fc-45af-efa3-8ae6a44b683f"
   },
   "outputs": [
    {
     "name": "stdout",
     "output_type": "stream",
     "text": [
      "내일 오전에 주문 가능해요?\n",
      "의도 예측 점수 :  [[8.7460221e-21 2.2894215e-25 1.0000000e+00 5.4479932e-12 7.2612523e-21]]\n",
      "의도 예측 클래스 :  [2]\n",
      "의도  :  주문\n"
     ]
    }
   ],
   "source": [
    "from utils.Preprocess import Preprocess\n",
    "from config.GlobalParams import MAX_SEQ_LEN\n",
    "\n",
    "query = \"내일 오전에 주문 가능해요?\"\n",
    "pos = p.pos(query)\n",
    "keywords = p.get_keywords(pos, without_tag=True)\n",
    "seq = p.get_wordidx_sequence(keywords)\n",
    "sequences = [seq]\n",
    "\n",
    "padded_seqs = preprocessing.sequence.pad_sequences(sequences, maxlen=MAX_SEQ_LEN, padding='post')\n",
    "\n",
    "predict = model.predict(padded_seqs)\n",
    "predict_class = tf.math.argmax(predict, axis=1)\n",
    "print(query)\n",
    "print(\"의도 예측 점수 : \", predict)\n",
    "print(\"의도 예측 클래스 : \", predict_class.numpy())\n",
    "print(\"의도  : \", intent_labels[predict_class.numpy()[0]])"
   ]
  },
  {
   "cell_type": "code",
   "execution_count": 10,
   "metadata": {
    "colab": {
     "base_uri": "https://localhost:8080/"
    },
    "executionInfo": {
     "elapsed": 264,
     "status": "ok",
     "timestamp": 1655099238043,
     "user": {
      "displayName": "강사엄기흥",
      "userId": "12410353940363031053"
     },
     "user_tz": -540
    },
    "id": "m2o40jHQQ87S",
    "outputId": "6ad6ba08-6cc6-4e07-f87a-8da66b17a2b2"
   },
   "outputs": [
    {
     "name": "stdout",
     "output_type": "stream",
     "text": [
      "내일 오전 10시에 예약 가능해요?\n",
      "의도 예측 점수 :  [[1.6034416e-20 2.0588579e-22 7.3978532e-05 9.9992597e-01 3.3094225e-19]]\n",
      "의도 예측 클래스 :  [3]\n",
      "의도  :  예약\n"
     ]
    }
   ],
   "source": [
    "from utils.Preprocess import Preprocess\n",
    "from config.GlobalParams import MAX_SEQ_LEN\n",
    "\n",
    "query = \"내일 오전 10시에 예약 가능해요?\"\n",
    "pos = p.pos(query)\n",
    "keywords = p.get_keywords(pos, without_tag=True)\n",
    "seq = p.get_wordidx_sequence(keywords)\n",
    "sequences = [seq]\n",
    "\n",
    "padded_seqs = preprocessing.sequence.pad_sequences(sequences, maxlen=MAX_SEQ_LEN, padding='post')\n",
    "\n",
    "predict = model.predict(padded_seqs)\n",
    "predict_class = tf.math.argmax(predict, axis=1)\n",
    "print(query)\n",
    "print(\"의도 예측 점수 : \", predict)\n",
    "print(\"의도 예측 클래스 : \", predict_class.numpy())\n",
    "print(\"의도  : \", intent_labels[predict_class.numpy()[0]])"
   ]
  },
  {
   "cell_type": "code",
   "execution_count": 10,
   "metadata": {
    "executionInfo": {
     "elapsed": 246,
     "status": "ok",
     "timestamp": 1655099240099,
     "user": {
      "displayName": "강사엄기흥",
      "userId": "12410353940363031053"
     },
     "user_tz": -540
    },
    "id": "zf-B3mv1RDkr"
   },
   "outputs": [],
   "source": []
  }
 ],
 "metadata": {
  "accelerator": "GPU",
  "colab": {
   "collapsed_sections": [],
   "name": "Train_model.ipynb",
   "provenance": []
  },
  "kernelspec": {
   "display_name": "ai",
   "language": "python",
   "name": "ai"
  },
  "language_info": {
   "codemirror_mode": {
    "name": "ipython",
    "version": 3
   },
   "file_extension": ".py",
   "mimetype": "text/x-python",
   "name": "python",
   "nbconvert_exporter": "python",
   "pygments_lexer": "ipython3",
   "version": "3.7.13"
  }
 },
 "nbformat": 4,
 "nbformat_minor": 1
}
