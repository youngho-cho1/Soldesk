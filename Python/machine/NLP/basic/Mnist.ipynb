{
 "cells": [
  {
   "cell_type": "code",
   "execution_count": 1,
   "metadata": {},
   "outputs": [],
   "source": [
    "import warnings\n",
    "warnings.filterwarnings(action='ignore')\n",
    "\n",
    "import time\n",
    "\n",
    "import numpy as np\n",
    "\n",
    "import tensorflow as tf\n",
    "import matplotlib.pyplot as plt\n",
    "from tensorflow.keras.datasets import mnist\n",
    "from tensorflow.keras.models import Sequential\n",
    "from tensorflow.keras.models import load_model  # model 파일 로딩\n",
    "from tensorflow.keras.layers import Flatten, Dense\n",
    "from tensorflow.keras.callbacks import EarlyStopping # 학습 자동 중지\n",
    "from tensorflow.keras.callbacks import ModelCheckpoint # 우수한 학습 모델 파일 저장"
   ]
  },
  {
   "cell_type": "code",
   "execution_count": 2,
   "metadata": {},
   "outputs": [],
   "source": [
    "# MNIST 데이터셋 가져오기\n",
    "(x_train, y_train), (x_test, y_test) = mnist.load_data()\n",
    "x_train, x_test = x_train / 255.0, x_test / 255.0 # 데이터 정규화"
   ]
  },
  {
   "cell_type": "code",
   "execution_count": 3,
   "metadata": {},
   "outputs": [
    {
     "name": "stdout",
     "output_type": "stream",
     "text": [
      "Model: \"sequential\"\n",
      "_________________________________________________________________\n",
      "Layer (type)                 Output Shape              Param #   \n",
      "=================================================================\n",
      "flatten (Flatten)            (None, 784)               0         \n",
      "_________________________________________________________________\n",
      "dense (Dense)                (None, 20)                15700     \n",
      "_________________________________________________________________\n",
      "dense_1 (Dense)              (None, 20)                420       \n",
      "_________________________________________________________________\n",
      "dense_2 (Dense)              (None, 10)                210       \n",
      "=================================================================\n",
      "Total params: 16,330\n",
      "Trainable params: 16,330\n",
      "Non-trainable params: 0\n",
      "_________________________________________________________________\n"
     ]
    }
   ],
   "source": [
    "# MNIST 분류 모델 구성\n",
    "model = Sequential()\n",
    "model.add(Flatten(input_shape=(28, 28))) # 784\n",
    "model.add(Dense(20, activation='relu'))\n",
    "\n",
    "# model.add(Dense(20, input_shape=(784,), activation='relu'))\n",
    "\n",
    "# model.add(Dense(20, input_dim=784, activation='relu'))\n",
    "model.add(Dense(20, activation='relu'))\n",
    "model.add(Dense(10, activation='softmax'))\n",
    "\n",
    "# 모델 정보 출력\n",
    "model.summary()"
   ]
  },
  {
   "cell_type": "code",
   "execution_count": null,
   "metadata": {},
   "outputs": [
    {
     "name": "stdout",
     "output_type": "stream",
     "text": [
      "Epoch 1/100\n",
      "1400/1400 [==============================] - 6s 4ms/step - loss: 0.8667 - accuracy: 0.7226 - val_loss: 0.2578 - val_accuracy: 0.9253\n",
      "\n",
      "Epoch 00001: val_accuracy improved from -inf to 0.92528, saving model to .\\Mnist.h5\n",
      "Epoch 2/100\n",
      "1400/1400 [==============================] - 4s 3ms/step - loss: 0.2418 - accuracy: 0.9307 - val_loss: 0.2168 - val_accuracy: 0.9379\n",
      "\n",
      "Epoch 00002: val_accuracy improved from 0.92528 to 0.93794, saving model to .\\Mnist.h5\n",
      "Epoch 3/100\n",
      "1400/1400 [==============================] - 4s 3ms/step - loss: 0.1910 - accuracy: 0.9439 - val_loss: 0.2043 - val_accuracy: 0.9403\n",
      "\n",
      "Epoch 00003: val_accuracy improved from 0.93794 to 0.94028, saving model to .\\Mnist.h5\n",
      "Epoch 4/100\n",
      "1400/1400 [==============================] - 4s 3ms/step - loss: 0.1736 - accuracy: 0.9478 - val_loss: 0.1954 - val_accuracy: 0.9437\n",
      "\n",
      "Epoch 00004: val_accuracy improved from 0.94028 to 0.94372, saving model to .\\Mnist.h5\n",
      "Epoch 5/100\n",
      "1400/1400 [==============================] - 4s 3ms/step - loss: 0.1491 - accuracy: 0.9554 - val_loss: 0.1770 - val_accuracy: 0.9481\n",
      "\n",
      "Epoch 00005: val_accuracy improved from 0.94372 to 0.94806, saving model to .\\Mnist.h5\n",
      "Epoch 6/100\n",
      "1400/1400 [==============================] - 4s 3ms/step - loss: 0.1357 - accuracy: 0.9592 - val_loss: 0.1809 - val_accuracy: 0.9466\n",
      "\n",
      "Epoch 00006: val_accuracy did not improve from 0.94806\n",
      "Epoch 7/100\n",
      "1400/1400 [==============================] - 4s 3ms/step - loss: 0.1263 - accuracy: 0.9638 - val_loss: 0.1896 - val_accuracy: 0.9467\n",
      "\n",
      "Epoch 00007: val_accuracy did not improve from 0.94806\n",
      "Epoch 8/100\n",
      "1400/1400 [==============================] - 4s 3ms/step - loss: 0.1171 - accuracy: 0.9641 - val_loss: 0.1747 - val_accuracy: 0.9506\n",
      "\n",
      "Epoch 00008: val_accuracy improved from 0.94806 to 0.95056, saving model to .\\Mnist.h5\n",
      "Epoch 9/100\n",
      "1400/1400 [==============================] - 4s 3ms/step - loss: 0.1077 - accuracy: 0.9678 - val_loss: 0.1673 - val_accuracy: 0.9518\n",
      "\n",
      "Epoch 00009: val_accuracy improved from 0.95056 to 0.95183, saving model to .\\Mnist.h5\n",
      "Epoch 10/100\n",
      "1400/1400 [==============================] - 4s 3ms/step - loss: 0.1090 - accuracy: 0.9671 - val_loss: 0.1614 - val_accuracy: 0.9542\n",
      "\n",
      "Epoch 00010: val_accuracy improved from 0.95183 to 0.95422, saving model to .\\Mnist.h5\n",
      "Epoch 11/100\n",
      "1400/1400 [==============================] - 4s 3ms/step - loss: 0.0970 - accuracy: 0.9707 - val_loss: 0.1677 - val_accuracy: 0.9523\n",
      "\n",
      "Epoch 00011: val_accuracy did not improve from 0.95422\n",
      "Epoch 12/100\n",
      "1400/1400 [==============================] - 4s 3ms/step - loss: 0.0936 - accuracy: 0.9714 - val_loss: 0.1685 - val_accuracy: 0.9537\n",
      "\n",
      "Epoch 00012: val_accuracy did not improve from 0.95422\n",
      "Epoch 13/100\n",
      "1400/1400 [==============================] - 4s 3ms/step - loss: 0.0866 - accuracy: 0.9739 - val_loss: 0.1689 - val_accuracy: 0.9541\n",
      "\n",
      "Epoch 00013: val_accuracy did not improve from 0.95422\n",
      "Epoch 14/100\n",
      "1400/1400 [==============================] - 4s 3ms/step - loss: 0.0823 - accuracy: 0.9752 - val_loss: 0.1736 - val_accuracy: 0.9522\n",
      "\n",
      "Epoch 00014: val_accuracy did not improve from 0.95422\n",
      "Epoch 15/100\n",
      "1400/1400 [==============================] - 4s 3ms/step - loss: 0.0800 - accuracy: 0.9761 - val_loss: 0.1647 - val_accuracy: 0.9558\n",
      "\n",
      "Epoch 00015: val_accuracy improved from 0.95422 to 0.95578, saving model to .\\Mnist.h5\n",
      "Epoch 16/100\n",
      "1400/1400 [==============================] - 4s 3ms/step - loss: 0.0745 - accuracy: 0.9771 - val_loss: 0.1726 - val_accuracy: 0.9546\n",
      "\n",
      "Epoch 00016: val_accuracy did not improve from 0.95578\n",
      "Epoch 17/100\n",
      "1400/1400 [==============================] - 4s 3ms/step - loss: 0.0734 - accuracy: 0.9765 - val_loss: 0.1747 - val_accuracy: 0.9535\n",
      "\n",
      "Epoch 00017: val_accuracy did not improve from 0.95578\n",
      "Epoch 18/100\n",
      "1400/1400 [==============================] - 4s 3ms/step - loss: 0.0679 - accuracy: 0.9788 - val_loss: 0.1877 - val_accuracy: 0.9509\n",
      "\n",
      "Epoch 00018: val_accuracy did not improve from 0.95578\n",
      "Epoch 19/100\n",
      "1400/1400 [==============================] - 4s 3ms/step - loss: 0.0704 - accuracy: 0.9774 - val_loss: 0.1874 - val_accuracy: 0.9527\n",
      "\n",
      "Epoch 00019: val_accuracy did not improve from 0.95578\n",
      "Epoch 20/100\n",
      "1400/1400 [==============================] - 4s 3ms/step - loss: 0.0697 - accuracy: 0.9784 - val_loss: 0.1838 - val_accuracy: 0.9533\n",
      "\n",
      "Epoch 00020: val_accuracy did not improve from 0.95578\n",
      "Epoch 21/100\n",
      "1065/1400 [=====================>........] - ETA: 0s - loss: 0.0619 - accuracy: 0.9806"
     ]
    }
   ],
   "source": [
    "# 모델 생성, sparse_categorical_crossentropy: One-hot encoding 자동 지원\n",
    "model.compile(loss='sparse_categorical_crossentropy', \n",
    "              optimizer='adam', metrics=['accuracy'])\n",
    "\n",
    "# y_train_all = to_categorical(y_train_all, 10)  # One-Hot encoding\n",
    "# y_test = to_categorical(y_test, 10)\n",
    "# model.compile(loss='categorical_crossentropy', optimizer='sgd', metrics=['accuracy'])\n",
    "\n",
    "mc = ModelCheckpoint(filepath='./Mnist.h5', monitor='val_accuracy',\n",
    "                           verbose=1, save_best_only=True)\n",
    "\n",
    "es = EarlyStopping(monitor='loss', patience=1,\n",
    "                           restore_best_weights=True)\n",
    "\n",
    "start = time.time()\n",
    "hist = model.fit(x_train, y_train, validation_split=0.3, shuffle=True,\n",
    "                epochs=100, batch_size=30, callbacks=[mc, es])\n",
    "print('time:', time.time() - start)\n",
    "\n",
    "print('모델 평가')\n",
    "model.evaluate(x_test, y_test)\n",
    "\n",
    "# model.save('./mnist_model.h5')"
   ]
  },
  {
   "cell_type": "code",
   "execution_count": 8,
   "metadata": {},
   "outputs": [
    {
     "data": {
      "image/png": "[encoded data removed]",
      "text/plain": [
       "<Figure size 720x360 with 2 Axes>"
      ]
     },
     "metadata": {
      "needs_background": "light"
     },
     "output_type": "display_data"
    }
   ],
   "source": [
    "fig, loss_ax = plt.subplots()\n",
    "# plt.figure(figsize=(6,4)) # ERROR\n",
    "fig.set_size_inches(10, 5)  # 챠트 크기 설정\n",
    "\n",
    "acc_ax = loss_ax.twinx()   # 오른쪽 y 축 설정\n",
    "\n",
    "# 왼쪽 y 축 설정\n",
    "loss_ax.plot(hist.history['loss'], 'y', label='train loss')\n",
    "loss_ax.plot(hist.history['val_loss'], 'r', label='val loss')\n",
    "loss_ax.set_ylim([0.0, 1.0]) # 값을 반영하여 변경\n",
    "\n",
    "# 오른쪽 y 축 설정\n",
    "acc_ax.plot(hist.history['accuracy'], 'b', label='train accuracy')\n",
    "acc_ax.plot(hist.history['val_accuracy'], 'g', label='val accuracy')\n",
    "acc_ax.set_ylim([0.0, 1]) # 0.0, 1: 0 ~ 100 %, 정확도임으로 변경하지 않음\n",
    "\n",
    "# 축 레이블 설정\n",
    "loss_ax.set_xlabel('epoch')  # 학습 횟수\n",
    "loss_ax.set_ylabel('loss')   # 오차\n",
    "acc_ax.set_ylabel('accuracy') # 정확도\n",
    "\n",
    "loss_ax.legend(loc='upper left') # 오차 레이블 위치\n",
    "acc_ax.legend(loc='lower left')  # 정확도 레이블 위치\n",
    "\n",
    "plt.show()"
   ]
  },
  {
   "cell_type": "code",
   "execution_count": 9,
   "metadata": {},
   "outputs": [
    {
     "name": "stdout",
     "output_type": "stream",
     "text": [
      "Model: \"sequential_2\"\n",
      "_________________________________________________________________\n",
      "Layer (type)                 Output Shape              Param #   \n",
      "=================================================================\n",
      "flatten (Flatten)            (None, 784)               0         \n",
      "_________________________________________________________________\n",
      "dense_6 (Dense)              (None, 20)                15700     \n",
      "_________________________________________________________________\n",
      "dense_7 (Dense)              (None, 20)                420       \n",
      "_________________________________________________________________\n",
      "dense_8 (Dense)              (None, 10)                210       \n",
      "=================================================================\n",
      "Total params: 16,330\n",
      "Trainable params: 16,330\n",
      "Non-trainable params: 0\n",
      "_________________________________________________________________\n",
      "313/313 - 0s - loss: 0.1877 - accuracy: 0.9563\n",
      "손실값: 0.18768908083438873 /정확도: 95.63000202178955 %\n"
     ]
    }
   ],
   "source": [
    "# 모델 불러오기\n",
    "model = load_model('./Mnist.h5')\n",
    "model.summary()\n",
    "test_loss, test_acc = model.evaluate(x_test, y_test, verbose=2)\n",
    "print('손실값:', test_loss, '/정확도:', (test_acc*100), '%')"
   ]
  },
  {
   "cell_type": "code",
   "execution_count": 10,
   "metadata": {},
   "outputs": [
    {
     "data": {
      "image/png": "[encoded data removed]",
      "text/plain": [
       "<Figure size 432x288 with 1 Axes>"
      ]
     },
     "metadata": {
      "needs_background": "light"
     },
     "output_type": "display_data"
    }
   ],
   "source": [
    "# 테스트셋에서 20번째 이미지 출력\n",
    "plt.imshow(x_test[20], cmap=\"gray\")\n",
    "plt.show()"
   ]
  },
  {
   "cell_type": "code",
   "execution_count": 11,
   "metadata": {},
   "outputs": [
    {
     "name": "stdout",
     "output_type": "stream",
     "text": [
      "[[2.6988541e-08 3.5804419e-13 3.3269217e-17 1.4049516e-08 5.4521262e-08\n",
      "  3.9711864e-07 8.5081342e-19 3.5898651e-07 7.8141714e-13 9.9999917e-01]]\n",
      "손글씨 이미지 예측값 :  9\n"
     ]
    }
   ],
   "source": [
    "# 테스트셋의 20번째 이미지 클래스 분류\n",
    "picks = [20]\n",
    "predict = m.predict(x_test[picks])odel\n",
    "print(predict)\n",
    "print(\"손글씨 이미지 예측값 : \", np.argmax(predict[0]))"
   ]
  },
  {
   "cell_type": "code",
   "execution_count": 12,
   "metadata": {},
   "outputs": [
    {
     "name": "stdout",
     "output_type": "stream",
     "text": [
      "손글씨 이미지 예측값 :  [9]\n"
     ]
    }
   ],
   "source": [
    "# 테스트셋의 20번째 이미지 클래스 분류\n",
    "picks = [20]\n",
    "predict = model.predict_classes(x_test[picks])\n",
    "print(\"손글씨 이미지 예측값 : \", predict)"
   ]
  },
  {
   "cell_type": "code",
   "execution_count": null,
   "metadata": {},
   "outputs": [],
   "source": []
  },
  {
   "cell_type": "code",
   "execution_count": null,
   "metadata": {},
   "outputs": [],
   "source": []
  },
  {
   "cell_type": "code",
   "execution_count": null,
   "metadata": {},
   "outputs": [],
   "source": []
  }
 ],
 "metadata": {
  "kernelspec": {
   "display_name": "ai",
   "language": "python",
   "name": "ai"
  },
  "language_info": {
   "codemirror_mode": {
    "name": "ipython",
    "version": 3
   },
   "file_extension": ".py",
   "mimetype": "text/x-python",
   "name": "python",
   "nbconvert_exporter": "python",
   "pygments_lexer": "ipython3",
   "version": "3.7.13"
  }
 },
 "nbformat": 4,
 "nbformat_minor": 2
}
