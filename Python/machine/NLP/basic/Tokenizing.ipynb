{
 "cells": [
  {
   "cell_type": "markdown",
   "metadata": {},
   "source": [
    "## Tokenizing"
   ]
  },
  {
   "cell_type": "code",
   "execution_count": 1,
   "metadata": {},
   "outputs": [
    {
     "name": "stdout",
     "output_type": "stream",
     "text": [
      "형태소 추출: ['아버지', '가', '방', '에', '들어가', 'ㅂ니다', '.']\n",
      "형태소와 품사 태그 추출: [('아버지', 'NNG'), ('가', 'JKS'), ('방', 'NNG'), ('에', 'JKM'), ('들어가', 'VV'), ('ㅂ니다', 'EFN'), ('.', 'SF')]\n",
      "명사만 추출: ['아버지', '방']\n",
      "문장 분리: ['오늘 날씨는 어 때요?', '내일은 덥다 던데.']\n"
     ]
    }
   ],
   "source": [
    "from konlpy.tag import Kkma\n",
    "\n",
    "# 꼬꼬마 형태소 분석기 객체 생성\n",
    "kkma = Kkma()\n",
    "text = \"아버지가 방에 들어갑니다.\"\n",
    "\n",
    "morphs = kkma.morphs(text) # 형태소 분리\n",
    "print('형태소 추출:', morphs)\n",
    "\n",
    "# POS(Part-Of-Speech): 형태소와 품사 태그 추출\n",
    "pos = kkma.pos(text)\n",
    "print('형태소와 품사 태그 추출:', pos)\n",
    "\n",
    "nouns = kkma.nouns(text)  # 명사만 추출\n",
    "print('명사만 추출:', nouns)\n",
    "\n",
    "sentences = \"오늘 날씨는 어때요? 내일은 덥다던데.\"\n",
    "s = kkma.sentences(sentences) # 문장 분리 \n",
    "print('문장 분리:', s)\n",
    "\n",
    "# text = \"오늘 날씨가 좋아욬ㅋㅋ\"\n",
    "# print('정규화:', kkma.normalize(text))  # 지원 안함.\n",
    "# print('어구 추출:', kkma.phrases(text))"
   ]
  },
  {
   "cell_type": "code",
   "execution_count": null,
   "metadata": {},
   "outputs": [],
   "source": [
    "from konlpy.tag import Komoran\n",
    "\n",
    "# 형태소 분석기 객체 생성\n",
    "komoran = Komoran()\n",
    "text = \"아버지가 방에 들어갑니다.\"\n",
    "\n",
    "morphs = komoran.morphs(text) # 형태소 추출\n",
    "print('형태소 추출:', morphs)\n",
    "\n",
    "# POS(Part-Of-Speech)\n",
    "pos = komoran.pos(text)\n",
    "print('형태소와 품사 태그 추출:', pos)\n",
    "\n",
    "nouns = komoran.nouns(text)\n",
    "print('명사만 추출:', nouns)\n",
    "\n",
    "# sentences = \"오늘 날씨는 어때요? 내일은 덥다던데.\"\n",
    "# s = komoran.sentences(sentences)  # 지원 안함.\n",
    "# print('문장 분리:', s)\n",
    "\n",
    "# text = \"오늘 날씨가 좋아욬ㅋㅋ\"\n",
    "# print('정규화:', komoran.normalize(text))  # 지원 안함.\n",
    "# print('어구 추출:', komoran.phrases(text))"
   ]
  },
  {
   "cell_type": "code",
   "execution_count": null,
   "metadata": {},
   "outputs": [],
   "source": [
    "from konlpy.tag import Okt\n",
    "\n",
    "# 형태소 분석기 객체 생성\n",
    "okt = Okt()\n",
    "text = \"아버지가 방에 들어갑니다.\"\n",
    "\n",
    "morphs = okt.morphs(text)\n",
    "print('형태소 추출:', morphs)\n",
    "\n",
    "# POS(Part-Of-Speech)\n",
    "pos = okt.pos(text)\n",
    "print('형태소와 품사 태그 추출:', pos)\n",
    "\n",
    "nouns = okt.nouns(text)\n",
    "print('명사만 추출:', nouns)\n",
    "\n",
    "# sentences = \"오늘 날씨는 어때요? 내일은 덥다던데.\"\n",
    "# s = okt.sentences(sentences)  # 지원 안함.\n",
    "# print('문장 분리:', s)\n",
    "\n",
    "text = \"오늘 날씨가 좋아욬ㅋㅋ\"\n",
    "print('정규화:', okt.normalize(text))  # 표준어로 전환\n",
    "# 어구: 문장을 구성하는 의미를 갖는 단어의 집합, 형태소 -> 어구 -> 문장\n",
    "print('어구 추출:', okt.phrases(text))"
   ]
  },
  {
   "cell_type": "markdown",
   "metadata": {},
   "source": [
    "## 사용자 사전 구축"
   ]
  },
  {
   "cell_type": "code",
   "execution_count": null,
   "metadata": {},
   "outputs": [],
   "source": [
    "from konlpy.tag import Komoran\n",
    "\n",
    "komoran = Komoran()\n",
    "text = \"우리 챗봇은 엔엘피를 좋아해.\"\n",
    "pos = komoran.pos(text) # 품사 태깅이 정상적으로 안됨, ('엔', 'NNB'), ('엘', 'NNP'), ('피', 'NNG')\n",
    "print(pos)"
   ]
  },
  {
   "cell_type": "code",
   "execution_count": null,
   "metadata": {},
   "outputs": [],
   "source": [
    "komoran = Komoran(userdic='./user_dic.tsv') # 고유명사등의 인식을위하여 사용자 사전 선언\n",
    "text = \"우리 챗봇은 엔엘피를 좋아해.\"\n",
    "pos = komoran.pos(text) # '엔엘피'가 'NNG'로 인식됨.\n",
    "print(pos)"
   ]
  },
  {
   "cell_type": "code",
   "execution_count": null,
   "metadata": {},
   "outputs": [],
   "source": []
  },
  {
   "cell_type": "code",
   "execution_count": null,
   "metadata": {},
   "outputs": [],
   "source": []
  },
  {
   "cell_type": "code",
   "execution_count": null,
   "metadata": {},
   "outputs": [],
   "source": []
  },
  {
   "cell_type": "code",
   "execution_count": null,
   "metadata": {},
   "outputs": [],
   "source": []
  }
 ],
 "metadata": {
  "kernelspec": {
   "display_name": "ai",
   "language": "python",
   "name": "ai"
  },
  "language_info": {
   "codemirror_mode": {
    "name": "ipython",
    "version": 3
   },
   "file_extension": ".py",
   "mimetype": "text/x-python",
   "name": "python",
   "nbconvert_exporter": "python",
   "pygments_lexer": "ipython3",
   "version": "3.7.13"
  }
 },
 "nbformat": 4,
 "nbformat_minor": 4
}
