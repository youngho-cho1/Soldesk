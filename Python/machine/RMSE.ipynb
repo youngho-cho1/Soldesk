{
 "cells": [
  {
   "cell_type": "code",
   "execution_count": 6,
   "id": "c9c49a45",
   "metadata": {},
   "outputs": [],
   "source": [
    "import warnings\n",
    "warnings.filterwarnings(action='ignore')\n",
    "\n",
    "import os\n",
    "import random\n",
    "import tensorflow\n",
    "import tensorflow as tf\n",
    "\n",
    "import pandas as pd\n",
    "import seaborn as sb\n",
    "\n",
    "import numpy as np\n",
    "\n",
    "import matplotlib\n",
    "import matplotlib.pyplot as plt\n",
    "from matplotlib import font_manager, rc\n",
    "\n",
    "from tensorflow.keras.models import Sequential  # class\n",
    "from tensorflow.keras.models import load_model  # model 사용\n",
    "from tensorflow.keras.layers import Dense       # 전결합\n",
    "from tensorflow.keras.layers import Dropout     # 특정 node를 사용안함.\n",
    "from tensorflow.keras.callbacks import EarlyStopping # 학습 자동 중지\n",
    "from tensorflow.keras import regularizers   # L1, L2 규제 적용\n",
    "from tensorflow.keras.utils import to_categorical\n",
    "from tensorflow.keras.models import load_model\n",
    "from tensorflow.keras import optimizers\n",
    "from tensorflow.keras.optimizers import Adam\n",
    "from tensorflow.keras.optimizers import RMSprop\n",
    " \n",
    "from sklearn.preprocessing import LabelEncoder  # class가 문자열인경우 변환\n",
    "from sklearn.preprocessing import MinMaxScaler\n",
    "\n",
    "from tensorflow.keras.callbacks import EarlyStopping\n",
    "from tensorflow.keras.callbacks import ModelCheckpoint\n",
    "from sklearn.model_selection import train_test_split # 학습셋과 테스트셋을 나눔\n",
    "from sklearn.model_selection import StratifiedKFold  # K겹 교차 검증\n",
    "from sklearn.metrics import confusion_matrix\n",
    "from sklearn.metrics import roc_curve\n",
    "\n",
    "import platform \n",
    "\n",
    "if (platform.system() == 'Windows'):  # Windows\n",
    "    rc('font', family=font_manager.FontProperties(fname=\"C:/Windows/Fonts/malgun.ttf\").get_name())\n",
    "    path = '.' # Local\n",
    "else:    \n",
    "    plt.rc('font', family='NanumBarunGothic')  # Ubuntu 18.04 기준 한글 처리\n",
    "    path = '/content/drive/My Drive/kd/rnn/naver_movie' # Colab\n",
    "\n",
    "plt.rcParams[\"font.size\"] = 12         # 글자 크기\n",
    "# plt.rcParams[\"figure.figsize\"] = (10, 4) # 10:4의 그래프 비율\n",
    "plt.rcParams['axes.unicode_minus'] = False  # minus 부호는 unicode 적용시 한글이 깨짐으로 설정\n",
    "\n",
    "# Jupyter에게 matplotlib 그래프를 출력 영역에 표시할 것을 지시하는 명령\n",
    "%matplotlib inline  "
   ]
  },
  {
   "cell_type": "code",
   "execution_count": 7,
   "id": "b2d48808",
   "metadata": {},
   "outputs": [
    {
     "name": "stdout",
     "output_type": "stream",
     "text": [
      "[0, 1, 2, 3, 4, 5]\n"
     ]
    }
   ],
   "source": [
    "X = [i for i in range(6)]\n",
    "print(X)"
   ]
  },
  {
   "cell_type": "code",
   "execution_count": 8,
   "id": "df7b5bc4",
   "metadata": {},
   "outputs": [
    {
     "name": "stdout",
     "output_type": "stream",
     "text": [
      "[20, 22, 24, 26, 28, 30]\n"
     ]
    }
   ],
   "source": [
    "# y = ax + b, y = 2x + 20, 기울기와 y 절편이 결정된 경우\n",
    "a = 2  # 임의로 지정\n",
    "b = 20 # 임의로 지정\n",
    "Y = [(a * x) + b for x in X]\n",
    "print(Y)"
   ]
  },
  {
   "cell_type": "code",
   "execution_count": 9,
   "id": "d61dd901",
   "metadata": {},
   "outputs": [
    {
     "name": "stdout",
     "output_type": "stream",
     "text": [
      "X: [0, 1, 2, 3, 4, 5]\n",
      "Y1: [20, 25, 30, 35, 40, 45]\n",
      "Y2: [20, 30, 40, 50, 60, 70]\n",
      "Y3: [20, 40, 60, 80, 100, 120]\n"
     ]
    }
   ],
   "source": [
    "# a(기울기, y의 변화량/x의 변화량)의 특징 분석\n",
    "# y = ax + b\n",
    "X = [i for i in range(6)]  # 0 ~ 5: 공부 시간\n",
    "print('X:', X)\n",
    "Y1 = [(5 * x) + 20 for x in X] # f(x) = 5x + 20\n",
    "Y2 = [(10 * x) + 20 for x in X] # f(x) = 10x + 20\n",
    "Y3 = [(20 * x) + 20 for x in X] # f(x) = 20x + 20\n",
    "print('Y1:', Y1) #  0 * 5 + 20 = 20,  1 * 5 + 20 = 25\n",
    "print('Y2:', Y2) # 0 * 10 + 20 = 20, 1 * 10 + 20 = 30\n",
    "print('Y3:', Y3) # 0 * 20 + 20 = 20, 1 * 20 + 20 = 40"
   ]
  },
  {
   "cell_type": "code",
   "execution_count": 10,
   "id": "dccbaf4c",
   "metadata": {
    "scrolled": true
   },
   "outputs": [
    {
     "data": {
      "image/png": "[encoded data removed]",
      "text/plain": [
       "<Figure size 576x216 with 1 Axes>"
      ]
     },
     "metadata": {
      "needs_background": "light"
     },
     "output_type": "display_data"
    }
   ],
   "source": [
    "plt.figure(figsize=(8, 3)) # 단위: 인치\n",
    "# X 공부 시간, Y: 실제 취득 성적\n",
    "plt.plot(X, Y1, color='red', linestyle='solid', marker='o', label='A 예측')\n",
    "plt.plot(X, Y2, color='green', linestyle='solid', marker='o', label='B 예측')\n",
    "plt.plot(X, Y3, color='blue', linestyle='solid', marker='o', label='C 예측')\n",
    "plt.ylim(0, 130) # y limit: 범위\n",
    "plt.grid(True) # 격자 출력\n",
    "plt.title('공부시간에 따른 성적(200점 만점), y = ax + b')\n",
    "plt.xlabel('공부 시간')\n",
    "plt.ylabel('성적')\n",
    "plt.legend()\n",
    "plt.show()\n",
    "# a에 어떤수를 지정하는가에 따라 공부시간당 성적이 변경됨.\n",
    "# b: y 절편, 편향, Bias, 곱하기의 성질상 x가 0이면 무조건 0이되는 문제 해결"
   ]
  },
  {
   "cell_type": "code",
   "execution_count": 11,
   "id": "54e8ca36",
   "metadata": {},
   "outputs": [
    {
     "name": "stdout",
     "output_type": "stream",
     "text": [
      "6시간 공부한 경우의 예측:  32 점\n"
     ]
    }
   ],
   "source": [
    "# f(x) = ax + b: x -> f(x): 결과, 원인과 결과, 단순 선형회귀, 1차 함수 그래프\n",
    "y = 2 * 6 + 20\n",
    "print('6시간 공부한 경우의 예측: ', y, '점')\n",
    "# 기울기 a와, y 절편 b에 따라 점수 예측 정확도 결정됨."
   ]
  },
  {
   "cell_type": "code",
   "execution_count": 12,
   "id": "3ce05b5a",
   "metadata": {},
   "outputs": [],
   "source": [
    "# f(x) = ax + b에서 추론 통계를 이용하여 a, b 산출 가능\n",
    "# 데이터가 많아지면 a₁, a₂, a₃....복잡해서 산출이 매우 어려움.\n",
    "# 매출액 = [x₁: 광고 횟수, x₂: 광고 비용, x₃: 방송사]\n",
    "# 성적 = [x₁: 자율학습 시간, x₂: 보충 수업, x₃: 시험 응시 횟수]\n",
    "# f(x) = a₁x₁ + a₂x₂+ a₃x₃+ b\n",
    "\n",
    "# 머신러닝(인공지능)이 하는 역할은\n",
    "# 최소 오차를 발생시키는 기울기 a와, y 절편 b를 찾는 역활을 함.\n",
    "# 하지만 현실데이터의 특성상 오차는 존재 할 수 밖에 없음."
   ]
  },
  {
   "cell_type": "markdown",
   "id": "4e6e4e4d",
   "metadata": {},
   "source": [
    "### 단순 선형회귀 실습"
   ]
  },
  {
   "cell_type": "code",
   "execution_count": 24,
   "id": "4b69d035",
   "metadata": {},
   "outputs": [],
   "source": [
    "# Y = aX + b\n",
    "# a = (tot - nXbarYbar) / (∑X² - nXbar²)\n",
    "# b = Ybar - aXbar"
   ]
  },
  {
   "cell_type": "code",
   "execution_count": 44,
   "id": "ac4cf16d",
   "metadata": {},
   "outputs": [
    {
     "name": "stdout",
     "output_type": "stream",
     "text": [
      "[0, 1, 2, 3, 4, 5, 6, 7, 8, 9]\n",
      "[3.5, 8.75, 14.0, 19.25, 24.5, 29.75, 35.0, 40.25, 45.5, 50.75]\n"
     ]
    }
   ],
   "source": [
    "X = [v for v in range(0,10)] # 독립 변수\n",
    "print(X)\n",
    "Y = [((x * 3)+5 / 2.5) * 1.75 for x in X]\n",
    "print(Y)\n",
    "# 10이 등장하는 경우 어떤 수가 와야하는지 예측하는 모델 제작, 답은 20이 나와야함"
   ]
  },
  {
   "cell_type": "code",
   "execution_count": 45,
   "id": "85432ffa",
   "metadata": {},
   "outputs": [
    {
     "name": "stdout",
     "output_type": "stream",
     "text": [
      "Ybar: 27.125\n",
      "Xbar: 4.5\n"
     ]
    }
   ],
   "source": [
    "X = np.array(X)\n",
    "Y = np.array(Y)\n",
    "# Ybar, Y평균\n",
    "Ybar = np.array(Y).mean()\n",
    "print('Ybar:', Ybar)\n",
    "# Xbar, X평균\n",
    "Xbar = X.mean()\n",
    "print('Xbar:', Xbar)\n",
    "\n"
   ]
  },
  {
   "cell_type": "code",
   "execution_count": 46,
   "id": "808a96b8",
   "metadata": {},
   "outputs": [
    {
     "name": "stdout",
     "output_type": "stream",
     "text": [
      "tot: 1653.75\n",
      "1220.625\n",
      "X_square:  [0, 1, 4, 9, 16, 25, 36, 49, 64, 81]\n",
      "nXbar_square:  202.5\n"
     ]
    }
   ],
   "source": [
    "# ∑XY\n",
    "tot = 0\n",
    "for i in range(0,len(X)):\n",
    "    #print(i)\n",
    "    tot = tot + (X[i] * Y[i])\n",
    "print('tot:', tot)\n",
    "\n",
    "# nXbarYbar\n",
    "nXbarYbar = len(X) * Xbar * Ybar\n",
    "print(nXbarYbar)\n",
    "\n",
    "# ∑X²\n",
    "X_square = [v ** 2 for v in X]\n",
    "print(\"X_square: \", X_square)\n",
    "\n",
    "# nXbar²\n",
    "nXbar_square = len(X) * (Xbar ** 2)\n",
    "print('nXbar_square: ',nXbar_square)"
   ]
  },
  {
   "cell_type": "code",
   "execution_count": 47,
   "id": "6e686c80",
   "metadata": {},
   "outputs": [
    {
     "name": "stdout",
     "output_type": "stream",
     "text": [
      "완성된 모델: Y = 5.25 x X + 3.5\n"
     ]
    }
   ],
   "source": [
    "# Y = aX + b\n",
    "a = (tot - nXbarYbar) / (sum(X_square) - nXbar_square) # 기울기\n",
    "b = Ybar - a * Xbar # 편향\n",
    "print('완성된 모델: Y = {0} x X + {1}'.format(a,b))"
   ]
  },
  {
   "cell_type": "code",
   "execution_count": 48,
   "id": "7dd2f327",
   "metadata": {},
   "outputs": [
    {
     "name": "stdout",
     "output_type": "stream",
     "text": [
      "x: 10 -> y: 56.0\n"
     ]
    }
   ],
   "source": [
    "Y = (a * 10 + b)\n",
    "print('x: 10 -> y: {0}'.format(Y))"
   ]
  },
  {
   "cell_type": "code",
   "execution_count": 49,
   "id": "c36ae967",
   "metadata": {},
   "outputs": [
    {
     "name": "stdout",
     "output_type": "stream",
     "text": [
      "데이터: [0, 1, 2, 3, 4, 5]\n",
      "모델에 의한 예측: [50, 52, 54, 56, 58, 60]\n"
     ]
    }
   ],
   "source": [
    "# y = ax + b, y = 2x + 50, 기울기와 y 절편이 결정된 경우\n",
    "X = [i for i in range(6)]  # 0 ~ 5: 공부 시간\n",
    "print('데이터:', X)\n",
    "a = 2\n",
    "b = 50\n",
    "p = [(a * x) + b for x in X] # 공식에의한 값 예측, p: Predict\n",
    "print('모델에 의한 예측:', p)"
   ]
  },
  {
   "cell_type": "code",
   "execution_count": 50,
   "id": "25b5af69",
   "metadata": {
    "scrolled": true
   },
   "outputs": [
    {
     "data": {
      "image/png": "[encoded data removed]",
      "text/plain": [
       "<Figure size 576x216 with 1 Axes>"
      ]
     },
     "metadata": {
      "needs_background": "light"
     },
     "output_type": "display_data"
    }
   ],
   "source": [
    "plt.figure(figsize=(8, 3)) # 단위: 인치\n",
    "plt.plot(X, p, color='red', linestyle='solid', marker='o')  # 예측 성적\n",
    "plt.grid(True)\n",
    "plt.show()"
   ]
  },
  {
   "cell_type": "code",
   "execution_count": 52,
   "id": "975f5b79",
   "metadata": {},
   "outputs": [
    {
     "name": "stdout",
     "output_type": "stream",
     "text": [
      "[100, 52, 54, 56, 58, 60]\n",
      "[50, 52, 54, 56, 58, 60]\n"
     ]
    }
   ],
   "source": [
    "test = p.copy()\n",
    "test[0] = 100\n",
    "print(test)\n",
    "print(p)"
   ]
  },
  {
   "cell_type": "code",
   "execution_count": 56,
   "id": "43ba2714",
   "metadata": {},
   "outputs": [
    {
     "name": "stdout",
     "output_type": "stream",
     "text": [
      "실제 취득 성적: [50, 52, 54, 62, 58, 60]\n"
     ]
    }
   ],
   "source": [
    "r = p.copy()\n",
    "# 3시간 공부한 경우의 학생은 집중력이 높아 6점이 더 향상됨. \n",
    "r[3] = r[3] + 6       \n",
    "print('실제 취득 성적:', r)"
   ]
  },
  {
   "cell_type": "code",
   "execution_count": 57,
   "id": "9eeb1fb0",
   "metadata": {},
   "outputs": [
    {
     "name": "stdout",
     "output_type": "stream",
     "text": [
      "공부한 시간 0, 예측 성적 50, 실제 성적 50, 오차 0\n",
      "공부한 시간 1, 예측 성적 52, 실제 성적 52, 오차 0\n",
      "공부한 시간 2, 예측 성적 54, 실제 성적 54, 오차 0\n",
      "공부한 시간 3, 예측 성적 56, 실제 성적 62, 오차 6\n",
      "공부한 시간 4, 예측 성적 58, 실제 성적 58, 오차 0\n",
      "공부한 시간 5, 예측 성적 60, 실제 성적 60, 오차 0\n",
      "오차: 6\n"
     ]
    }
   ],
   "source": [
    "# 공부시간 대비 일정하게 성적이 증가한다는 규칙이 깨짐.\n",
    "# 이런 데이터의 발생은 평범한 일반적인 현상임.\n",
    "err = 0  # 오차\n",
    "for i in range(6):  # 0 ~ 5 \n",
    "    fmt = '공부한 시간 {0}, 예측 성적 {1}, 실제 성적 {2}, 오차 {3}'\n",
    "    print(fmt.format(X[i], p[i], r[i], r[i] - p[i]))\n",
    "    err = err + (r[i] - p[i]) # 오차의 합 산출\n",
    "print('오차:', err) # 예측 성적보다 실제 성적이 6점 높게 예측됨."
   ]
  },
  {
   "cell_type": "code",
   "execution_count": 58,
   "id": "12094dde",
   "metadata": {},
   "outputs": [
    {
     "data": {
      "image/png": "[encoded data removed]",
      "text/plain": [
       "<Figure size 576x216 with 1 Axes>"
      ]
     },
     "metadata": {
      "needs_background": "light"
     },
     "output_type": "display_data"
    }
   ],
   "source": [
    "plt.figure(figsize=(8, 3)) # 단위: 인치\n",
    "plt.plot(X, p, color='red', linestyle='solid', marker='o')  # 예측 성적\n",
    "plt.plot(X, r, color='blue', linestyle='solid', marker='o') # 실제 성적\n",
    "plt.grid(True)\n",
    "plt.show()"
   ]
  },
  {
   "cell_type": "markdown",
   "id": "b62dd250",
   "metadata": {},
   "source": [
    "### 오차가 0이라고 오판하는 경우\n",
    "- 모든 데이터의 오차를 알고 싶기 때문에 총 오차를 파악할 필요가 있음"
   ]
  },
  {
   "cell_type": "code",
   "execution_count": 59,
   "id": "6fcde3c4",
   "metadata": {},
   "outputs": [
    {
     "name": "stdout",
     "output_type": "stream",
     "text": [
      "데이터: [0, 1, 2, 3, 4, 5]\n",
      "모델에 의한 예측: [50, 52, 54, 56, 58, 60]\n",
      "실제 취득 성적: [50, 52, 54, 62, 52, 60]\n"
     ]
    }
   ],
   "source": [
    "import copy\n",
    "\n",
    "# y = ax + b, y = 2x + 50, 기울기 a와 y 절편 b가 결정된 경우\n",
    "X = [i for i in range(6)]  # 0 ~ 5: 공부 시간\n",
    "print('데이터:', X)\n",
    "a = 2  # 기울기\n",
    "b = 50 # y 절편, 편향\n",
    "p = [(a * x) + b for x in X] # 공식에 의한 값 예측, p: Predict\n",
    "print('모델에 의한 예측:', p)\n",
    "r = p.copy() \n",
    "r[3] = r[3] + 6      # 3시간 공부한 경우의 학생은 6점이 더 향상됨. \n",
    "r[4] = r[4] - 6      # 4시간 공부한 경우의 학생은 -6점이 발생함. \n",
    "print('실제 취득 성적:', r)"
   ]
  },
  {
   "cell_type": "code",
   "execution_count": 60,
   "id": "8a91a9ae",
   "metadata": {},
   "outputs": [
    {
     "name": "stdout",
     "output_type": "stream",
     "text": [
      "공부한 시간 0, 예측 성적 50, 실제 성적 50, 오차 0\n",
      "공부한 시간 1, 예측 성적 52, 실제 성적 52, 오차 0\n",
      "공부한 시간 2, 예측 성적 54, 실제 성적 54, 오차 0\n",
      "공부한 시간 3, 예측 성적 56, 실제 성적 62, 오차 6\n",
      "공부한 시간 4, 예측 성적 58, 실제 성적 52, 오차 -6\n",
      "공부한 시간 5, 예측 성적 60, 실제 성적 60, 오차 0\n",
      "오차: 0\n"
     ]
    }
   ],
   "source": [
    "err = 0\n",
    "for i in range(6):\n",
    "    fmt = '공부한 시간 {0}, 예측 성적 {1}, 실제 성적 {2}, 오차 {3}'\n",
    "    print(fmt.format(X[i], p[i], r[i], r[i] - p[i]))\n",
    "    err = err + (p[i] - r[i]) # 오차의 합 산출\n",
    "print('오차:', err)"
   ]
  },
  {
   "cell_type": "code",
   "execution_count": 61,
   "id": "c5872b74",
   "metadata": {},
   "outputs": [
    {
     "data": {
      "image/png": "[encoded data removed]",
      "text/plain": [
       "<Figure size 576x216 with 1 Axes>"
      ]
     },
     "metadata": {
      "needs_background": "light"
     },
     "output_type": "display_data"
    }
   ],
   "source": [
    "plt.figure(figsize=(8, 3)) # 단위: 인치\n",
    "plt.plot(X, p, color='red', linestyle='solid', marker='o')  # 예측 성적\n",
    "plt.plot(X, r, color='blue', linestyle='solid', marker='o') # 실제 성적\n",
    "plt.grid(True)\n",
    "plt.show()\n",
    "# 오차가 존재하나 오차 6 + -6이되어 오차의 합이 0이 나오는 논리적 모순이 있음.\n",
    "# 0임으로 오차는 없는 것인가? 수학적으로는 0임으로 오차는 없으나 모순임.\n",
    "# 통계에서 편차의 합은 0"
   ]
  },
  {
   "cell_type": "markdown",
   "id": "f11365ef",
   "metadata": {},
   "source": [
    "### 오차의 성질"
   ]
  },
  {
   "cell_type": "code",
   "execution_count": 62,
   "id": "3e666ed1",
   "metadata": {},
   "outputs": [
    {
     "name": "stdout",
     "output_type": "stream",
     "text": [
      "[0, 79]\n",
      "[2, 81]\n",
      "[4, 93]\n",
      "[6, 91]\n",
      "[8, 97]\n"
     ]
    }
   ],
   "source": [
    "data = [[0, 79], # [공부시간, 성적]\n",
    "        [2, 81],\n",
    "        [4, 93],\n",
    "        [6, 91],\n",
    "        [8, 97]] # list\n",
    "\n",
    "for row in data:\n",
    "    print(row)"
   ]
  },
  {
   "cell_type": "code",
   "execution_count": 69,
   "id": "40607c45",
   "metadata": {},
   "outputs": [
    {
     "name": "stdout",
     "output_type": "stream",
     "text": [
      "[0 2 4 6 8]\n",
      "[79 81 93 91 97]\n"
     ]
    }
   ],
   "source": [
    "#X = data[0:5][0]\n",
    "#X = [row[0] for row in data]\n",
    "X = np.array(data)[:,0]\n",
    "print(X)\n",
    "R = np.array(data)[:,1]\n",
    "print(R)"
   ]
  },
  {
   "cell_type": "code",
   "execution_count": 70,
   "id": "f8c9a4f1",
   "metadata": {},
   "outputs": [
    {
     "data": {
      "image/png": "[encoded data removed]",
      "text/plain": [
       "<Figure size 576x216 with 1 Axes>"
      ]
     },
     "metadata": {
      "needs_background": "light"
     },
     "output_type": "display_data"
    }
   ],
   "source": [
    "plt.figure(figsize=(8, 3)) # 단위: 인치\n",
    "plt.plot(X, R, color='blue', linestyle='solid', marker='o')\n",
    "plt.grid(True)\n",
    "plt.show()"
   ]
  },
  {
   "cell_type": "code",
   "execution_count": 71,
   "id": "dbff2e37",
   "metadata": {},
   "outputs": [
    {
     "name": "stdout",
     "output_type": "stream",
     "text": [
      "공부시간: 0, 예측: 80.000, 실제: 79, 오차: 1.000\n",
      "공부시간: 2, 예측: 86.600, 실제: 81, 오차: 5.600\n",
      "공부시간: 4, 예측: 93.200, 실제: 93, 오차: 0.200\n",
      "공부시간: 6, 예측: 99.800, 실제: 91, 오차: 8.800\n",
      "공부시간: 8, 예측: 106.400, 실제: 97, 오차: 9.400\n",
      "제곱하지않은 순수 오차의 합: 25.0\n"
     ]
    },
    {
     "data": {
      "image/png": "[encoded data removed]",
      "text/plain": [
       "<Figure size 576x216 with 1 Axes>"
      ]
     },
     "metadata": {
      "needs_background": "light"
     },
     "output_type": "display_data"
    }
   ],
   "source": [
    "# y = ax + b, y = 3.3 * x + 80 모델 가정\n",
    "a = 3.3 # 기울기 예측\n",
    "b = 80  # y절편 예측\n",
    "p_list = [] # 성적 예측 목록\n",
    "err_tot = 0  # 오차 총합\n",
    "for i in range(len(X)): # 0 ~ 4\n",
    "    p = a * X[i] + b    # 모델 사용, X = [0, 2, 4, 6, 8]\n",
    "    p_list.append(p)    # 예측 목록\n",
    "    err = p - R[i]      # 제곱하지않은 순수 오차, 예측값 - 실제값\n",
    "    err_tot = err_tot + err # 오차합\n",
    "    fmt = '공부시간: {0}, 예측: {1:.3f}, 실제: {2}, 오차: {3:.3f}'\n",
    "    print(fmt.format(X[i], p, R[i], err))\n",
    "    \n",
    "print('제곱하지않은 순수 오차의 합:', err_tot)    \n",
    "# 실제 성적보다 예측 성적이 높음\n",
    "\n",
    "# 실제 성적보다 추세선이 높게 그려짐.\n",
    "plt.figure(figsize=(8, 3)) # 단위: 인치\n",
    "plt.plot(X, R, color='blue', linestyle='solid', marker='o') # 실제\n",
    "plt.plot(X, p_list, color='red', linestyle='solid', marker='o') # 예측\n",
    "plt.grid(True)\n",
    "plt.show()"
   ]
  },
  {
   "cell_type": "code",
   "execution_count": 72,
   "id": "e80d6f0a",
   "metadata": {},
   "outputs": [
    {
     "name": "stdout",
     "output_type": "stream",
     "text": [
      "공부시간: 0, 예측: 75.000, 실제: 79, 오차: -4.000\n",
      "공부시간: 2, 예측: 77.600, 실제: 81, 오차: -3.400\n",
      "공부시간: 4, 예측: 80.200, 실제: 93, 오차: -12.800\n",
      "공부시간: 6, 예측: 82.800, 실제: 91, 오차: -8.200\n",
      "공부시간: 8, 예측: 85.400, 실제: 97, 오차: -11.600\n",
      "제곱하지않은 순수 오차의 합: -40.0\n"
     ]
    },
    {
     "data": {
      "image/png": "[encoded data removed]",
      "text/plain": [
       "<Figure size 576x216 with 1 Axes>"
      ]
     },
     "metadata": {
      "needs_background": "light"
     },
     "output_type": "display_data"
    }
   ],
   "source": [
    "# y = ax + b, 모델: y = 1.3 * x + 75 모델 가정\n",
    "a = 1.3\n",
    "b = 75\n",
    "p_list = [] # 성적 예측 목록\n",
    "err_tot = 0  # 오차 총합\n",
    "for i in range(len(X)):\n",
    "    p = a * X[i] + b\n",
    "    p_list.append(p) # 예측 목록\n",
    "    err = p - R[i]    # 제곱하지않은 순수 오차, 예측값 - 실제값 \n",
    "    err_tot = err_tot + err # 오차합\n",
    "    fmt = '공부시간: {0}, 예측: {1:.3f}, 실제: {2}, 오차: {3:.3f}'\n",
    "    print(fmt.format(X[i], p, R[i], err))\n",
    "print('제곱하지않은 순수 오차의 합:', err_tot)    \n",
    "# 실제 성적보다 예측 성적이 높음\n",
    "\n",
    "# 실제 성적보다 추세선이 낮게 그려짐.\n",
    "plt.figure(figsize=(8, 3)) # 단위: 인치\n",
    "plt.plot(X, R, color='blue', linestyle='solid', marker='o') # 실제\n",
    "plt.plot(X, p_list, color='red', linestyle='solid', marker='o') # 예측\n",
    "plt.grid(True)\n",
    "plt.show()"
   ]
  },
  {
   "cell_type": "code",
   "execution_count": 73,
   "id": "3e1dcd4c",
   "metadata": {},
   "outputs": [
    {
     "name": "stdout",
     "output_type": "stream",
     "text": [
      "공부시간: 0, 예측: 79.000, 실제: 79, 오차: 0.000\n",
      "공부시간: 2, 예측: 83.600, 실제: 81, 오차: 2.600\n",
      "공부시간: 4, 예측: 88.200, 실제: 93, 오차: -4.800\n",
      "공부시간: 6, 예측: 92.800, 실제: 91, 오차: 1.800\n",
      "공부시간: 8, 예측: 97.400, 실제: 97, 오차: 0.400\n",
      "제곱하지않은 순수 오차의 합:0.000\n"
     ]
    },
    {
     "data": {
      "image/png": "[encoded data removed]",
      "text/plain": [
       "<Figure size 576x216 with 1 Axes>"
      ]
     },
     "metadata": {
      "needs_background": "light"
     },
     "output_type": "display_data"
    }
   ],
   "source": [
    "# 통계에 기반해서 또는 운이 좋아 기울기와 y 절편을 찾은 경우\n",
    "# y = ax + b\n",
    "a = 2.30001\n",
    "b = 79\n",
    "p_list = [] # 성적 예측 목록\n",
    "err_tot = 0  # 오차 총합\n",
    "for i in range(len(X)):\n",
    "    p = a * X[i] + b\n",
    "    p_list.append(p) # 예측 목록, 모델: y = 2.30001 * x + 79\n",
    "    err = p - R[i]    # 제곱하지않은 순수 오차\n",
    "    err_tot = err_tot + err # 오차합\n",
    "    fmt = '공부시간: {0}, 예측: {1:.3f}, 실제: {2}, 오차: {3:.3f}'\n",
    "    print(fmt.format(X[i], p, R[i], err))\n",
    "print('제곱하지않은 순수 오차의 합:{0:.3f}'.format(err_tot))    \n",
    "# 실제 성적보다 예측 성적이 높음, 최적의 추세선의 편차의 합은 0\n",
    "\n",
    "# 추세선이 최적의 모양인 경우\n",
    "plt.figure(figsize=(8, 3)) # 단위: 인치\n",
    "plt.plot(X, R, color='blue', linestyle='solid', marker='o') # 실제\n",
    "plt.plot(X, p_list, color='red', linestyle='solid', marker='o') # 예측\n",
    "plt.grid(True)\n",
    "plt.show()"
   ]
  },
  {
   "cell_type": "code",
   "execution_count": 74,
   "id": "28f98561",
   "metadata": {},
   "outputs": [],
   "source": [
    "# 오차가 존재하나 오차의 합이 0이 나옴\n",
    "# 실제 데이터와 예측값의 오차가 없는것으로 판단하는 논리적 오류 발생\n",
    "# MSE: 평균 제곱 오차 함수\n",
    "def mse(p, r):  # p: 예측값, r: 실제값\n",
    "    print('p.shape:', p.shape)   # (5,)\n",
    "    print('r.shape:', r.shape)   # (5,)\n",
    "    \n",
    "    # 오차 제곱, 예측값(기대값)-실제값 = 평균(기대값)의 편차의 제곱\n",
    "    se = (p - r) ** 2  \n",
    "    print('se.shape:', se.shape) # (5,)\n",
    "    mse = se.mean()    # 하나의 숫자(sclar), mean(): 평균 산출 = 분산\n",
    "    print('mse.shape:', mse.shape)\n",
    "    return mse"
   ]
  },
  {
   "cell_type": "code",
   "execution_count": 75,
   "id": "59cd49a5",
   "metadata": {},
   "outputs": [
    {
     "name": "stdout",
     "output_type": "stream",
     "text": [
      "p.shape: (5,)\n",
      "r.shape: (5,)\n",
      "se.shape: (5,)\n",
      "mse.shape: ()\n",
      "MSE 오차: 6.640\n"
     ]
    }
   ],
   "source": [
    "# list는 요소간의 vector 연산을 못함\n",
    "# mse(p_list, R) # ERROR, unsupported operand type(s) for -: 'list' and 'list'\n",
    "mse_val = mse(np.array(p_list), np.array(R))\n",
    "print('MSE 오차: {0:.3f}'.format(mse_val))"
   ]
  },
  {
   "cell_type": "code",
   "execution_count": 76,
   "id": "dfa50aee",
   "metadata": {},
   "outputs": [
    {
     "name": "stdout",
     "output_type": "stream",
     "text": [
      "mse: 6.640, rmse: 2.577\n"
     ]
    }
   ],
   "source": [
    "# 실제 오차, 표준 편차\n",
    "print(\"mse: {0:.3f}, rmse: {1:.3f}\".format(mse_val, np.sqrt(mse_val)))\n",
    "# 실세계의 오차는 존재할 수 밖에 없음!!!"
   ]
  },
  {
   "cell_type": "code",
   "execution_count": 77,
   "id": "37f64f35",
   "metadata": {},
   "outputs": [
    {
     "ename": "SyntaxError",
     "evalue": "invalid syntax (1393449439.py, line 1)",
     "output_type": "error",
     "traceback": [
      "\u001b[1;36m  File \u001b[1;32m\"C:\\Users\\youngho\\AppData\\Local\\Temp\\ipykernel_14100\\1393449439.py\"\u001b[1;36m, line \u001b[1;32m1\u001b[0m\n\u001b[1;33m    y = aX + b에서 데이터를 읽고 오차가 가장 작은 a, b를 찾는 과정을\u001b[0m\n\u001b[1;37m                    ^\u001b[0m\n\u001b[1;31mSyntaxError\u001b[0m\u001b[1;31m:\u001b[0m invalid syntax\n"
     ]
    }
   ],
   "source": [
    "y = aX + b에서 데이터를 읽고 오차가 가장 작은 a, b를 찾는 과정을\n",
    "머신러닝이라고함.\n",
    "데이터의 규칙(패턴)을 발견하고 최적의 a, b를 찾게됨.\n",
    "모델(a: 기울기, b: y 절편)이 발견되면 새로운 X를 대입하여\n",
    "y를 예측 할 수 있음. \n",
    "\n",
    "- 하나의 변수에 대한 것은 y = a1X1 + b 로 예측 가능\n",
    "- 2개이상의 변수 y = a1*X1 + a2*X2 + b 로 해결 가능\n",
    "- 3개이상의 변수 y = a1*X1 + a2*X2 + a3*X3 + b 로 해결 가능\n",
    "- 관계형 데이터베이스의 변수(컬럼)는 보통 10 ~ 20개 이상임으로 \n",
    "- 개발자가 직접 선형회귀 구현 어려움\n",
    "- 함수가 2차함수 이상이되면 더욱 어려워짐.\n",
    "- 요인 변수(데이터)가 2개이상의 조합으로 결과를 예측하는 경우 3차함수 그래프\n",
    "  y = A1*X1 + A2*X2 + b 로 해결 가능\n",
    "\n",
    "도시형/귀촌/귀농에 성공한 사람들의 패턴을 파악하여 고객 진단\n",
    "- 시골에 가족(친척)이 있는지 여부\n",
    "- 시골에서 생활한 경험\n",
    "- 자택 소유\n",
    "- 토지\n",
    "- 1년의 여행 횟수\n",
    "- 음주 횟수\n",
    "- 운전면허 여부\n",
    "- 차량 소유 여부\n",
    "- 성격"
   ]
  },
  {
   "cell_type": "code",
   "execution_count": null,
   "id": "d8d12555",
   "metadata": {},
   "outputs": [],
   "source": []
  }
 ],
 "metadata": {
  "kernelspec": {
   "display_name": "ai",
   "language": "python",
   "name": "ai"
  },
  "language_info": {
   "codemirror_mode": {
    "name": "ipython",
    "version": 3
   },
   "file_extension": ".py",
   "mimetype": "text/x-python",
   "name": "python",
   "nbconvert_exporter": "python",
   "pygments_lexer": "ipython3",
   "version": "3.7.11"
  }
 },
 "nbformat": 4,
 "nbformat_minor": 5
}
