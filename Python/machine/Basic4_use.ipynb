{
 "cells": [
  {
   "cell_type": "markdown",
   "metadata": {},
   "source": [
    "### 학습된 모델의 사용"
   ]
  },
  {
   "cell_type": "code",
   "execution_count": 9,
   "metadata": {},
   "outputs": [],
   "source": [
    "import numpy as np\n",
    "from tensorflow.keras.models import load_model  # model 사용"
   ]
  },
  {
   "cell_type": "code",
   "execution_count": 10,
   "metadata": {},
   "outputs": [],
   "source": [
    "model = load_model('./Basic4.h5') # 모델 메모리 상주"
   ]
  },
  {
   "cell_type": "code",
   "execution_count": 11,
   "metadata": {},
   "outputs": [
    {
     "name": "stdout",
     "output_type": "stream",
     "text": [
      "(3, 2)\n",
      "[[37.26575  40.049862]\n",
      " [42.265743 45.04987 ]\n",
      " [43.26574  46.049866]]\n"
     ]
    }
   ],
   "source": [
    "x = np.array([[30, 40], [35, 45], [36, 46]])\n",
    "p=model.predict(x)\n",
    "print(p.shape)\n",
    "print(p)"
   ]
  },
  {
   "cell_type": "code",
   "execution_count": 12,
   "metadata": {},
   "outputs": [
    {
     "name": "stdout",
     "output_type": "stream",
     "text": [
      "x: [30 40], 실제값: [32 45], 예측값: 37.26575 40.04986, 정제된값: 37 40\n",
      "x: [35 45], 실제값: [37 50], 예측값: 42.26574 45.04987, 정제된값: 42 45\n",
      "x: [36 46], 실제값: [38 51], 예측값: 43.26574 46.04987, 정제된값: 43 46\n"
     ]
    }
   ],
   "source": [
    "y = np.array([[32, 45],[37, 50], [38, 51]]) # target\n",
    "\n",
    "for i in range(len(x)):\n",
    "    # print('실제값: {0}, 예측값: {1}'.format(y[i], pd[i][0]))\n",
    "    fmt = 'x: {0}, 실제값: {1}, 예측값: {2:.5f} {3:.5f}, 정제된값: {4:.0f} {5:.0f}'\n",
    "    print(fmt.format(x[i], y[i], p[i][0], p[i][1], p[i][0], p[i][1]))"
   ]
  },
  {
   "cell_type": "code",
   "execution_count": null,
   "metadata": {},
   "outputs": [],
   "source": []
  },
  {
   "cell_type": "code",
   "execution_count": null,
   "metadata": {},
   "outputs": [],
   "source": []
  }
 ],
 "metadata": {
  "kernelspec": {
   "display_name": "ai",
   "language": "python",
   "name": "ai"
  },
  "language_info": {
   "codemirror_mode": {
    "name": "ipython",
    "version": 3
   },
   "file_extension": ".py",
   "mimetype": "text/x-python",
   "name": "python",
   "nbconvert_exporter": "python",
   "pygments_lexer": "ipython3",
   "version": "3.7.11"
  }
 },
 "nbformat": 4,
 "nbformat_minor": 4
}
