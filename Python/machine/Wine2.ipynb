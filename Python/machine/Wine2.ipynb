{
 "cells": [
  {
   "cell_type": "markdown",
   "metadata": {},
   "source": [
    "### ModelCheckpoint, Confusion Matrix, ROC curve"
   ]
  },
  {
   "cell_type": "code",
   "execution_count": 1,
   "metadata": {},
   "outputs": [
    {
     "data": {
      "application/javascript": [
       "IPython.notebook.set_autosave_interval(0)"
      ]
     },
     "metadata": {},
     "output_type": "display_data"
    },
    {
     "name": "stdout",
     "output_type": "stream",
     "text": [
      "Autosave disabled\n"
     ]
    }
   ],
   "source": [
    "%autosave 0\n",
    "import os\n",
    "import time\n",
    "\n",
    "import numpy as np\n",
    "import seaborn as sb\n",
    "\n",
    "import tensorflow\n",
    "import tensorflow as tf\n",
    "\n",
    "# tensorflow 2.0\n",
    "from tensorflow.keras.models import Sequential  # class\n",
    "from tensorflow.keras.models import load_model  # model 사용 함수\n",
    "from tensorflow.keras.layers import Dense       # 전결합층\n",
    "from tensorflow.keras.callbacks import EarlyStopping # 학습 자동 중지\n",
    "from tensorflow.keras.callbacks import ModelCheckpoint # 모델 저장\n",
    "from tensorflow.keras.optimizers import Adam    # 가중치, bias 최적화\n",
    "from tensorflow.keras.utils import plot_model   # 네트워크 입출력 시각화\n",
    "\n",
    "from sklearn.model_selection import train_test_split # 훈련/검증 데이터 분할\n",
    "from sklearn.metrics import confusion_matrix  # 혼돈행렬, 이항분류 시각화\n",
    "from sklearn.metrics import roc_curve         # 분류 품질 시각화 \n",
    "\n",
    "import matplotlib.pyplot as plt\n",
    "import matplotlib\n",
    "from matplotlib import rc\n",
    "rc('font', family='Malgun Gothic')\n"
   ]
  },
  {
   "cell_type": "code",
   "execution_count": 2,
   "metadata": {},
   "outputs": [
    {
     "name": "stdout",
     "output_type": "stream",
     "text": [
      "<class 'numpy.ndarray'>\n",
      "(6497, 13)\n"
     ]
    }
   ],
   "source": [
    "data = np.loadtxt('./wine.csv', delimiter=\",\", dtype=np.float64)\n",
    "print(type(data))\n",
    "print(data.shape)  # 6497행 13열"
   ]
  },
  {
   "cell_type": "code",
   "execution_count": 3,
   "metadata": {},
   "outputs": [
    {
     "name": "stdout",
     "output_type": "stream",
     "text": [
      "(6497, 12)\n",
      "(6497,)\n"
     ]
    }
   ],
   "source": [
    "X = data[:, 0:12]  # 0 ~ 11, 12개의 데이터 변수 추출\n",
    "print(X.shape)     # 2차원 배열\n",
    "Y = data[:, 12]    # 13번째 변수, class, 정답\n",
    "print(Y.shape)     # 1차원 배열"
   ]
  },
  {
   "cell_type": "code",
   "execution_count": 4,
   "metadata": {},
   "outputs": [
    {
     "name": "stdout",
     "output_type": "stream",
     "text": [
      "(4937, 12)\n",
      "(4937,)\n",
      "[0. 1. 1. 0. 0. 1. 0. 0. 0. 0. 1. 1. 0. 0. 0. 1. 1. 1. 0. 1. 0. 0. 0. 1.\n",
      " 0. 0. 0. 1. 0. 0. 0. 0. 0. 0. 0. 0. 0. 0. 0. 1. 1. 0. 0. 0. 1. 0. 0. 0.\n",
      " 0. 0. 1. 0. 0. 0. 0. 0. 0. 0. 0. 0. 0. 1. 0. 0. 1. 0. 0. 1. 0. 1. 1. 1.\n",
      " 0. 0. 0. 0. 0. 0. 0. 0. 0. 0. 0. 1. 0. 1. 0. 0. 0. 0. 0. 0. 0. 0. 1. 0.\n",
      " 0. 0. 0. 0.]\n"
     ]
    }
   ],
   "source": [
    "# train_test_split 분할을 통한 훈련, 검증, 테스트 데이터의 분리\n",
    "# 데이터를 3그룹으로 분할: test 5% -> 95%(train 80%, validation 20%)\n",
    "seed = 0\n",
    "# stratify=Y: 0과 1의 분류 비율을 동일하게 데이터를 분할해줌.\n",
    "# 95%: 분할대기(x_train_all), 5%: 테스트(x_test)\n",
    "# x_train_all: 훈련 데이터 95% 분할 대기\n",
    "# x_test: 테스트 데이터 5% 분할\n",
    "# y_train_all: 훈련 target(class) 95% 분할 대기\n",
    "# y_test: 테스트 target(class) 5% 분할\n",
    "x_train_all, x_test, y_train_all, y_test = train_test_split(X, Y,\n",
    "                                                  stratify=Y,\n",
    "                                                  test_size=0.05,\n",
    "                                                  random_state=seed)\n",
    "# 나머지 데이터 95%를 분할, 80%: 훈련(x_train), 20%: 검증(x_val)\n",
    "# x_train: 훈련 데이터 80% 분할\n",
    "# x_val: 검증 데이터 20% 분할\n",
    "# y_train: 훈련 target(class) 80% 분할\n",
    "# y_val: 검증 target(class) 20% 분할\n",
    "x_train, x_val, y_train, y_val = train_test_split(x_train_all, y_train_all,\n",
    "                                                  stratify=y_train_all,\n",
    "                                                  test_size=0.2,\n",
    "                                                  random_state=seed)\n",
    "print(x_train.shape)\n",
    "print(y_train.shape)\n",
    "print(y_train[0:100]) # 검증 Target 100건만 출력\n"
   ]
  },
  {
   "cell_type": "code",
   "execution_count": 5,
   "metadata": {},
   "outputs": [
    {
     "name": "stdout",
     "output_type": "stream",
     "text": [
      "Model: \"sequential\"\n",
      "_________________________________________________________________\n",
      "Layer (type)                 Output Shape              Param #   \n",
      "=================================================================\n",
      "dense (Dense)                (None, 60)                780       \n",
      "_________________________________________________________________\n",
      "dense_1 (Dense)              (None, 30)                1830      \n",
      "_________________________________________________________________\n",
      "dense_2 (Dense)              (None, 10)                310       \n",
      "_________________________________________________________________\n",
      "dense_3 (Dense)              (None, 1)                 11        \n",
      "=================================================================\n",
      "Total params: 2,931\n",
      "Trainable params: 2,931\n",
      "Non-trainable params: 0\n",
      "_________________________________________________________________\n",
      "Epoch 1/1000\n",
      "494/494 [==============================] - 3s 4ms/step - loss: 0.3164 - accuracy: 0.8916 - val_loss: 0.1976 - val_accuracy: 0.9231\n",
      "\n",
      "Epoch 00001: val_accuracy improved from -inf to 0.92308, saving model to ./model\\001-0.9231.h5\n",
      "Epoch 2/1000\n",
      "494/494 [==============================] - 1s 2ms/step - loss: 0.1793 - accuracy: 0.9333 - val_loss: 0.1621 - val_accuracy: 0.9466\n",
      "\n",
      "Epoch 00002: val_accuracy improved from 0.92308 to 0.94656, saving model to ./model\\002-0.9466.h5\n",
      "Epoch 3/1000\n",
      "494/494 [==============================] - 1s 2ms/step - loss: 0.1474 - accuracy: 0.9488 - val_loss: 0.1458 - val_accuracy: 0.9474\n",
      "\n",
      "Epoch 00003: val_accuracy improved from 0.94656 to 0.94737, saving model to ./model\\003-0.9474.h5\n",
      "Epoch 4/1000\n",
      "494/494 [==============================] - 1s 2ms/step - loss: 0.1320 - accuracy: 0.9560 - val_loss: 0.1387 - val_accuracy: 0.9490\n",
      "\n",
      "Epoch 00004: val_accuracy improved from 0.94737 to 0.94899, saving model to ./model\\004-0.9490.h5\n",
      "Epoch 5/1000\n",
      "494/494 [==============================] - 1s 2ms/step - loss: 0.1142 - accuracy: 0.9613 - val_loss: 0.1170 - val_accuracy: 0.9595\n",
      "\n",
      "Epoch 00005: val_accuracy improved from 0.94899 to 0.95951, saving model to ./model\\005-0.9595.h5\n",
      "Epoch 6/1000\n",
      "494/494 [==============================] - 1s 2ms/step - loss: 0.1067 - accuracy: 0.9608 - val_loss: 0.1072 - val_accuracy: 0.9644\n",
      "\n",
      "Epoch 00006: val_accuracy improved from 0.95951 to 0.96437, saving model to ./model\\006-0.9644.h5\n",
      "Epoch 7/1000\n",
      "494/494 [==============================] - 1s 3ms/step - loss: 0.1084 - accuracy: 0.9666 - val_loss: 0.1035 - val_accuracy: 0.9725\n",
      "\n",
      "Epoch 00007: val_accuracy improved from 0.96437 to 0.97247, saving model to ./model\\007-0.9725.h5\n",
      "Epoch 8/1000\n",
      "494/494 [==============================] - 1s 2ms/step - loss: 0.0708 - accuracy: 0.9746 - val_loss: 0.0935 - val_accuracy: 0.9757\n",
      "\n",
      "Epoch 00008: val_accuracy improved from 0.97247 to 0.97571, saving model to ./model\\008-0.9757.h5\n",
      "Epoch 9/1000\n",
      "494/494 [==============================] - 1s 2ms/step - loss: 0.0773 - accuracy: 0.9744 - val_loss: 0.0965 - val_accuracy: 0.9709\n",
      "\n",
      "Epoch 00009: val_accuracy did not improve from 0.97571\n",
      "Epoch 10/1000\n",
      "494/494 [==============================] - 1s 2ms/step - loss: 0.0797 - accuracy: 0.9716 - val_loss: 0.0884 - val_accuracy: 0.9765\n",
      "\n",
      "Epoch 00010: val_accuracy improved from 0.97571 to 0.97652, saving model to ./model\\010-0.9765.h5\n",
      "Epoch 11/1000\n",
      "494/494 [==============================] - 1s 2ms/step - loss: 0.0687 - accuracy: 0.9779 - val_loss: 0.0893 - val_accuracy: 0.9798\n",
      "\n",
      "Epoch 00011: val_accuracy improved from 0.97652 to 0.97976, saving model to ./model\\011-0.9798.h5\n",
      "Epoch 12/1000\n",
      "494/494 [==============================] - 1s 2ms/step - loss: 0.0597 - accuracy: 0.9791 - val_loss: 0.0898 - val_accuracy: 0.9757\n",
      "\n",
      "Epoch 00012: val_accuracy did not improve from 0.97976\n",
      "Epoch 13/1000\n",
      "494/494 [==============================] - 1s 3ms/step - loss: 0.0701 - accuracy: 0.9770 - val_loss: 0.0798 - val_accuracy: 0.9773\n",
      "\n",
      "Epoch 00013: val_accuracy did not improve from 0.97976\n",
      "Epoch 14/1000\n",
      "494/494 [==============================] - 1s 3ms/step - loss: 0.0569 - accuracy: 0.9802 - val_loss: 0.1578 - val_accuracy: 0.9603\n",
      "\n",
      "Epoch 00014: val_accuracy did not improve from 0.97976\n",
      "Epoch 15/1000\n",
      "494/494 [==============================] - 1s 2ms/step - loss: 0.0752 - accuracy: 0.9751 - val_loss: 0.1211 - val_accuracy: 0.9660\n",
      "\n",
      "Epoch 00015: val_accuracy did not improve from 0.97976\n",
      "Epoch 16/1000\n",
      "494/494 [==============================] - 1s 2ms/step - loss: 0.0701 - accuracy: 0.9795 - val_loss: 0.0986 - val_accuracy: 0.9717\n",
      "\n",
      "Epoch 00016: val_accuracy did not improve from 0.97976\n",
      "Epoch 17/1000\n",
      "494/494 [==============================] - 1s 2ms/step - loss: 0.0586 - accuracy: 0.9809 - val_loss: 0.0738 - val_accuracy: 0.9781\n",
      "\n",
      "Epoch 00017: val_accuracy did not improve from 0.97976\n",
      "Epoch 18/1000\n",
      "494/494 [==============================] - 1s 2ms/step - loss: 0.0594 - accuracy: 0.9780 - val_loss: 0.0814 - val_accuracy: 0.9814\n",
      "\n",
      "Epoch 00018: val_accuracy improved from 0.97976 to 0.98138, saving model to ./model\\018-0.9814.h5\n",
      "Epoch 19/1000\n",
      "494/494 [==============================] - 1s 2ms/step - loss: 0.0671 - accuracy: 0.9756 - val_loss: 0.0757 - val_accuracy: 0.9789\n",
      "\n",
      "Epoch 00019: val_accuracy did not improve from 0.98138\n",
      "Epoch 20/1000\n",
      "494/494 [==============================] - 1s 2ms/step - loss: 0.0656 - accuracy: 0.9787 - val_loss: 0.0792 - val_accuracy: 0.9822\n",
      "\n",
      "Epoch 00020: val_accuracy improved from 0.98138 to 0.98219, saving model to ./model\\020-0.9822.h5\n",
      "Epoch 21/1000\n",
      "494/494 [==============================] - 1s 2ms/step - loss: 0.0656 - accuracy: 0.9778 - val_loss: 0.0827 - val_accuracy: 0.9789\n",
      "\n",
      "Epoch 00021: val_accuracy did not improve from 0.98219\n",
      "Epoch 22/1000\n",
      "494/494 [==============================] - 1s 2ms/step - loss: 0.0989 - accuracy: 0.9643 - val_loss: 0.0773 - val_accuracy: 0.9781\n",
      "\n",
      "Epoch 00022: val_accuracy did not improve from 0.98219\n"
     ]
    }
   ],
   "source": []
  },
  {
   "cell_type": "code",
   "execution_count": 6,
   "metadata": {},
   "outputs": [
    {
     "data": {
      "image/png": "[encoded data removed]",
      "text/plain": [
       "<Figure size 720x360 with 2 Axes>"
      ]
     },
     "metadata": {
      "needs_background": "light"
     },
     "output_type": "display_data"
    }
   ],
   "source": [
    "fig, loss_ax = plt.subplots()\n",
    "# plt.figure(figsize=(6,4)) # ERROR\n",
    "fig.set_size_inches(10, 5)  # 챠트 크기 설정\n",
    "\n",
    "acc_ax = loss_ax.twinx()   # 오른쪽 y 축 설정\n",
    "\n",
    "# 왼쪽 y 축 설정\n",
    "loss_ax.plot(hist.history['loss'], 'y', label='train loss')\n",
    "loss_ax.plot(hist.history['val_loss'], 'r', label='val loss')\n",
    "loss_ax.set_ylim([0.0, 0.3]) # 값을 반영하여 변경\n",
    "\n",
    "# 오른쪽 y 축 설정\n",
    "acc_ax.plot(hist.history['accuracy'], 'b', label='train accuracy')\n",
    "acc_ax.plot(hist.history['val_accuracy'], 'g', label='val accuracy')\n",
    "acc_ax.set_ylim([0.0, 1]) # 0.0, 1: 0 ~ 100 %, 정확도임으로 변경하지 않음\n",
    "\n",
    "# 축 레이블 설정\n",
    "loss_ax.set_xlabel('epoch')  # 학습 횟수\n",
    "loss_ax.set_ylabel('loss')   # 오차\n",
    "acc_ax.set_ylabel('accuracy') # 정확도\n",
    "\n",
    "loss_ax.legend(loc='upper left') # 오차 레이블 위치\n",
    "acc_ax.legend(loc='lower left')  # 정확도 레이블 위치\n",
    "\n",
    "plt.show()"
   ]
  },
  {
   "cell_type": "code",
   "execution_count": 7,
   "metadata": {},
   "outputs": [
    {
     "data": {
      "image/png": "[encoded data removed]",
      "text/plain": [
       "<IPython.core.display.Image object>"
      ]
     },
     "execution_count": 7,
     "metadata": {},
     "output_type": "execute_result"
    }
   ],
   "source": [
    "plot_model(model, to_file='./Wine2.png', show_shapes=True, show_layer_names=True)"
   ]
  },
  {
   "cell_type": "code",
   "execution_count": 8,
   "metadata": {},
   "outputs": [
    {
     "name": "stdout",
     "output_type": "stream",
     "text": [
      "손실값: 0.05586277320981026 /정확도: 99.07692074775696 %\n"
     ]
    }
   ],
   "source": [
    "# verbose=0: 처리과정의 메시지 생략\n",
    "test_loss, test_acc = model.evaluate(x_test, y_test, batch_size=1, verbose=0)\n",
    "print('손실값:', test_loss, '/정확도:', (test_acc*100), '%')"
   ]
  },
  {
   "cell_type": "code",
   "execution_count": 13,
   "metadata": {},
   "outputs": [],
   "source": [
    "# model.save('./Wine2.h5')"
   ]
  },
  {
   "cell_type": "code",
   "execution_count": 9,
   "metadata": {},
   "outputs": [],
   "source": [
    "# model = load_model('./Wine2.h5')\n",
    "model = load_model('./model/020-0.9822.h5') # ModelCheckPoint에서 저장됨"
   ]
  },
  {
   "cell_type": "code",
   "execution_count": 12,
   "metadata": {},
   "outputs": [
    {
     "name": "stdout",
     "output_type": "stream",
     "text": [
      "(100, 1)\n"
     ]
    }
   ],
   "source": [
    "p = model.predict(x_test[0:100])\n",
    "print(p.shape)"
   ]
  },
  {
   "cell_type": "code",
   "execution_count": 13,
   "metadata": {},
   "outputs": [
    {
     "name": "stdout",
     "output_type": "stream",
     "text": [
      "실제값: 0.0, 예측값: [1.888575e-05]--> White 와인\n",
      "실제값: 0.0, 예측값: [5.478766e-06]--> White 와인\n",
      "실제값: 1.0, 예측값: [0.99957085]--> Red 와인\n",
      "실제값: 0.0, 예측값: [0.00290284]--> White 와인\n",
      "실제값: 1.0, 예측값: [0.99995995]--> Red 와인\n",
      "실제값: 1.0, 예측값: [0.9999691]--> Red 와인\n",
      "실제값: 0.0, 예측값: [0.00374481]--> White 와인\n",
      "실제값: 0.0, 예측값: [0.00061822]--> White 와인\n",
      "실제값: 0.0, 예측값: [0.46345642]--> White 와인\n",
      "실제값: 0.0, 예측값: [0.00487053]--> White 와인\n",
      "실제값: 1.0, 예측값: [0.99605954]--> Red 와인\n",
      "실제값: 0.0, 예측값: [0.00366083]--> White 와인\n",
      "실제값: 0.0, 예측값: [0.00099826]--> White 와인\n",
      "실제값: 1.0, 예측값: [0.9999002]--> Red 와인\n",
      "실제값: 0.0, 예측값: [0.00041959]--> White 와인\n",
      "실제값: 0.0, 예측값: [0.00389141]--> White 와인\n",
      "실제값: 0.0, 예측값: [0.00198281]--> White 와인\n",
      "실제값: 1.0, 예측값: [0.98457706]--> Red 와인\n",
      "실제값: 0.0, 예측값: [0.00057346]--> White 와인\n",
      "실제값: 1.0, 예측값: [0.99999607]--> Red 와인\n",
      "실제값: 0.0, 예측값: [0.00133845]--> White 와인\n",
      "실제값: 0.0, 예측값: [0.000496]--> White 와인\n",
      "실제값: 0.0, 예측값: [0.00170261]--> White 와인\n",
      "실제값: 0.0, 예측값: [0.00062081]--> White 와인\n",
      "실제값: 1.0, 예측값: [0.99852645]--> Red 와인\n",
      "실제값: 0.0, 예측값: [0.00018948]--> White 와인\n",
      "실제값: 0.0, 예측값: [0.00013596]--> White 와인\n",
      "실제값: 1.0, 예측값: [1.]--> Red 와인\n",
      "실제값: 0.0, 예측값: [0.00339663]--> White 와인\n",
      "실제값: 0.0, 예측값: [7.282311e-05]--> White 와인\n",
      "실제값: 0.0, 예측값: [0.00767475]--> White 와인\n",
      "실제값: 0.0, 예측값: [0.00041372]--> White 와인\n",
      "실제값: 0.0, 예측값: [0.00488734]--> White 와인\n",
      "실제값: 0.0, 예측값: [0.4871569]--> White 와인\n",
      "실제값: 0.0, 예측값: [0.0002704]--> White 와인\n",
      "실제값: 0.0, 예측값: [0.03769496]--> White 와인\n",
      "실제값: 0.0, 예측값: [0.0048371]--> White 와인\n",
      "실제값: 0.0, 예측값: [0.0005008]--> White 와인\n",
      "실제값: 1.0, 예측값: [0.99999356]--> Red 와인\n",
      "실제값: 0.0, 예측값: [0.0016163]--> White 와인\n",
      "실제값: 0.0, 예측값: [0.00071567]--> White 와인\n",
      "실제값: 1.0, 예측값: [0.9999177]--> Red 와인\n",
      "실제값: 1.0, 예측값: [0.9999987]--> Red 와인\n",
      "실제값: 0.0, 예측값: [0.0086405]--> White 와인\n",
      "실제값: 1.0, 예측값: [0.9999722]--> Red 와인\n",
      "실제값: 0.0, 예측값: [0.0083361]--> White 와인\n",
      "실제값: 0.0, 예측값: [0.00331166]--> White 와인\n",
      "실제값: 0.0, 예측값: [0.00501862]--> White 와인\n",
      "실제값: 0.0, 예측값: [0.00057042]--> White 와인\n",
      "실제값: 1.0, 예측값: [0.970575]--> Red 와인\n",
      "실제값: 1.0, 예측값: [0.99735034]--> Red 와인\n",
      "실제값: 1.0, 예측값: [0.9999974]--> Red 와인\n",
      "실제값: 0.0, 예측값: [0.00424403]--> White 와인\n",
      "실제값: 0.0, 예측값: [0.08861792]--> White 와인\n",
      "실제값: 0.0, 예측값: [0.0398621]--> White 와인\n",
      "실제값: 0.0, 예측값: [0.00097242]--> White 와인\n",
      "실제값: 1.0, 예측값: [0.9999202]--> Red 와인\n",
      "실제값: 0.0, 예측값: [0.00457263]--> White 와인\n",
      "실제값: 0.0, 예측값: [0.00092775]--> White 와인\n",
      "실제값: 1.0, 예측값: [0.9984766]--> Red 와인\n",
      "실제값: 0.0, 예측값: [0.00154671]--> White 와인\n",
      "실제값: 0.0, 예측값: [0.0002698]--> White 와인\n",
      "실제값: 0.0, 예측값: [0.00245517]--> White 와인\n",
      "실제값: 0.0, 예측값: [0.00730234]--> White 와인\n",
      "실제값: 0.0, 예측값: [0.01688787]--> White 와인\n",
      "실제값: 1.0, 예측값: [1.]--> Red 와인\n",
      "실제값: 0.0, 예측값: [0.00208887]--> White 와인\n",
      "실제값: 0.0, 예측값: [0.00167453]--> White 와인\n",
      "실제값: 1.0, 예측값: [0.9999826]--> Red 와인\n",
      "실제값: 0.0, 예측값: [0.00152284]--> White 와인\n",
      "실제값: 0.0, 예측값: [0.00017896]--> White 와인\n",
      "실제값: 0.0, 예측값: [0.03028521]--> White 와인\n",
      "실제값: 0.0, 예측값: [0.00397611]--> White 와인\n",
      "실제값: 0.0, 예측값: [0.0016163]--> White 와인\n",
      "실제값: 0.0, 예측값: [7.220521e-05]--> White 와인\n",
      "실제값: 0.0, 예측값: [0.00186229]--> White 와인\n",
      "실제값: 0.0, 예측값: [0.00057107]--> White 와인\n",
      "실제값: 0.0, 예측값: [0.00026691]--> White 와인\n",
      "실제값: 0.0, 예측값: [0.00071689]--> White 와인\n",
      "실제값: 1.0, 예측값: [0.99934745]--> Red 와인\n",
      "실제값: 0.0, 예측값: [0.00407526]--> White 와인\n",
      "실제값: 0.0, 예측값: [0.0029124]--> White 와인\n",
      "실제값: 0.0, 예측값: [0.02062288]--> White 와인\n",
      "실제값: 0.0, 예측값: [0.00185075]--> White 와인\n",
      "실제값: 0.0, 예측값: [0.00040394]--> White 와인\n",
      "실제값: 0.0, 예측값: [0.0052475]--> White 와인\n",
      "실제값: 0.0, 예측값: [0.00119108]--> White 와인\n",
      "실제값: 0.0, 예측값: [0.00074893]--> White 와인\n",
      "실제값: 0.0, 예측값: [0.0024364]--> White 와인\n",
      "실제값: 0.0, 예측값: [8.7805e-05]--> White 와인\n",
      "실제값: 0.0, 예측값: [0.00115871]--> White 와인\n",
      "실제값: 0.0, 예측값: [0.00056088]--> White 와인\n",
      "실제값: 0.0, 예측값: [0.00021672]--> White 와인\n",
      "실제값: 0.0, 예측값: [0.00415757]--> White 와인\n",
      "실제값: 1.0, 예측값: [0.00898731]--> White 와인\n",
      "실제값: 0.0, 예측값: [0.0012435]--> White 와인\n",
      "실제값: 0.0, 예측값: [0.00059396]--> White 와인\n",
      "실제값: 0.0, 예측값: [0.01078451]--> White 와인\n",
      "실제값: 0.0, 예측값: [0.00185028]--> White 와인\n",
      "실제값: 0.0, 예측값: [0.00022605]--> White 와인\n"
     ]
    }
   ],
   "source": [
    "for i in range(len(x_test[0:100])):\n",
    "    fmt = '실제값: {0}, 예측값: {1}'\n",
    "    print(fmt.format(y_test[i], p[i]), end='')\n",
    "    \n",
    "    # 임계값의 지정, 정확도를 참고하여 판단, 60%이상 합격: 0.6\n",
    "    if (p[i] >= 0.5): \n",
    "        print('--> Red 와인')   # 1\n",
    "    else:\n",
    "        print('--> White 와인') # 0"
   ]
  },
  {
   "cell_type": "code",
   "execution_count": 14,
   "metadata": {},
   "outputs": [
    {
     "name": "stdout",
     "output_type": "stream",
     "text": [
      "Red wine: 80\n",
      "White wine: 245\n"
     ]
    }
   ],
   "source": [
    "red = 0\n",
    "white = 0\n",
    "for i in range(len(y_test)):\n",
    "    if y_test[i] == 1:  # red wine 인지 검사\n",
    "        red = red + 1\n",
    "    else:\n",
    "        white = white + 1\n",
    "\n",
    "print('Red wine:', red)\n",
    "print('White wine:', white)"
   ]
  },
  {
   "cell_type": "code",
   "execution_count": 15,
   "metadata": {
    "scrolled": true
   },
   "outputs": [
    {
     "name": "stdout",
     "output_type": "stream",
     "text": [
      "(325, 12)\n",
      "<class 'numpy.ndarray'>\n",
      "[[245   0]\n",
      " [  2  78]]\n"
     ]
    },
    {
     "name": "stderr",
     "output_type": "stream",
     "text": [
      "C:\\ProgramData\\Anaconda3\\envs\\machine\\lib\\site-packages\\tensorflow\\python\\keras\\engine\\sequential.py:450: UserWarning: `model.predict_classes()` is deprecated and will be removed after 2021-01-01. Please use instead:* `np.argmax(model.predict(x), axis=-1)`,   if your model does multi-class classification   (e.g. if it uses a `softmax` last-layer activation).* `(model.predict(x) > 0.5).astype(\"int32\")`,   if your model does binary classification   (e.g. if it uses a `sigmoid` last-layer activation).\n",
      "  warnings.warn('`model.predict_classes()` is deprecated and '\n"
     ]
    }
   ],
   "source": [
    "# 결과 - 혼돈 행렬, # class 0우선으로 즉 오름차순으로 표가 생성\n",
    "print(x_test.shape)\n",
    "y_test_pred = model.predict_classes(x_test)  # 모델 테스트\n",
    "c_matrix = confusion_matrix(y_test, y_test_pred) # 실제값, 예측값\n",
    "print(type(c_matrix))\n",
    "print(c_matrix)\n",
    "# [[white wine 맞춘 갯수   white wine 틀린 갯수]\n",
    "#  [red wine 틀린 갯수     red wine 맞춘 갯수]]"
   ]
  },
  {
   "cell_type": "code",
   "execution_count": 16,
   "metadata": {},
   "outputs": [
    {
     "data": {
      "image/png": "[encoded data removed]",
      "text/plain": [
       "<Figure size 432x288 with 1 Axes>"
      ]
     },
     "metadata": {
      "needs_background": "light"
     },
     "output_type": "display_data"
    },
    {
     "data": {
      "text/plain": [
       "<Figure size 432x288 with 0 Axes>"
      ]
     },
     "metadata": {},
     "output_type": "display_data"
    }
   ],
   "source": [
    "ax = sb.heatmap(c_matrix, annot=True, \n",
    "                 xticklabels=['White', 'Red'], \n",
    "                 yticklabels=['White', 'Red'], cbar=False, cmap='Blues')\n",
    "ax.set_xlabel(\"Prediction\")\n",
    "ax.set_ylabel(\"Actual\")\n",
    "plt.show()\n",
    "plt.clf()\n",
    "# [[white wine 맞춘 갯수   white wine 틀린 갯수]\n",
    "#  [red wine 틀린 갯수     red wine 맞춘 갯수]]"
   ]
  },
  {
   "cell_type": "code",
   "execution_count": 17,
   "metadata": {},
   "outputs": [
    {
     "data": {
      "image/png": "[encoded data removed]",
      "text/plain": [
       "<Figure size 432x288 with 1 Axes>"
      ]
     },
     "metadata": {
      "needs_background": "light"
     },
     "output_type": "display_data"
    },
    {
     "data": {
      "text/plain": [
       "<Figure size 432x288 with 0 Axes>"
      ]
     },
     "metadata": {},
     "output_type": "display_data"
    }
   ],
   "source": [
    "# 결과 - ROC 곡선\n",
    "y_test_pred_probs = model.predict(x_test)\n",
    "# print(y_test_pred_probs)\n",
    "FPR, TPR, _ = roc_curve(y_test, y_test_pred_probs)\n",
    "plt.plot(FPR, TPR)\n",
    "plt.plot([0,1],[0,1],'--', color='black') #diagonal line\n",
    "plt.title('ROC Curve')\n",
    "plt.xlabel('False Positive Rate')\n",
    "plt.ylabel('True Positive Rate')\n",
    "plt.show()\n",
    "plt.clf()"
   ]
  },
  {
   "cell_type": "code",
   "execution_count": null,
   "metadata": {},
   "outputs": [],
   "source": []
  },
  {
   "cell_type": "code",
   "execution_count": null,
   "metadata": {},
   "outputs": [],
   "source": []
  }
 ],
 "metadata": {
  "kernelspec": {
   "display_name": "machine",
   "language": "python",
   "name": "machine"
  },
  "language_info": {
   "codemirror_mode": {
    "name": "ipython",
    "version": 3
   },
   "file_extension": ".py",
   "mimetype": "text/x-python",
   "name": "python",
   "nbconvert_exporter": "python",
   "pygments_lexer": "ipython3",
   "version": "3.6.12"
  }
 },
 "nbformat": 4,
 "nbformat_minor": 4
}
