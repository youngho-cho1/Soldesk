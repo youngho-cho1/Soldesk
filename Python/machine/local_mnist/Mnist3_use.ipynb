{
 "cells": [
  {
   "cell_type": "code",
   "execution_count": 1,
   "metadata": {
    "executionInfo": {
     "elapsed": 691,
     "status": "ok",
     "timestamp": 1614496997074,
     "user": {
      "displayName": "강사엄기흥",
      "photoUrl": "",
      "userId": "12410353940363031053"
     },
     "user_tz": -540
    },
    "id": "QKQrHgdlhB-a"
   },
   "outputs": [],
   "source": [
    "# !pip install opencv-python"
   ]
  },
  {
   "cell_type": "code",
   "execution_count": 17,
   "metadata": {
    "executionInfo": {
     "elapsed": 482,
     "status": "ok",
     "timestamp": 1614498319670,
     "user": {
      "displayName": "강사엄기흥",
      "photoUrl": "",
      "userId": "12410353940363031053"
     },
     "user_tz": -540
    },
    "id": "g4oxeXvBhcXn"
   },
   "outputs": [],
   "source": [
    "# path = '/content/drive/My Drive/kd1_ml/cnn/cnn_mnist' # Colab\n",
    "path = '.' # Local"
   ]
  },
  {
   "cell_type": "code",
   "execution_count": 18,
   "metadata": {
    "executionInfo": {
     "elapsed": 2912,
     "status": "ok",
     "timestamp": 1614498390322,
     "user": {
      "displayName": "강사엄기흥",
      "photoUrl": "",
      "userId": "12410353940363031053"
     },
     "user_tz": -540
    },
    "id": "1DAk_ttPmUrB"
   },
   "outputs": [],
   "source": [
    "# %autosave 0\n",
    "import warnings\n",
    "warnings.filterwarnings(action='ignore')\n",
    "\n",
    "import cv2\n",
    "import os\n",
    "import numpy as np\n",
    "from PIL import Image\n",
    "\n",
    "from tensorflow.keras.models import load_model  # model 사용\n",
    "\n",
    "import matplotlib.pyplot as plt\n",
    "from matplotlib import font_manager, rc\n",
    "\n",
    "plt.rcParams['axes.unicode_minus'] = False  # minus 부호는 unicode 적용시 한글이 깨짐으로 설정\n",
    "\n",
    "%matplotlib inline"
   ]
  },
  {
   "cell_type": "code",
   "execution_count": 19,
   "metadata": {
    "colab": {
     "base_uri": "https://localhost:8080/",
     "height": 248
    },
    "executionInfo": {
     "elapsed": 1213,
     "status": "ok",
     "timestamp": 1614498487386,
     "user": {
      "displayName": "강사엄기흥",
      "photoUrl": "",
      "userId": "12410353940363031053"
     },
     "user_tz": -540
    },
    "id": "GzFXIXE4mlWF",
    "outputId": "e9ecf0d6-7b79-4a3f-e685-151f9a40f048"
   },
   "outputs": [
    {
     "data": {
      "image/png": "[encoded data removed]",
      "text/plain": [
       "<Figure size 432x288 with 1 Axes>"
      ]
     },
     "metadata": {
      "needs_background": "light"
     },
     "output_type": "display_data"
    }
   ],
   "source": [
    "# 테스트 이미지 2.jpg 읽기\n",
    "image = cv2.imread(path + '/1.jpg', cv2.IMREAD_GRAYSCALE)\n",
    "plt.imshow(image, cmap=\"gray\")  # 이미지 출력\n",
    "plt.axis(\"off\") # 축을 출력하지 말것\n",
    "plt.show()      # 이미지 출력"
   ]
  },
  {
   "cell_type": "code",
   "execution_count": 20,
   "metadata": {
    "executionInfo": {
     "elapsed": 521,
     "status": "ok",
     "timestamp": 1614498565431,
     "user": {
      "displayName": "강사엄기흥",
      "photoUrl": "",
      "userId": "12410353940363031053"
     },
     "user_tz": -540
    },
    "id": "iw9C7D9Cm9dK"
   },
   "outputs": [],
   "source": [
    "x_test = []\n",
    "x_test.append(image)\n",
    "\n",
    "y_test = 1  # Target 1을 예측하는 경우"
   ]
  },
  {
   "cell_type": "code",
   "execution_count": 21,
   "metadata": {
    "colab": {
     "base_uri": "https://localhost:8080/"
    },
    "executionInfo": {
     "elapsed": 517,
     "status": "ok",
     "timestamp": 1614498616704,
     "user": {
      "displayName": "강사엄기흥",
      "photoUrl": "",
      "userId": "12410353940363031053"
     },
     "user_tz": -540
    },
    "id": "K1rZnZpcnQrU",
    "outputId": "a3d34bb6-7ef0-455c-b1b3-675de40cb31c"
   },
   "outputs": [
    {
     "name": "stdout",
     "output_type": "stream",
     "text": [
      "입력 이미지 데이터 shape:  (1, 28, 28)\n"
     ]
    }
   ],
   "source": [
    "x_test_array = np.array(x_test)\n",
    "# 3차원 배열, 1면 28행 28열\n",
    "print('입력 이미지 데이터 shape: ', x_test_array.shape)"
   ]
  },
  {
   "cell_type": "code",
   "execution_count": 22,
   "metadata": {
    "colab": {
     "base_uri": "https://localhost:8080/"
    },
    "executionInfo": {
     "elapsed": 558,
     "status": "ok",
     "timestamp": 1614498734400,
     "user": {
      "displayName": "강사엄기흥",
      "photoUrl": "",
      "userId": "12410353940363031053"
     },
     "user_tz": -540
    },
    "id": "TJsHgc-FndMs",
    "outputId": "630596cb-ea6f-4fc1-80c3-1f1f4c2c6417"
   },
   "outputs": [
    {
     "name": "stdout",
     "output_type": "stream",
     "text": [
      "이미지가 배열로 변환된 데이터(0: 검은색, 255: 흰색)\n",
      "[[[255 255 255 255 255 255 255 255 254 255 255 255 255 255 255 255 255\n",
      "   255 255 255 255 255 255 255 255 255 255 255]\n",
      "  [255 255 255 255 255 255 255 255 255 255 255 255 255 255 255 255 255\n",
      "   255 255 255 255 255 255 255 255 255 255 255]\n",
      "  [255 255 255 255 255 255 255 255 255 255 255 255 255 255 255 255 255\n",
      "   255 255 255 255 255 255 255 255 255 255 255]\n",
      "  [255 255 255 255 255 255 255 255 255 255 255 255 255   0 255 255 255\n",
      "   255 255 255 255 255 255 255 255 255 255 255]\n",
      "  [255 255 255 255 255 255 255 255 255 254 255 255 255   0 255 255 255\n",
      "   255 255 255 255 255 255 255 255 255 255 255]\n",
      "  [255 255 255 255 255 255 255 255 255 255 255 255 255   0 255 255 255\n",
      "   255 255 255 255 255 255 255 255 255 255 255]\n",
      "  [255 255 255 255 255 255 255 255 255 255 255 255 255   0 255 255 255\n",
      "   255 255 255 255 255 255 255 255 255 255 255]\n",
      "  [255 255 255 255 255 255 255 255 255 255 255 255 255   0 255 255 255\n",
      "   255 255 255 255 255 255 255 255 255 255 255]\n",
      "  [255 255 255 255 255 255 255 255 255 255 255 255 255   0 255 254 255\n",
      "   255 255 255 255 255 255 255 255 255 255 255]\n",
      "  [255 255 255 255 255 255 255 255 255 255 255 255 255   1 255 255 255\n",
      "   255 255 255 255 255 255 255 255 255 255 255]\n",
      "  [255 255 255 255 255 255 255 255 255 255 255 255 255   0 255 255 255\n",
      "   255 255 255 255 255 255 255 255 255 255 255]\n",
      "  [255 255 255 255 255 255 255 255 255 255 254 255 255   0 255 255 255\n",
      "   255 255 255 255 255 255 255 255 255 255 255]\n",
      "  [255 255 255 255 255 255 255 255 255 255 255 255 254   0 255 255 255\n",
      "   255 255 255 255 255 255 255 255 255 255 255]\n",
      "  [255 255 255 255 255 255 255 255 255 255 255 255 255   0 255 255 255\n",
      "   255 255 255 255 255 255 255 255 255 255 255]\n",
      "  [255 255 255 255 255 255 255 255 255 255 254 255   0 255 255 255 255\n",
      "   255 255 255 255 255 255 255 255 255 255 255]\n",
      "  [255 255 255 255 255 255 255 255 255 254 255 255   0 255 255 255 255\n",
      "   255 255 255 255 255 255 255 255 255 255 255]\n",
      "  [255 255 255 255 255 255 255 255 255 255 255 255   0 255 255 255 255\n",
      "   255 255 255 255 255 255 255 255 255 255 255]\n",
      "  [255 255 255 255 255 255 255 255 255 255 255 255   0 255 255 255 255\n",
      "   255 255 255 255 255 255 255 255 255 255 255]\n",
      "  [255 255 255 255 255 255 255 255 255 255 255 255   0 255 255 255 255\n",
      "   255 255 255 255 255 255 255 255 255 255 255]\n",
      "  [255 255 255 255 255 255 255 255 255 255 255 255   0 255 255 255 255\n",
      "   255 255 255 255 255 255 255 255 255 255 255]\n",
      "  [255 255 255 255 255 255 255 255 255 255 255 255   0 255 255 255 255\n",
      "   255 255 255 255 255 255 255 255 255 255 255]\n",
      "  [255 255 255 255 255 255 255 255 254 255 255   0 255 255 255 255 255\n",
      "   255 255 255 255 255 255 255 255 255 255 255]\n",
      "  [255 255 255 255 255 255 255 255 255 255 255   0 255 255 255 255 255\n",
      "   255 255 255 255 255 255 255 255 255 255 255]\n",
      "  [255 255 255 255 255 255 255 255 255 255 255   0 255 255 255 255 255\n",
      "   255 255 255 255 255 255 255 255 255 255 255]\n",
      "  [255 255 255 255 255 255 255 255 255 255 255 255 255 255 255 255 255\n",
      "   255 255 255 255 255 255 255 255 255 255 255]\n",
      "  [255 255 255 255 255 255 255 255 255 255 255 255 255 255 255 255 255\n",
      "   255 255 255 255 255 255 255 255 255 255 255]\n",
      "  [255 255 255 255 255 255 255 255 255 255 255 255 255 255 255 255 255\n",
      "   255 255 255 255 255 255 255 255 255 255 255]\n",
      "  [255 255 255 255 255 255 255 255 255 255 255 255 255 255 255 255 255\n",
      "   255 255 255 255 255 255 255 255 255 255 255]]]\n"
     ]
    }
   ],
   "source": [
    "print('이미지가 배열로 변환된 데이터(0: 검은색, 255: 흰색)')\n",
    "# mnist: 흰색 0, opencv: 흰색 255 색상 체계를 통일시킬 필요가 있음\n",
    "print(x_test_array) "
   ]
  },
  {
   "cell_type": "code",
   "execution_count": 23,
   "metadata": {
    "colab": {
     "base_uri": "https://localhost:8080/"
    },
    "executionInfo": {
     "elapsed": 563,
     "status": "ok",
     "timestamp": 1614498847959,
     "user": {
      "displayName": "강사엄기흥",
      "photoUrl": "",
      "userId": "12410353940363031053"
     },
     "user_tz": -540
    },
    "id": "fC6qE7aanwYl",
    "outputId": "aff06aa4-befc-4196-80ae-93fb306ce314"
   },
   "outputs": [
    {
     "name": "stdout",
     "output_type": "stream",
     "text": [
      "이미지가 배열로 변환된 데이터(0: 흰색, 255: 검은색)\n",
      "[[[  0   0   0   0   0   0   0   0   1   0   0   0   0   0   0   0   0\n",
      "     0   0   0   0   0   0   0   0   0   0   0]\n",
      "  [  0   0   0   0   0   0   0   0   0   0   0   0   0   0   0   0   0\n",
      "     0   0   0   0   0   0   0   0   0   0   0]\n",
      "  [  0   0   0   0   0   0   0   0   0   0   0   0   0   0   0   0   0\n",
      "     0   0   0   0   0   0   0   0   0   0   0]\n",
      "  [  0   0   0   0   0   0   0   0   0   0   0   0   0 255   0   0   0\n",
      "     0   0   0   0   0   0   0   0   0   0   0]\n",
      "  [  0   0   0   0   0   0   0   0   0   1   0   0   0 255   0   0   0\n",
      "     0   0   0   0   0   0   0   0   0   0   0]\n",
      "  [  0   0   0   0   0   0   0   0   0   0   0   0   0 255   0   0   0\n",
      "     0   0   0   0   0   0   0   0   0   0   0]\n",
      "  [  0   0   0   0   0   0   0   0   0   0   0   0   0 255   0   0   0\n",
      "     0   0   0   0   0   0   0   0   0   0   0]\n",
      "  [  0   0   0   0   0   0   0   0   0   0   0   0   0 255   0   0   0\n",
      "     0   0   0   0   0   0   0   0   0   0   0]\n",
      "  [  0   0   0   0   0   0   0   0   0   0   0   0   0 255   0   1   0\n",
      "     0   0   0   0   0   0   0   0   0   0   0]\n",
      "  [  0   0   0   0   0   0   0   0   0   0   0   0   0 254   0   0   0\n",
      "     0   0   0   0   0   0   0   0   0   0   0]\n",
      "  [  0   0   0   0   0   0   0   0   0   0   0   0   0 255   0   0   0\n",
      "     0   0   0   0   0   0   0   0   0   0   0]\n",
      "  [  0   0   0   0   0   0   0   0   0   0   1   0   0 255   0   0   0\n",
      "     0   0   0   0   0   0   0   0   0   0   0]\n",
      "  [  0   0   0   0   0   0   0   0   0   0   0   0   1 255   0   0   0\n",
      "     0   0   0   0   0   0   0   0   0   0   0]\n",
      "  [  0   0   0   0   0   0   0   0   0   0   0   0   0 255   0   0   0\n",
      "     0   0   0   0   0   0   0   0   0   0   0]\n",
      "  [  0   0   0   0   0   0   0   0   0   0   1   0 255   0   0   0   0\n",
      "     0   0   0   0   0   0   0   0   0   0   0]\n",
      "  [  0   0   0   0   0   0   0   0   0   1   0   0 255   0   0   0   0\n",
      "     0   0   0   0   0   0   0   0   0   0   0]\n",
      "  [  0   0   0   0   0   0   0   0   0   0   0   0 255   0   0   0   0\n",
      "     0   0   0   0   0   0   0   0   0   0   0]\n",
      "  [  0   0   0   0   0   0   0   0   0   0   0   0 255   0   0   0   0\n",
      "     0   0   0   0   0   0   0   0   0   0   0]\n",
      "  [  0   0   0   0   0   0   0   0   0   0   0   0 255   0   0   0   0\n",
      "     0   0   0   0   0   0   0   0   0   0   0]\n",
      "  [  0   0   0   0   0   0   0   0   0   0   0   0 255   0   0   0   0\n",
      "     0   0   0   0   0   0   0   0   0   0   0]\n",
      "  [  0   0   0   0   0   0   0   0   0   0   0   0 255   0   0   0   0\n",
      "     0   0   0   0   0   0   0   0   0   0   0]\n",
      "  [  0   0   0   0   0   0   0   0   1   0   0 255   0   0   0   0   0\n",
      "     0   0   0   0   0   0   0   0   0   0   0]\n",
      "  [  0   0   0   0   0   0   0   0   0   0   0 255   0   0   0   0   0\n",
      "     0   0   0   0   0   0   0   0   0   0   0]\n",
      "  [  0   0   0   0   0   0   0   0   0   0   0 255   0   0   0   0   0\n",
      "     0   0   0   0   0   0   0   0   0   0   0]\n",
      "  [  0   0   0   0   0   0   0   0   0   0   0   0   0   0   0   0   0\n",
      "     0   0   0   0   0   0   0   0   0   0   0]\n",
      "  [  0   0   0   0   0   0   0   0   0   0   0   0   0   0   0   0   0\n",
      "     0   0   0   0   0   0   0   0   0   0   0]\n",
      "  [  0   0   0   0   0   0   0   0   0   0   0   0   0   0   0   0   0\n",
      "     0   0   0   0   0   0   0   0   0   0   0]\n",
      "  [  0   0   0   0   0   0   0   0   0   0   0   0   0   0   0   0   0\n",
      "     0   0   0   0   0   0   0   0   0   0   0]]]\n"
     ]
    }
   ],
   "source": [
    "print('이미지가 배열로 변환된 데이터(0: 흰색, 255: 검은색)')\n",
    "print(255-x_test_array) # 0: 흰색, 255: 검은색\n",
    "x_test_array = 255-x_test_array"
   ]
  },
  {
   "cell_type": "code",
   "execution_count": 24,
   "metadata": {
    "colab": {
     "base_uri": "https://localhost:8080/"
    },
    "executionInfo": {
     "elapsed": 527,
     "status": "ok",
     "timestamp": 1614498895248,
     "user": {
      "displayName": "강사엄기흥",
      "photoUrl": "",
      "userId": "12410353940363031053"
     },
     "user_tz": -540
    },
    "id": "iR9vInOXoKQt",
    "outputId": "ba89823d-6d7f-48b9-df1c-7911db341c21"
   },
   "outputs": [
    {
     "name": "stdout",
     "output_type": "stream",
     "text": [
      "대응하는 숫자 1\n"
     ]
    }
   ],
   "source": [
    "print('대응하는 숫자', y_test)"
   ]
  },
  {
   "cell_type": "code",
   "execution_count": 25,
   "metadata": {
    "colab": {
     "base_uri": "https://localhost:8080/"
    },
    "executionInfo": {
     "elapsed": 505,
     "status": "ok",
     "timestamp": 1614498939422,
     "user": {
      "displayName": "강사엄기흥",
      "photoUrl": "",
      "userId": "12410353940363031053"
     },
     "user_tz": -540
    },
    "id": "Po7CjTAPohM8",
    "outputId": "d175f5ff-cc22-4a5d-f2ea-ca0c6be12574"
   },
   "outputs": [
    {
     "name": "stdout",
     "output_type": "stream",
     "text": [
      "입력 이미지 데이터 shape:  (1, 28, 28, 1)\n"
     ]
    }
   ],
   "source": [
    "# CNN은 내부적으로 4차원의 데이터를 학습함으로 4차원으로 변경함: 면, 행, 열, 색상(1: 흑백, 3: 칼라)\n",
    "x_test_array = x_test_array.reshape(1, 28, 28, 1).astype('float32') / 255.0\n",
    "print('입력 이미지 데이터 shape: ', x_test_array.shape)  # 3차원 배열, 1면 28행 28열 -->  4차원 배열, 1면 28행 28열 흑백 1"
   ]
  },
  {
   "cell_type": "code",
   "execution_count": 26,
   "metadata": {
    "executionInfo": {
     "elapsed": 1362,
     "status": "ok",
     "timestamp": 1614499010063,
     "user": {
      "displayName": "강사엄기흥",
      "photoUrl": "",
      "userId": "12410353940363031053"
     },
     "user_tz": -540
    },
    "id": "wzrVRcTlor_U"
   },
   "outputs": [],
   "source": [
    "# Google Drive에서 다운받은 파일로 확장자는 보통 h5 또는 hdf5 이며 어떤 확장자든 상관 없음.\n",
    "# model = load_model(path + '/Mnist3_cnn.h5')\n",
    "model = load_model(path + '/Mnist3_cnn_colab_2022.h5') # Colab GPU"
   ]
  },
  {
   "cell_type": "code",
   "execution_count": 27,
   "metadata": {
    "colab": {
     "base_uri": "https://localhost:8080/"
    },
    "executionInfo": {
     "elapsed": 545,
     "status": "ok",
     "timestamp": 1614499088041,
     "user": {
      "displayName": "강사엄기흥",
      "photoUrl": "",
      "userId": "12410353940363031053"
     },
     "user_tz": -540
    },
    "id": "k0_rSKl7o9BR",
    "outputId": "6afe5412-5348-43fe-d487-5c037415fad9"
   },
   "outputs": [
    {
     "name": "stdout",
     "output_type": "stream",
     "text": [
      "(1, 10)\n",
      "[[2.3883642e-04 9.0950853e-01 1.1562330e-03 2.9023264e-05 1.5661575e-02\n",
      "  3.9071427e-04 7.1216308e-02 3.4446444e-04 1.2715921e-03 1.8269697e-04]]\n"
     ]
    }
   ],
   "source": [
    "yhat_test = model.predict(x_test_array, batch_size=1)\n",
    "print(yhat_test.shape)\n",
    "print(yhat_test)"
   ]
  },
  {
   "cell_type": "code",
   "execution_count": 28,
   "metadata": {
    "colab": {
     "base_uri": "https://localhost:8080/"
    },
    "executionInfo": {
     "elapsed": 560,
     "status": "ok",
     "timestamp": 1614499361270,
     "user": {
      "displayName": "강사엄기흥",
      "photoUrl": "",
      "userId": "12410353940363031053"
     },
     "user_tz": -540
    },
    "id": "9oi8_Z9HpErK",
    "outputId": "20a8c959-8efc-4d20-f2d3-f62aeff5ba15"
   },
   "outputs": [
    {
     "name": "stdout",
     "output_type": "stream",
     "text": [
      "1\n",
      "실제: 1, 예상: 1, 확률: 91.0%\n"
     ]
    }
   ],
   "source": [
    "idx = np.argmax(yhat_test)  # 최대값의 index\n",
    "print(idx)  # 최대값이 있는 index 산출\n",
    "print('실제: {0:.0f}, 예상: {1:.0f}, 확률: {2:.1f}%'.format(y_test, idx, yhat_test[0][idx]*100))"
   ]
  },
  {
   "cell_type": "code",
   "execution_count": 29,
   "metadata": {
    "executionInfo": {
     "elapsed": 550,
     "status": "ok",
     "timestamp": 1614499810407,
     "user": {
      "displayName": "강사엄기흥",
      "photoUrl": "",
      "userId": "12410353940363031053"
     },
     "user_tz": -540
    },
    "id": "aU39Z5DipbQm"
   },
   "outputs": [],
   "source": [
    "def test(fname, y_test):\n",
    "    image = cv2.imread(path + fname, cv2.IMREAD_GRAYSCALE)\n",
    "    x_test = []\n",
    "    x_test.append(image)\n",
    "    x_test_array = np.array(x_test)\n",
    "    x_test_array = 255-x_test_array\n",
    "    x_test_array = x_test_array.reshape(1, 28, 28, 1).astype('float32') / 255.0\n",
    "    yhat_test = model.predict(x_test_array, batch_size=1)\n",
    "    idx = np.argmax(yhat_test)  # 최대값의 index\n",
    "\n",
    "    idx = np.argmax(yhat_test)  # 최대값의 index\n",
    "    print(idx)  # 최대값이 있는 index 산출\n",
    "    print('실제: {0:.0f}, 예상: {1:.0f}, 확률: {2:.1f}%'.format(y_test, idx, yhat_test[0][idx]*100))\n"
   ]
  },
  {
   "cell_type": "code",
   "execution_count": 32,
   "metadata": {
    "colab": {
     "base_uri": "https://localhost:8080/"
    },
    "executionInfo": {
     "elapsed": 875,
     "status": "ok",
     "timestamp": 1614499991456,
     "user": {
      "displayName": "강사엄기흥",
      "photoUrl": "",
      "userId": "12410353940363031053"
     },
     "user_tz": -540
    },
    "id": "TPYpAc_sqk1A",
    "outputId": "b7aee5d8-9299-4976-bdb7-392dd9d61916"
   },
   "outputs": [
    {
     "name": "stdout",
     "output_type": "stream",
     "text": [
      "1\n",
      "실제: 1, 예상: 1, 확률: 91.0%\n",
      "1\n",
      "실제: 1, 예상: 1, 확률: 100.0%\n",
      "1\n",
      "실제: 1, 예상: 1, 확률: 71.6%\n",
      "1\n",
      "실제: 1, 예상: 1, 확률: 100.0%\n",
      "2\n",
      "실제: 2, 예상: 2, 확률: 100.0%\n",
      "3\n",
      "실제: 3, 예상: 3, 확률: 100.0%\n",
      "7\n",
      "실제: 7, 예상: 7, 확률: 92.4%\n"
     ]
    }
   ],
   "source": [
    "test('/1.jpg', 1)\n",
    "test('/1_1.jpg', 1)\n",
    "\n",
    "# 큰이미지 에러 발생 확인\n",
    "# cannot reshape array of size 16384 into shape (1,28,28,1)\n",
    "# test('/1_2.jpg', 1)  \n",
    "\n",
    "test('/1_3.jpg', 1)\n",
    "test('/1_4.jpg', 1)\n",
    "test('/2.jpg', 2)\n",
    "test('/3.jpg', 3)\n",
    "test('/7.jpg', 7)"
   ]
  },
  {
   "cell_type": "code",
   "execution_count": null,
   "metadata": {
    "id": "fGqznalnsJVO"
   },
   "outputs": [],
   "source": []
  }
 ],
 "metadata": {
  "colab": {
   "authorship_tag": "ABX9TyMCSG70mkMZJxrAN3/38yaD",
   "collapsed_sections": [],
   "name": "Mnist3_use.ipynb",
   "provenance": []
  },
  "kernelspec": {
   "display_name": "ai",
   "language": "python",
   "name": "ai"
  },
  "language_info": {
   "codemirror_mode": {
    "name": "ipython",
    "version": 3
   },
   "file_extension": ".py",
   "mimetype": "text/x-python",
   "name": "python",
   "nbconvert_exporter": "python",
   "pygments_lexer": "ipython3",
   "version": "3.7.11"
  }
 },
 "nbformat": 4,
 "nbformat_minor": 1
}
