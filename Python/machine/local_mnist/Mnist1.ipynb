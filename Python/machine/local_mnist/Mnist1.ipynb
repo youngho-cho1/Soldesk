{
 "cells": [
  {
   "cell_type": "code",
   "execution_count": 1,
   "metadata": {},
   "outputs": [],
   "source": [
    "# CPU"
   ]
  },
  {
   "cell_type": "code",
   "execution_count": 2,
   "metadata": {},
   "outputs": [
    {
     "name": "stdout",
     "output_type": "stream",
     "text": [
      "2.4.1\n",
      "WARNING:tensorflow:From C:\\Users\\soldesk\\AppData\\Local\\Temp\\ipykernel_2300\\750290560.py:6: is_gpu_available (from tensorflow.python.framework.test_util) is deprecated and will be removed in a future version.\n",
      "Instructions for updating:\n",
      "Use `tf.config.list_physical_devices('GPU')` instead.\n",
      "False\n"
     ]
    }
   ],
   "source": [
    "import warnings\n",
    "warnings.filterwarnings(action='ignore')\n",
    "\n",
    "import tensorflow as tf\n",
    "print(tf.__version__)\n",
    "print(tf.test.is_gpu_available()) # GPU 사용 가능 여부 확인"
   ]
  },
  {
   "cell_type": "code",
   "execution_count": 4,
   "metadata": {},
   "outputs": [],
   "source": [
    "import warnings\n",
    "warnings.filterwarnings(action='ignore')\n",
    "\n",
    "import os \n",
    "import random\n",
    "import sys\n",
    "import time\n",
    "from time import localtime, strftime\n",
    "  \n",
    "import numpy as np\n",
    "import tensorflow as tf\n",
    "\n",
    "from tensorflow.keras.models import Sequential  # class\n",
    "from tensorflow.keras.models import load_model  # model 사용\n",
    "from tensorflow.keras.layers import Dense       # 전결합\n",
    "from tensorflow.keras.layers import Dropout     # 특정 node를 사용안함.\n",
    "from tensorflow.keras.callbacks import EarlyStopping   # 학습 자동 중지\n",
    "from tensorflow.keras.callbacks import ModelCheckpoint # 우수한 학습 모델 파일 저장\n",
    "from tensorflow.keras import regularizers \n",
    "from tensorflow.keras.utils import to_categorical   # one-hot 엔코딩\n",
    "from tensorflow.keras.optimizers import Adam\n",
    "\n",
    "from tensorflow.keras.datasets import mnist\n",
    "\n",
    "from sklearn.preprocessing import LabelEncoder\n",
    "from sklearn.model_selection import train_test_split # 학습셋과 테스트셋의 분리 지원\n",
    "from sklearn.model_selection import StratifiedKFold  # K겹 교차 검증\n",
    "\n",
    "import matplotlib.pyplot as plt\n",
    "from matplotlib import font_manager, rc\n",
    "\n",
    "import platform \n",
    "# Windows, Linux, Darwin\n",
    "if (platform.system() == 'Windows'):  \n",
    "    rc('font', family=font_manager.FontProperties(fname=\"C:/Windows/Fonts/malgun.ttf\").get_name())\n",
    "    path = '.' # Local\n",
    "else:    \n",
    "    rc('font', family='NanumBarunGothic')  # Ubuntu 18.04 기준 한글 처리\n",
    "    path = '/content/drive/My Drive/kd_ml/cnn/colab_mnist' # Colab\n",
    "\n",
    "os.chdir(path) # 기본 경로 설정\n",
    "\n",
    "plt.rcParams[\"font.size\"] = 12         # 글자 크기\n",
    "# plt.rcParams[\"figure.figsize\"] = (10, 4) # 10:4의 그래프 비율\n",
    "plt.rcParams['axes.unicode_minus'] = False  # minus 부호는 unicode 적용시 한글이 깨짐으로 설정\n",
    "\n",
    "%matplotlib inline"
   ]
  },
  {
   "cell_type": "code",
   "execution_count": 5,
   "metadata": {},
   "outputs": [
    {
     "name": "stdout",
     "output_type": "stream",
     "text": [
      "(60000, 28, 28)\n",
      "(60000,)\n",
      "(10000, 28, 28)\n",
      "(10000,)\n"
     ]
    }
   ],
   "source": [
    "# 최초에만 다운로드 발생\n",
    "(x_train, y_train), (x_test, y_test)  = mnist.load_data()\n",
    "\n",
    "print(x_train.shape) # 면, 행, 열(60000개의 흑백이미지)\n",
    "print(y_train.shape) # 면, 행, 열\n",
    "print(x_test.shape) # 면, 행, 열\n",
    "print(y_test.shape) # 면, 행, 열"
   ]
  },
  {
   "cell_type": "code",
   "execution_count": 6,
   "metadata": {},
   "outputs": [
    {
     "name": "stdout",
     "output_type": "stream",
     "text": [
      "(28, 28)\n",
      "<class 'numpy.ndarray'>\n"
     ]
    }
   ],
   "source": [
    "print(x_train[0].shape) # (28, 28), 3차원 배열 첫번째 이미지 산출\n",
    "print(type(x_train[0]))"
   ]
  },
  {
   "cell_type": "code",
   "execution_count": 7,
   "metadata": {},
   "outputs": [
    {
     "name": "stdout",
     "output_type": "stream",
     "text": [
      "  0  0  0  0  0  0  0  0  0  0  0  0  0  0  0  0  0  0  0  0  0  0  0  0  0  0  0  0\n",
      "  0  0  0  0  0  0  0  0  0  0  0  0  0  0  0  0  0  0  0  0  0  0  0  0  0  0  0  0\n",
      "  0  0  0  0  0  0  0  0  0  0  0  0  0  0  0  0  0  0  0  0  0  0  0  0  0  0  0  0\n",
      "  0  0  0  0  0  0  0  0  0  0  0  0  0  0  0  0  0  0  0  0  0  0  0  0  0  0  0  0\n",
      "  0  0  0  0  0  0  0  0  0  0  0  0  0  0  0  0  0  0  0  0  0  0  0  0  0  0  0  0\n",
      "  0  0  0  0  0  0  0  0  0  0  0  0  3 18 18 18126136175 26166255247127  0  0  0  0\n",
      "  0  0  0  0  0  0  0  0 30 36 94154170253253253253253225172253242195 64  0  0  0  0\n",
      "  0  0  0  0  0  0  0 49238253253253253253253253253251 93 82 82 56 39  0  0  0  0  0\n",
      "  0  0  0  0  0  0  0 18219253253253253253198182247241  0  0  0  0  0  0  0  0  0  0\n",
      "  0  0  0  0  0  0  0  0 80156107253253205 11  0 43154  0  0  0  0  0  0  0  0  0  0\n",
      "  0  0  0  0  0  0  0  0  0 14  1154253 90  0  0  0  0  0  0  0  0  0  0  0  0  0  0\n",
      "  0  0  0  0  0  0  0  0  0  0  0139253190  2  0  0  0  0  0  0  0  0  0  0  0  0  0\n",
      "  0  0  0  0  0  0  0  0  0  0  0 11190253 70  0  0  0  0  0  0  0  0  0  0  0  0  0\n",
      "  0  0  0  0  0  0  0  0  0  0  0  0 35241225160108  1  0  0  0  0  0  0  0  0  0  0\n",
      "  0  0  0  0  0  0  0  0  0  0  0  0  0 81240253253119 25  0  0  0  0  0  0  0  0  0\n",
      "  0  0  0  0  0  0  0  0  0  0  0  0  0  0 45186253253150 27  0  0  0  0  0  0  0  0\n",
      "  0  0  0  0  0  0  0  0  0  0  0  0  0  0  0 16 93252253187  0  0  0  0  0  0  0  0\n",
      "  0  0  0  0  0  0  0  0  0  0  0  0  0  0  0  0  0249253249 64  0  0  0  0  0  0  0\n",
      "  0  0  0  0  0  0  0  0  0  0  0  0  0  0 46130183253253207  2  0  0  0  0  0  0  0\n",
      "  0  0  0  0  0  0  0  0  0  0  0  0 39148229253253253250182  0  0  0  0  0  0  0  0\n",
      "  0  0  0  0  0  0  0  0  0  0 24114221253253253253201 78  0  0  0  0  0  0  0  0  0\n",
      "  0  0  0  0  0  0  0  0 23 66213253253253253198 81  2  0  0  0  0  0  0  0  0  0  0\n",
      "  0  0  0  0  0  0 18171219253253253253195 80  9  0  0  0  0  0  0  0  0  0  0  0  0\n",
      "  0  0  0  0 55172226253253253253244133 11  0  0  0  0  0  0  0  0  0  0  0  0  0  0\n",
      "  0  0  0  0136253253253212135132 16  0  0  0  0  0  0  0  0  0  0  0  0  0  0  0  0\n",
      "  0  0  0  0  0  0  0  0  0  0  0  0  0  0  0  0  0  0  0  0  0  0  0  0  0  0  0  0\n",
      "  0  0  0  0  0  0  0  0  0  0  0  0  0  0  0  0  0  0  0  0  0  0  0  0  0  0  0  0\n",
      "  0  0  0  0  0  0  0  0  0  0  0  0  0  0  0  0  0  0  0  0  0  0  0  0  0  0  0  0\n"
     ]
    }
   ],
   "source": [
    "# print(x_train[0])\n",
    "# 3차원 배열 첫번째 이미지 산출, row: 하나의 행, 2차원에서 하나의 행씩 추출\n",
    "for row in x_train[0]: \n",
    "    for col in row:  # 하나의 행에서 각각의 컬럼 추출\n",
    "        print('{0:3d}'.format(col), end='')\n",
    "    print('') # 하나의 행이 출력 완료되면 라인 변경"
   ]
  },
  {
   "cell_type": "code",
   "execution_count": 8,
   "metadata": {},
   "outputs": [
    {
     "name": "stdout",
     "output_type": "stream",
     "text": [
      "class: 5\n"
     ]
    },
    {
     "data": {
      "image/png": "[encoded data removed]",
      "text/plain": [
       "<Figure size 432x288 with 1 Axes>"
      ]
     },
     "metadata": {
      "needs_background": "light"
     },
     "output_type": "display_data"
    }
   ],
   "source": [
    "print('class:', y_train[0]) # 첫번째 이미지에 대응하는 레이블(Target, 목표값)\n",
    "plt.imshow(x_train[0], cmap='Greys') # pixel 배열 -> image\n",
    "plt.show()"
   ]
  },
  {
   "cell_type": "code",
   "execution_count": 9,
   "metadata": {},
   "outputs": [
    {
     "name": "stdout",
     "output_type": "stream",
     "text": [
      "class: 0\n"
     ]
    },
    {
     "data": {
      "image/png": "[encoded data removed]",
      "text/plain": [
       "<Figure size 432x288 with 1 Axes>"
      ]
     },
     "metadata": {
      "needs_background": "light"
     },
     "output_type": "display_data"
    }
   ],
   "source": [
    "print('class:', y_train[1]) # 첫번째 이미지에 대응하는 레이블(Target, 목표값)\n",
    "plt.imshow(x_train[1], cmap='Greys') # pixel 배열 -> image\n",
    "plt.show()"
   ]
  },
  {
   "cell_type": "code",
   "execution_count": 10,
   "metadata": {},
   "outputs": [
    {
     "name": "stdout",
     "output_type": "stream",
     "text": [
      "(60000, 28, 28)\n",
      "shape[0]: 60000\n",
      "28\n",
      "28\n"
     ]
    }
   ],
   "source": [
    "print(x_train.shape)  # (60000, 28, 28)\n",
    "print('shape[0]:', x_train.shape[0]) # 면, 이미지의 갯수 60,000\n",
    "print(x_train.shape[1]) # 28 행\n",
    "print(x_train.shape[2]) # 28 열"
   ]
  },
  {
   "cell_type": "code",
   "execution_count": 11,
   "metadata": {},
   "outputs": [
    {
     "name": "stdout",
     "output_type": "stream",
     "text": [
      "x_train: (60000, 784)\n",
      "x_test: (10000, 784)\n"
     ]
    }
   ],
   "source": [
    "# 차원 변환 과정\n",
    "# 60,000개의 28x28개 3차원 데이터를 \n",
    "# 60,000개의 784개 2차원 데이터로 변경\n",
    "# Dense의 imput_dim은 나열된 숫자를 입력받음으로 차원 변환\n",
    "# 훈련 데이터 3차원 -> 2차원으로 변형\n",
    "x_train = x_train.reshape(x_train.shape[0], 784) # 60000행 X 784열\n",
    "print('x_train:', x_train.shape)\n",
    "x_train = x_train.astype('float64') # 실수로 변환\n",
    "x_train = x_train / 255 # 0 ~ 1 정규화, 딥러닝은 실수 처리에 최적화\n",
    "\n",
    "# 테스트 데이터 3차원 -> 2차원으로 변형\n",
    "x_test = x_test.reshape(x_test.shape[0], 784).astype('float64') / 255 # 10000 X 784\n",
    "print('x_test:', x_test.shape)"
   ]
  },
  {
   "cell_type": "code",
   "execution_count": 12,
   "metadata": {},
   "outputs": [
    {
     "name": "stdout",
     "output_type": "stream",
     "text": [
      "[5 0 4 1 9 2 1 3 1 4]\n",
      "(60000,)\n"
     ]
    }
   ],
   "source": [
    "print(y_train[0:10]) # 실제값, target\n",
    "print(y_train.shape)"
   ]
  },
  {
   "cell_type": "code",
   "execution_count": 13,
   "metadata": {},
   "outputs": [],
   "source": [
    "# one-hot-encoding, 1회만 실행해야함. ★ \n",
    "y_train = to_categorical(y_train, 10) # 10: 0 ~ 9까지 10개의 숫자"
   ]
  },
  {
   "cell_type": "code",
   "execution_count": 14,
   "metadata": {},
   "outputs": [
    {
     "name": "stdout",
     "output_type": "stream",
     "text": [
      "[[0. 0. 0. 0. 0. 1. 0. 0. 0. 0.]\n",
      " [1. 0. 0. 0. 0. 0. 0. 0. 0. 0.]\n",
      " [0. 0. 0. 0. 1. 0. 0. 0. 0. 0.]\n",
      " [0. 1. 0. 0. 0. 0. 0. 0. 0. 0.]\n",
      " [0. 0. 0. 0. 0. 0. 0. 0. 0. 1.]\n",
      " [0. 0. 1. 0. 0. 0. 0. 0. 0. 0.]\n",
      " [0. 1. 0. 0. 0. 0. 0. 0. 0. 0.]\n",
      " [0. 0. 0. 1. 0. 0. 0. 0. 0. 0.]\n",
      " [0. 1. 0. 0. 0. 0. 0. 0. 0. 0.]\n",
      " [0. 0. 0. 0. 1. 0. 0. 0. 0. 0.]]\n",
      "(60000, 10)\n"
     ]
    }
   ],
   "source": [
    "print(y_train[0:10])\n",
    "print(y_train.shape)\n",
    "# [[0. 0. 0. 0. 0. 1. 0. 0. 0. 0.]  5\n",
    "#  [1. 0. 0. 0. 0. 0. 0. 0. 0. 0.]  0\n",
    "#  [0. 0. 0. 0. 1. 0. 0. 0. 0. 0.]  4\n",
    "#  [0. 1. 0. 0. 0. 0. 0. 0. 0. 0.]  1\n",
    "#  [0. 0. 0. 0. 0. 0. 0. 0. 0. 1.]  9\n",
    "#  [0. 0. 1. 0. 0. 0. 0. 0. 0. 0.]  2\n",
    "#  [0. 1. 0. 0. 0. 0. 0. 0. 0. 0.]  1 \n",
    "#  [0. 0. 0. 1. 0. 0. 0. 0. 0. 0.]  3\n",
    "#  [0. 1. 0. 0. 0. 0. 0. 0. 0. 0.]  1 \n",
    "#  [0. 0. 0. 0. 1. 0. 0. 0. 0. 0.]] 4"
   ]
  },
  {
   "cell_type": "code",
   "execution_count": 15,
   "metadata": {},
   "outputs": [
    {
     "name": "stdout",
     "output_type": "stream",
     "text": [
      "행: 0 열: 0\n",
      "행: 0 열: 1\n",
      "행: 0 열: 2\n",
      "행: 0 열: 3\n",
      "행: 0 열: 4\n",
      "행: 1 열: 0\n",
      "행: 1 열: 1\n",
      "행: 1 열: 2\n",
      "행: 1 열: 3\n",
      "행: 1 열: 4\n",
      "행: 2 열: 0\n",
      "행: 2 열: 1\n",
      "행: 2 열: 2\n",
      "행: 2 열: 3\n",
      "행: 2 열: 4\n",
      "행: 3 열: 0\n",
      "행: 3 열: 1\n",
      "행: 3 열: 2\n",
      "행: 3 열: 3\n",
      "행: 3 열: 4\n",
      "행: 4 열: 0\n",
      "행: 4 열: 1\n",
      "행: 4 열: 2\n",
      "행: 4 열: 3\n",
      "행: 4 열: 4\n",
      "행: 5 열: 0\n",
      "행: 5 열: 1\n",
      "행: 5 열: 2\n",
      "행: 5 열: 3\n",
      "행: 5 열: 4\n",
      "행: 6 열: 0\n",
      "행: 6 열: 1\n",
      "행: 6 열: 2\n",
      "행: 6 열: 3\n",
      "행: 6 열: 4\n",
      "행: 7 열: 0\n",
      "행: 7 열: 1\n",
      "행: 7 열: 2\n",
      "행: 7 열: 3\n",
      "행: 7 열: 4\n",
      "행: 8 열: 0\n",
      "행: 8 열: 1\n",
      "행: 8 열: 2\n",
      "행: 8 열: 3\n",
      "행: 8 열: 4\n",
      "행: 9 열: 0\n",
      "행: 9 열: 1\n",
      "행: 9 열: 2\n",
      "행: 9 열: 3\n",
      "행: 9 열: 4\n"
     ]
    }
   ],
   "source": [
    "# 1차원 배열을 이용하여 행과 열로 출력\n",
    "for i in range(50): # 0(중요) ~ 49\n",
    "    print('행:', i // 5, '열:', i % 5) # 열 index에 대응, //: 몫"
   ]
  },
  {
   "cell_type": "code",
   "execution_count": null,
   "metadata": {},
   "outputs": [],
   "source": []
  },
  {
   "cell_type": "code",
   "execution_count": null,
   "metadata": {},
   "outputs": [],
   "source": []
  }
 ],
 "metadata": {
  "kernelspec": {
   "display_name": "ai",
   "language": "python",
   "name": "ai"
  },
  "language_info": {
   "codemirror_mode": {
    "name": "ipython",
    "version": 3
   },
   "file_extension": ".py",
   "mimetype": "text/x-python",
   "name": "python",
   "nbconvert_exporter": "python",
   "pygments_lexer": "ipython3",
   "version": "3.7.11"
  }
 },
 "nbformat": 4,
 "nbformat_minor": 4
}
