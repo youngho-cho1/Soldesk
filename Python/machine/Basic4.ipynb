{
 "cells": [
  {
   "cell_type": "markdown",
   "metadata": {},
   "source": [
    "### 입력값 2개, 출력값 2개\n",
    "### y1 = w1 * X1 + w2 * X2 + bias, y2 = w1 * X1 + w2 * X2 + bias"
   ]
  },
  {
   "cell_type": "code",
   "execution_count": 13,
   "metadata": {},
   "outputs": [],
   "source": [
    "# %autosave 0 \n",
    "import warnings\n",
    "warnings.filterwarnings(action='ignore')\n",
    "\n",
    "import numpy as np\n",
    "\n",
    "import tensorflow as tf\n",
    "\n",
    "# tensorflow 2.x에 내장된 Keras 사용\n",
    "from tensorflow.keras.models import Sequential  # class\n",
    "from tensorflow.keras.models import load_model  # model 파일 로딩\n",
    "from tensorflow.keras.layers import Dense       # 전결합층\n",
    "from tensorflow.keras.optimizers import Adam    # 가중치, bias 최적화\n",
    "from tensorflow.keras.utils import plot_model   # 네트워크 입출력 시각화\n",
    "\n",
    "import matplotlib.pyplot as plt\n",
    "import matplotlib\n",
    "from matplotlib import rc\n",
    "rc('font', family='Malgun Gothic')\n",
    "\n",
    "# print(tf.__version__)"
   ]
  },
  {
   "cell_type": "code",
   "execution_count": 14,
   "metadata": {},
   "outputs": [
    {
     "name": "stdout",
     "output_type": "stream",
     "text": [
      "(10, 2)\n",
      "(2,)\n",
      "[[ 1  1]\n",
      " [ 2  2]\n",
      " [ 3  3]\n",
      " [ 4  4]\n",
      " [ 5  5]\n",
      " [ 6  6]\n",
      " [ 7  7]\n",
      " [ 8  8]\n",
      " [ 9  9]\n",
      " [10 10]]\n"
     ]
    }
   ],
   "source": [
    "# 데이터\n",
    "# x_train = np.array([[1, 5], [2, 6], [3, 7], [4, 8], [5, 9], [6, 10], [7, 11], [8, 12], [9, 13], [10, 14]])\n",
    "x_train = np.array([[i, i] for i in range(1, 11)])\n",
    "print(x_train.shape)\n",
    "print(x_train[0].shape) # 한행의 구조\n",
    "print(x_train)"
   ]
  },
  {
   "cell_type": "code",
   "execution_count": 15,
   "metadata": {},
   "outputs": [
    {
     "name": "stdout",
     "output_type": "stream",
     "text": [
      "(10, 2)\n",
      "[[ 3  6]\n",
      " [ 4  7]\n",
      " [ 5  8]\n",
      " [ 6  9]\n",
      " [ 7 10]\n",
      " [ 8 11]\n",
      " [ 9 12]\n",
      " [10 13]\n",
      " [11 14]\n",
      " [12 15]]\n"
     ]
    }
   ],
   "source": [
    "# 1 * 2 = 2, 5 * 2 = 10\n",
    "# y_train = np.array([[2, 10], [4, 12], [6, 14], [8, 16], [10, 18], [12, 20], [14, 22], [16, 24], [18, 26], [20, 28]])\n",
    "y_train = []\n",
    "for i in range(len(x_train)): # [ 1  5]...\n",
    "    y_train.append([x_train[i][0]+2, x_train[i][1]+5])\n",
    "\n",
    "y_train = np.array(y_train)\n",
    "print(y_train.shape)\n",
    "print(y_train)"
   ]
  },
  {
   "cell_type": "code",
   "execution_count": 16,
   "metadata": {
    "scrolled": false
   },
   "outputs": [
    {
     "name": "stdout",
     "output_type": "stream",
     "text": [
      "Model: \"sequential_1\"\n",
      "_________________________________________________________________\n",
      "Layer (type)                 Output Shape              Param #   \n",
      "=================================================================\n",
      "dense_4 (Dense)              (None, 60)                180       \n",
      "_________________________________________________________________\n",
      "dense_5 (Dense)              (None, 80)                4880      \n",
      "_________________________________________________________________\n",
      "dense_6 (Dense)              (None, 20)                1620      \n",
      "_________________________________________________________________\n",
      "dense_7 (Dense)              (None, 2)                 42        \n",
      "=================================================================\n",
      "Total params: 6,722\n",
      "Trainable params: 6,722\n",
      "Non-trainable params: 0\n",
      "_________________________________________________________________\n",
      "Epoch 1/100\n",
      "8/8 [==============================] - 1s 26ms/step - loss: 65.2674 - val_loss: 55.9959\n",
      "Epoch 2/100\n",
      "8/8 [==============================] - 0s 7ms/step - loss: 21.5604 - val_loss: 11.0656\n",
      "Epoch 3/100\n",
      "8/8 [==============================] - 0s 8ms/step - loss: 3.8352 - val_loss: 7.5726\n",
      "Epoch 4/100\n",
      "8/8 [==============================] - 0s 7ms/step - loss: 3.9333 - val_loss: 0.5835\n",
      "Epoch 5/100\n",
      "8/8 [==============================] - 0s 7ms/step - loss: 2.6649 - val_loss: 15.1509\n",
      "Epoch 6/100\n",
      "8/8 [==============================] - 0s 8ms/step - loss: 3.9978 - val_loss: 1.1199\n",
      "Epoch 7/100\n",
      "8/8 [==============================] - 0s 7ms/step - loss: 2.9138 - val_loss: 9.3735\n",
      "Epoch 8/100\n",
      "8/8 [==============================] - 0s 7ms/step - loss: 3.5343 - val_loss: 1.9713\n",
      "Epoch 9/100\n",
      "8/8 [==============================] - 0s 7ms/step - loss: 1.8102 - val_loss: 9.8943\n",
      "Epoch 10/100\n",
      "8/8 [==============================] - 0s 8ms/step - loss: 2.5171 - val_loss: 2.1098\n",
      "Epoch 11/100\n",
      "8/8 [==============================] - 0s 7ms/step - loss: 1.0806 - val_loss: 0.8870\n",
      "Epoch 12/100\n",
      "8/8 [==============================] - 0s 7ms/step - loss: 0.5828 - val_loss: 2.9999\n",
      "Epoch 13/100\n",
      "8/8 [==============================] - 0s 7ms/step - loss: 0.5056 - val_loss: 0.1193\n",
      "Epoch 14/100\n",
      "8/8 [==============================] - 0s 8ms/step - loss: 0.4155 - val_loss: 1.2203\n",
      "Epoch 15/100\n",
      "8/8 [==============================] - 0s 7ms/step - loss: 0.3010 - val_loss: 0.0529\n",
      "Epoch 16/100\n",
      "8/8 [==============================] - 0s 7ms/step - loss: 0.2036 - val_loss: 0.2859\n",
      "Epoch 17/100\n",
      "8/8 [==============================] - 0s 8ms/step - loss: 0.0629 - val_loss: 0.0842\n",
      "Epoch 18/100\n",
      "8/8 [==============================] - 0s 8ms/step - loss: 0.0451 - val_loss: 0.1539\n",
      "Epoch 19/100\n",
      "8/8 [==============================] - 0s 7ms/step - loss: 0.0348 - val_loss: 0.0536\n",
      "Epoch 20/100\n",
      "8/8 [==============================] - 0s 7ms/step - loss: 0.0350 - val_loss: 0.0974\n",
      "Epoch 21/100\n",
      "8/8 [==============================] - 0s 9ms/step - loss: 0.0195 - val_loss: 0.0058\n",
      "Epoch 22/100\n",
      "8/8 [==============================] - 0s 7ms/step - loss: 0.0033 - val_loss: 0.0045\n",
      "Epoch 23/100\n",
      "8/8 [==============================] - 0s 7ms/step - loss: 8.9241e-04 - val_loss: 0.0027\n",
      "Epoch 24/100\n",
      "8/8 [==============================] - 0s 8ms/step - loss: 6.4287e-04 - val_loss: 2.2765e-04\n",
      "Epoch 25/100\n",
      "8/8 [==============================] - 0s 7ms/step - loss: 9.0391e-05 - val_loss: 1.5224e-04\n",
      "Epoch 26/100\n",
      "8/8 [==============================] - 0s 8ms/step - loss: 6.7316e-05 - val_loss: 1.2960e-04\n",
      "Epoch 27/100\n",
      "8/8 [==============================] - 0s 7ms/step - loss: 5.9872e-05 - val_loss: 1.0693e-04\n",
      "Epoch 28/100\n",
      "8/8 [==============================] - 0s 8ms/step - loss: 5.0566e-05 - val_loss: 5.6087e-05\n",
      "Epoch 29/100\n",
      "8/8 [==============================] - 0s 7ms/step - loss: 1.5902e-05 - val_loss: 1.5794e-05\n",
      "Epoch 30/100\n",
      "8/8 [==============================] - 0s 7ms/step - loss: 4.6819e-06 - val_loss: 5.8966e-06\n",
      "Epoch 31/100\n",
      "8/8 [==============================] - 0s 7ms/step - loss: 2.3658e-06 - val_loss: 5.2628e-06\n",
      "Epoch 32/100\n",
      "8/8 [==============================] - 0s 8ms/step - loss: 1.4587e-06 - val_loss: 1.0177e-06\n",
      "Epoch 33/100\n",
      "8/8 [==============================] - 0s 7ms/step - loss: 5.6794e-07 - val_loss: 1.7486e-07\n",
      "Epoch 34/100\n",
      "8/8 [==============================] - 0s 7ms/step - loss: 2.8354e-07 - val_loss: 1.5973e-07\n",
      "Epoch 35/100\n",
      "8/8 [==============================] - 0s 8ms/step - loss: 1.6702e-07 - val_loss: 4.3683e-07\n",
      "Epoch 36/100\n",
      "8/8 [==============================] - 0s 7ms/step - loss: 7.4303e-08 - val_loss: 5.9829e-08\n",
      "Epoch 37/100\n",
      "8/8 [==============================] - 0s 7ms/step - loss: 7.4498e-08 - val_loss: 1.5230e-07\n",
      "Epoch 38/100\n",
      "8/8 [==============================] - 0s 7ms/step - loss: 7.2920e-08 - val_loss: 1.9094e-07\n",
      "Epoch 39/100\n",
      "8/8 [==============================] - 0s 8ms/step - loss: 6.8488e-08 - val_loss: 6.4514e-08\n",
      "Epoch 40/100\n",
      "8/8 [==============================] - 0s 7ms/step - loss: 3.9133e-08 - val_loss: 1.2710e-09\n",
      "Epoch 41/100\n",
      "8/8 [==============================] - 0s 7ms/step - loss: 2.6234e-08 - val_loss: 5.3953e-08\n",
      "Epoch 42/100\n",
      "8/8 [==============================] - 0s 8ms/step - loss: 2.3461e-08 - val_loss: 7.4987e-08\n",
      "Epoch 43/100\n",
      "8/8 [==============================] - 0s 7ms/step - loss: 1.9199e-08 - val_loss: 1.0578e-08\n",
      "Epoch 44/100\n",
      "8/8 [==============================] - 0s 8ms/step - loss: 3.8277e-09 - val_loss: 3.1378e-09\n",
      "Epoch 45/100\n",
      "8/8 [==============================] - 0s 8ms/step - loss: 1.7528e-09 - val_loss: 6.4724e-09\n",
      "Epoch 46/100\n",
      "8/8 [==============================] - 0s 8ms/step - loss: 1.3607e-09 - val_loss: 2.4106e-09\n",
      "Epoch 47/100\n",
      "8/8 [==============================] - ETA: 0s - loss: 9.6088e-1 - 0s 7ms/step - loss: 6.8473e-10 - val_loss: 1.3513e-09\n",
      "Epoch 48/100\n",
      "8/8 [==============================] - 0s 7ms/step - loss: 5.7823e-10 - val_loss: 1.0900e-09\n",
      "Epoch 49/100\n",
      "8/8 [==============================] - 0s 7ms/step - loss: 8.6371e-11 - val_loss: 1.4325e-10\n",
      "Epoch 50/100\n",
      "8/8 [==============================] - 0s 7ms/step - loss: 6.6722e-11 - val_loss: 6.7303e-11\n",
      "Epoch 51/100\n",
      "8/8 [==============================] - 0s 7ms/step - loss: 3.6868e-11 - val_loss: 1.8053e-10\n",
      "Epoch 52/100\n",
      "8/8 [==============================] - 0s 7ms/step - loss: 7.2968e-11 - val_loss: 1.6598e-11\n",
      "Epoch 53/100\n",
      "8/8 [==============================] - 0s 8ms/step - loss: 4.8579e-11 - val_loss: 4.6384e-11\n",
      "Epoch 54/100\n",
      "8/8 [==============================] - 0s 7ms/step - loss: 1.7755e-11 - val_loss: 2.5921e-11\n",
      "Epoch 55/100\n",
      "8/8 [==============================] - 0s 7ms/step - loss: 1.7513e-12 - val_loss: 7.7307e-12\n",
      "Epoch 56/100\n",
      "8/8 [==============================] - 0s 7ms/step - loss: 8.5984e-13 - val_loss: 9.3223e-12\n",
      "Epoch 57/100\n",
      "8/8 [==============================] - 0s 8ms/step - loss: 5.2943e-13 - val_loss: 1.3642e-12\n",
      "Epoch 58/100\n",
      "8/8 [==============================] - 0s 7ms/step - loss: 5.6672e-13 - val_loss: 1.1369e-12\n",
      "Epoch 59/100\n",
      "8/8 [==============================] - 0s 7ms/step - loss: 5.3555e-13 - val_loss: 4.0927e-12\n",
      "Epoch 60/100\n",
      "8/8 [==============================] - 0s 8ms/step - loss: 3.9902e-13 - val_loss: 6.8212e-13\n",
      "Epoch 61/100\n",
      "8/8 [==============================] - 0s 7ms/step - loss: 5.4873e-13 - val_loss: 1.3642e-12\n",
      "Epoch 62/100\n",
      "8/8 [==============================] - 0s 8ms/step - loss: 4.1730e-13 - val_loss: 2.0464e-12\n",
      "Epoch 63/100\n",
      "8/8 [==============================] - 0s 7ms/step - loss: 2.3830e-13 - val_loss: 6.8212e-13\n",
      "Epoch 64/100\n",
      "8/8 [==============================] - 0s 8ms/step - loss: 8.1724e-13 - val_loss: 2.5011e-12\n",
      "Epoch 65/100\n",
      "8/8 [==============================] - 0s 7ms/step - loss: 3.8130e-13 - val_loss: 6.8212e-13\n",
      "Epoch 66/100\n",
      "8/8 [==============================] - 0s 8ms/step - loss: 6.2349e-13 - val_loss: 4.3201e-12\n",
      "Epoch 67/100\n",
      "8/8 [==============================] - 0s 9ms/step - loss: 2.3942e-12 - val_loss: 5.2296e-12\n",
      "Epoch 68/100\n",
      "8/8 [==============================] - 0s 7ms/step - loss: 2.3746e-12 - val_loss: 2.6830e-11\n",
      "Epoch 69/100\n",
      "8/8 [==============================] - 0s 8ms/step - loss: 3.7669e-12 - val_loss: 6.1391e-12\n",
      "Epoch 70/100\n",
      "8/8 [==============================] - 0s 7ms/step - loss: 3.0791e-12 - val_loss: 1.5007e-11\n",
      "Epoch 71/100\n"
     ]
    },
    {
     "name": "stdout",
     "output_type": "stream",
     "text": [
      "8/8 [==============================] - 0s 8ms/step - loss: 1.3584e-11 - val_loss: 2.9786e-11\n",
      "Epoch 72/100\n",
      "8/8 [==============================] - 0s 7ms/step - loss: 1.6868e-11 - val_loss: 2.9604e-10\n",
      "Epoch 73/100\n",
      "8/8 [==============================] - 0s 7ms/step - loss: 7.6229e-11 - val_loss: 2.2897e-10\n",
      "Epoch 74/100\n",
      "8/8 [==============================] - 0s 7ms/step - loss: 4.3988e-11 - val_loss: 1.3642e-12\n",
      "Epoch 75/100\n",
      "8/8 [==============================] - 0s 8ms/step - loss: 1.6664e-11 - val_loss: 4.3428e-11\n",
      "Epoch 76/100\n",
      "8/8 [==============================] - 0s 7ms/step - loss: 2.7525e-11 - val_loss: 2.1259e-10\n",
      "Epoch 77/100\n",
      "8/8 [==============================] - 0s 7ms/step - loss: 7.7375e-11 - val_loss: 6.1709e-10\n",
      "Epoch 78/100\n",
      "8/8 [==============================] - 0s 8ms/step - loss: 1.8113e-10 - val_loss: 4.5929e-11\n",
      "Epoch 79/100\n",
      "8/8 [==============================] - 0s 7ms/step - loss: 3.3285e-10 - val_loss: 4.2075e-09\n",
      "Epoch 80/100\n",
      "8/8 [==============================] - 0s 7ms/step - loss: 2.5262e-09 - val_loss: 8.1077e-09\n",
      "Epoch 81/100\n",
      "8/8 [==============================] - 0s 7ms/step - loss: 4.6658e-09 - val_loss: 4.1944e-09\n",
      "Epoch 82/100\n",
      "8/8 [==============================] - 0s 8ms/step - loss: 1.1180e-09 - val_loss: 3.0800e-09\n",
      "Epoch 83/100\n",
      "8/8 [==============================] - 0s 7ms/step - loss: 1.4093e-09 - val_loss: 2.1407e-09\n",
      "Epoch 84/100\n",
      "8/8 [==============================] - 0s 7ms/step - loss: 6.9658e-10 - val_loss: 2.4163e-09\n",
      "Epoch 85/100\n",
      "8/8 [==============================] - 0s 8ms/step - loss: 8.0044e-10 - val_loss: 4.1309e-08\n",
      "Epoch 86/100\n",
      "8/8 [==============================] - 0s 7ms/step - loss: 1.1363e-08 - val_loss: 1.8828e-07\n",
      "Epoch 87/100\n",
      "8/8 [==============================] - 0s 7ms/step - loss: 3.2798e-08 - val_loss: 2.7527e-07\n",
      "Epoch 88/100\n",
      "8/8 [==============================] - 0s 7ms/step - loss: 6.7467e-08 - val_loss: 4.3587e-08\n",
      "Epoch 89/100\n",
      "8/8 [==============================] - 0s 8ms/step - loss: 2.5729e-09 - val_loss: 5.3555e-08\n",
      "Epoch 90/100\n",
      "8/8 [==============================] - 0s 7ms/step - loss: 1.8187e-08 - val_loss: 1.2788e-07\n",
      "Epoch 91/100\n",
      "8/8 [==============================] - 0s 7ms/step - loss: 4.6667e-08 - val_loss: 2.8442e-07\n",
      "Epoch 92/100\n",
      "8/8 [==============================] - 0s 8ms/step - loss: 7.3986e-08 - val_loss: 9.5187e-07\n",
      "Epoch 93/100\n",
      "8/8 [==============================] - 0s 8ms/step - loss: 2.1071e-07 - val_loss: 6.6828e-07\n",
      "Epoch 94/100\n",
      "8/8 [==============================] - 0s 7ms/step - loss: 9.5445e-08 - val_loss: 4.6620e-07\n",
      "Epoch 95/100\n",
      "8/8 [==============================] - 0s 7ms/step - loss: 9.7673e-08 - val_loss: 1.6003e-07\n",
      "Epoch 96/100\n",
      "8/8 [==============================] - 0s 8ms/step - loss: 1.6454e-07 - val_loss: 6.6561e-09\n",
      "Epoch 97/100\n",
      "8/8 [==============================] - 0s 7ms/step - loss: 2.4037e-07 - val_loss: 1.6947e-07\n",
      "Epoch 98/100\n",
      "8/8 [==============================] - 0s 8ms/step - loss: 2.5538e-07 - val_loss: 2.7960e-07\n",
      "Epoch 99/100\n",
      "8/8 [==============================] - 0s 7ms/step - loss: 1.2798e-07 - val_loss: 3.3390e-07\n",
      "Epoch 100/100\n",
      "8/8 [==============================] - 0s 8ms/step - loss: 2.3031e-07 - val_loss: 3.0294e-07\n"
     ]
    }
   ],
   "source": [
    "# del model # 객체 삭제\n",
    "tf.random.set_seed(0)\n",
    "model = Sequential()\n",
    "model.add(Dense(60, input_dim=2, activation='linear')) \n",
    "model.add(Dense(80, activation='linear')) \n",
    "model.add(Dense(20, activation='linear')) \n",
    "model.add(Dense(2, activation='linear')) \n",
    "# model.compile(optimizer='adam', loss='mse')\n",
    "model.compile(optimizer=Adam(lr=0.01), loss='mse')\n",
    "model.summary()\n",
    "hist = model.fit(x_train, y_train, validation_split=0.2, shuffle=True,\n",
    "                epochs=100, batch_size=1)"
   ]
  },
  {
   "cell_type": "code",
   "execution_count": 17,
   "metadata": {},
   "outputs": [
    {
     "data": {
      "image/png": "[encoded data removed]",
      "text/plain": [
       "<Figure size 720x360 with 1 Axes>"
      ]
     },
     "metadata": {
      "needs_background": "light"
     },
     "output_type": "display_data"
    }
   ],
   "source": [
    "import matplotlib.pyplot as plt\n",
    "%matplotlib inline  \n",
    "\n",
    "fig, loss_ax = plt.subplots()\n",
    "# plt.figure(figsize=(6,4)) # ERROR\n",
    "fig.set_size_inches(10, 5)  # 챠트 크기 설정\n",
    "\n",
    "# 왼쪽 y 축 설정\n",
    "loss_ax.plot(hist.history['loss'], 'y', label='train loss')\n",
    "loss_ax.plot(hist.history['val_loss'], 'r', label='val loss')\n",
    "loss_ax.set_ylim([0.0, 341.3603]) # 값을 반영하여 변경 ★\n",
    "\n",
    "# 축 레이블 설정\n",
    "loss_ax.set_xlabel('epoch')  # 학습 횟수\n",
    "loss_ax.set_ylabel('loss')   # 오차\n",
    "\n",
    "loss_ax.legend(loc='upper left') # 오차 레이블 위치\n",
    "\n",
    "plt.show()\n",
    "# train loss: 하강하면 훈련이 정상적으로 진행되고 있음\n",
    "# val loss: 하강하면 훈련되지 않은 데이터를 대상으로 한 테스트도 정상적으로 진행됨."
   ]
  },
  {
   "cell_type": "code",
   "execution_count": 18,
   "metadata": {},
   "outputs": [
    {
     "name": "stdout",
     "output_type": "stream",
     "text": [
      "(11, 2)\n",
      "(2,)\n",
      "[[100 100]\n",
      " [101 101]\n",
      " [102 102]\n",
      " [103 103]\n",
      " [104 104]\n",
      " [105 105]\n",
      " [106 106]\n",
      " [107 107]\n",
      " [108 108]\n",
      " [109 109]\n",
      " [110 110]]\n"
     ]
    }
   ],
   "source": [
    "x = np.array([[i, i] for i in range(100, 111)])\n",
    "print(x.shape)\n",
    "print(x[0].shape) # 한행의 구조\n",
    "print(x)"
   ]
  },
  {
   "cell_type": "code",
   "execution_count": 19,
   "metadata": {},
   "outputs": [
    {
     "name": "stdout",
     "output_type": "stream",
     "text": [
      "(11, 2)\n",
      "[[102 105]\n",
      " [103 106]\n",
      " [104 107]\n",
      " [105 108]\n",
      " [106 109]\n",
      " [107 110]\n",
      " [108 111]\n",
      " [109 112]\n",
      " [110 113]\n",
      " [111 114]\n",
      " [112 115]]\n"
     ]
    }
   ],
   "source": [
    "y = []\n",
    "for i in range(len(x)): # [ 1  5]...\n",
    "    y.append([x[i][0]+2, x[i][1]+5])\n",
    "\n",
    "y = np.array(y)\n",
    "print(y.shape)\n",
    "print(y)"
   ]
  },
  {
   "cell_type": "code",
   "execution_count": 20,
   "metadata": {},
   "outputs": [
    {
     "name": "stdout",
     "output_type": "stream",
     "text": [
      "x: [100 100], 실제값: [102 105], 예측값: 102.00579 105.00424, 정제된값: 102 105\n",
      "x: [101 101], 실제값: [103 106], 예측값: 103.00584 106.00430, 정제된값: 103 106\n",
      "x: [102 102], 실제값: [104 107], 예측값: 104.00591 107.00433, 정제된값: 104 107\n",
      "x: [103 103], 실제값: [105 108], 예측값: 105.00596 108.00438, 정제된값: 105 108\n",
      "x: [104 104], 실제값: [106 109], 예측값: 106.00602 109.00441, 정제된값: 106 109\n",
      "x: [105 105], 실제값: [107 110], 예측값: 107.00607 110.00446, 정제된값: 107 110\n",
      "x: [106 106], 실제값: [108 111], 예측값: 108.00613 111.00450, 정제된값: 108 111\n",
      "x: [107 107], 실제값: [109 112], 예측값: 109.00619 112.00455, 정제된값: 109 112\n",
      "x: [108 108], 실제값: [110 113], 예측값: 110.00625 113.00458, 정제된값: 110 113\n",
      "x: [109 109], 실제값: [111 114], 예측값: 111.00631 114.00462, 정제된값: 111 114\n",
      "x: [110 110], 실제값: [112 115], 예측값: 112.00636 115.00467, 정제된값: 112 115\n"
     ]
    },
    {
     "data": {
      "image/png": "[encoded data removed]",
      "text/plain": [
       "<Figure size 432x288 with 1 Axes>"
      ]
     },
     "metadata": {
      "needs_background": "light"
     },
     "output_type": "display_data"
    }
   ],
   "source": [
    "p = model.predict(x) # 모델 사용\n",
    "\n",
    "for i in range(len(x)):\n",
    "    fmt = 'x: {0}, 실제값: {1}, 예측값: {2:.5f} {3:.5f}, 정제된값: {4:.0f} {5:.0f}'\n",
    "    print(fmt.format(x[i], y[i], p[i][0], p[i][1], p[i][0], p[i][1]))\n",
    "    \n",
    "plt.scatter(x[:,0], y[:,0], color='r')  # 실제값\n",
    "plt.plot(x[:,0], y[:,0], color='r')\n",
    "plt.scatter(x[:,0], p[:,0], color='y')  # 예측값\n",
    "plt.plot(x[:,0], p[:,0], color='y')\n",
    "\n",
    "plt.scatter(x[:,1], y[:,1], color='b')  # 실제값\n",
    "plt.plot(x[:,1], y[:,1], color='b')\n",
    "plt.scatter(x[:,1], p[:,1], color='y')  # 예측값\n",
    "plt.plot(x[:,1], p[:,1], color='y')\n",
    "\n",
    "plt.grid(True)\n",
    "plt.show()    "
   ]
  },
  {
   "cell_type": "code",
   "execution_count": 21,
   "metadata": {},
   "outputs": [],
   "source": [
    "model.save('./Basic4.h5')"
   ]
  },
  {
   "cell_type": "code",
   "execution_count": 22,
   "metadata": {},
   "outputs": [
    {
     "name": "stdout",
     "output_type": "stream",
     "text": [
      " C 드라이브의 볼륨에는 이름이 없습니다.\n",
      " 볼륨 일련 번호: DC48-5F8B\n",
      "\n",
      " C:\\kd\\ws_python\\notebook\\machine\\dnn\\lm 디렉터리\n",
      "\n",
      "[.]                  [..]                 [.ipynb_checkpoints]\n",
      "Basic1.ipynb         Basic1.png           Basic2.ipynb\n",
      "Basic3.ipynb         Basic3.png           Basic4.h5\n",
      "Basic4.ipynb         Basic4.png           model.png\n",
      "               9개 파일             747,266 바이트\n",
      "               3개 디렉터리  87,078,703,104 바이트 남음\n"
     ]
    }
   ],
   "source": [
    "!dir/w"
   ]
  },
  {
   "cell_type": "code",
   "execution_count": null,
   "metadata": {},
   "outputs": [],
   "source": []
  }
 ],
 "metadata": {
  "kernelspec": {
   "display_name": "ai",
   "language": "python",
   "name": "ai"
  },
  "language_info": {
   "codemirror_mode": {
    "name": "ipython",
    "version": 3
   },
   "file_extension": ".py",
   "mimetype": "text/x-python",
   "name": "python",
   "nbconvert_exporter": "python",
   "pygments_lexer": "ipython3",
   "version": "3.7.11"
  }
 },
 "nbformat": 4,
 "nbformat_minor": 4
}
