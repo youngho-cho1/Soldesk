{
 "cells": [
  {
   "cell_type": "markdown",
   "metadata": {},
   "source": [
    "### 추천 시스템 제작(도서)"
   ]
  },
  {
   "cell_type": "code",
   "execution_count": 7,
   "metadata": {},
   "outputs": [],
   "source": [
    "# %autosave 0\n",
    "import warnings\n",
    "warnings.filterwarnings(action='ignore')\n",
    "\n",
    "import os\n",
    "\n",
    "import numpy as np\n",
    "import pandas as pd\n",
    "\n",
    "from IPython.display import Image\n",
    "\n",
    "from tensorflow.keras.models import load_model  # model 사용\n",
    "\n",
    "import platform \n",
    "\n",
    "if (platform.system() == 'Windows'):  # Windows, Linux, Darwin\n",
    "    path = '.' # Local\n",
    "else:    \n",
    "    path = '/content/drive/My Drive/ai7/dnn/recommendation' # Colab\n",
    "    \n",
    "model = load_model(path + '/Book.h5')    \n",
    "# select.append(1) # 1. Do it! 점프 투 파이썬  2. 저스트고 유럽 5개국  3. 어린 왕자\n",
    "# select.append(1) # 1. 모두의 알고리즘 with 파이썬 2. 유럽 여행 바이블  3. 세상에 나쁜 사람은 없다\n",
    "# select.append(2) # 1. 파이썬으로 배우는 통계학 교과서  2. 알프스 자동차 여행 66  3. 2061년"
   ]
  },
  {
   "cell_type": "code",
   "execution_count": 8,
   "metadata": {},
   "outputs": [
    {
     "data": {
      "text/plain": [
       "[[1, 1, 1], [2, 2, 2]]"
      ]
     },
     "execution_count": 8,
     "metadata": {},
     "output_type": "execute_result"
    }
   ],
   "source": [
    "sample = [[1, 1, 1]]\n",
    "sample = sample + [[2, 2, 2]]\n",
    "sample"
   ]
  },
  {
   "cell_type": "code",
   "execution_count": 9,
   "metadata": {
    "scrolled": false
   },
   "outputs": [
    {
     "name": "stdout",
     "output_type": "stream",
     "text": [
      "[1, 1, 1]\n",
      "[[0.82058233 0.12393649 0.05548111]]\n",
      "개발 관련 도서 추천 필요\n",
      "\n",
      "[1, 2, 1]\n",
      "[[0.6451483  0.3021424  0.05270935]]\n",
      "개발 관련 도서 추천 필요\n",
      "\n",
      "[1, 1, 2]\n",
      "[[0.6346957  0.2829135  0.08239079]]\n",
      "개발 관련 도서 추천 필요\n",
      "\n",
      "[2, 1, 1]\n",
      "[[0.51136315 0.36181262 0.12682427]]\n",
      "개발 관련 도서 추천 필요\n",
      "\n",
      "[3, 1, 1]\n",
      "[[0.6669884  0.11952685 0.2134848 ]]\n",
      "개발 관련 도서 추천 필요\n",
      "\n",
      "[1, 3, 1]\n",
      "[[0.54222417 0.18290505 0.27487075]]\n",
      "개발 관련 도서 추천 필요\n",
      "\n",
      "[2, 2, 2]\n",
      "[[0.10113057 0.8084394  0.09043002]]\n",
      "해외 여행 관련 도서 추천 필요\n",
      "\n",
      "[1, 2, 2]\n",
      "[[0.35322937 0.5774757  0.0692948 ]]\n",
      "해외 여행 관련 도서 추천 필요\n",
      "\n",
      "[2, 1, 2]\n",
      "[[0.2459778  0.60754013 0.14648205]]\n",
      "해외 여행 관련 도서 추천 필요\n",
      "\n",
      "[2, 2, 1]\n",
      "[[0.25189948 0.65368766 0.0944128 ]]\n",
      "해외 여행 관련 도서 추천 필요\n",
      "\n",
      "[3, 3, 3]\n",
      "[[0.0225507  0.05697213 0.9204771 ]]\n",
      "소설 관련 도서 추천 필요\n",
      "\n",
      "[1, 3, 3]\n",
      "[[0.04574265 0.07702421 0.8772331 ]]\n",
      "소설 관련 도서 추천 필요\n",
      "\n",
      "[3, 1, 3]\n",
      "[[0.06363722 0.05539936 0.88096344]]\n",
      "소설 관련 도서 추천 필요\n",
      "\n",
      "[3, 3, 1]\n",
      "[[0.22348154 0.10579676 0.6707217 ]]\n",
      "소설 관련 도서 추천 필요\n",
      "\n",
      "[2, 3, 3]\n",
      "[[0.01371448 0.10698704 0.8792985 ]]\n",
      "소설 관련 도서 추천 필요\n",
      "\n",
      "[3, 2, 3]\n",
      "[[0.04671529 0.16425784 0.7890269 ]]\n",
      "소설 관련 도서 추천 필요\n",
      "\n",
      "[3, 3, 2]\n",
      "[[0.10832329 0.17532453 0.71635216]]\n",
      "소설 관련 도서 추천 필요\n",
      "\n"
     ]
    }
   ],
   "source": [
    "# select = [1, 1, 1] # 개발 관련 도서 추천 필요\n",
    "# select = [1, 2, 1] # 개발 관련 도서 추천 필요\n",
    "# select = [1, 1, 2] # 개발 관련 도서 추천 필요\n",
    "# select = [2, 1, 1] # 개발 관련 도서 추천 필요\n",
    "# select = [3, 1, 1] # 개발 관련 도서 추천 필요\n",
    "# select = [2, 2, 2] # 해외 여행 관련 도서 추천 필요\n",
    "# select = [1, 2, 2] # 해외 여행 관련 도서 추천 필요\n",
    "# select = [2, 1, 2] # 해외 여행 관련 도서 추천 필요\n",
    "# select = [2, 2, 1] # 해외 여행 관련 도서 추천 필요\n",
    "# select = [3, 3, 3] # 소설 관련 도서 추천 필요\n",
    "# select = [1, 3, 3]   # 소설 관련 도서 추천 필요\n",
    "sample = [[1, 1, 1],[1, 2, 1],[1, 1, 2],[2, 1, 1],[3, 1, 1], [1, 3, 1]]\n",
    "sample = sample + [[2, 2, 2],[1, 2, 2],[2, 1, 2],[2, 2, 1]]\n",
    "sample = sample + [[3, 3, 3], [1, 3, 3], [3, 1, 3], [3, 3, 1], [2, 3, 3], [3, 2, 3], [3, 3, 2]]\n",
    "\n",
    "for select in sample:\n",
    "    print(select)\n",
    "\n",
    "    X = []\n",
    "    for i in range(0, 3): # 평가 횟수 3번, 0 ~ 2\n",
    "        for j in range(1, 4): # 평가 항목수 3개\n",
    "            # print(i, j)\n",
    "            # 선택한 번호화 같은 경우만 1을 할당\n",
    "            # 사용자가 입력한 1은 배열 index 0에 해당함.\n",
    "            if (select[i] == j): # 1 == 1\n",
    "                X.append(0.8)      # 1                       \n",
    "            else:\n",
    "                X.append(0.1)      # 0,1              \n",
    "\n",
    "    data = np.array([np.array(X)]) # 입력 데이터는 ndarray 타입의 2차원이어야함, 행 방향\n",
    "    p = model.predict(data)  # 모델 사용, 2차원 데이터 전달\n",
    "    print(p)\n",
    "    index = np.argmax(p[0])  # 가장 높은 값의 index 산출, 가장 확률이 높은 값의 index\n",
    "    if index == 0:\n",
    "        label = '개발 관련 도서'\n",
    "    elif index == 1:\n",
    "        label = '해외 여행 관련 도서'\n",
    "    elif index == 2:\n",
    "        label = '소설 관련 도서'\n",
    "\n",
    "    print(label + ' 추천 필요' +'\\n') "
   ]
  },
  {
   "cell_type": "code",
   "execution_count": null,
   "metadata": {},
   "outputs": [],
   "source": []
  },
  {
   "cell_type": "code",
   "execution_count": null,
   "metadata": {},
   "outputs": [],
   "source": []
  },
  {
   "cell_type": "code",
   "execution_count": null,
   "metadata": {},
   "outputs": [],
   "source": []
  }
 ],
 "metadata": {
  "kernelspec": {
   "display_name": "ai",
   "language": "python",
   "name": "ai"
  },
  "language_info": {
   "codemirror_mode": {
    "name": "ipython",
    "version": 3
   },
   "file_extension": ".py",
   "mimetype": "text/x-python",
   "name": "python",
   "nbconvert_exporter": "python",
   "pygments_lexer": "ipython3",
   "version": "3.7.11"
  }
 },
 "nbformat": 4,
 "nbformat_minor": 2
}
