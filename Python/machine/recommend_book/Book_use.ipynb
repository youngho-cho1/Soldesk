{
 "cells": [
  {
   "cell_type": "markdown",
   "metadata": {},
   "source": [
    "### 추천 시스템 제작(도서)"
   ]
  },
  {
   "cell_type": "code",
   "execution_count": 31,
   "metadata": {},
   "outputs": [],
   "source": [
    "# %autosave 0\n",
    "import warnings\n",
    "warnings.filterwarnings(action='ignore')\n",
    "\n",
    "import os\n",
    "\n",
    "import numpy as np\n",
    "import pandas as pd\n",
    "\n",
    "from IPython.display import Image\n",
    "\n",
    "from tensorflow.keras.models import load_model  # model 사용\n",
    "\n",
    "import platform \n",
    "\n",
    "if (platform.system() == 'Windows'):  # Windows, Linux, Darwin\n",
    "    path = '.' # Local\n",
    "else:    \n",
    "    path = '/content/drive/My Drive/ai7/dnn/recommendation' # Colab"
   ]
  },
  {
   "cell_type": "code",
   "execution_count": 32,
   "metadata": {},
   "outputs": [],
   "source": [
    "model = load_model(path + '/Book.h5')"
   ]
  },
  {
   "cell_type": "code",
   "execution_count": 33,
   "metadata": {},
   "outputs": [
    {
     "name": "stdout",
     "output_type": "stream",
     "text": [
      "<class 'numpy.ndarray'>\n",
      "(9,)\n",
      "[0.8 0.1 0.1 0.8 0.1 0.1 0.8 0.1 0.1]\n",
      "[[0.8 0.1 0.1 0.8 0.1 0.1 0.8 0.1 0.1]]\n"
     ]
    }
   ],
   "source": [
    "# 1행의 데이터를 읽어 2차원의 형태로 변환하여 데이터 준비\n",
    "data = np.loadtxt(path + '/user1.csv', delimiter=',', skiprows=1, dtype=np.float64)\n",
    "print(type(data))\n",
    "print(data.shape)\n",
    "print(data)\n",
    "data = np.array([data]) # 2차원, 행 방향\n",
    "# data = np.reshape(data, (data.shape[0], 1)) # 2차원, 열 방향\n",
    "print(data)"
   ]
  },
  {
   "cell_type": "code",
   "execution_count": 34,
   "metadata": {},
   "outputs": [
    {
     "name": "stdout",
     "output_type": "stream",
     "text": [
      "데이터: [0.8 0.1 0.1 0.8 0.1 0.1 0.8 0.1 0.1]\n",
      "p.shape: (1, 3)\n",
      "예측값: [0.82058233 0.12393649 0.05548111]\n",
      "예측값:0.8205823 0.1239365 0.0554811\n"
     ]
    }
   ],
   "source": [
    "print('데이터:', data[0])     # 첫번째 데이터행\n",
    "\n",
    "p = model.predict(data)  # 모델 사용, 2차원 데이터 전달\n",
    "\n",
    "print('p.shape:', p.shape) # 출력 결과는 1행 3열\n",
    "# 확률 0 ~ 1사이의 실수값\n",
    "print('예측값:', p[0]) \n",
    "print('예측값:{0:.7f} {1:.7f} {2:.7f}'.format(p[0][0], p[0][1], p[0][2])) "
   ]
  },
  {
   "cell_type": "code",
   "execution_count": 35,
   "metadata": {},
   "outputs": [],
   "source": [
    "# 모델 사용을 함수로 변경\n",
    "# 0: 개발 관련 도서\n",
    "# 1: 해외 여행 관련 도서\n",
    "# 2: 소설 관련 도서\n",
    "def recommendation(fname):\n",
    "    data = np.loadtxt(path + '/' + fname, delimiter=',', skiprows=1, dtype=np.float64)\n",
    "    data = np.array([data]) # 2차원 배열로 변경, 행 방향\n",
    "    \n",
    "    p = model.predict(data)  # 2차원 데이터 전달하여 분류에 포함될 확률을 2차원 배열로 전달받음\n",
    "    \n",
    "    print(fname)\n",
    "    print(p[0]) # 예측된 확률 출력\n",
    "    \n",
    "    index = np.argmax(p[0]) # 가장 큰 값이 있는 배열의 index return\n",
    "    print('가장 큰 값이 있는 배열의 index:', index)\n",
    "    if index == 0:\n",
    "        label = '개발 관련 도서'\n",
    "    elif index == 1:\n",
    "        label = '해외 여행 관련 도서'\n",
    "    elif index == 2:\n",
    "        label = '소설 관련 도서'\n",
    "        \n",
    "    return label"
   ]
  },
  {
   "cell_type": "code",
   "execution_count": 36,
   "metadata": {},
   "outputs": [
    {
     "name": "stdout",
     "output_type": "stream",
     "text": [
      "user1.csv\n",
      "[0.82058233 0.12393649 0.05548111]\n",
      "가장 큰 값이 있는 배열의 index: 0\n",
      "개발 관련 도서\n"
     ]
    }
   ],
   "source": [
    "print(recommendation('user1.csv'))"
   ]
  },
  {
   "cell_type": "markdown",
   "metadata": {},
   "source": [
    "<TABLE><TR>\n",
    "  <TD style='vertical-align: middle'>\n",
    "      <img src='./images/v11.jpg' style='float:left; height: 200px'>\n",
    "  </TD>\n",
    "  <TD style='vertical-align: middle'>\n",
    "      <img src='./images/v21.jpg' style='float:left; height: 200px'>\n",
    "  </TD>\n",
    "  <TD style='vertical-align: middle'>\n",
    "      <img src='./images/v31.jpg' style='float:left; height: 200px'>\n",
    "  </TD>\n",
    "</TR></TABLE>"
   ]
  },
  {
   "cell_type": "code",
   "execution_count": 37,
   "metadata": {},
   "outputs": [
    {
     "name": "stdout",
     "output_type": "stream",
     "text": [
      "1. Do it! 점프 투 파이썬  2. 저스트고 유럽 5개국  3. 어린 왕자1\n"
     ]
    }
   ],
   "source": [
    "select = [] # 선택 값 저장\n",
    "select1 = int(input('1. Do it! 점프 투 파이썬  2. 저스트고 유럽 5개국  3. 어린 왕자'))\n",
    "select.append(select1)"
   ]
  },
  {
   "cell_type": "markdown",
   "metadata": {},
   "source": [
    "<TABLE><TR>\n",
    "  <TD style='vertical-align: middle'>\n",
    "      <img src='./images/v12.jpg' style='float:left; height: 200px'>\n",
    "  </TD>\n",
    "  <TD style='vertical-align: middle'>\n",
    "      <img src='./images/v22.jpg' style='float:left; height: 200px'>\n",
    "  </TD>\n",
    "  <TD style='vertical-align: middle'>\n",
    "      <img src='./images/v32.jpg' style='float:left; height: 200px'>\n",
    "  </TD>\n",
    "</TR></TABLE>"
   ]
  },
  {
   "cell_type": "code",
   "execution_count": 38,
   "metadata": {
    "scrolled": true
   },
   "outputs": [
    {
     "name": "stdout",
     "output_type": "stream",
     "text": [
      "1. 모두의 알고리즘 with 파이썬 2. 유럽 여행 바이블  3. 세상에 나쁜 사람은 없다3\n"
     ]
    }
   ],
   "source": [
    "select2 = int(input('1. 모두의 알고리즘 with 파이썬 2. 유럽 여행 바이블  3. 세상에 나쁜 사람은 없다'))\n",
    "select.append(select2)"
   ]
  },
  {
   "cell_type": "markdown",
   "metadata": {},
   "source": [
    "<TABLE><TR>\n",
    "  <TD style='vertical-align: middle'>\n",
    "      <img src='./images/v13.jpg' style='float:left; height: 200px'>\n",
    "  </TD>\n",
    "  <TD style='vertical-align: middle'>\n",
    "      <img src='./images/v23.jpg' style='float:left; height: 200px'>\n",
    "  </TD>\n",
    "  <TD style='vertical-align: middle'>\n",
    "      <img src='./images/v33.jpg' style='float:left; height: 200px'>\n",
    "  </TD>\n",
    "</TR></TABLE>"
   ]
  },
  {
   "cell_type": "code",
   "execution_count": 39,
   "metadata": {},
   "outputs": [
    {
     "name": "stdout",
     "output_type": "stream",
     "text": [
      "1. 파이썬으로 배우는 통계학 교과서  2. 알프스 자동차 여행 66  3. 2061년1\n",
      "1 3 1\n",
      "[1, 3, 1]\n"
     ]
    }
   ],
   "source": [
    "select3 = int(input('1. 파이썬으로 배우는 통계학 교과서  2. 알프스 자동차 여행 66  3. 2061년'))\n",
    "select.append(select3)\n",
    "print(select1, select2, select3)\n",
    "print(select) #list"
   ]
  },
  {
   "cell_type": "markdown",
   "metadata": {},
   "source": [
    "### 입력받은 값 1,1,1을 입력 데이터 형식 1,0,0,1,0,0,1,0,0 으로 변환하는 과정\n",
    "### 입력받은 값 2,2,2를 입력 데이터 형식 0,1,0,0,1,0,0,1,0 으로 변환하는 과정"
   ]
  },
  {
   "cell_type": "code",
   "execution_count": 40,
   "metadata": {},
   "outputs": [
    {
     "name": "stdout",
     "output_type": "stream",
     "text": [
      "1\n",
      "2\n",
      "3\n"
     ]
    }
   ],
   "source": [
    "for j in range(1, 4):\n",
    "    print(j)"
   ]
  },
  {
   "cell_type": "code",
   "execution_count": 41,
   "metadata": {},
   "outputs": [
    {
     "name": "stdout",
     "output_type": "stream",
     "text": [
      "[0.8, 0.1, 0.1]\n"
     ]
    }
   ],
   "source": [
    "X = []  # list\n",
    "# 선택 값중에 첫번째 값\n",
    "for j in range(1, 4): # 1 ~ 3까지 발생\n",
    "    if (select[0] == j): # 1 == 1, 1 == 2, 1 == 3\n",
    "        X.append(0.8)   \n",
    "    else:\n",
    "        X.append(0.1)\n",
    "        \n",
    "print(X)        "
   ]
  },
  {
   "cell_type": "code",
   "execution_count": 42,
   "metadata": {},
   "outputs": [
    {
     "name": "stdout",
     "output_type": "stream",
     "text": [
      "[0.8, 0.1, 0.1, 0.1, 0.1, 0.8]\n"
     ]
    }
   ],
   "source": [
    "# 선택 값중에 두번째 값\n",
    "for j in range(1, 4): # 1 ~ 3까지 발생\n",
    "    if (select[1] == j): # 1 == 1, 1 == 2, 1 == 3\n",
    "        X.append(0.8)      # 1       0       0 \n",
    "    else:\n",
    "        X.append(0.1)\n",
    "        \n",
    "print(X)      "
   ]
  },
  {
   "cell_type": "code",
   "execution_count": 43,
   "metadata": {},
   "outputs": [
    {
     "name": "stdout",
     "output_type": "stream",
     "text": [
      "[0.8, 0.1, 0.1, 0.1, 0.1, 0.8, 0.8, 0.1, 0.1]\n"
     ]
    }
   ],
   "source": [
    "# 선택 값중에 세번째 값\n",
    "for j in range(1, 4): # 1 ~ 3까지 발생\n",
    "    if (select[2] == j): # 1 == 1, 1 == 2, 1 == 3\n",
    "        X.append(0.8)      # 1       0       0 \n",
    "    else:\n",
    "        X.append(0.1)\n",
    "        \n",
    "print(X)      "
   ]
  },
  {
   "cell_type": "code",
   "execution_count": 44,
   "metadata": {},
   "outputs": [
    {
     "name": "stdout",
     "output_type": "stream",
     "text": [
      "[0.8, 0.1, 0.1, 0.1, 0.1, 0.8, 0.8, 0.1, 0.1]\n",
      "[[0.8 0.1 0.1 0.1 0.1 0.8 0.8 0.1 0.1]]\n"
     ]
    }
   ],
   "source": [
    "# 3개의 for문이 결합된 형태\n",
    "X = []\n",
    "for i in range(0, 3): # 평가 횟수 3번, 0 ~ 2\n",
    "    for j in range(1, 4): # 평가 항목수 3개\n",
    "        # print(i, j)\n",
    "        # 선택한 번호화 같은 경우만 1을 할당\n",
    "        # 사용자가 입력한 1은 배열 index 0에 해당함.\n",
    "        if (select[i] == j): # 1 == 1\n",
    "            X.append(0.8)      # 1                       \n",
    "        else:\n",
    "            X.append(0.1)      # 0,0                \n",
    "            \n",
    "print(X)            \n",
    "print(np.array([np.array(X)])) # 1차원 list -> 2차원 ndarray 배열로 변경"
   ]
  },
  {
   "cell_type": "code",
   "execution_count": 45,
   "metadata": {},
   "outputs": [
    {
     "name": "stdout",
     "output_type": "stream",
     "text": [
      "[[0.8 0.1 0.1 0.1 0.1 0.8 0.8 0.1 0.1]]\n",
      "[[0.54222417 0.18290505 0.27487075]]\n",
      "개발 관련 도서 추천 필요\n"
     ]
    }
   ],
   "source": [
    "data = np.array([np.array(X)]) # 입력 데이터는 ndarray 타입의 2차원이어야함, 행 방향\n",
    "print(data)\n",
    "p = model.predict(data)  # 모델 사용, 2차원 데이터 전달\n",
    "print(p)\n",
    "index = np.argmax(p[0])  # 가장 높은 값의 index 산출, 가장 확률이 높은 값의 index\n",
    "if index == 0:\n",
    "    label = '개발 관련 도서'\n",
    "elif index == 1:\n",
    "    label = '해외 여행 관련 도서'\n",
    "elif index == 2:\n",
    "    label = '소설 관련 도서'\n",
    "\n",
    "print(label + ' 추천 필요') \n",
    "# 1 1 1: 개발 관련 도서 추천 필요\n",
    "# 1 2 1: 개발 관련 도서 추천 필요\n",
    "# 1 1 2: 해외 여행 관련 도서 추천 필요 X\n",
    "# 2 1 1: 해외 여행 관련 도서 추천 필요 X\n",
    "# 2 2 2: 해외 여행 관련 도서 추천 필요\n",
    "# 2 3 3: 해외 여행 관련 도서 추천 필요 X\n",
    "# 1 3 3: 해외 여행 관련 도서 추천 필요 X\n",
    "# 3 3 1: 해외 여행 관련 도서 추천 필요 X\n",
    "# 3 3 3: 소설 관련 도서 추천 필요"
   ]
  },
  {
   "cell_type": "markdown",
   "metadata": {},
   "source": [
    "#### 딥러닝 모델을 이용하여 고객의 특성이 파악됨\n",
    "#### 기업에서의 추천 시스템은 비공개로 개발되는 알고리즘이 다양함\n",
    "#### DBMS에 사용자가 구입한 상품이면 추천 상품에서 제외 시켜야함."
   ]
  },
  {
   "cell_type": "code",
   "execution_count": null,
   "metadata": {},
   "outputs": [],
   "source": []
  },
  {
   "cell_type": "code",
   "execution_count": null,
   "metadata": {},
   "outputs": [],
   "source": []
  },
  {
   "cell_type": "code",
   "execution_count": null,
   "metadata": {},
   "outputs": [],
   "source": []
  }
 ],
 "metadata": {
  "kernelspec": {
   "display_name": "ai",
   "language": "python",
   "name": "ai"
  },
  "language_info": {
   "codemirror_mode": {
    "name": "ipython",
    "version": 3
   },
   "file_extension": ".py",
   "mimetype": "text/x-python",
   "name": "python",
   "nbconvert_exporter": "python",
   "pygments_lexer": "ipython3",
   "version": "3.7.11"
  }
 },
 "nbformat": 4,
 "nbformat_minor": 2
}
