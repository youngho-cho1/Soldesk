{
 "cells": [
  {
   "cell_type": "markdown",
   "metadata": {},
   "source": [
    "### 이미지에서 얼굴 부분만 자르기(crop), 김남길, 이하늬, 열혈사제 출연진"
   ]
  },
  {
   "cell_type": "code",
   "execution_count": 11,
   "metadata": {},
   "outputs": [
    {
     "name": "stdout",
     "output_type": "stream",
     "text": [
      "<class 'numpy.ndarray'>\n",
      "(153, 123, 3)\n"
     ]
    }
   ],
   "source": [
    "# 하나의 이미지의 얼굴을 검색하여 Crop\n",
    "import cv2\n",
    "import datetime\n",
    "\n",
    "# CPU 기반\n",
    "face_cascade = cv2.CascadeClassifier('./haarcascade_frontalface_default.xml')\n",
    "\n",
    "img = cv2.imread('./kim.jpg')      # 김남길\n",
    "# img = cv2.imread('./lee.jpg')     # 이하늬\n",
    "# img = cv2.imread('./father.jpg')  # 열혈사제 출연진 5명\n",
    "gray = cv2.cvtColor(img, cv2.COLOR_BGR2GRAY)\n",
    "faces = face_cascade.detectMultiScale(gray, 1.3,5)\n",
    "count = 0\n",
    "for (x,y,w,h) in faces:\n",
    "    cropped = img[y - 30:y + h + 20, x - 10:x + w + 10]\n",
    "    print(type(cropped))\n",
    "    print(cropped.shape)\n",
    "    # 이미지를 저장\n",
    "    \n",
    "    count += 1\n",
    "    now = datetime.datetime.now()\n",
    "    nowDatetime = now.strftime('%Y%m%d%H%M%S')    \n",
    "    cv2.imwrite(nowDatetime + \"_\" + str(count) + \".jpg\", cropped)\n",
    "\n",
    "# Lock 걸림으로 주석처리\n",
    "# cv2.imshow('Image view', img)\n",
    "# cv2.waitKey(0)\n",
    "# cv2.destroyAllWindows()"
   ]
  },
  {
   "cell_type": "markdown",
   "metadata": {},
   "source": [
    "### 영화배우 이미지 파일 확인"
   ]
  },
  {
   "cell_type": "code",
   "execution_count": 12,
   "metadata": {},
   "outputs": [
    {
     "name": "stdout",
     "output_type": "stream",
     "text": [
      "file: 000001.jpg\n",
      "file: 000002.jpg\n",
      "file: 000003.jpg\n",
      "file: 000004.jpg\n",
      "file: 000005.jpg\n",
      "file: 000006.jpg\n",
      "file: 000007.jpg\n",
      "file: 000008.jpg\n",
      "file: 000009.jpg\n",
      "file: 000010.jpg\n",
      "file: 000011.jpg\n",
      "file: 000012.jpg\n",
      "file: 000013.jpg\n",
      "file: 000014.jpg\n",
      "file: 000015.jpg\n",
      "file: 000016.jpg\n",
      "file: 000017.jpg\n",
      "file: 000018.jpg\n",
      "file: 000019.jpg\n",
      "file: 000020.jpg\n",
      "file: 000021.jpg\n",
      "file: 000022.jpg\n",
      "file: 000023.jpg\n",
      "file: 000024.jpg\n",
      "file: 000025.jpg\n",
      "file: 000026.jpg\n",
      "file: 000027.jpg\n",
      "file: 000028.jpg\n",
      "file: 000029.jpg\n",
      "file: 000030.jpg\n",
      "file: 000031.jpg\n",
      "file: 000032.jpg\n",
      "file: 000033.jpg\n",
      "file: 000034.jpg\n",
      "file: 000035.jpg\n",
      "file: 000036.jpg\n",
      "file: 000037.jpg\n",
      "file: 000038.jpg\n",
      "file: 000039.jpg\n",
      "file: 000040.jpg\n",
      "file: 000041.jpg\n",
      "file: 000042.jpg\n",
      "file: 000043.jpg\n",
      "file: 000044.jpg\n",
      "file: 000045.jpg\n",
      "file: 000046.jpg\n",
      "file: 000047.jpg\n",
      "file: 000048.jpg\n",
      "file: 000049.jpg\n",
      "file: 000050.jpg\n",
      "file: 000051.jpg\n",
      "file: 000052.jpg\n",
      "file: 000053.jpg\n"
     ]
    }
   ],
   "source": [
    "# 특정 폴더의 파일 목록 확인\n",
    "import os\n",
    "\n",
    "path = \"./src/Andrew Lincoln\"\n",
    "# path = \"./src/Kim Nam Gil\"\n",
    "# path = \"./src/SongGangHo\"\n",
    "file_list = os.listdir(path)\n",
    "file_list_py = [file for file in file_list if file.endswith(\".jpg\")]\n",
    "for file in file_list_py:\n",
    "    print (\"file: {}\".format(file))"
   ]
  },
  {
   "cell_type": "markdown",
   "metadata": {},
   "source": [
    "### 영화배우 이미지 Crop\n",
    "> 폴더이름을 한글로 지정하면 Crop이 안됨으로 영문으로 할것"
   ]
  },
  {
   "cell_type": "code",
   "execution_count": 13,
   "metadata": {},
   "outputs": [
    {
     "name": "stdout",
     "output_type": "stream",
     "text": [
      "배우 이름을 입력하세요: LSK\n",
      "file: 001.jpg\n",
      "file: 002.jpg\n",
      "file: 003.jpg\n",
      "file: 004.jpg\n",
      "file: 005.jpg\n"
     ]
    }
   ],
   "source": [
    "# GPU는 메모리 해제가 안됨으로 CPU에서 실행\n",
    "# 특정 폴더의 이미지의 얼굴을 검색하여 Crop\n",
    "# 폴더명에 공백 가능\n",
    "import os\n",
    "import cv2\n",
    "import datetime\n",
    "\n",
    "import os\n",
    "\n",
    "# /src 폴더의 원본 이미지를 crop하여 /src_crop 폴더로 저장함.\n",
    "newfolder = './src_crop'\n",
    "if os.path.exists(newfolder) == False:\n",
    "    os.mkdir(newfolder)\n",
    "\n",
    "face_cascade = cv2.CascadeClassifier('./haarcascade_frontalface_default.xml')\n",
    "\n",
    "# Amanda Seyfried, Andrew Lincoln, Anne Hathaway\n",
    "# Keira Christina Knightley, Pierce Brosnan\n",
    "# Zo Jung Seok, Jae Hong\n",
    "cropDir = input('배우 이름을 입력하세요: ') \n",
    "\n",
    "path = \"./src/\" + cropDir  # /src/Jae Hong\n",
    "file_list = os.listdir(path)\n",
    "file_list_py = [file for file in file_list if file.endswith(\".jpg\")]\n",
    "count = 0\n",
    "\n",
    "for file in file_list_py:\n",
    "    print (\"file: {}\".format(file))\n",
    "    img = cv2.imread(\"./src/\" + cropDir + \"/\" + file)\n",
    "    gray = cv2.cvtColor(img, cv2.COLOR_BGR2GRAY)\n",
    "    faces = face_cascade.detectMultiScale(gray, 1.3,5)\n",
    "    for (x,y,w,h) in faces:\n",
    "        cropped = img[y - 30:y + h + 20, x - 10:x + w + 10]\n",
    "        # 이미지를 저장\n",
    "        \n",
    "        count += 1\n",
    "        now = datetime.datetime.now()\n",
    "        nowDatetime = now.strftime('%Y%m%d%H%M%S')\n",
    "        \n",
    "        # 폴더가 자동으로 생성이 안됨으로 직접 확인 후 생성\n",
    "        if os.path.exists(\"./src_crop/\" + cropDir) == False: # 폴더 생성\n",
    "            os.mkdir(\"./src_crop/\" + cropDir)\n",
    "            \n",
    "        cv2.imwrite(\"./src_crop/\" + cropDir + \"/\" + nowDatetime + \"_\" + str(count) + \".jpg\", cropped)\n",
    "\n",
    "    # cv2.imshow('Image view', img)\n",
    "    # cv2.waitKey(0)\n",
    "    # cv2.destroyAllWindows()"
   ]
  },
  {
   "cell_type": "code",
   "execution_count": null,
   "metadata": {},
   "outputs": [],
   "source": []
  },
  {
   "cell_type": "code",
   "execution_count": null,
   "metadata": {},
   "outputs": [],
   "source": []
  },
  {
   "cell_type": "code",
   "execution_count": null,
   "metadata": {},
   "outputs": [],
   "source": []
  }
 ],
 "metadata": {
  "kernelspec": {
   "display_name": "ai",
   "language": "python",
   "name": "ai"
  },
  "language_info": {
   "codemirror_mode": {
    "name": "ipython",
    "version": 3
   },
   "file_extension": ".py",
   "mimetype": "text/x-python",
   "name": "python",
   "nbconvert_exporter": "python",
   "pygments_lexer": "ipython3",
   "version": "3.7.11"
  }
 },
 "nbformat": 4,
 "nbformat_minor": 2
}
