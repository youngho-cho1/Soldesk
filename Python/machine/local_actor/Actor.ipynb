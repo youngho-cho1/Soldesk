{
 "cells": [
  {
   "cell_type": "markdown",
   "metadata": {},
   "source": [
    "### CNN 기법을 이용한 안면(얼굴) 인식"
   ]
  },
  {
   "cell_type": "code",
   "execution_count": 22,
   "metadata": {},
   "outputs": [],
   "source": [
    "#%autosave 0\n",
    "import warnings\n",
    "warnings.filterwarnings(action='ignore')\n",
    "\n",
    "import os\n",
    "import time\n",
    "\n",
    "import numpy as np\n",
    "import pandas as pd\n",
    "import seaborn as sb\n",
    "import tensorflow as tf\n",
    "\n",
    "from tensorflow.keras.models import Sequential  # class\n",
    "from tensorflow.keras.models import load_model  # model 사용\n",
    "from tensorflow.keras.layers import Dense       # 전결합\n",
    "from tensorflow.keras.layers import Dropout     # 특정 node를 사용안함.\n",
    "from tensorflow.keras.layers import Conv2D\n",
    "from tensorflow.keras.layers import MaxPooling2D\n",
    "from tensorflow.keras.layers import Flatten\n",
    "\n",
    "from tensorflow.keras.callbacks import EarlyStopping   # 학습 자동 중지\n",
    "from tensorflow.keras.callbacks import ModelCheckpoint # 우수한 학습 모델 파일 저장\n",
    "from tensorflow.keras import regularizers \n",
    "from tensorflow.keras.utils import to_categorical   # one-hot 엔코딩\n",
    "\n",
    "from tensorflow.keras.preprocessing.image import ImageDataGenerator\n",
    "\n",
    "from tensorflow.keras.datasets import mnist\n",
    "\n",
    "from sklearn.preprocessing import LabelEncoder\n",
    "from sklearn.model_selection import train_test_split # 학습셋과 테스트셋의 분리 지원\n",
    "from sklearn.model_selection import StratifiedKFold  # K겹 교차 검증\n",
    "\n",
    "import matplotlib.pyplot as plt\n",
    "from matplotlib import font_manager, rc\n",
    "\n",
    "import platform \n",
    "\n",
    "if (platform.system() == 'Windows'):  # Windows, Linux, Darwin\n",
    "    rc('font', family=font_manager.FontProperties(fname=\"C:/Windows/Fonts/malgun.ttf\").get_name())\n",
    "    path = '.' # Local\n",
    "else:    \n",
    "    plt.rc('font', family='NanumBarunGothic')  # Ubuntu 18.04 기준 한글 처리\n",
    "    path = '/content/drive/My Drive/ai_202104_ml' # Colab\n",
    "\n",
    "plt.rcParams[\"font.size\"] = 12         # 글자 크기\n",
    "# plt.rcParams[\"figure.figsize\"] = (10, 4) # 10:4의 그래프 비율\n",
    "plt.rcParams['axes.unicode_minus'] = False  # minus 부호는 unicode 적용시 한글이 깨짐으로 설정\n",
    "\n",
    "%matplotlib inline  "
   ]
  },
  {
   "cell_type": "code",
   "execution_count": 23,
   "metadata": {
    "scrolled": true
   },
   "outputs": [
    {
     "name": "stdout",
     "output_type": "stream",
     "text": [
      "Found 244 images belonging to 7 classes.\n",
      "Found 70 images belonging to 7 classes.\n"
     ]
    }
   ],
   "source": [
    "width=64\n",
    "height=64\n",
    "\n",
    "# 훈련용 데이터 생성기\n",
    "# rescale=1./255: 실수형태로 정규화, 0~1 사이의 값\n",
    "train_datagen = ImageDataGenerator(rescale=1./255)\n",
    " \n",
    "train_generator = train_datagen.flow_from_directory(\n",
    "        './train',                   # 파일이 있는 폴더 \n",
    "        target_size=(width, height), # 훈련데이터 크기\n",
    "        batch_size=1,                # 이미지 1건씩 처리\n",
    "        class_mode='categorical')    # 다중분류\n",
    "\n",
    "# 검증용 데이터 생성기\n",
    "vali_datagen = ImageDataGenerator(rescale=1./255)\n",
    " \n",
    "vali_generator = vali_datagen.flow_from_directory(\n",
    "        './validation',\n",
    "        target_size=(width, height),    \n",
    "        batch_size=1,\n",
    "        class_mode='categorical')\n",
    "# 3 classes: ./train/circle, ./train/rectangle, ./train/triangle"
   ]
  },
  {
   "cell_type": "code",
   "execution_count": 24,
   "metadata": {},
   "outputs": [
    {
     "name": "stdout",
     "output_type": "stream",
     "text": [
      "Model: \"sequential_1\"\n",
      "_________________________________________________________________\n",
      "Layer (type)                 Output Shape              Param #   \n",
      "=================================================================\n",
      "conv2d_2 (Conv2D)            (None, 64, 64, 32)        896       \n",
      "_________________________________________________________________\n",
      "conv2d_3 (Conv2D)            (None, 64, 64, 32)        9248      \n",
      "_________________________________________________________________\n",
      "max_pooling2d_1 (MaxPooling2 (None, 32, 32, 32)        0         \n",
      "_________________________________________________________________\n",
      "flatten_1 (Flatten)          (None, 32768)             0         \n",
      "_________________________________________________________________\n",
      "dense_2 (Dense)              (None, 32)                1048608   \n",
      "_________________________________________________________________\n",
      "dropout_1 (Dropout)          (None, 32)                0         \n",
      "_________________________________________________________________\n",
      "dense_3 (Dense)              (None, 7)                 231       \n",
      "=================================================================\n",
      "Total params: 1,058,983\n",
      "Trainable params: 1,058,983\n",
      "Non-trainable params: 0\n",
      "_________________________________________________________________\n",
      "Epoch 1/50\n",
      "244/244 [==============================] - 6s 22ms/step - loss: 2.0215 - accuracy: 0.2071 - val_loss: 1.6868 - val_accuracy: 0.3571\n",
      "\n",
      "Epoch 00001: val_accuracy improved from -inf to 0.35714, saving model to .\\Actor.h5\n",
      "Epoch 2/50\n",
      "244/244 [==============================] - 5s 22ms/step - loss: 1.5703 - accuracy: 0.4133 - val_loss: 1.0106 - val_accuracy: 0.6571\n",
      "\n",
      "Epoch 00002: val_accuracy improved from 0.35714 to 0.65714, saving model to .\\Actor.h5\n",
      "Epoch 3/50\n",
      "244/244 [==============================] - 6s 23ms/step - loss: 1.0589 - accuracy: 0.5831 - val_loss: 0.7897 - val_accuracy: 0.7857\n",
      "\n",
      "Epoch 00003: val_accuracy improved from 0.65714 to 0.78571, saving model to .\\Actor.h5\n",
      "Epoch 4/50\n",
      "244/244 [==============================] - 6s 23ms/step - loss: 0.7945 - accuracy: 0.6497 - val_loss: 0.7168 - val_accuracy: 0.8143\n",
      "\n",
      "Epoch 00004: val_accuracy improved from 0.78571 to 0.81429, saving model to .\\Actor.h5\n",
      "Epoch 5/50\n",
      "244/244 [==============================] - 6s 23ms/step - loss: 0.6659 - accuracy: 0.7093 - val_loss: 0.5634 - val_accuracy: 0.8286\n",
      "\n",
      "Epoch 00005: val_accuracy improved from 0.81429 to 0.82857, saving model to .\\Actor.h5\n",
      "Epoch 6/50\n",
      "244/244 [==============================] - 6s 24ms/step - loss: 0.5425 - accuracy: 0.7751 - val_loss: 0.5052 - val_accuracy: 0.8571\n",
      "\n",
      "Epoch 00006: val_accuracy improved from 0.82857 to 0.85714, saving model to .\\Actor.h5\n",
      "Epoch 7/50\n",
      "244/244 [==============================] - 6s 23ms/step - loss: 0.5701 - accuracy: 0.7986 - val_loss: 0.5835 - val_accuracy: 0.8429\n",
      "\n",
      "Epoch 00007: val_accuracy did not improve from 0.85714\n",
      "Epoch 8/50\n",
      "244/244 [==============================] - 6s 23ms/step - loss: 0.4555 - accuracy: 0.8396 - val_loss: 0.5359 - val_accuracy: 0.8429\n",
      "\n",
      "Epoch 00008: val_accuracy did not improve from 0.85714\n",
      "Epoch 9/50\n",
      "244/244 [==============================] - 6s 24ms/step - loss: 0.2912 - accuracy: 0.9053 - val_loss: 0.6014 - val_accuracy: 0.7857\n",
      "\n",
      "Epoch 00009: val_accuracy did not improve from 0.85714\n",
      "Epoch 10/50\n",
      "244/244 [==============================] - 6s 23ms/step - loss: 0.3630 - accuracy: 0.8465 - val_loss: 0.5425 - val_accuracy: 0.8000\n",
      "\n",
      "Epoch 00010: val_accuracy did not improve from 0.85714\n",
      "Epoch 11/50\n",
      "244/244 [==============================] - 6s 23ms/step - loss: 0.2939 - accuracy: 0.8959 - val_loss: 0.9322 - val_accuracy: 0.7714\n",
      "\n",
      "Epoch 00011: val_accuracy did not improve from 0.85714\n",
      "Epoch 12/50\n",
      "244/244 [==============================] - 6s 24ms/step - loss: 0.2792 - accuracy: 0.9076 - val_loss: 0.4928 - val_accuracy: 0.8571\n",
      "\n",
      "Epoch 00012: val_accuracy did not improve from 0.85714\n",
      "Epoch 13/50\n",
      "244/244 [==============================] - 5s 22ms/step - loss: 0.2898 - accuracy: 0.8661 - val_loss: 0.7005 - val_accuracy: 0.8286\n",
      "\n",
      "Epoch 00013: val_accuracy did not improve from 0.85714\n",
      "Epoch 14/50\n",
      "244/244 [==============================] - 5s 22ms/step - loss: 0.3262 - accuracy: 0.8744 - val_loss: 0.7174 - val_accuracy: 0.8429\n",
      "\n",
      "Epoch 00014: val_accuracy did not improve from 0.85714\n",
      "Epoch 15/50\n",
      "244/244 [==============================] - 5s 22ms/step - loss: 0.2004 - accuracy: 0.9400 - val_loss: 0.6354 - val_accuracy: 0.8571\n",
      "\n",
      "Epoch 00015: val_accuracy did not improve from 0.85714\n",
      "Runtime: 84.87 초\n"
     ]
    }
   ],
   "source": [
    "SEED = 0\n",
    "os.environ['PYTHONHASHSEED'] = str(SEED)\n",
    "os.environ['TF_DETERMINISTIC_OPS'] = '1'\n",
    "\n",
    "tf.random.set_seed(SEED) # Global seed\n",
    "np.random.seed(SEED)\n",
    "random.seed(SEED)\n",
    "model = Sequential()\n",
    "model.add(Conv2D(32, kernel_size = (3, 3), padding='same',\n",
    "                 input_shape = (width, height, 3), activation='relu'))\n",
    "model.add(Conv2D(32, (3, 3), padding='same', activation='relu'))\n",
    "# 4개중에 최대값 1개만 다음 레이어로 전달\n",
    "model.add(MaxPooling2D(pool_size=(2, 2))) \n",
    "\n",
    "# model.add(Conv2D(16, (3, 3), padding='same', activation='relu'))\n",
    "# model.add(Conv2D(16, (3, 3), padding='same', activation='relu'))\n",
    "# model.add(MaxPooling2D(pool_size=(2, 2))) \n",
    "# model.add(Dropout(0.25)) # node 25% 사용하지 않음.\n",
    "\n",
    "model.add(Flatten()) # 3차원 텐서의 형태를 1차원 열방향으로 변경\n",
    "model.add(Dense(32, activation='relu'))\n",
    "model.add(Dropout(0.25)) # node 25% 사용하지 않음.\n",
    "\n",
    "model.add(Dense(7, activation='softmax'))\n",
    "model.compile(optimizer='adam', loss='categorical_crossentropy', \n",
    "                                metrics=['accuracy'])\n",
    "model.summary()\n",
    "\n",
    "checkpointer = ModelCheckpoint(filepath='./Actor.h5', monitor='val_accuracy',\n",
    "                               verbose=1, save_best_only=True)\n",
    "early_stopping = EarlyStopping(monitor='loss', patience=2,\n",
    "                               restore_best_weights=True)\n",
    "start = time.time()\n",
    "hist = model.fit(\n",
    "    train_generator,\n",
    "    epochs = 50,\n",
    "    validation_data = vali_generator, \n",
    "    callbacks=[checkpointer, early_stopping])\n",
    "end = time.time()\n",
    "print('Runtime: {0:.2f} 초'.format(end-start))\n",
    "# cpu: 90 초, i5 8500: 41\n",
    "# gpu: 42 초"
   ]
  },
  {
   "cell_type": "code",
   "execution_count": 25,
   "metadata": {},
   "outputs": [
    {
     "data": {
      "image/png": "[encoded data removed]",
      "text/plain": [
       "<Figure size 720x360 with 2 Axes>"
      ]
     },
     "metadata": {
      "needs_background": "light"
     },
     "output_type": "display_data"
    }
   ],
   "source": [
    "import matplotlib.pyplot as plt\n",
    "%matplotlib inline  \n",
    "\n",
    "fig, loss_ax = plt.subplots()\n",
    "# plt.figure(figsize=(6,4)) # ERROR\n",
    "fig.set_size_inches(10, 5)  # 챠트 크기 설정\n",
    "\n",
    "acc_ax = loss_ax.twinx()  # 오른쪽 y 출 설정\n",
    "\n",
    "# 왼쪽 y 축 설정\n",
    "loss_ax.plot(hist.history['loss'], 'y', label='train loss')\n",
    "loss_ax.plot(hist.history['val_loss'], 'r', label='val loss')\n",
    "loss_ax.set_ylim([0.0, 2.0]) # 값을 반영하여 변경\n",
    "\n",
    "# 오른쪽 y 축 설정\n",
    "acc_ax.plot(hist.history['accuracy'], 'b', label='train accuracy')\n",
    "acc_ax.plot(hist.history['val_accuracy'], 'g', label='val accuracy')\n",
    "acc_ax.set_ylim([0.0, 1.0])\n",
    "\n",
    "# 축 레이블 설정\n",
    "loss_ax.set_xlabel('epoch')  # 학습 횟수\n",
    "loss_ax.set_ylabel('loss')   # 오차\n",
    "acc_ax.set_ylabel('accuracy') # 정확도\n",
    "\n",
    "loss_ax.legend(loc='upper left') # 오차 레이블 위치\n",
    "acc_ax.legend(loc='lower left')  # 정확도 레이블 위치\n",
    "\n",
    "plt.show()"
   ]
  },
  {
   "cell_type": "code",
   "execution_count": 26,
   "metadata": {},
   "outputs": [
    {
     "name": "stdout",
     "output_type": "stream",
     "text": [
      "-- Evaluate --\n",
      "accuracy: 82.86%\n"
     ]
    }
   ],
   "source": [
    "print(\"-- Evaluate --\")\n",
    "scores = model.evaluate_generator(vali_generator, verbose=0)  \n",
    "print(\"%s: %.2f%%\" %(model.metrics_names[1], scores[1]*100))"
   ]
  },
  {
   "cell_type": "code",
   "execution_count": 27,
   "metadata": {},
   "outputs": [
    {
     "name": "stdout",
     "output_type": "stream",
     "text": [
      "-- Predict --\n",
      "{'Amanda Seyfried': 0, 'Andrew Lincoln': 1, 'Anne Hathaway': 2, 'Hugh Jackman': 3, 'Keira Christina Knightley': 4, 'Pierce Brosnan': 5, 'Zo Jung Seok': 6}\n",
      "<class 'numpy.ndarray'>\n",
      "(70, 7)\n",
      "[[0.000 0.000 0.999 0.000 0.001 0.000 0.000]\n",
      " [0.000 0.000 0.997 0.000 0.003 0.000 0.000]\n",
      " [0.000 0.000 0.000 0.966 0.000 0.000 0.034]\n",
      " [0.000 0.000 0.000 1.000 0.000 0.000 0.000]\n",
      " [0.100 0.016 0.002 0.000 0.092 0.785 0.005]\n",
      " [0.000 0.083 0.056 0.022 0.059 0.780 0.000]\n",
      " [0.000 0.000 0.993 0.000 0.006 0.000 0.000]\n",
      " [0.000 1.000 0.000 0.000 0.000 0.000 0.000]\n",
      " [0.000 0.000 0.000 1.000 0.000 0.000 0.000]\n",
      " [0.000 1.000 0.000 0.000 0.000 0.000 0.000]\n",
      " [0.862 0.018 0.000 0.000 0.120 0.000 0.000]\n",
      " [0.772 0.001 0.001 0.000 0.066 0.009 0.152]\n",
      " [0.250 0.025 0.042 0.000 0.673 0.002 0.008]\n",
      " [0.011 0.866 0.100 0.000 0.015 0.008 0.000]\n",
      " [0.011 0.132 0.100 0.000 0.757 0.000 0.000]\n",
      " [0.000 0.015 0.974 0.000 0.011 0.000 0.000]\n",
      " [0.993 0.000 0.000 0.000 0.004 0.001 0.002]\n",
      " [0.000 0.000 0.000 0.000 0.000 0.999 0.000]\n",
      " [0.000 0.000 0.000 0.000 0.000 0.000 1.000]\n",
      " [0.000 0.000 0.000 0.000 0.000 0.000 1.000]\n",
      " [0.000 0.009 0.076 0.007 0.901 0.005 0.002]\n",
      " [0.000 0.000 0.000 1.000 0.000 0.000 0.000]\n",
      " [0.211 0.788 0.000 0.000 0.002 0.000 0.000]\n",
      " [0.000 0.001 0.743 0.000 0.200 0.000 0.056]\n",
      " [0.000 0.000 0.000 0.000 0.000 0.999 0.000]\n",
      " [0.002 0.198 0.067 0.000 0.733 0.000 0.000]\n",
      " [0.000 0.000 0.000 0.000 0.000 0.000 1.000]\n",
      " [0.000 0.000 0.000 0.000 0.000 1.000 0.000]\n",
      " [0.024 0.976 0.000 0.000 0.000 0.000 0.000]\n",
      " [0.000 0.000 0.000 0.001 0.000 0.000 0.999]\n",
      " [0.999 0.001 0.000 0.000 0.000 0.000 0.000]\n",
      " [0.000 0.006 0.002 0.000 0.011 0.981 0.000]\n",
      " [0.000 0.000 0.000 1.000 0.000 0.000 0.000]\n",
      " [0.000 0.000 0.000 0.000 0.000 0.000 1.000]\n",
      " [0.001 0.002 0.917 0.000 0.079 0.000 0.001]\n",
      " [0.003 0.000 0.000 0.000 0.000 0.000 0.997]\n",
      " [0.024 0.976 0.000 0.000 0.000 0.000 0.000]\n",
      " [0.082 0.816 0.055 0.000 0.047 0.000 0.000]\n",
      " [0.000 0.000 0.000 1.000 0.000 0.000 0.000]\n",
      " [0.000 0.001 0.996 0.000 0.003 0.000 0.000]\n",
      " [0.003 0.414 0.132 0.000 0.444 0.006 0.000]\n",
      " [0.001 0.000 0.000 0.000 0.001 0.000 0.998]\n",
      " [0.074 0.591 0.293 0.000 0.042 0.000 0.000]\n",
      " [0.999 0.001 0.000 0.000 0.000 0.000 0.000]\n",
      " [0.991 0.006 0.000 0.000 0.002 0.000 0.000]\n",
      " [0.001 0.000 0.000 0.000 0.001 0.000 0.998]\n",
      " [0.000 0.000 0.000 1.000 0.000 0.000 0.000]\n",
      " [1.000 0.000 0.000 0.000 0.000 0.000 0.000]\n",
      " [0.880 0.054 0.049 0.000 0.012 0.000 0.004]\n",
      " [0.200 0.069 0.052 0.223 0.063 0.041 0.353]\n",
      " [0.000 0.001 0.996 0.000 0.003 0.000 0.000]\n",
      " [0.000 0.000 0.989 0.000 0.011 0.000 0.000]\n",
      " [0.000 0.999 0.000 0.000 0.001 0.000 0.000]\n",
      " [0.004 0.992 0.002 0.000 0.001 0.002 0.000]\n",
      " [0.043 0.000 0.000 0.014 0.042 0.030 0.870]\n",
      " [0.000 0.000 0.000 0.995 0.000 0.000 0.005]\n",
      " [0.002 0.001 0.006 0.000 0.984 0.000 0.007]\n",
      " [1.000 0.000 0.000 0.000 0.000 0.000 0.000]\n",
      " [0.002 0.000 0.001 0.000 0.008 0.000 0.989]\n",
      " [0.000 0.000 0.000 1.000 0.000 0.000 0.000]\n",
      " [0.001 0.009 0.981 0.000 0.009 0.000 0.000]\n",
      " [1.000 0.000 0.000 0.000 0.000 0.000 0.000]\n",
      " [0.020 0.978 0.000 0.000 0.001 0.000 0.000]\n",
      " [0.046 0.749 0.000 0.000 0.198 0.006 0.000]\n",
      " [0.002 0.308 0.206 0.102 0.095 0.287 0.000]\n",
      " [1.000 0.000 0.000 0.000 0.000 0.000 0.000]\n",
      " [0.000 1.000 0.000 0.000 0.000 0.000 0.000]\n",
      " [0.999 0.000 0.000 0.000 0.000 0.000 0.000]\n",
      " [0.001 0.000 0.000 0.000 0.003 0.000 0.996]\n",
      " [0.082 0.816 0.055 0.000 0.047 0.000 0.000]]\n"
     ]
    }
   ],
   "source": [
    "print(\"-- Predict --\")\n",
    "output = model.predict_generator(vali_generator)\n",
    "# 실수를 소수점 3자리까지 출력 설정\n",
    "np.set_printoptions(formatter={'float': lambda x: \"{0:0.3f}\".format(x)})\n",
    "\n",
    "# 그룹의 index {'circle': 0, 'rectangle': 1, 'triangle': 2}, 알파벳 순\n",
    "print(vali_generator.class_indices) # 분류에 할당된 index\n",
    "print(type(output))\n",
    "print(output.shape) # 검증 이미지가 15개, 3개의 분류임으로 출력은 15행 3열\n",
    "print(output)"
   ]
  },
  {
   "cell_type": "code",
   "execution_count": 28,
   "metadata": {},
   "outputs": [],
   "source": [
    "# model.save('Actor.h5')"
   ]
  },
  {
   "cell_type": "code",
   "execution_count": 29,
   "metadata": {},
   "outputs": [],
   "source": [
    "model = load_model('Actor.h5')"
   ]
  },
  {
   "cell_type": "code",
   "execution_count": 30,
   "metadata": {},
   "outputs": [],
   "source": [
    "def display(data):\n",
    "    # print(data)\n",
    "    # print(type(data))\n",
    "    sw= np.argmax(data)\n",
    "    # print('sw:', sw)\n",
    "\n",
    "    if sw == 0:\n",
    "        sw = 'Amanda Seyfried'\n",
    "    elif sw == 1:\n",
    "        sw = 'Andrew Lincoln'\n",
    "    elif sw == 2:\n",
    "        sw = 'Anne Hathaway'\n",
    "    elif sw == 3:\n",
    "        sw = 'Hugh Jackman'\n",
    "    elif sw == 4:\n",
    "        sw = 'Keira Christina Knightley'        \n",
    "    elif sw == 5:\n",
    "        sw = 'Pierce Brosnan'   \n",
    "    elif sw == 6:\n",
    "        sw = '조정석'\n",
    "        \n",
    "    return sw    "
   ]
  },
  {
   "cell_type": "code",
   "execution_count": 31,
   "metadata": {},
   "outputs": [
    {
     "name": "stdout",
     "output_type": "stream",
     "text": [
      "Found 1 images belonging to 1 classes.\n",
      "[[0.953 0.006 0.000 0.000 0.030 0.009 0.002]]\n",
      "타겟: Amanda Seyfried / Amanda Seyfried\n"
     ]
    }
   ],
   "source": [
    "# 테스트용 데이터 생성기\n",
    "test_datagen = ImageDataGenerator(rescale=1./255)\n",
    " \n",
    "test_generator = test_datagen.flow_from_directory(\n",
    "        './test1',\n",
    "        target_size=(width, height),    \n",
    "        batch_size=1,\n",
    "        class_mode='categorical')\n",
    "yp = model.predict_generator(test_generator)\n",
    "print(yp)\n",
    "print('타겟: Amanda Seyfried /', display(yp))    # 2차원 텐서 전달"
   ]
  },
  {
   "cell_type": "code",
   "execution_count": 32,
   "metadata": {},
   "outputs": [
    {
     "name": "stdout",
     "output_type": "stream",
     "text": [
      "Found 1 images belonging to 1 classes.\n",
      "[[0.009 0.752 0.032 0.001 0.059 0.147 0.000]]\n",
      "타겟: Andrew Lincoln / Andrew Lincoln\n"
     ]
    }
   ],
   "source": [
    "# 테스트용 데이터 생성기\n",
    "test_datagen = ImageDataGenerator(rescale=1./255)\n",
    " \n",
    "test_generator = test_datagen.flow_from_directory(\n",
    "        './test2',\n",
    "        target_size=(width, height),    \n",
    "        batch_size=1,\n",
    "        class_mode='categorical')\n",
    "yp = model.predict_generator(test_generator)\n",
    "print(yp)\n",
    "print('타겟: Andrew Lincoln /', display(yp))    # 2차원 텐서 전달"
   ]
  },
  {
   "cell_type": "code",
   "execution_count": 33,
   "metadata": {},
   "outputs": [
    {
     "name": "stdout",
     "output_type": "stream",
     "text": [
      "Found 1 images belonging to 1 classes.\n",
      "[[0.001 0.012 0.586 0.000 0.376 0.000 0.024]]\n",
      "타겟: Anne Hathaway / Anne Hathaway\n"
     ]
    }
   ],
   "source": [
    "# 테스트용 데이터 생성기\n",
    "test_datagen = ImageDataGenerator(rescale=1./255)\n",
    " \n",
    "test_generator = test_datagen.flow_from_directory(\n",
    "        './test3',\n",
    "        target_size=(width, height),    \n",
    "        batch_size=1,\n",
    "        class_mode='categorical')\n",
    "yp = model.predict_generator(test_generator)\n",
    "print(yp)\n",
    "print('타겟: Anne Hathaway /', display(yp))    # 2차원 텐서 전달"
   ]
  },
  {
   "cell_type": "code",
   "execution_count": 34,
   "metadata": {},
   "outputs": [
    {
     "name": "stdout",
     "output_type": "stream",
     "text": [
      "Found 1 images belonging to 1 classes.\n",
      "[[0.006 0.001 0.037 0.000 0.864 0.002 0.091]]\n",
      "타겟: Keira Christina Knightley / Keira Christina Knightley\n"
     ]
    }
   ],
   "source": [
    "# 테스트용 데이터 생성기\n",
    "test_datagen = ImageDataGenerator(rescale=1./255)\n",
    " \n",
    "test_generator = test_datagen.flow_from_directory(\n",
    "        './test4',\n",
    "        target_size=(width, height),    \n",
    "        batch_size=1,\n",
    "        class_mode='categorical')\n",
    "yp = model.predict_generator(test_generator)\n",
    "print(yp)\n",
    "print('타겟: Keira Christina Knightley /', display(yp))    # 2차원 텐서 전달"
   ]
  },
  {
   "cell_type": "code",
   "execution_count": 35,
   "metadata": {},
   "outputs": [
    {
     "name": "stdout",
     "output_type": "stream",
     "text": [
      "Found 1 images belonging to 1 classes.\n",
      "[[0.106 0.039 0.076 0.002 0.183 0.590 0.003]]\n",
      "타겟: Pierce Brosnan / Pierce Brosnan\n"
     ]
    }
   ],
   "source": [
    "# 테스트용 데이터 생성기\n",
    "test_datagen = ImageDataGenerator(rescale=1./255)\n",
    " \n",
    "test_generator = test_datagen.flow_from_directory(\n",
    "        './test5',\n",
    "        target_size=(width, height),    \n",
    "        batch_size=1,\n",
    "        class_mode='categorical')\n",
    "yp = model.predict_generator(test_generator)\n",
    "print(yp)\n",
    "print('타겟: Pierce Brosnan /', display(yp))    # 2차원 텐서 전달"
   ]
  },
  {
   "cell_type": "code",
   "execution_count": 36,
   "metadata": {},
   "outputs": [
    {
     "name": "stdout",
     "output_type": "stream",
     "text": [
      "Found 1 images belonging to 1 classes.\n",
      "[[0.009 0.000 0.000 0.000 0.009 0.000 0.981]]\n",
      "타겟: 조정석 / 조정석\n"
     ]
    }
   ],
   "source": [
    "# 테스트용 데이터 생성기\n",
    "test_datagen = ImageDataGenerator(rescale=1./255)\n",
    " \n",
    "test_generator = test_datagen.flow_from_directory(\n",
    "        './test6',\n",
    "        target_size=(width, height),    \n",
    "        batch_size=1,\n",
    "        class_mode='categorical')\n",
    "yp = model.predict_generator(test_generator)\n",
    "print(yp)\n",
    "print('타겟: 조정석 /', display(yp))    # 2차원 텐서 전달"
   ]
  },
  {
   "cell_type": "code",
   "execution_count": 37,
   "metadata": {},
   "outputs": [
    {
     "name": "stdout",
     "output_type": "stream",
     "text": [
      "Found 1 images belonging to 1 classes.\n",
      "[[0.000 0.006 0.002 0.957 0.013 0.015 0.007]]\n",
      "타겟: Hugh Jackman / Hugh Jackman\n"
     ]
    }
   ],
   "source": [
    "# 테스트용 데이터 생성기\n",
    "test_datagen = ImageDataGenerator(rescale=1./255)\n",
    " \n",
    "test_generator = test_datagen.flow_from_directory(\n",
    "        './test7',\n",
    "        target_size=(width, height),    \n",
    "        batch_size=1,\n",
    "        class_mode='categorical')\n",
    "yp = model.predict_generator(test_generator)\n",
    "print(yp)\n",
    "print('타겟: Hugh Jackman /', display(yp))    # 2차원 텐서 전달"
   ]
  },
  {
   "cell_type": "code",
   "execution_count": null,
   "metadata": {},
   "outputs": [],
   "source": []
  },
  {
   "cell_type": "code",
   "execution_count": null,
   "metadata": {},
   "outputs": [],
   "source": []
  }
 ],
 "metadata": {
  "kernelspec": {
   "display_name": "ai",
   "language": "python",
   "name": "ai"
  },
  "language_info": {
   "codemirror_mode": {
    "name": "ipython",
    "version": 3
   },
   "file_extension": ".py",
   "mimetype": "text/x-python",
   "name": "python",
   "nbconvert_exporter": "python",
   "pygments_lexer": "ipython3",
   "version": "3.7.11"
  }
 },
 "nbformat": 4,
 "nbformat_minor": 2
}
