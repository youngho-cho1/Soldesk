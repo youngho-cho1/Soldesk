{
 "cells": [
  {
   "cell_type": "code",
   "execution_count": 122,
   "metadata": {},
   "outputs": [
    {
     "data": {
      "text/html": [
       "<div>\n",
       "<style scoped>\n",
       "    .dataframe tbody tr th:only-of-type {\n",
       "        vertical-align: middle;\n",
       "    }\n",
       "\n",
       "    .dataframe tbody tr th {\n",
       "        vertical-align: top;\n",
       "    }\n",
       "\n",
       "    .dataframe thead th {\n",
       "        text-align: right;\n",
       "    }\n",
       "</style>\n",
       "<table border=\"1\" class=\"dataframe\">\n",
       "  <thead>\n",
       "    <tr style=\"text-align: right;\">\n",
       "      <th></th>\n",
       "      <th>id</th>\n",
       "      <th>title</th>\n",
       "      <th>genres</th>\n",
       "      <th>vote_average</th>\n",
       "      <th>vote_count</th>\n",
       "      <th>popularity</th>\n",
       "      <th>keywords</th>\n",
       "      <th>overview</th>\n",
       "    </tr>\n",
       "  </thead>\n",
       "  <tbody>\n",
       "    <tr>\n",
       "      <th>0</th>\n",
       "      <td>19995</td>\n",
       "      <td>Avatar</td>\n",
       "      <td>[{\"id\": 28, \"name\": \"Action\"}, {\"id\": 12, \"nam...</td>\n",
       "      <td>7.2</td>\n",
       "      <td>11800</td>\n",
       "      <td>150.437577</td>\n",
       "      <td>[{\"id\": 1463, \"name\": \"culture clash\"}, {\"id\":...</td>\n",
       "      <td>In the 22nd century, a paraplegic Marine is di...</td>\n",
       "    </tr>\n",
       "  </tbody>\n",
       "</table>\n",
       "</div>"
      ],
      "text/plain": [
       "      id   title                                             genres  \\\n",
       "0  19995  Avatar  [{\"id\": 28, \"name\": \"Action\"}, {\"id\": 12, \"nam...   \n",
       "\n",
       "   vote_average  vote_count  popularity  \\\n",
       "0           7.2       11800  150.437577   \n",
       "\n",
       "                                            keywords  \\\n",
       "0  [{\"id\": 1463, \"name\": \"culture clash\"}, {\"id\":...   \n",
       "\n",
       "                                            overview  \n",
       "0  In the 22nd century, a paraplegic Marine is di...  "
      ]
     },
     "execution_count": 122,
     "metadata": {},
     "output_type": "execute_result"
    }
   ],
   "source": [
    "import pandas as pd\n",
    "import numpy as np\n",
    "import warnings; warnings.filterwarnings('ignore')\n",
    "\n",
    "movies = pd.read_csv('./data/tmdb_5000_movies.csv')\n",
    "movies_df = movies[['id', 'title', 'genres', 'vote_average', 'vote_count', 'popularity', 'keywords', 'overview']]\n",
    "movies_df.head(1)"
   ]
  },
  {
   "cell_type": "code",
   "execution_count": 123,
   "metadata": {},
   "outputs": [
    {
     "name": "stdout",
     "output_type": "stream",
     "text": [
      "<class 'pandas.core.frame.DataFrame'>\n",
      "RangeIndex: 4803 entries, 0 to 4802\n",
      "Data columns (total 20 columns):\n",
      " #   Column                Non-Null Count  Dtype  \n",
      "---  ------                --------------  -----  \n",
      " 0   budget                4803 non-null   int64  \n",
      " 1   genres                4803 non-null   object \n",
      " 2   homepage              1712 non-null   object \n",
      " 3   id                    4803 non-null   int64  \n",
      " 4   keywords              4803 non-null   object \n",
      " 5   original_language     4803 non-null   object \n",
      " 6   original_title        4803 non-null   object \n",
      " 7   overview              4800 non-null   object \n",
      " 8   popularity            4803 non-null   float64\n",
      " 9   production_companies  4803 non-null   object \n",
      " 10  production_countries  4803 non-null   object \n",
      " 11  release_date          4802 non-null   object \n",
      " 12  revenue               4803 non-null   int64  \n",
      " 13  runtime               4801 non-null   float64\n",
      " 14  spoken_languages      4803 non-null   object \n",
      " 15  status                4803 non-null   object \n",
      " 16  tagline               3959 non-null   object \n",
      " 17  title                 4803 non-null   object \n",
      " 18  vote_average          4803 non-null   float64\n",
      " 19  vote_count            4803 non-null   int64  \n",
      "dtypes: float64(3), int64(4), object(13)\n",
      "memory usage: 750.6+ KB\n"
     ]
    }
   ],
   "source": [
    "movies.info()"
   ]
  },
  {
   "cell_type": "code",
   "execution_count": 124,
   "metadata": {},
   "outputs": [
    {
     "name": "stdout",
     "output_type": "stream",
     "text": [
      "<class 'str'>\n",
      "<class 'dict'>\n",
      "3\n",
      "5\n"
     ]
    }
   ],
   "source": [
    "# literal_eval:문자열을 Python 객체로 변환\n",
    "import ast\n",
    "\n",
    "str_dict = \"{'a': 3, 'b': 5}\"\n",
    "print(type(str_dict))           # <type 'str'>\n",
    "\n",
    "convert_dict = ast.literal_eval(str_dict)\n",
    "\n",
    "print(type(convert_dict))   # <type 'dict'>\n",
    "print(convert_dict['a'])      #  3\n",
    "print(convert_dict['b'])      #  5"
   ]
  },
  {
   "cell_type": "code",
   "execution_count": 125,
   "metadata": {},
   "outputs": [
    {
     "name": "stdout",
     "output_type": "stream",
     "text": [
      "<class 'str'>\n",
      "<class 'list'>\n",
      "{'id': 28, 'name': 'Action'}\n",
      "<class 'dict'>\n",
      "{'id': 12, 'name': 'Adventure'}\n"
     ]
    }
   ],
   "source": [
    "# literal_eval\n",
    "import ast\n",
    "\n",
    "str_dict = '[{\"id\": 28, \"name\": \"Action\"}, {\"id\": 12, \"name\": \"Adventure\"}, {\"id\": 14, \"name\": \"Fantasy\"}, {\"id\": 878, \"name\": \"Science Fiction\"}]'\n",
    "print(type(str_dict))           # <type 'str'>\n",
    "\n",
    "convert_dict = ast.literal_eval(str_dict)\n",
    "\n",
    "print(type(convert_dict))    # <class 'list'>\n",
    "print(convert_dict[0])       # {'id': 28, 'name': 'Action'}\n",
    "print(type(convert_dict[0])) # <class 'dict'>\n",
    "print(convert_dict[1])       # {'id': 12, 'name': 'Adventure'}"
   ]
  },
  {
   "cell_type": "code",
   "execution_count": 126,
   "metadata": {},
   "outputs": [
    {
     "name": "stdout",
     "output_type": "stream",
     "text": [
      "[{'id': 28, 'name': 'Action'}, {'id': 12, 'name': 'Adventure'}, {'id': 14, 'name': 'Fantasy'}, {'id': 878, 'name': 'Science Fiction'}]\n",
      "Action\n",
      "Adventure\n",
      "Fantasy\n",
      "Science Fiction\n"
     ]
    }
   ],
   "source": [
    "# 장르만 추출\n",
    "str_dict = '[{\"id\": 28, \"name\": \"Action\"}, {\"id\": 12, \"name\": \"Adventure\"},\\\n",
    "{\"id\": 14, \"name\": \"Fantasy\"}, {\"id\": 878, \"name\": \"Science Fiction\"}]'\n",
    "convert_dict = ast.literal_eval(str_dict)\n",
    "print(convert_dict)\n",
    "\n",
    "for item in convert_dict:  # {\"id\": 28, \"name\": \"Action\"}...\n",
    "    print(item['name'])"
   ]
  },
  {
   "cell_type": "code",
   "execution_count": 127,
   "metadata": {},
   "outputs": [
    {
     "data": {
      "text/plain": [
       "0       [{\"id\": 28, \"name\": \"Action\"}, {\"id\": 12, \"nam...\n",
       "1       [{\"id\": 12, \"name\": \"Adventure\"}, {\"id\": 14, \"...\n",
       "2       [{\"id\": 28, \"name\": \"Action\"}, {\"id\": 12, \"nam...\n",
       "3       [{\"id\": 28, \"name\": \"Action\"}, {\"id\": 80, \"nam...\n",
       "4       [{\"id\": 28, \"name\": \"Action\"}, {\"id\": 12, \"nam...\n",
       "                              ...                        \n",
       "4798    [{\"id\": 28, \"name\": \"Action\"}, {\"id\": 80, \"nam...\n",
       "4799    [{\"id\": 35, \"name\": \"Comedy\"}, {\"id\": 10749, \"...\n",
       "4800    [{\"id\": 35, \"name\": \"Comedy\"}, {\"id\": 18, \"nam...\n",
       "4801                                                   []\n",
       "4802                  [{\"id\": 99, \"name\": \"Documentary\"}]\n",
       "Name: genres, Length: 4803, dtype: object"
      ]
     },
     "execution_count": 127,
     "metadata": {},
     "output_type": "execute_result"
    }
   ],
   "source": [
    "movies_df['genres']"
   ]
  },
  {
   "cell_type": "code",
   "execution_count": 128,
   "metadata": {},
   "outputs": [
    {
     "name": "stdout",
     "output_type": "stream",
     "text": [
      "<class 'pandas.core.series.Series'>\n",
      "<class 'str'>\n",
      "<class 'str'>\n"
     ]
    }
   ],
   "source": [
    "print(type(movies_df['genres']))\n",
    "print(type(movies_df['genres'][0]))\n",
    "print(type(movies_df['genres'][0][0]))"
   ]
  },
  {
   "cell_type": "code",
   "execution_count": 129,
   "metadata": {},
   "outputs": [
    {
     "data": {
      "text/html": [
       "<div>\n",
       "<style scoped>\n",
       "    .dataframe tbody tr th:only-of-type {\n",
       "        vertical-align: middle;\n",
       "    }\n",
       "\n",
       "    .dataframe tbody tr th {\n",
       "        vertical-align: top;\n",
       "    }\n",
       "\n",
       "    .dataframe thead th {\n",
       "        text-align: right;\n",
       "    }\n",
       "</style>\n",
       "<table border=\"1\" class=\"dataframe\">\n",
       "  <thead>\n",
       "    <tr style=\"text-align: right;\">\n",
       "      <th></th>\n",
       "      <th>genres</th>\n",
       "      <th>keywords</th>\n",
       "    </tr>\n",
       "  </thead>\n",
       "  <tbody>\n",
       "    <tr>\n",
       "      <th>0</th>\n",
       "      <td>[{'id': 28, 'name': 'Action'}, {'id': 12, 'nam...</td>\n",
       "      <td>[{'id': 1463, 'name': 'culture clash'}, {'id':...</td>\n",
       "    </tr>\n",
       "    <tr>\n",
       "      <th>1</th>\n",
       "      <td>[{'id': 12, 'name': 'Adventure'}, {'id': 14, '...</td>\n",
       "      <td>[{'id': 270, 'name': 'ocean'}, {'id': 726, 'na...</td>\n",
       "    </tr>\n",
       "    <tr>\n",
       "      <th>2</th>\n",
       "      <td>[{'id': 28, 'name': 'Action'}, {'id': 12, 'nam...</td>\n",
       "      <td>[{'id': 470, 'name': 'spy'}, {'id': 818, 'name...</td>\n",
       "    </tr>\n",
       "  </tbody>\n",
       "</table>\n",
       "</div>"
      ],
      "text/plain": [
       "                                              genres  \\\n",
       "0  [{'id': 28, 'name': 'Action'}, {'id': 12, 'nam...   \n",
       "1  [{'id': 12, 'name': 'Adventure'}, {'id': 14, '...   \n",
       "2  [{'id': 28, 'name': 'Action'}, {'id': 12, 'nam...   \n",
       "\n",
       "                                            keywords  \n",
       "0  [{'id': 1463, 'name': 'culture clash'}, {'id':...  \n",
       "1  [{'id': 270, 'name': 'ocean'}, {'id': 726, 'na...  \n",
       "2  [{'id': 470, 'name': 'spy'}, {'id': 818, 'name...  "
      ]
     },
     "execution_count": 129,
     "metadata": {},
     "output_type": "execute_result"
    }
   ],
   "source": [
    "from ast import literal_eval\n",
    "\n",
    "# genres 변수에 literal_eval 함수 호출\n",
    "movies_df['genres'] = movies_df['genres'].apply(literal_eval) \n",
    "movies_df['keywords'] = movies_df['keywords'].apply(literal_eval) \n",
    "movies_df[['genres', 'keywords']][:3]"
   ]
  },
  {
   "cell_type": "code",
   "execution_count": 130,
   "metadata": {},
   "outputs": [
    {
     "name": "stdout",
     "output_type": "stream",
     "text": [
      "<class 'pandas.core.series.Series'>\n",
      "<class 'list'>\n",
      "<class 'dict'>\n"
     ]
    }
   ],
   "source": [
    "print(type(movies_df['genres']))\n",
    "print(type(movies_df['genres'][0]))\n",
    "print(type(movies_df['genres'][0][0]))"
   ]
  },
  {
   "cell_type": "code",
   "execution_count": 131,
   "metadata": {},
   "outputs": [
    {
     "data": {
      "text/html": [
       "<div>\n",
       "<style scoped>\n",
       "    .dataframe tbody tr th:only-of-type {\n",
       "        vertical-align: middle;\n",
       "    }\n",
       "\n",
       "    .dataframe tbody tr th {\n",
       "        vertical-align: top;\n",
       "    }\n",
       "\n",
       "    .dataframe thead th {\n",
       "        text-align: right;\n",
       "    }\n",
       "</style>\n",
       "<table border=\"1\" class=\"dataframe\">\n",
       "  <thead>\n",
       "    <tr style=\"text-align: right;\">\n",
       "      <th></th>\n",
       "      <th>genres</th>\n",
       "      <th>keywords</th>\n",
       "    </tr>\n",
       "  </thead>\n",
       "  <tbody>\n",
       "    <tr>\n",
       "      <th>0</th>\n",
       "      <td>[Action, Adventure, Fantasy, Science Fiction]</td>\n",
       "      <td>[culture clash, future, space war, space colon...</td>\n",
       "    </tr>\n",
       "    <tr>\n",
       "      <th>1</th>\n",
       "      <td>[Adventure, Fantasy, Action]</td>\n",
       "      <td>[ocean, drug abuse, exotic island, east india ...</td>\n",
       "    </tr>\n",
       "    <tr>\n",
       "      <th>2</th>\n",
       "      <td>[Action, Adventure, Crime]</td>\n",
       "      <td>[spy, based on novel, secret agent, sequel, mi...</td>\n",
       "    </tr>\n",
       "  </tbody>\n",
       "</table>\n",
       "</div>"
      ],
      "text/plain": [
       "                                          genres  \\\n",
       "0  [Action, Adventure, Fantasy, Science Fiction]   \n",
       "1                   [Adventure, Fantasy, Action]   \n",
       "2                     [Action, Adventure, Crime]   \n",
       "\n",
       "                                            keywords  \n",
       "0  [culture clash, future, space war, space colon...  \n",
       "1  [ocean, drug abuse, exotic island, east india ...  \n",
       "2  [spy, based on novel, secret agent, sequel, mi...  "
      ]
     },
     "execution_count": 131,
     "metadata": {},
     "output_type": "execute_result"
    }
   ],
   "source": [
    "# lambda: 함수를 분리하여 선언하지 않아도 함수기능이 작동됨.\n",
    "# name 속성의 값만 분리\n",
    "# movies_df['genres']\n",
    "# ↓\n",
    "# x: [{\"id\": 28, \"name\": \"Action\"}, {\"id\": 12, \"name\": \"Adventure\"}, {\"id\": 14, \"name\": \"Fantasy\"}, {\"id\": 878, \"name\": \"Science Fiction\"}]\n",
    "# ↓\n",
    "# y: {\"id\": 28, \"name\": \"Action\"}\n",
    "# ↓\n",
    "# y['name'] \n",
    "movies_df['genres'] = movies_df['genres'].apply(lambda x:[y['name'] for y in x]) \n",
    "movies_df['keywords'] = movies_df['keywords'].apply(lambda x:[y['name'] for y in x]) \n",
    "movies_df[['genres', 'keywords']][:3]"
   ]
  },
  {
   "cell_type": "code",
   "execution_count": 132,
   "metadata": {},
   "outputs": [
    {
     "name": "stdout",
     "output_type": "stream",
     "text": [
      "0    Action Adventure Fantasy Science Fiction\n",
      "1                    Adventure Fantasy Action\n",
      "2                      Action Adventure Crime\n",
      "3                 Action Crime Drama Thriller\n",
      "4            Action Adventure Science Fiction\n",
      "5                    Fantasy Action Adventure\n",
      "6                            Animation Family\n",
      "7            Action Adventure Science Fiction\n",
      "8                    Adventure Fantasy Family\n",
      "9                    Action Adventure Fantasy\n",
      "Name: genres_literal, dtype: object\n"
     ]
    }
   ],
   "source": [
    "# CountVectorizer를 적용하기 위해 공백문자로 word 단위가 구분되는 문자열로 변환\n",
    "# genres_literal 변수가 없음으로 새로 추가\n",
    "movies_df['genres_literal'] = movies_df['genres'].apply(lambda x:(' ').join(x))\n",
    "print(movies_df['genres_literal'][0:10])"
   ]
  },
  {
   "cell_type": "code",
   "execution_count": 133,
   "metadata": {},
   "outputs": [
    {
     "name": "stdout",
     "output_type": "stream",
     "text": [
      "{'action': 0, 'adventure': 1, 'fantasy': 8, 'science': 17, 'fiction': 9, 'crime': 4, 'drama': 6, 'thriller': 18, 'animation': 2, 'family': 7, 'western': 21, 'comedy': 3, 'romance': 16, 'horror': 12, 'mystery': 15, 'history': 11, 'war': 20, 'music': 14, 'documentary': 5, 'foreign': 10, 'tv': 19, 'movie': 13}\n"
     ]
    }
   ],
   "source": [
    "from sklearn.feature_extraction.text import CountVectorizer\n",
    "\n",
    "# min_df : 정수 또는 [0.0, 1.0] 사이의 실수. 디폴트 1\n",
    "# 단어장에 포함되기 위한 최소 빈도\n",
    "# ngram_range : (min_n, max_n) n-그램 범위로 단어의 묶을을 1~2개로 묶음.\n",
    "count_vect = CountVectorizer()\n",
    "# count_vect = CountVectorizer(min_df=0, ngram_range=(1, 2))\n",
    "genre_mat = count_vect.fit_transform(movies_df['genres_literal'])\n",
    "print(count_vect.vocabulary_)# 각 단어의 인덱스가 어떻게 부여되었는지를 보여준다."
   ]
  },
  {
   "cell_type": "code",
   "execution_count": 134,
   "metadata": {},
   "outputs": [
    {
     "name": "stdout",
     "output_type": "stream",
     "text": [
      "<class 'scipy.sparse.csr.csr_matrix'>\n",
      "(4803, 22)\n",
      "  (0, 0)\t1\n",
      "  (0, 1)\t1\n",
      "  (0, 8)\t1\n",
      "  (0, 17)\t1\n",
      "  (0, 9)\t1\n",
      "  (1, 0)\t1\n",
      "  (1, 1)\t1\n",
      "  (1, 8)\t1\n"
     ]
    }
   ],
   "source": [
    "print(type(genre_mat)) # <class 'scipy.sparse.csr.csr_matrix'>\n",
    "print(genre_mat.shape) # 영화수: 4803, 장르: 22\n",
    "print(genre_mat[0:2]) \n",
    "# 0    Action Adventure Fantasy Science Fiction\n",
    "#   (영화번호, 장르 index 번호) 1: 해당\n",
    "#   (0, 0)  1  Action\n",
    "#   (0, 1)  1  adventure\n",
    "#   (0, 8)  1  fantasy\n",
    "#   (0, 17) 1  science\n",
    "#   (0, 9)  1  fiction"
   ]
  },
  {
   "cell_type": "code",
   "execution_count": 135,
   "metadata": {},
   "outputs": [
    {
     "name": "stdout",
     "output_type": "stream",
     "text": [
      "{'action': 0, 'adventure': 16, 'fantasy': 124, 'science': 232, 'fiction': 138, 'action adventure': 1, 'adventure fantasy': 24, 'fantasy science': 135, 'science fiction': 233, 'fantasy action': 125, 'crime': 64, 'adventure crime': 20, 'drama': 90, 'thriller': 234, 'action crime': 4, 'crime drama': 68, 'drama thriller': 106, 'adventure science': 29, 'animation': 33, 'family': 109, 'animation family': 38, 'fantasy family': 130, 'action science': 12, 'adventure action': 17, 'action thriller': 13, 'thriller crime': 238, 'western': 265, 'adventure western': 32, 'adventure family': 23, 'family fantasy': 115, 'fiction action': 139, 'action fantasy': 7, 'comedy': 44, 'action comedy': 3, 'comedy science': 59, 'adventure drama': 22, 'drama action': 91, 'romance': 214, 'drama romance': 104, 'romance thriller': 228, 'thriller action': 235, 'fiction thriller': 150, 'adventure thriller': 30, 'fantasy adventure': 126, 'family adventure': 111, 'adventure comedy': 19, 'thriller science': 247, 'family comedy': 113, 'horror': 170, 'action drama': 5, 'drama horror': 101, 'horror science': 180, 'action family': 6, 'action romance': 11, 'fiction adventure': 140, 'adventure animation': 18, 'animation adventure': 35, 'comedy family': 51, 'family action': 110, 'comedy crime': 48, 'crime thriller': 78, 'animation drama': 37, 'fiction fantasy': 146, 'animation comedy': 36, 'drama family': 97, 'fiction western': 152, 'crime fantasy': 70, 'fantasy comedy': 128, 'drama comedy': 94, 'comedy animation': 47, 'drama fantasy': 98, 'fantasy drama': 129, 'family romance': 120, 'fiction romance': 149, 'comedy adventure': 46, 'fantasy animation': 127, 'mystery': 200, 'family mystery': 119, 'mystery science': 210, 'family animation': 112, 'animation action': 34, 'drama science': 105, 'fiction mystery': 148, 'mystery adventure': 202, 'thriller mystery': 245, 'mystery romance': 209, 'comedy drama': 50, 'thriller adventure': 236, 'history': 158, 'war': 252, 'history romance': 166, 'romance war': 230, 'war history': 258, 'history action': 159, 'horror action': 171, 'comedy fantasy': 52, 'horror thriller': 181, 'drama war': 107, 'action animation': 2, 'action war': 14, 'action mystery': 10, 'drama mystery': 103, 'animation fantasy': 39, 'western drama': 271, 'drama adventure': 92, 'family western': 123, 'western adventure': 267, 'mystery thriller': 211, 'animation science': 42, 'fiction family': 145, 'comedy thriller': 60, 'animation mystery': 41, 'family science': 121, 'crime mystery': 75, 'fantasy horror': 131, 'adventure mystery': 27, 'action history': 8, 'history war': 168, 'thriller drama': 240, 'drama history': 100, 'war action': 253, 'crime comedy': 67, 'fiction drama': 144, 'adventure history': 25, 'music': 187, 'romance family': 221, 'animation music': 40, 'comedy romance': 58, 'history crime': 160, 'drama crime': 95, 'drama western': 108, 'drama animation': 93, 'thriller romance': 246, 'horror mystery': 178, 'romance fantasy': 222, 'family drama': 114, 'western history': 272, 'mystery drama': 204, 'thriller history': 242, 'comedy action': 45, 'thriller fantasy': 241, 'fantasy thriller': 136, 'romance science': 227, 'history thriller': 167, 'romance drama': 220, 'fantasy romance': 134, 'drama music': 102, 'horror comedy': 172, 'family music': 118, 'music animation': 189, 'crime science': 77, 'romance comedy': 218, 'fantasy mystery': 133, 'mystery family': 205, 'war drama': 257, 'western animation': 268, 'fiction war': 151, 'music romance': 197, 'documentary': 80, 'documentary family': 85, 'thriller horror': 243, 'comedy music': 56, 'crime romance': 76, 'war science': 262, 'thriller war': 248, 'fantasy music': 132, 'fantasy war': 137, 'action horror': 9, 'music family': 194, 'mystery action': 201, 'history drama': 162, 'crime action': 65, 'action western': 15, 'mystery western': 213, 'adventure war': 31, 'music documentary': 192, 'fiction horror': 147, 'fiction animation': 141, 'romance adventure': 216, 'adventure horror': 26, 'fiction comedy': 142, 'comedy western': 63, 'family thriller': 122, 'crime adventure': 66, 'crime family': 69, 'horror romance': 179, 'romance animation': 217, 'comedy horror': 55, 'horror fantasy': 176, 'adventure romance': 28, 'music drama': 193, 'mystery war': 212, 'romance western': 231, 'history western': 169, 'western thriller': 275, 'romance action': 215, 'romance horror': 225, 'history mystery': 165, 'comedy war': 62, 'crime history': 72, 'war adventure': 254, 'war romance': 261, 'western crime': 270, 'crime horror': 73, 'war crime': 256, 'music comedy': 190, 'romance history': 224, 'mystery fantasy': 206, 'romance crime': 219, 'family horror': 117, 'thriller music': 244, 'war music': 259, 'mystery crime': 203, 'comedy documentary': 49, 'documentary action': 81, 'horror drama': 175, 'music adventure': 188, 'western music': 273, 'romance music': 226, 'foreign': 153, 'drama foreign': 99, 'thriller western': 249, 'crime war': 79, 'mystery horror': 207, 'music crime': 191, 'history music': 164, 'war comedy': 255, 'western action': 266, 'horror crime': 173, 'history family': 163, 'thriller comedy': 237, 'documentary music': 88, 'crime music': 74, 'comedy mystery': 57, 'crime foreign': 71, 'romance foreign': 223, 'western romance': 274, 'mystery music': 208, 'foreign romance': 156, 'foreign history': 155, 'family foreign': 116, 'music science': 198, 'tv': 250, 'movie': 182, 'tv movie': 251, 'movie romance': 186, 'music mystery': 196, 'fiction crime': 143, 'war mystery': 260, 'comedy foreign': 53, 'documentary comedy': 82, 'war thriller': 263, 'movie crime': 184, 'music tv': 199, 'drama documentary': 96, 'comedy history': 54, 'romance tv': 229, 'war western': 264, 'movie horror': 185, 'movie action': 183, 'western comedy': 269, 'documentary drama': 84, 'animation war': 43, 'history documentary': 161, 'horror history': 177, 'thriller documentary': 239, 'documentary crime': 83, 'horror documentary': 174, 'documentary mystery': 89, 'adventure documentary': 21, 'documentary foreign': 86, 'music horror': 195, 'foreign documentary': 154, 'comedy tv': 61, 'documentary history': 87, 'foreign thriller': 157}\n"
     ]
    }
   ],
   "source": [
    "# min_df : 정수 또는 [0.0, 1.0] 사이의 실수. 디폴트 1\n",
    "# 단어장에 포함되기 위한 최소 빈도\n",
    "# ngram_range : (min_n, max_n) n-그램 범위로 단어의 묶을을 1~2개로 묶음.\n",
    "# count_vect = CountVectorizer()\n",
    "count_vect = CountVectorizer(min_df=0, ngram_range=(1, 2))\n",
    "genre_mat = count_vect.fit_transform(movies_df['genres_literal'])\n",
    "print(count_vect.vocabulary_)# 각 단어의 인덱스가 어떻게 부여되었는지를 보여준다."
   ]
  },
  {
   "cell_type": "code",
   "execution_count": 136,
   "metadata": {},
   "outputs": [
    {
     "name": "stdout",
     "output_type": "stream",
     "text": [
      "(4803, 276)\n",
      "  (0, 0)\t1\n",
      "  (0, 16)\t1\n",
      "  (0, 124)\t1\n",
      "  (0, 232)\t1\n",
      "  (0, 138)\t1\n",
      "  (0, 1)\t1\n",
      "  (0, 24)\t1\n",
      "  (0, 135)\t1\n",
      "  (0, 233)\t1\n"
     ]
    }
   ],
   "source": [
    "print(genre_mat.shape) # 영화수: 4803, 장르: 276 <- 장르 조합으로 22개에서 증가됨\n",
    "print(genre_mat[0:1]) \n",
    "# 0    Action Adventure Fantasy Science Fiction 영화가 속하는 장르들로 구성됨"
   ]
  },
  {
   "cell_type": "code",
   "execution_count": 137,
   "metadata": {},
   "outputs": [
    {
     "name": "stdout",
     "output_type": "stream",
     "text": [
      "<class 'numpy.ndarray'>\n",
      "(4803, 276)\n",
      "[[1 1 0 0 0 0 0 0 0 0 0 0 0 0 0 0 1 0 0 0 0 0 0 0 1 0 0 0 0 0 0 0 0 0 0 0\n",
      "  0 0 0 0 0 0 0 0 0 0 0 0 0 0 0 0 0 0 0 0 0 0 0 0 0 0 0 0 0 0 0 0 0 0 0 0\n",
      "  0 0 0 0 0 0 0 0 0 0 0 0 0 0 0 0 0 0 0 0 0 0 0 0 0 0 0 0 0 0 0 0 0 0 0 0\n",
      "  0 0 0 0 0 0 0 0 0 0 0 0 0 0 0 0 1 0 0 0 0 0 0 0 0 0 0 1 0 0 1 0 0 0 0 0\n",
      "  0 0 0 0 0 0 0 0 0 0 0 0 0 0 0 0 0 0 0 0 0 0 0 0 0 0 0 0 0 0 0 0 0 0 0 0\n",
      "  0 0 0 0 0 0 0 0 0 0 0 0 0 0 0 0 0 0 0 0 0 0 0 0 0 0 0 0 0 0 0 0 0 0 0 0\n",
      "  0 0 0 0 0 0 0 0 0 0 0 0 0 0 0 0 1 1 0 0 0 0 0 0 0 0 0 0 0 0 0 0 0 0 0 0\n",
      "  0 0 0 0 0 0 0 0 0 0 0 0 0 0 0 0 0 0 0 0 0 0 0 0]\n",
      " [1 0 0 0 0 0 0 0 0 0 0 0 0 0 0 0 1 0 0 0 0 0 0 0 1 0 0 0 0 0 0 0 0 0 0 0\n",
      "  0 0 0 0 0 0 0 0 0 0 0 0 0 0 0 0 0 0 0 0 0 0 0 0 0 0 0 0 0 0 0 0 0 0 0 0\n",
      "  0 0 0 0 0 0 0 0 0 0 0 0 0 0 0 0 0 0 0 0 0 0 0 0 0 0 0 0 0 0 0 0 0 0 0 0\n",
      "  0 0 0 0 0 0 0 0 0 0 0 0 0 0 0 0 1 1 0 0 0 0 0 0 0 0 0 0 0 0 0 0 0 0 0 0\n",
      "  0 0 0 0 0 0 0 0 0 0 0 0 0 0 0 0 0 0 0 0 0 0 0 0 0 0 0 0 0 0 0 0 0 0 0 0\n",
      "  0 0 0 0 0 0 0 0 0 0 0 0 0 0 0 0 0 0 0 0 0 0 0 0 0 0 0 0 0 0 0 0 0 0 0 0\n",
      "  0 0 0 0 0 0 0 0 0 0 0 0 0 0 0 0 0 0 0 0 0 0 0 0 0 0 0 0 0 0 0 0 0 0 0 0\n",
      "  0 0 0 0 0 0 0 0 0 0 0 0 0 0 0 0 0 0 0 0 0 0 0 0]]\n"
     ]
    }
   ],
   "source": [
    "print(type(genre_mat.toarray()))\n",
    "print(genre_mat.toarray().shape)\n",
    "print(genre_mat.toarray()[0:2]) # 첫번째 영화가 속한 장르가 희소 행렬 형태로 출력됨."
   ]
  },
  {
   "cell_type": "markdown",
   "metadata": {},
   "source": [
    "### 코사인 유사도 계산, 장르 유사도 계산"
   ]
  },
  {
   "cell_type": "code",
   "execution_count": 138,
   "metadata": {},
   "outputs": [],
   "source": [
    "#             고요의 바다  오징어       지옥\n",
    "# 고요의 바다  1           0.59628479   0.4472136 \n",
    "# 오징어       0.59628479  1            0.4             \n",
    "# 지옥         0.4472136   0.4          1"
   ]
  },
  {
   "cell_type": "code",
   "execution_count": 139,
   "metadata": {},
   "outputs": [
    {
     "name": "stdout",
     "output_type": "stream",
     "text": [
      "(4803, 4803)\n",
      "[[1.         0.59628479 0.4472136  ... 0.         0.         0.        ]\n",
      " [0.59628479 1.         0.4        ... 0.         0.         0.        ]\n",
      " [0.4472136  0.4        1.         ... 0.         0.         0.        ]\n",
      " [0.12598816 0.16903085 0.3380617  ... 0.12598816 0.         0.        ]\n",
      " [0.75592895 0.3380617  0.50709255 ... 0.         0.         0.        ]]\n"
     ]
    }
   ],
   "source": [
    "from sklearn.metrics.pairwise import cosine_similarity\n",
    "\n",
    "genre_sim = cosine_similarity(genre_mat, genre_mat) # 코사인 유사도\n",
    "print(genre_sim.shape)\n",
    "print(genre_sim[:5])\n",
    "# (4803, 4803)\n",
    "#         Avatar       Pirates      Spectre\n",
    "# Avatar  1.           0.59628479   0.4472136  ...\n",
    "# Pirates 0.59628479   1.           0.4        ... \n",
    "# Spectre 0.4472136    0.4          1.         ... \n",
    "\n",
    "#  1: Avatar:Avatar\n",
    "#  0.59628479: Avatar:Pirates of the Caribbean: At World's End\n",
    "#  0.4472136: Avatar:Spectre"
   ]
  },
  {
   "cell_type": "code",
   "execution_count": 140,
   "metadata": {},
   "outputs": [
    {
     "data": {
      "text/plain": [
       "array([2, 1, 0, 3], dtype=int64)"
      ]
     },
     "execution_count": 140,
     "metadata": {},
     "output_type": "execute_result"
    }
   ],
   "source": [
    "import numpy as np\n",
    "a = np.array([4,2,1,7]) \n",
    "sort_index = a.argsort() # 데이터에 대한 index가 오름차순으로 할당\n",
    "sort_index"
   ]
  },
  {
   "cell_type": "code",
   "execution_count": 141,
   "metadata": {},
   "outputs": [
    {
     "name": "stdout",
     "output_type": "stream",
     "text": [
      "[1 2 4 7]\n",
      "[2 1 0 3]\n",
      "[3 0 1 2]\n",
      "[7 4 2 1]\n"
     ]
    }
   ],
   "source": [
    "print(a[sort_index]) # index 순으로 데이터 출력\n",
    "print(np.array([4,2,1,7]).argsort()[:])\n",
    "print(sort_index[::-1])    # 내림 차순\n",
    "print(a[sort_index[::-1]]) # 내림 차순 데이터 출력"
   ]
  },
  {
   "cell_type": "code",
   "execution_count": 142,
   "metadata": {},
   "outputs": [
    {
     "name": "stdout",
     "output_type": "stream",
     "text": [
      "[[   0 3494  813 ... 3038 3037 2401]\n",
      " [ 262    1  129 ... 3069 3067 2401]\n",
      " [   2 1740 1542 ... 3000 2999 2401]\n",
      " [2195 1850 3316 ...  887 2544 4802]\n",
      " [ 102 2995   56 ... 3046 3045 2401]]\n"
     ]
    }
   ],
   "source": [
    "# 2차원의 형태인 코사인 유사도 결과를\n",
    "# 각각의 행안에서 내림차순으로 컬럼의 값을 내림차순 정렬하는 index 산출\n",
    "genre_sim_sorted_ind = genre_sim.argsort()[:, ::-1] \n",
    "print(genre_sim_sorted_ind[:5]) # index 확인"
   ]
  },
  {
   "cell_type": "markdown",
   "metadata": {},
   "source": [
    "### 영화 장르를 이용한 추천"
   ]
  },
  {
   "cell_type": "code",
   "execution_count": 143,
   "metadata": {},
   "outputs": [],
   "source": [
    "# df: 데이터, sorted_ind: 코사인 유사도가 계산된후 내림 차순 정렬된 index 배열 \n",
    "# title_name: 유사도를 찾을 기준 영화명, top_n=10: 유사도가 높은 10개의 영화\n",
    "def find_sim_movie(df, sorted_ind, title_name, top_n=10):\n",
    "    # 인자로 입력된 movies_df DataFrame에서 'title' 칼럼이 입력된 title_name 값인 DataFrame 추출\n",
    "    title_movie = df[df['title'] == title_name]\n",
    "    display('1)', title_movie) # 데이터 타입의 출력 형식을 유지하며 출력됨\n",
    "    \n",
    "    # title_named을 가진 DataFrame의 index 객체를 ndarray로 반환하고\n",
    "    # sorted_ind 인자로 입력된 genre_sim_sorted_ind 객체에서 유사도 순으로 top_n개의 index 추출\n",
    "    title_index = title_movie.index.values # 영화명 index\n",
    "    print('2)', title_index) # Avata: 0\n",
    "    print('3) sorted_ind.shape:', sorted_ind.shape)\n",
    "    \n",
    "    # sorted_ind[3337, :10]: 내림 차순된 index 10개 산출\n",
    "    similar_indexes = sorted_ind[title_index, :(top_n)] # 영화명 index, 컬럼 10개\n",
    "    \n",
    "    # 추출된 top_n index 출력. top_n index는 2차원 데이터임.\n",
    "    # DataFrame 에서 index로 사용하기 위해서 1차원 array로 변경\n",
    "    print('4)', similar_indexes)\n",
    "    \n",
    "    similar_indexes = similar_indexes.reshape(-1) # 현재 차원보다 한차원 내림\n",
    "    print('5)', similar_indexes)\n",
    "    \n",
    "    return df.iloc[similar_indexes] # index에 해당하는 관측치 return"
   ]
  },
  {
   "cell_type": "code",
   "execution_count": 144,
   "metadata": {},
   "outputs": [
    {
     "data": {
      "text/plain": [
       "'1)'"
      ]
     },
     "metadata": {},
     "output_type": "display_data"
    },
    {
     "data": {
      "text/html": [
       "<div>\n",
       "<style scoped>\n",
       "    .dataframe tbody tr th:only-of-type {\n",
       "        vertical-align: middle;\n",
       "    }\n",
       "\n",
       "    .dataframe tbody tr th {\n",
       "        vertical-align: top;\n",
       "    }\n",
       "\n",
       "    .dataframe thead th {\n",
       "        text-align: right;\n",
       "    }\n",
       "</style>\n",
       "<table border=\"1\" class=\"dataframe\">\n",
       "  <thead>\n",
       "    <tr style=\"text-align: right;\">\n",
       "      <th></th>\n",
       "      <th>id</th>\n",
       "      <th>title</th>\n",
       "      <th>genres</th>\n",
       "      <th>vote_average</th>\n",
       "      <th>vote_count</th>\n",
       "      <th>popularity</th>\n",
       "      <th>keywords</th>\n",
       "      <th>overview</th>\n",
       "      <th>genres_literal</th>\n",
       "    </tr>\n",
       "  </thead>\n",
       "  <tbody>\n",
       "    <tr>\n",
       "      <th>0</th>\n",
       "      <td>19995</td>\n",
       "      <td>Avatar</td>\n",
       "      <td>[Action, Adventure, Fantasy, Science Fiction]</td>\n",
       "      <td>7.2</td>\n",
       "      <td>11800</td>\n",
       "      <td>150.437577</td>\n",
       "      <td>[culture clash, future, space war, space colon...</td>\n",
       "      <td>In the 22nd century, a paraplegic Marine is di...</td>\n",
       "      <td>Action Adventure Fantasy Science Fiction</td>\n",
       "    </tr>\n",
       "  </tbody>\n",
       "</table>\n",
       "</div>"
      ],
      "text/plain": [
       "      id   title                                         genres  vote_average  \\\n",
       "0  19995  Avatar  [Action, Adventure, Fantasy, Science Fiction]           7.2   \n",
       "\n",
       "   vote_count  popularity                                           keywords  \\\n",
       "0       11800  150.437577  [culture clash, future, space war, space colon...   \n",
       "\n",
       "                                            overview  \\\n",
       "0  In the 22nd century, a paraplegic Marine is di...   \n",
       "\n",
       "                             genres_literal  \n",
       "0  Action Adventure Fantasy Science Fiction  "
      ]
     },
     "metadata": {},
     "output_type": "display_data"
    },
    {
     "name": "stdout",
     "output_type": "stream",
     "text": [
      "2) [0]\n",
      "3) sorted_ind.shape: (4803, 4803)\n",
      "4) [[   0 3494  813  870   46   14 1296 1652  419  420]]\n",
      "5) [   0 3494  813  870   46   14 1296 1652  419  420]\n"
     ]
    }
   ],
   "source": [
    "# movies_df: 데이터\n",
    "# genre_sim_sorted_ind: 코사인 유사도가 계산된후 내림 차순 정렬된 index 배열 \n",
    "# 'The Godfather': 유사도를 찾을 기준 영화명\n",
    "# 10: 유사도가 높은 10개의 영화\n",
    "similar_movies = find_sim_movie(movies_df, genre_sim_sorted_ind, 'Avatar', 10)"
   ]
  },
  {
   "cell_type": "code",
   "execution_count": 145,
   "metadata": {},
   "outputs": [
    {
     "data": {
      "text/html": [
       "<div>\n",
       "<style scoped>\n",
       "    .dataframe tbody tr th:only-of-type {\n",
       "        vertical-align: middle;\n",
       "    }\n",
       "\n",
       "    .dataframe tbody tr th {\n",
       "        vertical-align: top;\n",
       "    }\n",
       "\n",
       "    .dataframe thead th {\n",
       "        text-align: right;\n",
       "    }\n",
       "</style>\n",
       "<table border=\"1\" class=\"dataframe\">\n",
       "  <thead>\n",
       "    <tr style=\"text-align: right;\">\n",
       "      <th></th>\n",
       "      <th>title</th>\n",
       "      <th>vote_average</th>\n",
       "      <th>vote_count</th>\n",
       "    </tr>\n",
       "  </thead>\n",
       "  <tbody>\n",
       "    <tr>\n",
       "      <th>0</th>\n",
       "      <td>Avatar</td>\n",
       "      <td>7.2</td>\n",
       "      <td>11800</td>\n",
       "    </tr>\n",
       "    <tr>\n",
       "      <th>3494</th>\n",
       "      <td>Beastmaster 2: Through the Portal of Time</td>\n",
       "      <td>4.6</td>\n",
       "      <td>17</td>\n",
       "    </tr>\n",
       "    <tr>\n",
       "      <th>813</th>\n",
       "      <td>Superman</td>\n",
       "      <td>6.9</td>\n",
       "      <td>1022</td>\n",
       "    </tr>\n",
       "    <tr>\n",
       "      <th>870</th>\n",
       "      <td>Superman II</td>\n",
       "      <td>6.5</td>\n",
       "      <td>629</td>\n",
       "    </tr>\n",
       "    <tr>\n",
       "      <th>46</th>\n",
       "      <td>X-Men: Days of Future Past</td>\n",
       "      <td>7.5</td>\n",
       "      <td>6032</td>\n",
       "    </tr>\n",
       "    <tr>\n",
       "      <th>14</th>\n",
       "      <td>Man of Steel</td>\n",
       "      <td>6.5</td>\n",
       "      <td>6359</td>\n",
       "    </tr>\n",
       "    <tr>\n",
       "      <th>1296</th>\n",
       "      <td>Superman III</td>\n",
       "      <td>5.3</td>\n",
       "      <td>490</td>\n",
       "    </tr>\n",
       "    <tr>\n",
       "      <th>1652</th>\n",
       "      <td>Dragonball Evolution</td>\n",
       "      <td>2.9</td>\n",
       "      <td>462</td>\n",
       "    </tr>\n",
       "    <tr>\n",
       "      <th>419</th>\n",
       "      <td>Jumper</td>\n",
       "      <td>5.9</td>\n",
       "      <td>1799</td>\n",
       "    </tr>\n",
       "    <tr>\n",
       "      <th>420</th>\n",
       "      <td>Hellboy II: The Golden Army</td>\n",
       "      <td>6.5</td>\n",
       "      <td>1527</td>\n",
       "    </tr>\n",
       "  </tbody>\n",
       "</table>\n",
       "</div>"
      ],
      "text/plain": [
       "                                          title  vote_average  vote_count\n",
       "0                                        Avatar           7.2       11800\n",
       "3494  Beastmaster 2: Through the Portal of Time           4.6          17\n",
       "813                                    Superman           6.9        1022\n",
       "870                                 Superman II           6.5         629\n",
       "46                   X-Men: Days of Future Past           7.5        6032\n",
       "14                                 Man of Steel           6.5        6359\n",
       "1296                               Superman III           5.3         490\n",
       "1652                       Dragonball Evolution           2.9         462\n",
       "419                                      Jumper           5.9        1799\n",
       "420                 Hellboy II: The Golden Army           6.5        1527"
      ]
     },
     "execution_count": 145,
     "metadata": {},
     "output_type": "execute_result"
    }
   ],
   "source": [
    "similar_movies[['title', 'vote_average', 'vote_count']]"
   ]
  },
  {
   "cell_type": "code",
   "execution_count": 146,
   "metadata": {},
   "outputs": [
    {
     "data": {
      "text/html": [
       "<div>\n",
       "<style scoped>\n",
       "    .dataframe tbody tr th:only-of-type {\n",
       "        vertical-align: middle;\n",
       "    }\n",
       "\n",
       "    .dataframe tbody tr th {\n",
       "        vertical-align: top;\n",
       "    }\n",
       "\n",
       "    .dataframe thead th {\n",
       "        text-align: right;\n",
       "    }\n",
       "</style>\n",
       "<table border=\"1\" class=\"dataframe\">\n",
       "  <thead>\n",
       "    <tr style=\"text-align: right;\">\n",
       "      <th></th>\n",
       "      <th>title</th>\n",
       "      <th>vote_average</th>\n",
       "      <th>vote_count</th>\n",
       "    </tr>\n",
       "  </thead>\n",
       "  <tbody>\n",
       "    <tr>\n",
       "      <th>46</th>\n",
       "      <td>X-Men: Days of Future Past</td>\n",
       "      <td>7.5</td>\n",
       "      <td>6032</td>\n",
       "    </tr>\n",
       "    <tr>\n",
       "      <th>0</th>\n",
       "      <td>Avatar</td>\n",
       "      <td>7.2</td>\n",
       "      <td>11800</td>\n",
       "    </tr>\n",
       "    <tr>\n",
       "      <th>813</th>\n",
       "      <td>Superman</td>\n",
       "      <td>6.9</td>\n",
       "      <td>1022</td>\n",
       "    </tr>\n",
       "    <tr>\n",
       "      <th>870</th>\n",
       "      <td>Superman II</td>\n",
       "      <td>6.5</td>\n",
       "      <td>629</td>\n",
       "    </tr>\n",
       "    <tr>\n",
       "      <th>14</th>\n",
       "      <td>Man of Steel</td>\n",
       "      <td>6.5</td>\n",
       "      <td>6359</td>\n",
       "    </tr>\n",
       "    <tr>\n",
       "      <th>420</th>\n",
       "      <td>Hellboy II: The Golden Army</td>\n",
       "      <td>6.5</td>\n",
       "      <td>1527</td>\n",
       "    </tr>\n",
       "    <tr>\n",
       "      <th>419</th>\n",
       "      <td>Jumper</td>\n",
       "      <td>5.9</td>\n",
       "      <td>1799</td>\n",
       "    </tr>\n",
       "    <tr>\n",
       "      <th>1296</th>\n",
       "      <td>Superman III</td>\n",
       "      <td>5.3</td>\n",
       "      <td>490</td>\n",
       "    </tr>\n",
       "    <tr>\n",
       "      <th>3494</th>\n",
       "      <td>Beastmaster 2: Through the Portal of Time</td>\n",
       "      <td>4.6</td>\n",
       "      <td>17</td>\n",
       "    </tr>\n",
       "    <tr>\n",
       "      <th>1652</th>\n",
       "      <td>Dragonball Evolution</td>\n",
       "      <td>2.9</td>\n",
       "      <td>462</td>\n",
       "    </tr>\n",
       "  </tbody>\n",
       "</table>\n",
       "</div>"
      ],
      "text/plain": [
       "                                          title  vote_average  vote_count\n",
       "46                   X-Men: Days of Future Past           7.5        6032\n",
       "0                                        Avatar           7.2       11800\n",
       "813                                    Superman           6.9        1022\n",
       "870                                 Superman II           6.5         629\n",
       "14                                 Man of Steel           6.5        6359\n",
       "420                 Hellboy II: The Golden Army           6.5        1527\n",
       "419                                      Jumper           5.9        1799\n",
       "1296                               Superman III           5.3         490\n",
       "3494  Beastmaster 2: Through the Portal of Time           4.6          17\n",
       "1652                       Dragonball Evolution           2.9         462"
      ]
     },
     "execution_count": 146,
     "metadata": {},
     "output_type": "execute_result"
    }
   ],
   "source": [
    "similar_movies[['title', 'vote_average', 'vote_count']].sort_values('vote_average', ascending=False)\n",
    "# 자기 자신을 추천하며 평점이 낮은 영화도 추천하는 기능을 개선할 필요가 있음."
   ]
  },
  {
   "cell_type": "code",
   "execution_count": 147,
   "metadata": {},
   "outputs": [
    {
     "data": {
      "text/html": [
       "<div>\n",
       "<style scoped>\n",
       "    .dataframe tbody tr th:only-of-type {\n",
       "        vertical-align: middle;\n",
       "    }\n",
       "\n",
       "    .dataframe tbody tr th {\n",
       "        vertical-align: top;\n",
       "    }\n",
       "\n",
       "    .dataframe thead th {\n",
       "        text-align: right;\n",
       "    }\n",
       "</style>\n",
       "<table border=\"1\" class=\"dataframe\">\n",
       "  <thead>\n",
       "    <tr style=\"text-align: right;\">\n",
       "      <th></th>\n",
       "      <th>id</th>\n",
       "      <th>title</th>\n",
       "      <th>genres</th>\n",
       "      <th>vote_average</th>\n",
       "      <th>vote_count</th>\n",
       "      <th>popularity</th>\n",
       "      <th>keywords</th>\n",
       "      <th>overview</th>\n",
       "      <th>genres_literal</th>\n",
       "    </tr>\n",
       "  </thead>\n",
       "  <tbody>\n",
       "    <tr>\n",
       "      <th>0</th>\n",
       "      <td>19995</td>\n",
       "      <td>Avatar</td>\n",
       "      <td>[Action, Adventure, Fantasy, Science Fiction]</td>\n",
       "      <td>7.2</td>\n",
       "      <td>11800</td>\n",
       "      <td>150.437577</td>\n",
       "      <td>[culture clash, future, space war, space colon...</td>\n",
       "      <td>In the 22nd century, a paraplegic Marine is di...</td>\n",
       "      <td>Action Adventure Fantasy Science Fiction</td>\n",
       "    </tr>\n",
       "  </tbody>\n",
       "</table>\n",
       "</div>"
      ],
      "text/plain": [
       "      id   title                                         genres  vote_average  \\\n",
       "0  19995  Avatar  [Action, Adventure, Fantasy, Science Fiction]           7.2   \n",
       "\n",
       "   vote_count  popularity                                           keywords  \\\n",
       "0       11800  150.437577  [culture clash, future, space war, space colon...   \n",
       "\n",
       "                                            overview  \\\n",
       "0  In the 22nd century, a paraplegic Marine is di...   \n",
       "\n",
       "                             genres_literal  \n",
       "0  Action Adventure Fantasy Science Fiction  "
      ]
     },
     "execution_count": 147,
     "metadata": {},
     "output_type": "execute_result"
    }
   ],
   "source": [
    "similar_movies.head(1)"
   ]
  },
  {
   "cell_type": "code",
   "execution_count": 148,
   "metadata": {},
   "outputs": [
    {
     "data": {
      "text/html": [
       "<div>\n",
       "<style scoped>\n",
       "    .dataframe tbody tr th:only-of-type {\n",
       "        vertical-align: middle;\n",
       "    }\n",
       "\n",
       "    .dataframe tbody tr th {\n",
       "        vertical-align: top;\n",
       "    }\n",
       "\n",
       "    .dataframe thead th {\n",
       "        text-align: right;\n",
       "    }\n",
       "</style>\n",
       "<table border=\"1\" class=\"dataframe\">\n",
       "  <thead>\n",
       "    <tr style=\"text-align: right;\">\n",
       "      <th></th>\n",
       "      <th>title</th>\n",
       "      <th>vote_average</th>\n",
       "      <th>weighted_vote</th>\n",
       "      <th>vote_count</th>\n",
       "    </tr>\n",
       "  </thead>\n",
       "  <tbody>\n",
       "    <tr>\n",
       "      <th>46</th>\n",
       "      <td>X-Men: Days of Future Past</td>\n",
       "      <td>7.5</td>\n",
       "      <td>7.418594</td>\n",
       "      <td>6032</td>\n",
       "    </tr>\n",
       "    <tr>\n",
       "      <th>0</th>\n",
       "      <td>Avatar</td>\n",
       "      <td>7.2</td>\n",
       "      <td>7.166301</td>\n",
       "      <td>11800</td>\n",
       "    </tr>\n",
       "    <tr>\n",
       "      <th>813</th>\n",
       "      <td>Superman</td>\n",
       "      <td>6.9</td>\n",
       "      <td>6.685190</td>\n",
       "      <td>1022</td>\n",
       "    </tr>\n",
       "    <tr>\n",
       "      <th>14</th>\n",
       "      <td>Man of Steel</td>\n",
       "      <td>6.5</td>\n",
       "      <td>6.477564</td>\n",
       "      <td>6359</td>\n",
       "    </tr>\n",
       "    <tr>\n",
       "      <th>420</th>\n",
       "      <td>Hellboy II: The Golden Army</td>\n",
       "      <td>6.5</td>\n",
       "      <td>6.420421</td>\n",
       "      <td>1527</td>\n",
       "    </tr>\n",
       "    <tr>\n",
       "      <th>870</th>\n",
       "      <td>Superman II</td>\n",
       "      <td>6.5</td>\n",
       "      <td>6.348901</td>\n",
       "      <td>629</td>\n",
       "    </tr>\n",
       "    <tr>\n",
       "      <th>3494</th>\n",
       "      <td>Beastmaster 2: Through the Portal of Time</td>\n",
       "      <td>4.6</td>\n",
       "      <td>6.026658</td>\n",
       "      <td>17</td>\n",
       "    </tr>\n",
       "    <tr>\n",
       "      <th>419</th>\n",
       "      <td>Jumper</td>\n",
       "      <td>5.9</td>\n",
       "      <td>5.932796</td>\n",
       "      <td>1799</td>\n",
       "    </tr>\n",
       "    <tr>\n",
       "      <th>1296</th>\n",
       "      <td>Superman III</td>\n",
       "      <td>5.3</td>\n",
       "      <td>5.640923</td>\n",
       "      <td>490</td>\n",
       "    </tr>\n",
       "    <tr>\n",
       "      <th>1652</th>\n",
       "      <td>Dragonball Evolution</td>\n",
       "      <td>2.9</td>\n",
       "      <td>4.320022</td>\n",
       "      <td>462</td>\n",
       "    </tr>\n",
       "  </tbody>\n",
       "</table>\n",
       "</div>"
      ],
      "text/plain": [
       "                                          title  vote_average  weighted_vote  \\\n",
       "46                   X-Men: Days of Future Past           7.5       7.418594   \n",
       "0                                        Avatar           7.2       7.166301   \n",
       "813                                    Superman           6.9       6.685190   \n",
       "14                                 Man of Steel           6.5       6.477564   \n",
       "420                 Hellboy II: The Golden Army           6.5       6.420421   \n",
       "870                                 Superman II           6.5       6.348901   \n",
       "3494  Beastmaster 2: Through the Portal of Time           4.6       6.026658   \n",
       "419                                      Jumper           5.9       5.932796   \n",
       "1296                               Superman III           5.3       5.640923   \n",
       "1652                       Dragonball Evolution           2.9       4.320022   \n",
       "\n",
       "      vote_count  \n",
       "46          6032  \n",
       "0          11800  \n",
       "813         1022  \n",
       "14          6359  \n",
       "420         1527  \n",
       "870          629  \n",
       "3494          17  \n",
       "419         1799  \n",
       "1296         490  \n",
       "1652         462  "
      ]
     },
     "execution_count": 148,
     "metadata": {},
     "output_type": "execute_result"
    }
   ],
   "source": [
    "# 값을 높이면 평점 투표 횟수가 많은 영화에 더 많은 가중 평점을 부여\n",
    "percentile = 0.6 # 60%, 높을 수록 평가를 많이 받은 검증된 영화 추천\n",
    "\n",
    "# 60%의 위치에 해당하는 투표수 산출\n",
    "m = movies['vote_count'].quantile(percentile) \n",
    "C = movies['vote_average'].mean() # 전체 영화 평균 평점\n",
    "\n",
    "def weighted_vote_average(record):\n",
    "    v = record['vote_count']   # 개별 영화에 평점을 투표한 횟수\n",
    "    R = record['vote_average'] # 개별 영화에 대한 평균 평점\n",
    "    \n",
    "    return ((v/(v+m))*R) + ((m/(m+v))*C)\n",
    "\n",
    "# 가중 평점의 처리 후 weighted_vote 변수 생성\n",
    "similar_movies['weighted_vote'] = similar_movies.apply(weighted_vote_average, axis=1) # 컬럼에 적용\n",
    "similar_movies[['title', 'vote_average', 'weighted_vote', 'vote_count']].sort_values('weighted_vote', ascending=False)[:10]"
   ]
  },
  {
   "cell_type": "code",
   "execution_count": 156,
   "metadata": {},
   "outputs": [],
   "source": [
    "# 기준이 되는 영화는 제외하는 함수\n",
    "# df: 데이터, sorted_ind: 코사인 유사도가 계산된후 내림 차순 정렬된 index 배열 \n",
    "# title_name: 유사도를 찾을 기준 영화명, top_n=10: 유사도가 높은 10개의 영화\n",
    "def find_sim_movie2(df, sorted_ind, title_name, top_n=10):\n",
    "    top_n = top_n + 1 # 기준이되는 영화는 제외함으로 1건을 추가함\n",
    "    \n",
    "    # 인자로 입력된 movies_df DataFrame에서 'title' 칼럼이 입력된 title_name 값인 DataFrame 추출\n",
    "    title_movie = df[df['title'] == title_name]\n",
    "    display('1)', title_movie) # 데이터 타입의 출력 형식을 유지하며 출력됨\n",
    "    \n",
    "    # title_named을 가진 DataFrame의 index 객체를 ndarray로 반환하고\n",
    "    # sorted_ind 인자로 입력된 genre_sim_sorted_ind 객체에서 유사도 순으로 top_n개의 index 추출\n",
    "    title_index = title_movie.index.values # 영화명 index\n",
    "    print('2)', title_index) # Avata: 0\n",
    "    print('3) sorted_ind.shape:', sorted_ind.shape)\n",
    "    \n",
    "    # sorted_ind[3337, :10]: 내림 차순된 index 10개 산출\n",
    "    similar_indexes = sorted_ind[title_index, :(top_n)] # 영화명 index, 컬럼 10개\n",
    "    \n",
    "    # 추출된 top_n index 출력. top_n index는 2차원 데이터임.\n",
    "    # DataFrame 에서 index로 사용하기 위해서 1차원 array로 변경\n",
    "    print('4)', similar_indexes)\n",
    "    \n",
    "    similar_indexes = similar_indexes.reshape(-1) # 현재 차원보다 한차원 내림\n",
    "    print('5)', similar_indexes)\n",
    "    \n",
    "    similar_indexes = similar_indexes[similar_indexes != title_index]\n",
    "    print('6)', similar_indexes)\n",
    "    \n",
    "    return df.iloc[similar_indexes] # index에 해당하는 관측치 return"
   ]
  },
  {
   "cell_type": "code",
   "execution_count": 160,
   "metadata": {},
   "outputs": [
    {
     "data": {
      "text/plain": [
       "'1)'"
      ]
     },
     "metadata": {},
     "output_type": "display_data"
    },
    {
     "data": {
      "text/html": [
       "<div>\n",
       "<style scoped>\n",
       "    .dataframe tbody tr th:only-of-type {\n",
       "        vertical-align: middle;\n",
       "    }\n",
       "\n",
       "    .dataframe tbody tr th {\n",
       "        vertical-align: top;\n",
       "    }\n",
       "\n",
       "    .dataframe thead th {\n",
       "        text-align: right;\n",
       "    }\n",
       "</style>\n",
       "<table border=\"1\" class=\"dataframe\">\n",
       "  <thead>\n",
       "    <tr style=\"text-align: right;\">\n",
       "      <th></th>\n",
       "      <th>id</th>\n",
       "      <th>title</th>\n",
       "      <th>genres</th>\n",
       "      <th>vote_average</th>\n",
       "      <th>vote_count</th>\n",
       "      <th>popularity</th>\n",
       "      <th>keywords</th>\n",
       "      <th>overview</th>\n",
       "      <th>genres_literal</th>\n",
       "    </tr>\n",
       "  </thead>\n",
       "  <tbody>\n",
       "    <tr>\n",
       "      <th>229</th>\n",
       "      <td>1895</td>\n",
       "      <td>Star Wars: Episode III - Revenge of the Sith</td>\n",
       "      <td>[Science Fiction, Adventure, Action]</td>\n",
       "      <td>7.1</td>\n",
       "      <td>4116</td>\n",
       "      <td>44.108427</td>\n",
       "      <td>[showdown, death star, vision, cult figure, ha...</td>\n",
       "      <td>Years after the onset of the Clone Wars, the n...</td>\n",
       "      <td>Science Fiction Adventure Action</td>\n",
       "    </tr>\n",
       "  </tbody>\n",
       "</table>\n",
       "</div>"
      ],
      "text/plain": [
       "       id                                         title  \\\n",
       "229  1895  Star Wars: Episode III - Revenge of the Sith   \n",
       "\n",
       "                                   genres  vote_average  vote_count  \\\n",
       "229  [Science Fiction, Adventure, Action]           7.1        4116   \n",
       "\n",
       "     popularity                                           keywords  \\\n",
       "229   44.108427  [showdown, death star, vision, cult figure, ha...   \n",
       "\n",
       "                                              overview  \\\n",
       "229  Years after the onset of the Clone Wars, the n...   \n",
       "\n",
       "                       genres_literal  \n",
       "229  Science Fiction Adventure Action  "
      ]
     },
     "metadata": {},
     "output_type": "display_data"
    },
    {
     "name": "stdout",
     "output_type": "stream",
     "text": [
      "2) [229]\n",
      "3) sorted_ind.shape: (4803, 4803)\n",
      "4) [[ 229  466  490   51 1990  183   26   52  495 2372 2912]]\n",
      "5) [ 229  466  490   51 1990  183   26   52  495 2372 2912]\n",
      "6) [ 466  490   51 1990  183   26   52  495 2372 2912]\n"
     ]
    },
    {
     "data": {
      "text/html": [
       "<div>\n",
       "<style scoped>\n",
       "    .dataframe tbody tr th:only-of-type {\n",
       "        vertical-align: middle;\n",
       "    }\n",
       "\n",
       "    .dataframe tbody tr th {\n",
       "        vertical-align: top;\n",
       "    }\n",
       "\n",
       "    .dataframe thead th {\n",
       "        text-align: right;\n",
       "    }\n",
       "</style>\n",
       "<table border=\"1\" class=\"dataframe\">\n",
       "  <thead>\n",
       "    <tr style=\"text-align: right;\">\n",
       "      <th></th>\n",
       "      <th>title</th>\n",
       "      <th>vote_average</th>\n",
       "      <th>weighted_vote</th>\n",
       "      <th>vote_count</th>\n",
       "    </tr>\n",
       "  </thead>\n",
       "  <tbody>\n",
       "    <tr>\n",
       "      <th>1990</th>\n",
       "      <td>The Empire Strikes Back</td>\n",
       "      <td>8.2</td>\n",
       "      <td>8.075133</td>\n",
       "      <td>5879</td>\n",
       "    </tr>\n",
       "    <tr>\n",
       "      <th>2912</th>\n",
       "      <td>Star Wars</td>\n",
       "      <td>8.1</td>\n",
       "      <td>7.993727</td>\n",
       "      <td>6624</td>\n",
       "    </tr>\n",
       "    <tr>\n",
       "      <th>183</th>\n",
       "      <td>The Hunger Games: Catching Fire</td>\n",
       "      <td>7.4</td>\n",
       "      <td>7.329476</td>\n",
       "      <td>6495</td>\n",
       "    </tr>\n",
       "    <tr>\n",
       "      <th>26</th>\n",
       "      <td>Captain America: Civil War</td>\n",
       "      <td>7.1</td>\n",
       "      <td>7.050980</td>\n",
       "      <td>7241</td>\n",
       "    </tr>\n",
       "    <tr>\n",
       "      <th>51</th>\n",
       "      <td>Pacific Rim</td>\n",
       "      <td>6.7</td>\n",
       "      <td>6.656427</td>\n",
       "      <td>4794</td>\n",
       "    </tr>\n",
       "    <tr>\n",
       "      <th>52</th>\n",
       "      <td>Transformers: Dark of the Moon</td>\n",
       "      <td>6.1</td>\n",
       "      <td>6.099210</td>\n",
       "      <td>3299</td>\n",
       "    </tr>\n",
       "    <tr>\n",
       "      <th>2372</th>\n",
       "      <td>Megaforce</td>\n",
       "      <td>3.5</td>\n",
       "      <td>5.991230</td>\n",
       "      <td>15</td>\n",
       "    </tr>\n",
       "    <tr>\n",
       "      <th>466</th>\n",
       "      <td>The Time Machine</td>\n",
       "      <td>5.8</td>\n",
       "      <td>5.908032</td>\n",
       "      <td>631</td>\n",
       "    </tr>\n",
       "    <tr>\n",
       "      <th>495</th>\n",
       "      <td>Journey 2: The Mysterious Island</td>\n",
       "      <td>5.8</td>\n",
       "      <td>5.877247</td>\n",
       "      <td>1030</td>\n",
       "    </tr>\n",
       "    <tr>\n",
       "      <th>490</th>\n",
       "      <td>A Sound of Thunder</td>\n",
       "      <td>4.8</td>\n",
       "      <td>5.794102</td>\n",
       "      <td>111</td>\n",
       "    </tr>\n",
       "  </tbody>\n",
       "</table>\n",
       "</div>"
      ],
      "text/plain": [
       "                                 title  vote_average  weighted_vote  \\\n",
       "1990           The Empire Strikes Back           8.2       8.075133   \n",
       "2912                         Star Wars           8.1       7.993727   \n",
       "183    The Hunger Games: Catching Fire           7.4       7.329476   \n",
       "26          Captain America: Civil War           7.1       7.050980   \n",
       "51                         Pacific Rim           6.7       6.656427   \n",
       "52      Transformers: Dark of the Moon           6.1       6.099210   \n",
       "2372                         Megaforce           3.5       5.991230   \n",
       "466                   The Time Machine           5.8       5.908032   \n",
       "495   Journey 2: The Mysterious Island           5.8       5.877247   \n",
       "490                 A Sound of Thunder           4.8       5.794102   \n",
       "\n",
       "      vote_count  \n",
       "1990        5879  \n",
       "2912        6624  \n",
       "183         6495  \n",
       "26          7241  \n",
       "51          4794  \n",
       "52          3299  \n",
       "2372          15  \n",
       "466          631  \n",
       "495         1030  \n",
       "490          111  "
      ]
     },
     "execution_count": 160,
     "metadata": {},
     "output_type": "execute_result"
    }
   ],
   "source": [
    "# similar_movies = find_sim_movie2(movies_df, genre_sim_sorted_ind, 'Avatar', 10)\n",
    "# similar_movies = find_sim_movie2(movies_df, genre_sim_sorted_ind, 'Superman', 10)\n",
    "similar_movies = find_sim_movie2(movies_df, genre_sim_sorted_ind, 'Star Wars: Episode III - Revenge of the Sith', 10)\n",
    "# similar_movies = find_sim_movie2(movies_df, genre_sim_sorted_ind, 'Star', 10) # ERROR\n",
    "\n",
    "similar_movies['weighted_vote'] = similar_movies.apply(weighted_vote_average, axis=1) # 컬럼에 적용\n",
    "similar_movies[['title', 'vote_average', 'weighted_vote', 'vote_count']].sort_values('weighted_vote', ascending=False)[:10]"
   ]
  },
  {
   "cell_type": "code",
   "execution_count": null,
   "metadata": {},
   "outputs": [],
   "source": []
  },
  {
   "cell_type": "code",
   "execution_count": null,
   "metadata": {},
   "outputs": [],
   "source": []
  }
 ],
 "metadata": {
  "kernelspec": {
   "display_name": "ai",
   "language": "python",
   "name": "ai"
  },
  "language_info": {
   "codemirror_mode": {
    "name": "ipython",
    "version": 3
   },
   "file_extension": ".py",
   "mimetype": "text/x-python",
   "name": "python",
   "nbconvert_exporter": "python",
   "pygments_lexer": "ipython3",
   "version": "3.7.11"
  }
 },
 "nbformat": 4,
 "nbformat_minor": 4
}
