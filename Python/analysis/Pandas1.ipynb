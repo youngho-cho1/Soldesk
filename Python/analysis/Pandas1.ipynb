{
 "cells": [
  {
   "cell_type": "markdown",
   "metadata": {},
   "source": [
    "## Series"
   ]
  },
  {
   "cell_type": "code",
   "execution_count": 1,
   "metadata": {},
   "outputs": [],
   "source": [
    "import pandas as pd"
   ]
  },
  {
   "cell_type": "code",
   "execution_count": 2,
   "metadata": {},
   "outputs": [
    {
     "name": "stdout",
     "output_type": "stream",
     "text": [
      "0    2020\n",
      "1    2021\n",
      "2    2022\n",
      "dtype: int64\n"
     ]
    }
   ],
   "source": [
    "obj = pd.Series([2020, 2021, 2022])  # index 자동 생성됨.\n",
    "print(obj)"
   ]
  },
  {
   "cell_type": "code",
   "execution_count": 3,
   "metadata": {},
   "outputs": [
    {
     "name": "stdout",
     "output_type": "stream",
     "text": [
      "[2020 2021 2022]\n",
      "<class 'numpy.ndarray'>\n",
      "RangeIndex(start=0, stop=3, step=1)\n",
      "2021\n"
     ]
    }
   ],
   "source": [
    "print(obj.values)\n",
    "print(type(obj.values))\n",
    "print(obj.index)\n",
    "print(obj[1])"
   ]
  },
  {
   "cell_type": "code",
   "execution_count": 6,
   "metadata": {},
   "outputs": [
    {
     "name": "stdout",
     "output_type": "stream",
     "text": [
      "a    2020\n",
      "b    2021\n",
      "c    2022\n",
      "dtype: int64\n",
      "2020\n",
      "2021\n",
      "2022\n"
     ]
    }
   ],
   "source": [
    "obj = pd.Series([2020, 2021, 2022], index=['a', 'b', 'c'])\n",
    "print(obj)\n",
    "print(obj['a'])\n",
    "print(obj['b'])\n",
    "print(obj['c'])"
   ]
  },
  {
   "cell_type": "code",
   "execution_count": 7,
   "metadata": {},
   "outputs": [
    {
     "name": "stdout",
     "output_type": "stream",
     "text": [
      "a    2020\n",
      "b    2021\n",
      "dtype: int64\n",
      "a    2020\n",
      "b    2021\n",
      "dtype: int64\n",
      "(3,)\n",
      "<class 'pandas.core.series.Series'>\n"
     ]
    }
   ],
   "source": [
    "print(obj[['a', 'b']]) # index를 여러개 선언\n",
    "print(obj[0:2])  # 정수 행 index 0 ~\n",
    "print(obj.shape) # (3,): 1차원 배열\n",
    "print(type(obj))"
   ]
  },
  {
   "cell_type": "code",
   "execution_count": 10,
   "metadata": {},
   "outputs": [
    {
     "name": "stdout",
     "output_type": "stream",
     "text": [
      "a    2020\n",
      "b    2021\n",
      "c    2022\n",
      "dtype: int64\n",
      "a    20200\n",
      "b    20210\n",
      "c    20220\n",
      "dtype: int64\n"
     ]
    }
   ],
   "source": [
    "print(obj)\n",
    "print(obj * 10)"
   ]
  },
  {
   "cell_type": "code",
   "execution_count": 11,
   "metadata": {},
   "outputs": [
    {
     "data": {
      "text/plain": [
       "0    2021\n",
       "1    2022\n",
       "2    2023\n",
       "3    2024\n",
       "4    2025\n",
       "dtype: int64"
      ]
     },
     "execution_count": 11,
     "metadata": {},
     "output_type": "execute_result"
    }
   ],
   "source": [
    "obj = pd.Series([year for year in range(2021, 2026)])\n",
    "obj"
   ]
  },
  {
   "cell_type": "code",
   "execution_count": 13,
   "metadata": {},
   "outputs": [
    {
     "name": "stdout",
     "output_type": "stream",
     "text": [
      "0    False\n",
      "1     True\n",
      "2     True\n",
      "3     True\n",
      "4     True\n",
      "dtype: bool\n",
      "<class 'pandas.core.series.Series'>\n"
     ]
    }
   ],
   "source": [
    "bol = obj >= 2022\n",
    "print(bol)\n",
    "print(type(bol))"
   ]
  },
  {
   "cell_type": "code",
   "execution_count": 15,
   "metadata": {},
   "outputs": [
    {
     "name": "stdout",
     "output_type": "stream",
     "text": [
      "1    2022\n",
      "2    2023\n",
      "3    2024\n",
      "4    2025\n",
      "dtype: int64\n"
     ]
    }
   ],
   "source": [
    "print(obj[bol]) # true에 해당하는 데이터만 출력"
   ]
  },
  {
   "cell_type": "code",
   "execution_count": 16,
   "metadata": {},
   "outputs": [
    {
     "data": {
      "text/plain": [
       "dev1    5000\n",
       "dev2    4000\n",
       "dev3    3000\n",
       "dtype: int64"
      ]
     },
     "execution_count": 16,
     "metadata": {},
     "output_type": "execute_result"
    }
   ],
   "source": [
    "pay = pd.Series([5000, 4000, 3000], index=['dev1', 'dev2', 'dev3'])\n",
    "pay"
   ]
  },
  {
   "cell_type": "code",
   "execution_count": 18,
   "metadata": {},
   "outputs": [
    {
     "data": {
      "text/plain": [
       "<zip at 0x25d0990fc08>"
      ]
     },
     "execution_count": 18,
     "metadata": {},
     "output_type": "execute_result"
    }
   ],
   "source": [
    "pay.items()"
   ]
  },
  {
   "cell_type": "code",
   "execution_count": 19,
   "metadata": {},
   "outputs": [
    {
     "name": "stdout",
     "output_type": "stream",
     "text": [
      "dev1: 5,000,000 원\n",
      "dev2: 4,000,000 원\n",
      "dev3: 3,000,000 원\n"
     ]
    }
   ],
   "source": [
    "for i, v in pay.items():\n",
    "    print('{0}: {1:,} 원'.format(i, v*1000))"
   ]
  },
  {
   "cell_type": "code",
   "execution_count": 21,
   "metadata": {},
   "outputs": [],
   "source": [
    "# ERROR\n",
    "# pay = pd.Series([5000, 4000, 3000], index=['dev1', 'dev2', 'dev3', 'dev4'])"
   ]
  },
  {
   "cell_type": "code",
   "execution_count": 22,
   "metadata": {},
   "outputs": [
    {
     "data": {
      "text/plain": [
       "dev1    5000.0\n",
       "dev2    4000.0\n",
       "dev3    3000.0\n",
       "dev4       NaN\n",
       "dev5       NaN\n",
       "dtype: float64"
      ]
     },
     "execution_count": 22,
     "metadata": {},
     "output_type": "execute_result"
    }
   ],
   "source": [
    "# Series에 Dictionary 할당\n",
    "pay = pd.Series({'dev1':5000, 'dev2':4000, 'dev3':3000},\n",
    "                index=['dev1', 'dev2', 'dev3', 'dev4', 'dev5'])\n",
    "pay"
   ]
  },
  {
   "cell_type": "code",
   "execution_count": 23,
   "metadata": {},
   "outputs": [
    {
     "name": "stdout",
     "output_type": "stream",
     "text": [
      "dev4: 6,000,000 원\n",
      "dev5: 7,000,000 원\n"
     ]
    }
   ],
   "source": [
    "pay['dev4'] = 6000\n",
    "pay['dev5'] = 7000\n",
    "print('dev4: {0:,} 원'.format(int(pay['dev4'])*1000))\n",
    "print('dev5: {0:,} 원'.format(int(pay['dev5'])*1000))"
   ]
  },
  {
   "cell_type": "markdown",
   "metadata": {},
   "source": [
    "## DataFrame"
   ]
  },
  {
   "cell_type": "code",
   "execution_count": null,
   "metadata": {},
   "outputs": [],
   "source": []
  },
  {
   "cell_type": "code",
   "execution_count": null,
   "metadata": {},
   "outputs": [],
   "source": []
  },
  {
   "cell_type": "code",
   "execution_count": null,
   "metadata": {},
   "outputs": [],
   "source": []
  },
  {
   "cell_type": "code",
   "execution_count": null,
   "metadata": {},
   "outputs": [],
   "source": []
  },
  {
   "cell_type": "code",
   "execution_count": null,
   "metadata": {},
   "outputs": [],
   "source": []
  }
 ],
 "metadata": {
  "kernelspec": {
   "display_name": "ai",
   "language": "python",
   "name": "ai"
  },
  "language_info": {
   "codemirror_mode": {
    "name": "ipython",
    "version": 3
   },
   "file_extension": ".py",
   "mimetype": "text/x-python",
   "name": "python",
   "nbconvert_exporter": "python",
   "pygments_lexer": "ipython3",
   "version": "3.7.11"
  }
 },
 "nbformat": 4,
 "nbformat_minor": 4
}
