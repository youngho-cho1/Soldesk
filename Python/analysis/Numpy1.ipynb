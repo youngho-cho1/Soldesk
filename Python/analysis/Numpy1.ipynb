{
 "cells": [
  {
   "cell_type": "code",
   "execution_count": 1,
   "metadata": {},
   "outputs": [],
   "source": [
    "import numpy as np"
   ]
  },
  {
   "cell_type": "code",
   "execution_count": 3,
   "metadata": {},
   "outputs": [
    {
     "name": "stdout",
     "output_type": "stream",
     "text": [
      "<class 'list'>\n",
      "[1, 2, 3, 1, 2, 3]\n"
     ]
    }
   ],
   "source": [
    "x = [1, 2, 3]\n",
    "print(type(x))\n",
    "y = x + x\n",
    "print(y)"
   ]
  },
  {
   "cell_type": "code",
   "execution_count": null,
   "metadata": {},
   "outputs": [],
   "source": [
    "x+5 # X"
   ]
  },
  {
   "cell_type": "code",
   "execution_count": 6,
   "metadata": {},
   "outputs": [
    {
     "name": "stdout",
     "output_type": "stream",
     "text": [
      "<class 'numpy.ndarray'>\n",
      "[1 2 3]\n"
     ]
    }
   ],
   "source": [
    "x = np.array([1, 2, 3])\n",
    "print(type(x))\n",
    "print(x)"
   ]
  },
  {
   "cell_type": "code",
   "execution_count": 7,
   "metadata": {},
   "outputs": [
    {
     "data": {
      "text/plain": [
       "array([6, 7, 8])"
      ]
     },
     "execution_count": 7,
     "metadata": {},
     "output_type": "execute_result"
    }
   ],
   "source": [
    "x+5"
   ]
  },
  {
   "cell_type": "code",
   "execution_count": 8,
   "metadata": {},
   "outputs": [
    {
     "name": "stdout",
     "output_type": "stream",
     "text": [
      "[2 4 6]\n",
      "(3,)\n",
      "<class 'tuple'>\n",
      "1\n",
      "2021\n"
     ]
    }
   ],
   "source": [
    "y = x + x\n",
    "print(y)\n",
    "print(y.shape)  # (3,): 1차원 배열 요소 3개\n",
    "print(type(y.shape))\n",
    "print(x[0])\n",
    "x[0] = 2021\n",
    "print(x[0])"
   ]
  },
  {
   "cell_type": "code",
   "execution_count": 9,
   "metadata": {},
   "outputs": [
    {
     "name": "stdout",
     "output_type": "stream",
     "text": [
      "[0 1 2 3 4 5 6 7 8 9]\n",
      "<class 'numpy.ndarray'>\n",
      "[5 6 7 8 9]\n",
      "[1 3 5 7 9]\n"
     ]
    }
   ],
   "source": [
    "x = np.arange(10) # 0 ~ 9(n-1)\n",
    "print(x)\n",
    "print(type(x))\n",
    "x = np.arange(5, 10) # 5 ~ 9\n",
    "print(x)\n",
    "x = np.arange(1, 10, 2) # 2씩 증가\n",
    "print(x)"
   ]
  },
  {
   "cell_type": "code",
   "execution_count": 10,
   "metadata": {},
   "outputs": [
    {
     "name": "stdout",
     "output_type": "stream",
     "text": [
      "13579"
     ]
    }
   ],
   "source": [
    "for i in x:\n",
    "    print(i, end='')"
   ]
  },
  {
   "cell_type": "code",
   "execution_count": 11,
   "metadata": {},
   "outputs": [
    {
     "name": "stdout",
     "output_type": "stream",
     "text": [
      "[0. 0. 0. 0. 0. 0. 0. 0. 0. 0.]\n"
     ]
    }
   ],
   "source": [
    "print(np.zeros(10))"
   ]
  },
  {
   "cell_type": "code",
   "execution_count": 12,
   "metadata": {},
   "outputs": [
    {
     "name": "stdout",
     "output_type": "stream",
     "text": [
      "[[0. 0. 0. 0. 0. 0. 0. 0. 0. 0.]\n",
      " [0. 0. 0. 0. 0. 0. 0. 0. 0. 0.]\n",
      " [0. 0. 0. 0. 0. 0. 0. 0. 0. 0.]\n",
      " [0. 0. 0. 0. 0. 0. 0. 0. 0. 0.]\n",
      " [0. 0. 0. 0. 0. 0. 0. 0. 0. 0.]]\n"
     ]
    }
   ],
   "source": [
    "print(np.zeros((5, 10)))"
   ]
  },
  {
   "cell_type": "code",
   "execution_count": 50,
   "metadata": {},
   "outputs": [],
   "source": [
    "np.random.seed(1) # 1회만 사용 가능"
   ]
  },
  {
   "cell_type": "code",
   "execution_count": 55,
   "metadata": {},
   "outputs": [
    {
     "name": "stdout",
     "output_type": "stream",
     "text": [
      "[[0.87638915 0.89460666 0.08504421]\n",
      " [0.03905478 0.16983042 0.8781425 ]]\n"
     ]
    }
   ],
   "source": [
    "print(np.random.rand(2,3)) # 2행 3열의 0 ~ 1사이의 난수 발생"
   ]
  },
  {
   "cell_type": "code",
   "execution_count": 56,
   "metadata": {},
   "outputs": [
    {
     "name": "stdout",
     "output_type": "stream",
     "text": [
      "[[2 2]\n",
      " [1 1]\n",
      " [1 0]\n",
      " [0 1]\n",
      " [0 2]]\n"
     ]
    }
   ],
   "source": [
    "print(np.random.randint(3, size=(5,2))) # 0 ~ 2까지의 난수 발생"
   ]
  },
  {
   "cell_type": "code",
   "execution_count": 58,
   "metadata": {},
   "outputs": [
    {
     "name": "stdout",
     "output_type": "stream",
     "text": [
      "[[0 0]\n",
      " [0 0]\n",
      " [0 0]\n",
      " [0 0]\n",
      " [0 0]]\n"
     ]
    }
   ],
   "source": [
    "print(np.random.randint(1, size=(5,2))) # 0의 난수 발생"
   ]
  },
  {
   "cell_type": "code",
   "execution_count": 59,
   "metadata": {},
   "outputs": [
    {
     "name": "stdout",
     "output_type": "stream",
     "text": [
      "<class 'numpy.ndarray'>\n",
      "[ 9 10  6  7  9  6  6  7 10 10  7  8 10  8 10  9 10  8 10  8 10  7  7  6\n",
      "  7  7  7  7  6 10  7  6  6  9  8  7  6  9  7  7  9 10  6  7  9 10  8 10\n",
      "  6  9  7  8  6 10  7  8  8  7  6  7  9 10  9  7  9  6  6  8  8  7  9 10\n",
      "  8  6  6  7  7  9  6  6 10  8 10  9  9  6  9 10  9 10 10 10  7  6 10  8\n",
      "  6  8 10  7]\n"
     ]
    }
   ],
   "source": [
    "np.random.seed(1)\n",
    "fish = np.random.randint(6, 11, size=100)\n",
    "print(type(fish))\n",
    "print(fish)"
   ]
  },
  {
   "cell_type": "code",
   "execution_count": 64,
   "metadata": {},
   "outputs": [
    {
     "name": "stdout",
     "output_type": "stream",
     "text": [
      "[ 1.62434536 -0.61175641 -0.52817175 -1.07296862  0.86540763 -2.3015387\n",
      "  1.74481176 -0.7612069   0.3190391  -0.24937038]\n"
     ]
    }
   ],
   "source": [
    "# 표준 정규 분포 지원 난수,  평균 0, 표준편차(분산) 1\n",
    "np.random.seed(1)\n",
    "a = np.random.randn(10) \n",
    "print(a)"
   ]
  },
  {
   "cell_type": "code",
   "execution_count": 65,
   "metadata": {},
   "outputs": [
    {
     "name": "stdout",
     "output_type": "stream",
     "text": [
      "[[ 1.62434536 -0.61175641]\n",
      " [-0.52817175 -1.07296862]\n",
      " [ 0.86540763 -2.3015387 ]\n",
      " [ 1.74481176 -0.7612069 ]\n",
      " [ 0.3190391  -0.24937038]]\n"
     ]
    }
   ],
   "source": [
    "np.random.seed(1)\n",
    "a = np.random.randn(5,2) \n",
    "print(a)"
   ]
  },
  {
   "cell_type": "code",
   "execution_count": 66,
   "metadata": {},
   "outputs": [],
   "source": [
    "import pandas as pd\n",
    "import numpy as np\n",
    "import matplotlib\n",
    "import matplotlib.pyplot as plt\n",
    "from matplotlib import font_manager, rc\n",
    "\n",
    "font_name = font_manager.FontProperties(fname=\"C:/Windows/Fonts/malgun.ttf\").get_name()\n",
    "rc('font', family=font_name)           # 맑은 고딕 폰트 지정\n",
    "plt.rcParams[\"font.size\"] = 12         # 글자 크기\n",
    "# plt.rcParams[\"figure.figsize\"] = (10, 4) # 10:4의 그래프 비율\n",
    "plt.rcParams['axes.unicode_minus'] = False  # minus 부호는 unicode 적용시 한글이 깨짐으로 설정\n",
    "\n",
    "# Jupyter에게 matplotlib 그래프를 출력 영역에 표시할 것을 지시하는 명령\n",
    "%matplotlib inline"
   ]
  },
  {
   "cell_type": "code",
   "execution_count": 69,
   "metadata": {},
   "outputs": [
    {
     "data": {
      "image/png": "[encoded data removed]",
      "text/plain": [
       "<Figure size 432x288 with 1 Axes>"
      ]
     },
     "metadata": {
      "needs_background": "light"
     },
     "output_type": "display_data"
    }
   ],
   "source": [
    "# 표준 정규 분포, 평균: 0, 분산 1\n",
    "np.random.seed(1)\n",
    "x = np.random.randn(500)\n",
    "y = np.arange(1, 501)\n",
    "plt.scatter(x, y)\n",
    "plt.show()"
   ]
  },
  {
   "cell_type": "code",
   "execution_count": 70,
   "metadata": {},
   "outputs": [
    {
     "data": {
      "image/png": "[encoded data removed]",
      "text/plain": [
       "<Figure size 432x288 with 1 Axes>"
      ]
     },
     "metadata": {
      "needs_background": "light"
     },
     "output_type": "display_data"
    }
   ],
   "source": [
    "# 정규 분포, 평균: 3\n",
    "np.random.seed(1)\n",
    "x = np.random.randn(500) + 3\n",
    "y = np.arange(1, 501)\n",
    "plt.scatter(x, y)\n",
    "plt.show()"
   ]
  },
  {
   "cell_type": "code",
   "execution_count": 71,
   "metadata": {},
   "outputs": [
    {
     "data": {
      "image/png": "[encoded data removed]",
      "text/plain": [
       "<Figure size 432x288 with 1 Axes>"
      ]
     },
     "metadata": {
      "needs_background": "light"
     },
     "output_type": "display_data"
    }
   ],
   "source": [
    "np.random.seed(1)\n",
    "x = np.random.uniform(1, 2, 300) # 균등 분포: low, high, 갯수 \n",
    "y = np.arange(1, 301)\n",
    "plt.scatter(x, y)\n",
    "plt.show()"
   ]
  },
  {
   "cell_type": "code",
   "execution_count": 72,
   "metadata": {},
   "outputs": [
    {
     "name": "stdout",
     "output_type": "stream",
     "text": [
      "[[4 4 4]\n",
      " [8 8 8]]\n",
      "[[1 1 1]\n",
      " [2 2 2]]\n",
      "[[ 5  5  5]\n",
      " [10 10 10]]\n",
      "[[ 4  4  4]\n",
      " [16 16 16]]\n"
     ]
    }
   ],
   "source": [
    "x = np.array([[4, 4, 4], \n",
    "              [8, 8, 8]])\n",
    "y = np.array([[1, 1, 1], \n",
    "              [2, 2, 2]])\n",
    "print(x)\n",
    "print(y)\n",
    "print(x + y) # 요소간 합\n",
    "print(x * y) # 요소간 곱"
   ]
  },
  {
   "cell_type": "code",
   "execution_count": 73,
   "metadata": {},
   "outputs": [
    {
     "name": "stdout",
     "output_type": "stream",
     "text": [
      "6\n"
     ]
    }
   ],
   "source": [
    "v = np.array([2])\n",
    "w = np.array([3])\n",
    "print(v.dot(w))"
   ]
  },
  {
   "cell_type": "code",
   "execution_count": 74,
   "metadata": {},
   "outputs": [
    {
     "name": "stdout",
     "output_type": "stream",
     "text": [
      "8\n"
     ]
    }
   ],
   "source": [
    "v = np.array([2, 3])\n",
    "w = np.array([1, 2])\n",
    "print(v.dot(w))  # 2 * 1 + 3 * 2 = 8"
   ]
  },
  {
   "cell_type": "code",
   "execution_count": 75,
   "metadata": {},
   "outputs": [
    {
     "name": "stdout",
     "output_type": "stream",
     "text": [
      "[8]\n"
     ]
    }
   ],
   "source": [
    "v = np.array([2,3])\n",
    "w = np.array([[1],\n",
    "              [2]])\n",
    "print(v.dot(w))  # 2 * 1 + 3 * 2 = 8"
   ]
  },
  {
   "cell_type": "code",
   "execution_count": 76,
   "metadata": {},
   "outputs": [
    {
     "name": "stdout",
     "output_type": "stream",
     "text": [
      "(2, 1)\n",
      "(1, 2)\n",
      "[[2 4]\n",
      " [3 6]]\n"
     ]
    }
   ],
   "source": [
    "# 첫번째 행렬의 열과 두번째 행렬의 행의 수가 일치해야 곱셈이 가능함.\n",
    "x1 = np.array([[2],\n",
    "               [3]])      # 2차원 배열, 2행 1열\n",
    "x2 = np.array([[1, 2]])   # 2차원 배열, 1행 2열 \n",
    "print(x1.shape)\n",
    "print(x2.shape)\n",
    "\n",
    "y = x1.dot(x2)\n",
    "\n",
    "print(y)\n",
    "# 2: 2 * 1, 4: 2 * 2\n",
    "# 3: 3 * 1, 6: 3 * 2"
   ]
  },
  {
   "cell_type": "code",
   "execution_count": 77,
   "metadata": {},
   "outputs": [
    {
     "name": "stdout",
     "output_type": "stream",
     "text": [
      "(2, 2)\n",
      "(2, 2)\n",
      "[[ 5  8]\n",
      " [ 6 10]]\n"
     ]
    }
   ],
   "source": [
    "# 첫번째 행렬의 열과 두번째 행렬의 행의 수가 일치해야 곱셈이 가능함.\n",
    "x1 = np.array([[2, 1],\n",
    "               [3, 1]])   # 2차원 배열, 2행 2열\n",
    "x2 = np.array([[1, 2],\n",
    "               [3, 4]])   # 2차원 배열, 2행 2열 \n",
    "print(x1.shape)\n",
    "print(x2.shape)\n",
    "\n",
    "y = x1.dot(x2)\n",
    "\n",
    "print(y)\n",
    "# 5: 2 * 1 + 1 * 3,  8: 2 * 2 + 1 * 4\n",
    "# 6: 3 * 1 + 1 * 3, 10: 3 * 2 + 1 * 4"
   ]
  },
  {
   "cell_type": "code",
   "execution_count": 78,
   "metadata": {},
   "outputs": [
    {
     "name": "stdout",
     "output_type": "stream",
     "text": [
      "[[2 1]\n",
      " [3 1]]\n",
      "[[1 2]\n",
      " [3 4]]\n",
      "[[3 3]\n",
      " [6 5]]\n"
     ]
    }
   ],
   "source": [
    "print(x1)\n",
    "print(x2)\n",
    "y = x1 + x2  # 요소간 더하기\n",
    "print(y)"
   ]
  },
  {
   "cell_type": "code",
   "execution_count": 79,
   "metadata": {},
   "outputs": [
    {
     "name": "stdout",
     "output_type": "stream",
     "text": [
      "[[2 1]\n",
      " [3 1]]\n",
      "[[1 2]\n",
      " [3 4]]\n",
      "[[2 2]\n",
      " [9 4]]\n"
     ]
    }
   ],
   "source": [
    "print(x1)\n",
    "print(x2)\n",
    "y = x1 * x2  # 요소간 곱하기\n",
    "print(y)"
   ]
  },
  {
   "cell_type": "code",
   "execution_count": 80,
   "metadata": {},
   "outputs": [
    {
     "name": "stdout",
     "output_type": "stream",
     "text": [
      "<class 'numpy.ndarray'>\n",
      "(6497, 13)\n"
     ]
    }
   ],
   "source": [
    "# skiprows=1: header가 있는 경우 첫번째 행 skip, encoding=\"utf-8\"\n",
    "data = np.loadtxt('./data/wine.csv', delimiter=',', dtype=np.float64)\n",
    "print(type(data))\n",
    "print(data.shape)"
   ]
  },
  {
   "cell_type": "code",
   "execution_count": 81,
   "metadata": {},
   "outputs": [
    {
     "name": "stdout",
     "output_type": "stream",
     "text": [
      "<class 'numpy.ndarray'>\n",
      "[[6.700e+00 6.750e-01 7.000e-02 2.400e+00 8.900e-02 1.700e+01 8.200e+01\n",
      "  9.958e-01 3.350e+00 5.400e-01 1.010e+01 5.000e+00 1.000e+00]\n",
      " [6.900e+00 6.850e-01 0.000e+00 2.500e+00 1.050e-01 2.200e+01 3.700e+01\n",
      "  9.966e-01 3.460e+00 5.700e-01 1.060e+01 6.000e+00 1.000e+00]\n",
      " [8.300e+00 6.550e-01 1.200e-01 2.300e+00 8.300e-02 1.500e+01 1.130e+02\n",
      "  9.966e-01 3.170e+00 6.600e-01 9.800e+00 5.000e+00 1.000e+00]]\n"
     ]
    }
   ],
   "source": [
    "# 3개의 행 출력\n",
    "# 지수 표현(자연 상수 e와 상관 없음)\n",
    "# e-01: 10으로 1번 나누어야 원래의 수가 됨.\n",
    "# e+02: 10을 2번 곱해야 원래의 수가 됨.\n",
    "r3 = data[0:3]\n",
    "print(type(r3))\n",
    "print(r3)"
   ]
  },
  {
   "cell_type": "code",
   "execution_count": 82,
   "metadata": {},
   "outputs": [
    {
     "name": "stdout",
     "output_type": "stream",
     "text": [
      "[1. 1. 1. 1. 1. 1. 1. 1. 1. 1.]\n"
     ]
    }
   ],
   "source": [
    "cls10 = data[0:10, 12] # 10개의 행, index는 0부터 시작, 12는 13번째 값\n",
    "print(cls10)"
   ]
  },
  {
   "cell_type": "code",
   "execution_count": 83,
   "metadata": {},
   "outputs": [],
   "source": [
    "np.savetxt('./data/r3.txt', r3, delimiter=',', fmt='%.4f')"
   ]
  },
  {
   "cell_type": "code",
   "execution_count": 90,
   "metadata": {},
   "outputs": [
    {
     "name": "stdout",
     "output_type": "stream",
     "text": [
      "[1 2]\n"
     ]
    }
   ],
   "source": [
    "npy = [1, 2]\n",
    "npy_array = np.array(npy)\n",
    "print(npy_array)\n",
    "np.savetxt('./data/npy_array1.txt', npy_array, delimiter=',', fmt='%.4f')"
   ]
  },
  {
   "cell_type": "code",
   "execution_count": 91,
   "metadata": {},
   "outputs": [
    {
     "name": "stdout",
     "output_type": "stream",
     "text": [
      "[[1 2]\n",
      " [3 4]\n",
      " [5 6]]\n"
     ]
    }
   ],
   "source": [
    "npy = [[1, 2], [3, 4],[5, 6]]\n",
    "npy_array = np.array(npy)\n",
    "print(npy_array)\n",
    "np.savetxt('./data/npy_array2.txt', npy_array, delimiter=',', fmt='%.4f')"
   ]
  },
  {
   "cell_type": "code",
   "execution_count": 93,
   "metadata": {},
   "outputs": [
    {
     "name": "stdout",
     "output_type": "stream",
     "text": [
      "[[[1 2]\n",
      "  [3 4]\n",
      "  [5 6]]\n",
      "\n",
      " [[1 2]\n",
      "  [3 4]\n",
      "  [5 6]]]\n"
     ]
    }
   ],
   "source": [
    "npy = [[[1, 2], [3, 4],[5, 6]],\n",
    "       [[1, 2], [3, 4],[5, 6]]]\n",
    "npy_array = np.array(npy)\n",
    "print(npy_array)\n",
    "# 3차원 저장 못함.\n",
    "# np.savetxt('./data/npy_array3.txt', npy_array, delimiter=',', fmt='%.4f')# X"
   ]
  },
  {
   "cell_type": "code",
   "execution_count": 95,
   "metadata": {},
   "outputs": [],
   "source": [
    "# numpy 고유 형식 입출력, 형식이 보관\n",
    "np.save('./data/npy_array.npy', npy_array)"
   ]
  },
  {
   "cell_type": "code",
   "execution_count": 96,
   "metadata": {},
   "outputs": [
    {
     "name": "stdout",
     "output_type": "stream",
     "text": [
      "[[[1 2]\n",
      "  [3 4]\n",
      "  [5 6]]\n",
      "\n",
      " [[1 2]\n",
      "  [3 4]\n",
      "  [5 6]]]\n"
     ]
    }
   ],
   "source": [
    "npy_array_load = np.load('./data/npy_array.npy')\n",
    "print(npy_array_load)"
   ]
  },
  {
   "cell_type": "markdown",
   "metadata": {},
   "source": [
    "### 정렬"
   ]
  },
  {
   "cell_type": "code",
   "execution_count": 97,
   "metadata": {},
   "outputs": [
    {
     "name": "stdout",
     "output_type": "stream",
     "text": [
      "<class 'numpy.ndarray'>\n",
      "(20, 2)\n"
     ]
    }
   ],
   "source": [
    "# x: 비용, y: 클릭수\n",
    "# skiprows=1: header가 있는 경우 첫번째 행 skip, encoding=\"utf-8\"\n",
    "data = np.loadtxt('./data/click.csv', delimiter=',',\n",
    "                  skiprows=1, dtype=np.float64)\n",
    "print(type(data))\n",
    "print(data.shape)"
   ]
  },
  {
   "cell_type": "code",
   "execution_count": 99,
   "metadata": {},
   "outputs": [
    {
     "name": "stdout",
     "output_type": "stream",
     "text": [
      "[235. 216. 148.  35.  85. 204.  49.  25. 173. 191. 134.  99. 117. 112.\n",
      " 162. 272. 159. 159.  59. 198.]\n",
      "(20,)\n"
     ]
    }
   ],
   "source": [
    "train_x = data[:, 0] # 모든행, 첫번째 컬럼\n",
    "print(train_x)\n",
    "print(train_x.shape)"
   ]
  },
  {
   "cell_type": "code",
   "execution_count": 100,
   "metadata": {},
   "outputs": [
    {
     "data": {
      "text/plain": [
       "array([ 25.,  35.,  49.,  59.,  85.,  99., 112., 117., 134., 148., 159.,\n",
       "       159., 162., 173., 191., 198., 204., 216., 235., 272.])"
      ]
     },
     "execution_count": 100,
     "metadata": {},
     "output_type": "execute_result"
    }
   ],
   "source": [
    "x = np.sort(train_x)\n",
    "x"
   ]
  },
  {
   "cell_type": "code",
   "execution_count": 101,
   "metadata": {},
   "outputs": [
    {
     "data": {
      "text/plain": [
       "array([272., 235., 216., 204., 198., 191., 173., 162., 159., 159., 148.,\n",
       "       134., 117., 112.,  99.,  85.,  59.,  49.,  35.,  25.])"
      ]
     },
     "execution_count": 101,
     "metadata": {},
     "output_type": "execute_result"
    }
   ],
   "source": [
    "x = np.sort(train_x)[::-1] # 내림 차순\n",
    "x"
   ]
  },
  {
   "cell_type": "code",
   "execution_count": 102,
   "metadata": {},
   "outputs": [
    {
     "data": {
      "text/plain": [
       "array([[1, 3, 2],\n",
       "       [4, 6, 5],\n",
       "       [2, 4, 3]])"
      ]
     },
     "execution_count": 102,
     "metadata": {},
     "output_type": "execute_result"
    }
   ],
   "source": [
    "x = np.array([[1,3,2],\n",
    "              [4,6,5],\n",
    "              [2,4,3]])\n",
    "x"
   ]
  },
  {
   "cell_type": "code",
   "execution_count": 103,
   "metadata": {},
   "outputs": [
    {
     "data": {
      "text/plain": [
       "array([[1, 2, 3],\n",
       "       [4, 5, 6],\n",
       "       [2, 3, 4]])"
      ]
     },
     "execution_count": 103,
     "metadata": {},
     "output_type": "execute_result"
    }
   ],
   "source": [
    "y = np.sort(x) # 기본 값 axis=1: 행별 열이 오름차순 정렬\n",
    "y"
   ]
  },
  {
   "cell_type": "code",
   "execution_count": 104,
   "metadata": {},
   "outputs": [
    {
     "data": {
      "text/plain": [
       "array([[1, 2, 3],\n",
       "       [4, 5, 6],\n",
       "       [2, 3, 4]])"
      ]
     },
     "execution_count": 104,
     "metadata": {},
     "output_type": "execute_result"
    }
   ],
   "source": [
    "y = np.sort(x, axis=1) # 기본 값 axis=1: 행별 열이 오름차순 정렬\n",
    "y"
   ]
  },
  {
   "cell_type": "code",
   "execution_count": 105,
   "metadata": {},
   "outputs": [
    {
     "data": {
      "text/plain": [
       "array([[2, 3, 4],\n",
       "       [4, 5, 6],\n",
       "       [1, 2, 3]])"
      ]
     },
     "execution_count": 105,
     "metadata": {},
     "output_type": "execute_result"
    }
   ],
   "source": [
    "# axis=1: 행별 열이 오름차순 정렬, 행 순서 내림차순\n",
    "y = np.sort(x, axis=1)[::-1] \n",
    "y"
   ]
  },
  {
   "cell_type": "code",
   "execution_count": 106,
   "metadata": {},
   "outputs": [
    {
     "data": {
      "text/plain": [
       "array([[1, 3, 2],\n",
       "       [2, 4, 3],\n",
       "       [4, 6, 5]])"
      ]
     },
     "execution_count": 106,
     "metadata": {},
     "output_type": "execute_result"
    }
   ],
   "source": [
    "y = np.sort(x, axis=0) # axis=0: 행변경 오름 차순 정렬\n",
    "y"
   ]
  },
  {
   "cell_type": "code",
   "execution_count": 111,
   "metadata": {},
   "outputs": [
    {
     "data": {
      "text/plain": [
       "array([[3, 6, 5],\n",
       "       [1, 4, 3],\n",
       "       [1, 3, 2]])"
      ]
     },
     "execution_count": 111,
     "metadata": {},
     "output_type": "execute_result"
    }
   ],
   "source": [
    "y = np.sort(x, axis=0)[::-1] # axis=0: 행변경 오름 차순 정렬 후 내림차순 출력\n",
    "y"
   ]
  },
  {
   "cell_type": "markdown",
   "metadata": {},
   "source": [
    "### argsort() 함수"
   ]
  },
  {
   "cell_type": "code",
   "execution_count": 113,
   "metadata": {},
   "outputs": [
    {
     "data": {
      "text/plain": [
       "array([[ 25., 308.],\n",
       "       [ 35., 310.],\n",
       "       [ 49., 319.],\n",
       "       [ 59., 325.],\n",
       "       [ 85., 332.],\n",
       "       [ 99., 334.],\n",
       "       [112., 385.],\n",
       "       [117., 387.],\n",
       "       [134., 392.],\n",
       "       [148., 400.],\n",
       "       [159., 413.],\n",
       "       [159., 425.],\n",
       "       [162., 427.],\n",
       "       [173., 498.],\n",
       "       [191., 498.],\n",
       "       [198., 519.],\n",
       "       [204., 522.],\n",
       "       [216., 539.],\n",
       "       [235., 591.],\n",
       "       [272., 659.]])"
      ]
     },
     "execution_count": 113,
     "metadata": {},
     "output_type": "execute_result"
    }
   ],
   "source": [
    "# click 데이터 정렬\n",
    "x = np.sort(data, axis=0) # 잘못된 정렬 25, 332\n",
    "x"
   ]
  },
  {
   "cell_type": "code",
   "execution_count": 114,
   "metadata": {},
   "outputs": [
    {
     "name": "stdout",
     "output_type": "stream",
     "text": [
      "[0 1 2 3 4]\n"
     ]
    }
   ],
   "source": [
    "x = np.array([10,20,30,40,50])\n",
    "idx = np.argsort(x) # 정렬 index\n",
    "print(idx)"
   ]
  },
  {
   "cell_type": "code",
   "execution_count": 117,
   "metadata": {},
   "outputs": [
    {
     "name": "stdout",
     "output_type": "stream",
     "text": [
      "[0 3 2 1 4]\n",
      "[10 20 30 40 50]\n"
     ]
    }
   ],
   "source": [
    "x = np.array([10,40,30,20,50])\n",
    "idx = np.argsort(x) # 정렬 index\n",
    "print(idx)\n",
    "print(x[idx]) # 배열은 전달되는 list를 출력 순서 index로 처리"
   ]
  },
  {
   "cell_type": "code",
   "execution_count": 119,
   "metadata": {},
   "outputs": [
    {
     "name": "stdout",
     "output_type": "stream",
     "text": [
      "[4 1 2 3 0]\n",
      "[50 40 30 20 10]\n"
     ]
    }
   ],
   "source": [
    "x = np.array([10,40,30,20,50])\n",
    "idx = np.argsort(x)[::-1] # 내림차순 정렬 index\n",
    "print(idx)\n",
    "print(x[idx]) # 배열은 전달되는 list를 출력 순서 index로 처리"
   ]
  },
  {
   "cell_type": "code",
   "execution_count": 120,
   "metadata": {},
   "outputs": [
    {
     "data": {
      "text/plain": [
       "array([235., 216., 148.,  35.,  85., 204.,  49.,  25., 173., 191., 134.,\n",
       "        99., 117., 112., 162., 272., 159., 159.,  59., 198.])"
      ]
     },
     "execution_count": 120,
     "metadata": {},
     "output_type": "execute_result"
    }
   ],
   "source": [
    "data[:, 0]"
   ]
  },
  {
   "cell_type": "code",
   "execution_count": 121,
   "metadata": {},
   "outputs": [
    {
     "name": "stdout",
     "output_type": "stream",
     "text": [
      "[ 7  3  6 18  4 11 13 12 10  2 17 16 14  8  9 19  5  1  0 15]\n",
      "[[ 25. 332.]\n",
      " [ 35. 310.]\n",
      " [ 49. 325.]\n",
      " [ 59. 319.]\n",
      " [ 85. 308.]\n",
      " [ 99. 334.]\n",
      " [112. 387.]\n",
      " [117. 385.]\n",
      " [134. 392.]\n",
      " [148. 413.]\n",
      " [159. 427.]\n",
      " [159. 400.]\n",
      " [162. 425.]\n",
      " [173. 498.]\n",
      " [191. 498.]\n",
      " [198. 522.]\n",
      " [204. 519.]\n",
      " [216. 539.]\n",
      " [235. 591.]\n",
      " [272. 659.]]\n"
     ]
    }
   ],
   "source": [
    "idx = np.argsort(data[:,0])\n",
    "print(idx)\n",
    "print(data[idx])"
   ]
  },
  {
   "cell_type": "code",
   "execution_count": null,
   "metadata": {},
   "outputs": [],
   "source": []
  }
 ],
 "metadata": {
  "kernelspec": {
   "display_name": "ai",
   "language": "python",
   "name": "ai"
  },
  "language_info": {
   "codemirror_mode": {
    "name": "ipython",
    "version": 3
   },
   "file_extension": ".py",
   "mimetype": "text/x-python",
   "name": "python",
   "nbconvert_exporter": "python",
   "pygments_lexer": "ipython3",
   "version": "3.7.11"
  }
 },
 "nbformat": 4,
 "nbformat_minor": 4
}
