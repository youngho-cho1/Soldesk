{
 "cells": [
  {
   "cell_type": "markdown",
   "metadata": {},
   "source": [
    "### 제곱, 제곱근, 지수"
   ]
  },
  {
   "cell_type": "code",
   "execution_count": 1,
   "metadata": {},
   "outputs": [],
   "source": [
    "import warnings\n",
    "warnings.filterwarnings(action='ignore')\n",
    "\n",
    "import math\n",
    "import numpy as np\n",
    "\n",
    "import matplotlib\n",
    "import matplotlib.pyplot as plt\n",
    "from matplotlib import font_manager, rc\n",
    "\n",
    "import platform \n",
    "\n",
    "if (platform.system() == 'Windows'):  # Windows, Linux, Darwin\n",
    "    rc('font', family=font_manager.FontProperties(fname=\"C:/Windows/Fonts/malgun.ttf\").get_name())\n",
    "    path = '.' # Local\n",
    "else:    \n",
    "    plt.rc('font', family='NanumBarunGothic')  # Ubuntu 18.04 기준 한글 처리\n",
    "    path = '/content/drive/My Drive/ai_202102_ml/rnn/naver_movie' # Colab\n",
    "\n",
    "plt.rcParams[\"font.size\"] = 12         # 글자 크기\n",
    "# plt.rcParams[\"figure.figsize\"] = (10, 4) # 10:4의 그래프 비율\n",
    "plt.rcParams['axes.unicode_minus'] = False  # minus 부호는 unicode 적용시 한글이 깨짐으로 설정\n",
    "\n",
    "# Jupyter에게 matplotlib 그래프를 출력 영역에 표시할 것을 지시하는 명령\n",
    "%matplotlib inline"
   ]
  },
  {
   "cell_type": "code",
   "execution_count": 2,
   "metadata": {},
   "outputs": [
    {
     "name": "stdout",
     "output_type": "stream",
     "text": [
      "1\n",
      "2\n",
      "4\n",
      "0.5\n",
      "0.25\n",
      "0.125\n"
     ]
    }
   ],
   "source": [
    "print(2 ** 0)\n",
    "print(2 ** 1)\n",
    "print(2 ** 2)\n",
    "print(2 ** -1) # 1/2\n",
    "print(2 ** -2) # 1/4\n",
    "print(2 ** -3) # 1/8"
   ]
  },
  {
   "cell_type": "code",
   "execution_count": 3,
   "metadata": {},
   "outputs": [
    {
     "name": "stdout",
     "output_type": "stream",
     "text": [
      "0.3333333333333333\n",
      "0.1111111111111111\n",
      "0.037037037037037035\n",
      "0.037037037037037035\n"
     ]
    }
   ],
   "source": [
    "print(3 ** -1) # 1/3\n",
    "print(3 ** -2) # 1/9\n",
    "print(3 ** -3) # 1/27\n",
    "print(1/27)    # 1/27"
   ]
  },
  {
   "cell_type": "code",
   "execution_count": 16,
   "metadata": {},
   "outputs": [
    {
     "name": "stdout",
     "output_type": "stream",
     "text": [
      "1.0\n",
      "0.5\n",
      "0.25\n",
      "2.0\n",
      "4.0\n",
      "8.0\n"
     ]
    }
   ],
   "source": [
    "print((1/2) ** 0)  # 1.0\n",
    "print((1/2) ** 1)  # 0.5\n",
    "print((1/2) ** 2)  # 0.5 ** 2 -> 0.25\n",
    "print((1/2) ** -1) # 1 / (1/2) -> (1/1) / (1/2) -> 1 * 2 / 1 * 1 -> 2\n",
    "print((1/2) ** -2) # 1 / (1/4) -> (1/1) / (1/4) -> 1 * 4 / 1 * 1 -> 4\n",
    "print((1/2) ** -3) # 1 / (1/8) -> (1/1) / (1/8) -> 1 * 8 / 1 * 1 -> 8"
   ]
  },
  {
   "cell_type": "code",
   "execution_count": 4,
   "metadata": {},
   "outputs": [
    {
     "name": "stdout",
     "output_type": "stream",
     "text": [
      "pow 결과: 0.25\n",
      "pow 결과: 8.0\n",
      "sqrt 결과: 2.0\n"
     ]
    }
   ],
   "source": [
    "pow=math.pow(2, -2) # 2의 -2제곱\n",
    "print(\"pow 결과:\", pow)\n",
    "\n",
    "pow=math.pow(2, 3) # 2의 3제곱\n",
    "print(\"pow 결과:\", pow)\n",
    "\n",
    "# 4의 제곱근\n",
    "sqrt=math.sqrt(4)\n",
    "print(\"sqrt 결과:\", sqrt)"
   ]
  },
  {
   "cell_type": "code",
   "execution_count": 19,
   "metadata": {},
   "outputs": [
    {
     "name": "stdout",
     "output_type": "stream",
     "text": [
      "exp 결과: 2.718281828459045\n",
      "exp 결과: 7.38905609893065\n",
      "exp 결과: 20.085536923187668\n"
     ]
    }
   ],
   "source": [
    "# 자연 상수 e(2.71828...)의 1제곱. 무리수(무한수이면서 규칙이 없는 수)\n",
    "exp=math.exp(1)\n",
    "print(\"exp 결과:\", exp)\n",
    "exp=math.exp(2)\n",
    "print(\"exp 결과:\", exp)\n",
    "exp=math.exp(3)\n",
    "print(\"exp 결과:\", exp)"
   ]
  },
  {
   "cell_type": "code",
   "execution_count": 20,
   "metadata": {},
   "outputs": [
    {
     "name": "stdout",
     "output_type": "stream",
     "text": [
      "[-3, -2, -1, 0, 1, 2, 3]\n",
      "[0.125, 0.25, 0.5, 1, 2, 4, 8]\n"
     ]
    },
    {
     "data": {
      "image/png": "[encoded data removed]",
      "text/plain": [
       "<Figure size 432x288 with 1 Axes>"
      ]
     },
     "metadata": {
      "needs_background": "light"
     },
     "output_type": "display_data"
    }
   ],
   "source": [
    "# 지수(제곱) 함수 그래프\n",
    "x = [i for i in range(-3, 4, 1) ]\n",
    "y = [2 ** i for i in x ]\n",
    "print(x)\n",
    "print(y)\n",
    "plt.plot(x, y)\n",
    "plt.grid()\n",
    "plt.show()"
   ]
  },
  {
   "cell_type": "code",
   "execution_count": 21,
   "metadata": {},
   "outputs": [
    {
     "name": "stdout",
     "output_type": "stream",
     "text": [
      "[-3, -2, -1, 0, 1, 2, 3]\n",
      "[8.0, 4.0, 2.0, 1.0, 0.5, 0.25, 0.125]\n"
     ]
    },
    {
     "data": {
      "image/png": "[encoded data removed]",
      "text/plain": [
       "<Figure size 432x288 with 1 Axes>"
      ]
     },
     "metadata": {
      "needs_background": "light"
     },
     "output_type": "display_data"
    }
   ],
   "source": [
    "# 지수 함수 그래프\n",
    "x = [i for i in range(-3, 4, 1) ]\n",
    "y = [(1/2) ** i for i in x ]\n",
    "print(x)\n",
    "print(y)\n",
    "plt.plot(x, y)\n",
    "plt.grid()\n",
    "plt.show()"
   ]
  },
  {
   "cell_type": "code",
   "execution_count": 6,
   "metadata": {},
   "outputs": [
    {
     "name": "stdout",
     "output_type": "stream",
     "text": [
      "[-5.         -4.79591837 -4.59183673 -4.3877551  -4.18367347 -3.97959184\n",
      " -3.7755102  -3.57142857 -3.36734694 -3.16326531 -2.95918367 -2.75510204\n",
      " -2.55102041 -2.34693878 -2.14285714 -1.93877551 -1.73469388 -1.53061224\n",
      " -1.32653061 -1.12244898 -0.91836735 -0.71428571 -0.51020408 -0.30612245\n",
      " -0.10204082  0.10204082  0.30612245  0.51020408  0.71428571  0.91836735\n",
      "  1.12244898  1.32653061  1.53061224  1.73469388  1.93877551  2.14285714\n",
      "  2.34693878  2.55102041  2.75510204  2.95918367  3.16326531  3.36734694\n",
      "  3.57142857  3.7755102   3.97959184  4.18367347  4.3877551   4.59183673\n",
      "  4.79591837  5.        ]\n",
      "[0.00669285 0.00819568 0.01003256 0.01227603 0.01501357 0.01835024\n",
      " 0.0224116  0.02734679 0.03333169 0.04057176 0.04930426 0.05979915\n",
      " 0.07235796 0.0873094  0.10500059 0.12578244 0.14998817 0.17790412\n",
      " 0.20973382 0.24555731 0.28529068 0.32865255 0.37514569 0.42406149\n",
      " 0.47451191 0.52548809 0.57593851 0.62485431 0.67134745 0.71470932\n",
      " 0.75444269 0.79026618 0.82209588 0.85001183 0.87421756 0.89499941\n",
      " 0.9126906  0.92764204 0.94020085 0.95069574 0.95942824 0.96666831\n",
      " 0.97265321 0.9775884  0.98164976 0.98498643 0.98772397 0.98996744\n",
      " 0.99180432 0.99330715]\n"
     ]
    },
    {
     "data": {
      "image/png": "[encoded data removed]",
      "text/plain": [
       "<Figure size 432x288 with 1 Axes>"
      ]
     },
     "metadata": {
      "needs_background": "light"
     },
     "output_type": "display_data"
    }
   ],
   "source": [
    "# Sigmoid 함수: 이항 분류, 참/거짓, 합격/불합격, 성공/실패,\n",
    "# 생존/사망, 양성/음성...\n",
    "def sigmoid_function(x):\n",
    "    return 1 / (1 + np.exp(-x)) # e: 2.71828...\n",
    "\n",
    "x = np.linspace(-5, 5, 50)\n",
    "print(x)\n",
    "y = sigmoid_function(x)\n",
    "print(y)\n",
    "\n",
    "plt.plot(x, y)\n",
    "plt.show()"
   ]
  },
  {
   "cell_type": "code",
   "execution_count": 32,
   "metadata": {},
   "outputs": [
    {
     "name": "stdout",
     "output_type": "stream",
     "text": [
      "[1 2 3]\n",
      "0.16666666666666666 0.3333333333333333 0.5\n",
      "[0.09003057 0.24472847 0.66524096]\n",
      "Total: 1.0\n"
     ]
    },
    {
     "data": {
      "image/png": "[encoded data removed]",
      "text/plain": [
       "<Figure size 432x288 with 1 Axes>"
      ]
     },
     "metadata": {
      "needs_background": "light"
     },
     "output_type": "display_data"
    }
   ],
   "source": [
    "# Softmax 함수: 합이 1이됨, 비중이 작으면 더 작은값,\n",
    "#               비중이 크면 더 큰값으로 출력함 ★\n",
    "# 예) 다중 분류, 사물 인식, 품종 분류\n",
    "def softmax_function(x):\n",
    "    return np.exp(x) / np.sum(np.exp(x))\n",
    "\n",
    "x = np.array([1, 2, 3])\n",
    "print(x)\n",
    "print(1/6, 2/6, 3/6)\n",
    "y = softmax_function(x)\n",
    "\n",
    "print(y)\n",
    "print('Total:', np.sum(y))\n",
    "plt.plot(x, y)\n",
    "plt.show()"
   ]
  },
  {
   "cell_type": "markdown",
   "metadata": {},
   "source": [
    "### 로그"
   ]
  },
  {
   "cell_type": "code",
   "execution_count": 34,
   "metadata": {},
   "outputs": [
    {
     "data": {
      "text/plain": [
       "3.0"
      ]
     },
     "execution_count": 34,
     "metadata": {},
     "output_type": "execute_result"
    }
   ],
   "source": [
    "# 로그함수와 그래프\n",
    "\n",
    "# log 값을 얻기 위해 math 라이브러리의 log() 함수를 사용한다.\n",
    "# math.log(x, base): 밑을 base, 진수를 x로 가지는 log를 반환함.\n",
    "# 2³= 8 <- 3 = log₂8\n",
    "math.log(8,2)  # y1=log₂8, 2를 3번 곱하면 8"
   ]
  },
  {
   "cell_type": "code",
   "execution_count": 35,
   "metadata": {},
   "outputs": [
    {
     "data": {
      "text/plain": [
       "2.0"
      ]
     },
     "execution_count": 35,
     "metadata": {},
     "output_type": "execute_result"
    }
   ],
   "source": [
    "math.log(4,2)  # y1=log₂4, 2를 2번 곱하면 4"
   ]
  },
  {
   "cell_type": "code",
   "execution_count": 36,
   "metadata": {},
   "outputs": [
    {
     "data": {
      "text/plain": [
       "2.0"
      ]
     },
     "execution_count": 36,
     "metadata": {},
     "output_type": "execute_result"
    }
   ],
   "source": [
    "math.log(9,3)  # y1=log₃9, 3을 2번 곱하면 9"
   ]
  },
  {
   "cell_type": "code",
   "execution_count": 37,
   "metadata": {},
   "outputs": [
    {
     "data": {
      "text/plain": [
       "1.4649735207179269"
      ]
     },
     "execution_count": 37,
     "metadata": {},
     "output_type": "execute_result"
    }
   ],
   "source": [
    "math.log(5,3)  # y1=log₃5, 3을 1.4649번 곱하면 5"
   ]
  },
  {
   "cell_type": "code",
   "execution_count": 38,
   "metadata": {},
   "outputs": [
    {
     "name": "stdout",
     "output_type": "stream",
     "text": [
      "[1, 11, 21, 31, 41, 51, 61, 71, 81, 91]\n",
      "[0.0, 1.041392685158225, 1.322219294733919, 1.4913616938342726, 1.6127838567197355, 1.7075701760979363, 1.785329835010767, 1.851258348719075, 1.9084850188786497, 1.9590413923210932]\n"
     ]
    },
    {
     "data": {
      "image/png": "[encoded data removed]",
      "text/plain": [
       "<Figure size 432x288 with 1 Axes>"
      ]
     },
     "metadata": {
      "needs_background": "light"
     },
     "output_type": "display_data"
    }
   ],
   "source": [
    "# 상용 로그(밑수 10) 함수 그래프, 값의 규모의 축소 ★\n",
    "x = [i for i in range(1, 100, 10) ]\n",
    "y = [math.log(i,10) for i in x ]\n",
    "print(x)\n",
    "print(y)\n",
    "plt.plot(x, y)\n",
    "plt.grid()\n",
    "plt.show()"
   ]
  },
  {
   "cell_type": "code",
   "execution_count": 41,
   "metadata": {},
   "outputs": [
    {
     "data": {
      "image/png": "[encoded data removed]",
      "text/plain": [
       "<Figure size 432x288 with 1 Axes>"
      ]
     },
     "metadata": {
      "needs_background": "light"
     },
     "output_type": "display_data"
    },
    {
     "data": {
      "image/png": "[encoded data removed]",
      "text/plain": [
       "<Figure size 432x288 with 1 Axes>"
      ]
     },
     "metadata": {
      "needs_background": "light"
     },
     "output_type": "display_data"
    }
   ],
   "source": [
    "# log를 이용한 정규분포화\n",
    "import numpy as np\n",
    "import pandas as pd \n",
    "import seaborn as sns \n",
    "import matplotlib.pyplot as plt \n",
    "\n",
    "df = pd.DataFrame(np.array([1, 2, 3, 4, 7, 11, 12, 103, 104, 1005, 1006, 1007]),\n",
    "                  columns=['col'])\n",
    "\n",
    "# 원본값의 distplot그래프, histogram과 커널밀도 함수 그래프 출력 \n",
    "sns.distplot(df[\"col\"],label=\"col\") \n",
    "plt.title('col') #각 선에 라벨링 표기 \n",
    "plt.legend() \n",
    "plt.show() #log를 이용해 변환 \n",
    "\n",
    "# log1p: x가 0인경우 y가 음의 무한대 값을 갖는 문제를 해결한 log 함수\n",
    "df[\"Log_col\"] = np.log1p(df[\"col\"]) # log값의 distplot그래프 \n",
    "sns.distplot(df[\"Log_col\"],label=\"Log_col\") \n",
    "plt.title('Log_col') #각 선에 라벨링 표기 \n",
    "plt.legend() \n",
    "plt.show()"
   ]
  },
  {
   "cell_type": "code",
   "execution_count": null,
   "metadata": {},
   "outputs": [],
   "source": []
  },
  {
   "cell_type": "code",
   "execution_count": null,
   "metadata": {},
   "outputs": [],
   "source": []
  }
 ],
 "metadata": {
  "kernelspec": {
   "display_name": "ai",
   "language": "python",
   "name": "ai"
  },
  "language_info": {
   "codemirror_mode": {
    "name": "ipython",
    "version": 3
   },
   "file_extension": ".py",
   "mimetype": "text/x-python",
   "name": "python",
   "nbconvert_exporter": "python",
   "pygments_lexer": "ipython3",
   "version": "3.7.11"
  }
 },
 "nbformat": 4,
 "nbformat_minor": 4
}
