{
 "cells": [
  {
   "cell_type": "markdown",
   "metadata": {},
   "source": [
    "### 행렬"
   ]
  },
  {
   "cell_type": "markdown",
   "metadata": {},
   "source": [
    "#### 넘파이의 행렬 계산"
   ]
  },
  {
   "cell_type": "code",
   "execution_count": 1,
   "metadata": {},
   "outputs": [
    {
     "name": "stdout",
     "output_type": "stream",
     "text": [
      "[2 1]\n",
      "[3 2 1]\n",
      "[[2 4 1]\n",
      " [6 3 5]]\n"
     ]
    }
   ],
   "source": [
    "import warnings\n",
    "warnings.filterwarnings(action='ignore')\n",
    "\n",
    "import math\n",
    "import numpy as np\n",
    "\n",
    "a = np.array([2, 1])\n",
    "print(a)\n",
    "\n",
    "b = np.array([3, 2, 1])\n",
    "print(b)\n",
    "\n",
    "A = np.array([[2, 4, 1], [6, 3, 5]]) # 2차원 배열, 행렬\n",
    "print(A)"
   ]
  },
  {
   "cell_type": "markdown",
   "metadata": {},
   "source": [
    "#### 넘파이로 벡터의 합, 차, 크기 계산"
   ]
  },
  {
   "cell_type": "code",
   "execution_count": 7,
   "metadata": {},
   "outputs": [
    {
     "name": "stdout",
     "output_type": "stream",
     "text": [
      "[4 6]\n",
      "[ 2 -2]\n",
      "벡터 a의 크기: 3.605551275463989\n",
      "벡터 b의 크기: 4.123105625617661\n"
     ]
    }
   ],
   "source": [
    "a = np.array([3, 2])\n",
    "b = np.array([1, 4])\n",
    "\n",
    "print(a + b)               # 벡터의 합\n",
    "print(a - b)               # 벡터의 차\n",
    "print('벡터 a의 크기:', np.linalg.norm(a))   # 벡터 a의 크기를 스칼리로 표현\n",
    "print('벡터 b의 크기:', np.linalg.norm(b))   # 벡터 b의 크기를 스칼리로 표현"
   ]
  },
  {
   "cell_type": "code",
   "execution_count": 6,
   "metadata": {},
   "outputs": [
    {
     "name": "stdout",
     "output_type": "stream",
     "text": [
      "벡터 a의 크기: 3.605551275463989\n",
      "벡터 b의 크기: 4.123105625617661\n"
     ]
    }
   ],
   "source": [
    "# 벡터의 크기를 함수로 계산\n",
    "# √3²+ √2²= √13\n",
    "a = np.array([3, 2])\n",
    "b = np.array([1, 4])\n",
    "def norm(x):\n",
    "    return math.sqrt(sum([i ** 2 for i in x]))\n",
    "\n",
    "print('벡터 a의 크기:', norm(a))             # 벡터 a의 크기\n",
    "print('벡터 b의 크기:', norm(b))             # 벡터 b의 크기"
   ]
  },
  {
   "cell_type": "markdown",
   "metadata": {},
   "source": [
    "#### dot 함수로 벡터의 내적 계산\n",
    "- 벡터의 내적을 통해 벡터의 방향을 알 수 있음\n",
    "- a = (3, 2), b = (1, 4)\n",
    "- 3 X 1 + 2 X 4 = 11\n",
    "- 내적이 0이면 두 벡터는 직각(90도)을 만나는 상태\n",
    "- 양수이면 같은 방향을 가르키고 있음, 유사성이 있음\n",
    "- 음수이면 다른 방향을 가르키고 있음, 유사성이 없음."
   ]
  },
  {
   "cell_type": "code",
   "execution_count": 8,
   "metadata": {},
   "outputs": [
    {
     "name": "stdout",
     "output_type": "stream",
     "text": [
      "14\n",
      "0\n",
      "-8\n"
     ]
    }
   ],
   "source": [
    "import numpy as np\n",
    "\n",
    "a = np.array([2, 3])\n",
    "b = np.array([1, 4])\n",
    "\n",
    "print(a.dot(b))   # 벡터 a와 b의 내적, 2 X 1 + 3 X 4 = 14\n",
    "\n",
    "c = np.array([2, 1])\n",
    "d = np.array([-1, 2])\n",
    "\n",
    "print(c.dot(d))   # 벡터 c와 d의 내적, 2 X -1 + 1 X 2 = 0\n",
    "\n",
    "e = np.array([-2, -3])\n",
    "f = np.array([1, 2])\n",
    "\n",
    "print(e.dot(f))   # 벡터 e와 f의 내적, -2 X 1 + -3 X 2 = -8\n"
   ]
  },
  {
   "cell_type": "markdown",
   "metadata": {},
   "source": [
    "#### 넘파이로 행렬의 합과 차 계산"
   ]
  },
  {
   "cell_type": "code",
   "execution_count": 9,
   "metadata": {},
   "outputs": [
    {
     "name": "stdout",
     "output_type": "stream",
     "text": [
      "[[ 4  6  8]\n",
      " [ 7  9 11]]\n",
      "[[-2 -2 -2]\n",
      " [-1 -1 -1]]\n"
     ]
    }
   ],
   "source": [
    "import numpy as np\n",
    "\n",
    "X = np.array([[1, 2, 3],\n",
    "              [3, 4, 5]])\n",
    "Y = np.array([[3, 4, 5],\n",
    "              [4, 5, 6]])\n",
    "\n",
    "print(X + Y)\n",
    "print(X - Y)"
   ]
  },
  {
   "cell_type": "markdown",
   "metadata": {},
   "source": [
    "#### 행렬의 곱 계산\n",
    "- 첫번째 행렬의 열과 두번째 행렬의 행의수가 같아야함.\n",
    "- 행렬의 곱 결과는 첫번째 행렬의 행의 수, 두번째 행렬의 열의 수가 됨.\n",
    "- 여러개의 입력 값과 여러개의 인공 뉴런 사이에 발생하는 가중치와 편향은 행렬 연산을 통하여 update 된다."
   ]
  },
  {
   "cell_type": "code",
   "execution_count": 12,
   "metadata": {},
   "outputs": [
    {
     "name": "stdout",
     "output_type": "stream",
     "text": [
      "[[26 32]\n",
      " [50 62]]\n"
     ]
    }
   ],
   "source": [
    "import numpy as np\n",
    "\n",
    "A = np.array([[1, 2, 3],\n",
    "              [3, 4, 5]])\n",
    "B = np.array([[3, 4],\n",
    "              [4, 5], \n",
    "              [5, 6]])\n",
    "# 26 = (1 * 3) + (2 * 4) + (3 * 5) \n",
    "# 32 = (1 * 4) + (2 * 5) + (3 * 6)\n",
    "# 50 = (3 * 3) + (4 * 4) + (5 * 5)\n",
    "# 62 = (3 * 4) + (4 * 5) + (5 * 6)\n",
    "\n",
    "print(A.dot(B)) "
   ]
  },
  {
   "cell_type": "code",
   "execution_count": 12,
   "metadata": {},
   "outputs": [
    {
     "name": "stdout",
     "output_type": "stream",
     "text": [
      "[[26 32]\n",
      " [50 62]]\n",
      "[[26 32]\n",
      " [50 62]]\n"
     ]
    }
   ],
   "source": [
    "C = np.matrix([[1, 2, 3], [3, 4, 5]]) # 행렬\n",
    "D = np.matrix([[3, 4], [4, 5], [5, 6]])\n",
    "\n",
    "print(C * D)  # matrix 함수를 사용한 행렬의 곱 계산\n",
    "print(A @ B)  # 파이썬 3.5 이후에 포함된 @ 연산자 사용"
   ]
  },
  {
   "cell_type": "code",
   "execution_count": 13,
   "metadata": {},
   "outputs": [
    {
     "name": "stdout",
     "output_type": "stream",
     "text": [
      "[[ 0  1  2  3  4]\n",
      " [ 5  6  7  8  9]\n",
      " [10 11 12 13 14]]\n"
     ]
    }
   ],
   "source": [
    "# 행과 열의 변경\n",
    "a = np.arange(15).reshape(3, 5)\n",
    "print(a)"
   ]
  },
  {
   "cell_type": "code",
   "execution_count": 16,
   "metadata": {},
   "outputs": [
    {
     "name": "stdout",
     "output_type": "stream",
     "text": [
      "[[ 0  5 10]\n",
      " [ 1  6 11]\n",
      " [ 2  7 12]\n",
      " [ 3  8 13]\n",
      " [ 4  9 14]]\n"
     ]
    }
   ],
   "source": [
    "# 전치행렬\n",
    "print(np.transpose(a))\n",
    "# analysis     ai\n",
    "#    70       100\n",
    "#    80        90\n",
    "#    90        75 \n",
    "\n",
    "# analysis  70   80  90\n",
    "# ai        100  90  75"
   ]
  },
  {
   "cell_type": "markdown",
   "metadata": {},
   "source": [
    "### 유클리드 거리(Euclidean distance)"
   ]
  },
  {
   "cell_type": "code",
   "execution_count": 17,
   "metadata": {},
   "outputs": [
    {
     "name": "stdout",
     "output_type": "stream",
     "text": [
      "Euclidean distance:  0.0\n"
     ]
    }
   ],
   "source": [
    "# 벡터의 거리, 유사도\n",
    "# Python을 활용한 벡터의 거리계산(유클리드 거리)\n",
    "# 수치가 작을 수록 거리가 같음\n",
    "# SQRT((x2 - x1)²+ (y2 - y1)²)\n",
    "# SQRT((1 - 1)²+ (2 - 2)²+ (3 - 3)²)= √0\n",
    "\n",
    "# scipy.spatia 모듈로부터 distance 함수 호출\n",
    "from scipy.spatial import distance\n",
    "\n",
    "# 3개의 점\n",
    "p1 = (1, 2, 3)\n",
    "p2 = (1, 2, 3)\n",
    "\n",
    "# P1과 P2 사이의 유클리드 거리 계산\n",
    "d = distance.euclidean(p1, p2)\n",
    "print(\"Euclidean distance: \",d)"
   ]
  },
  {
   "cell_type": "code",
   "execution_count": 18,
   "metadata": {},
   "outputs": [
    {
     "name": "stdout",
     "output_type": "stream",
     "text": [
      "Euclidean distance:  1.7320508075688772\n"
     ]
    }
   ],
   "source": [
    "# √(x2 - x1)²+ (y2 - y1)²\n",
    "# √(2 - 1)²+ (3 - 2)²+ (4 - 3)²= √3\n",
    "\n",
    "# 3개의 점\n",
    "p1 = (1, 2, 3)\n",
    "p2 = (2, 3, 4)\n",
    "\n",
    "# P1과 P2 사이의 유클리드 거리 계산\n",
    "d = distance.euclidean(p1, p2)\n",
    "print(\"Euclidean distance: \",d)"
   ]
  },
  {
   "cell_type": "code",
   "execution_count": 19,
   "metadata": {},
   "outputs": [
    {
     "name": "stdout",
     "output_type": "stream",
     "text": [
      "Euclidean distance:  5.196152422706632\n"
     ]
    }
   ],
   "source": [
    "p1 = (1, 2, 3)\n",
    "p2 = (4, 5, 6)\n",
    "\n",
    "# P1과 P2 사이의 유클리드 거리 계산\n",
    "d = distance.euclidean(p1, p2)\n",
    "print(\"Euclidean distance: \",d)"
   ]
  },
  {
   "cell_type": "markdown",
   "metadata": {},
   "source": [
    "### 맨해튼 거리(Manhattan distance)"
   ]
  },
  {
   "cell_type": "code",
   "execution_count": 2,
   "metadata": {},
   "outputs": [
    {
     "data": {
      "text/plain": [
       "0"
      ]
     },
     "execution_count": 2,
     "metadata": {},
     "output_type": "execute_result"
    }
   ],
   "source": [
    "# 두 점 P1과 P2 정의\n",
    "p1 = (1, 2, 3)\n",
    "p2 = (1, 2, 3)\n",
    "\n",
    "# 맨해튼 거리를 계산하기 위한 사용자 정의 함수 생성\n",
    "def manhattan_distance(x,y):\n",
    "    return sum(abs(a-b) for a,b in zip(x,y))\n",
    "\n",
    "# P1과 P2 사이의 맨해튼 거리 계산\n",
    "manhattan_distance(p1,p2)"
   ]
  },
  {
   "cell_type": "code",
   "execution_count": 3,
   "metadata": {},
   "outputs": [
    {
     "data": {
      "text/plain": [
       "9"
      ]
     },
     "execution_count": 3,
     "metadata": {},
     "output_type": "execute_result"
    }
   ],
   "source": [
    "# 두 점 P1과 P2 정의\n",
    "p1 = (1, 2, 3)\n",
    "p2 = (4, 5, 6)\n",
    "\n",
    "# 맨해튼 거리를 계산하기 위한 사용자 정의 함수 생성\n",
    "def manhattan_distance(x,y):\n",
    "    return sum(abs(a-b) for a,b in zip(x,y))\n",
    "\n",
    "# P1과 P2 사이의 맨해튼 거리 계산\n",
    "manhattan_distance(p1,p2)"
   ]
  },
  {
   "cell_type": "markdown",
   "metadata": {},
   "source": [
    "### 코사인 유사도(Cosine Similarity)\n",
    "- 1에 가까울수록 각이 작고 유사도가 높음.\n",
    "- -1에 가까울수록 각이 크고 유사도가 낮음.\n",
    "- NLP 자연어 처리에 사용 \n",
    "- 예) 긍정 문서들은 서로 비슷한 값을 갖음, 부정 문서들은 서로 비슷한 값을 갖음"
   ]
  },
  {
   "cell_type": "code",
   "execution_count": 5,
   "metadata": {},
   "outputs": [
    {
     "name": "stdout",
     "output_type": "stream",
     "text": [
      "0.5773502691896258\n",
      "0.8838834764831843\n",
      "0.8164965809277259\n"
     ]
    }
   ],
   "source": [
    "from numpy import dot\n",
    "from numpy.linalg import norm\n",
    "import numpy as np\n",
    "\n",
    "def cos_sim(A, B):\n",
    "    return dot(A, B)/(norm(A)*norm(B)) # norm(A): 벡터 a의 크기\n",
    "\n",
    "doc1=np.array([1,1,1,1,0])\n",
    "doc2=np.array([1,0,1,0,1])\n",
    "doc3=np.array([2,1,1,1,1])\n",
    "\n",
    "print(cos_sim(doc1, doc2)) #문서1과 문서2의 코사인 유사도\n",
    "print(cos_sim(doc1, doc3)) #문서1과 문서3의 코사인 유사도\n",
    "print(cos_sim(doc2, doc3)) #문서2과 문서3의 코사인 유사도"
   ]
  },
  {
   "cell_type": "code",
   "execution_count": null,
   "metadata": {},
   "outputs": [],
   "source": []
  }
 ],
 "metadata": {
  "kernelspec": {
   "display_name": "Python 3",
   "language": "python",
   "name": "python3"
  },
  "language_info": {
   "codemirror_mode": {
    "name": "ipython",
    "version": 3
   },
   "file_extension": ".py",
   "mimetype": "text/x-python",
   "name": "python",
   "nbconvert_exporter": "python",
   "pygments_lexer": "ipython3",
   "version": "3.8.8"
  }
 },
 "nbformat": 4,
 "nbformat_minor": 2
}
