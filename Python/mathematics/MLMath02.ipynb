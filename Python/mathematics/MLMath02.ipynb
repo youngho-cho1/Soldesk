{
 "cells": [
  {
   "cell_type": "markdown",
   "metadata": {},
   "source": [
    "### 수열의 합, 수열의 곱, 등차 수열, 평균, 분산, 표준편차, 균등 분포, 정규 분포"
   ]
  },
  {
   "cell_type": "code",
   "execution_count": 3,
   "metadata": {},
   "outputs": [],
   "source": [
    "import warnings\n",
    "warnings.filterwarnings(action='ignore')\n",
    "\n",
    "# 변수, 상수\n",
    "%matplotlib inline\n",
    "\n",
    "import numpy as np\n",
    "import matplotlib.pyplot as plt"
   ]
  },
  {
   "cell_type": "code",
   "execution_count": 4,
   "metadata": {},
   "outputs": [
    {
     "name": "stdout",
     "output_type": "stream",
     "text": [
      "28\n"
     ]
    }
   ],
   "source": [
    "# 수열의 합 계산\n",
    "sum_value = 0\n",
    "\n",
    "for i in range(1, 8):# range 함수는 반복 실행에 마지막 인자를 포함하지 않음\n",
    "    sum_value += i\n",
    "\n",
    "print(sum_value)"
   ]
  },
  {
   "cell_type": "code",
   "execution_count": 5,
   "metadata": {},
   "outputs": [
    {
     "name": "stdout",
     "output_type": "stream",
     "text": [
      "15\n"
     ]
    }
   ],
   "source": [
    "a = np.array([1, 3, 2, 5, 4])  # a1부터 a5까지\n",
    "y = np.sum(a)  # 총합\n",
    "print(y)"
   ]
  },
  {
   "cell_type": "code",
   "execution_count": 9,
   "metadata": {},
   "outputs": [
    {
     "name": "stdout",
     "output_type": "stream",
     "text": [
      "120\n",
      "120\n",
      "120\n"
     ]
    }
   ],
   "source": [
    "# 수열의 곱\n",
    "a = np.array([1, 3, 2, 5, 4])  # a1부터 a5까지\n",
    "y = np.prod(a)  # 총곱\n",
    "print(1 * 3 * 2 * 5 * 4)\n",
    "print(y)\n",
    "tot = 1\n",
    "for val in a:\n",
    "   # print(val)\n",
    "    tot = tot * val\n",
    "print(tot)\n",
    "    "
   ]
  },
  {
   "cell_type": "code",
   "execution_count": 12,
   "metadata": {},
   "outputs": [
    {
     "name": "stdout",
     "output_type": "stream",
     "text": [
      "1717\n"
     ]
    }
   ],
   "source": [
    "# 등차 수열의 합, 공차가 3인 수열의 합 계산, 일정하게 증가 감소되는 수열\n",
    "\n",
    "sum_value = 0\n",
    "\n",
    "for i in range(1, 101, 3): # start, end-1, step (간격)\n",
    "    sum_value += i\n",
    "\n",
    "print(sum_value)"
   ]
  },
  {
   "cell_type": "code",
   "execution_count": 13,
   "metadata": {},
   "outputs": [
    {
     "name": "stdout",
     "output_type": "stream",
     "text": [
      "[[0, 0, 0], [0, 0, 0], [0, 0, 0], [0, 0, 0]]\n"
     ]
    }
   ],
   "source": [
    "# 리스트 반복으로 2차원 리스트 초기화\n",
    "b = [[0] * 3] * 4\n",
    "\n",
    "print(b)"
   ]
  },
  {
   "cell_type": "code",
   "execution_count": 11,
   "metadata": {},
   "outputs": [
    {
     "name": "stdout",
     "output_type": "stream",
     "text": [
      "[[0, 0, 5], [0, 0, 5], [0, 0, 5], [0, 0, 5]]\n"
     ]
    }
   ],
   "source": [
    "# 리스트 반복으로 만든 2차원 리스트의 요소값 변경\n",
    "# 얕은 복사임으로 모든행의 첫번째에 5가 할당됨.\n",
    "b = [[0] * 3] * 4 \n",
    "b[0][2] = 5 # 첫번째행 3번째 요소만 5을 할당하려 시도\n",
    "\n",
    "print(b)"
   ]
  },
  {
   "cell_type": "code",
   "execution_count": 14,
   "metadata": {},
   "outputs": [
    {
     "name": "stdout",
     "output_type": "stream",
     "text": [
      "[[0, 0, 0], [0, 0, 5], [0, 0, 0], [0, 0, 0]]\n"
     ]
    }
   ],
   "source": [
    "# 리스트 내포로 만든 2차원 리스트의 요소값 변경\n",
    "c = [[0 for i in range(3)] for j in range(4)]  # 깊은복사가 일어남.\n",
    "c[1][2] = 5\n",
    "\n",
    "print(c)"
   ]
  },
  {
   "cell_type": "code",
   "execution_count": 15,
   "metadata": {},
   "outputs": [
    {
     "name": "stdout",
     "output_type": "stream",
     "text": [
      "{2, 4, 5}\n",
      "{4}\n",
      "{2, 5}\n",
      "{2, 3, 4, 5, 6}\n"
     ]
    }
   ],
   "source": [
    "# 집합 타입의 연산\n",
    "a = set([2, 4, 5])   # 집합 A 생성\n",
    "b = set([3, 4, 6])   # 집합 B 생성\n",
    "\n",
    "print(a)             # 집합 A 출력\n",
    "print(a & b)         # 교집합 출력\n",
    "print(a - b)         # 차집합 출력\n",
    "print(a | b)         # 합집합 출력\n",
    "# 경차를 구입 사람중에 14인치 타이어를 장착한 사람의 비율은?"
   ]
  },
  {
   "cell_type": "code",
   "execution_count": 15,
   "metadata": {},
   "outputs": [
    {
     "name": "stdout",
     "output_type": "stream",
     "text": [
      "390\n",
      "78.0\n"
     ]
    }
   ],
   "source": [
    "data = [70, 91, 69, 78, 82]\n",
    "total = sum(data)         # 데이터의 합 계산\n",
    "print(total)\n",
    "\n",
    "avg = total / len(data)   # 평균 계산\n",
    "print(avg)\n"
   ]
  },
  {
   "cell_type": "code",
   "execution_count": 16,
   "metadata": {},
   "outputs": [
    {
     "name": "stdout",
     "output_type": "stream",
     "text": [
      "78.0\n"
     ]
    }
   ],
   "source": [
    "import numpy as np\n",
    "\n",
    "data = [70, 91, 69, 78, 82]\n",
    "avg = np.mean(data)\n",
    "\n",
    "print(avg)"
   ]
  },
  {
   "cell_type": "markdown",
   "metadata": {},
   "source": [
    "### 데이터 -> 총점 -> 평균 -> 편차(평균으로부터의 차이) -> 분산 -> 표준편차"
   ]
  },
  {
   "cell_type": "code",
   "execution_count": 23,
   "metadata": {},
   "outputs": [
    {
     "name": "stdout",
     "output_type": "stream",
     "text": [
      "15600\n",
      "2600.0\n",
      "[array([-500., -300., -100.,  100.,  300.,  500.])]\n",
      "0.0\n"
     ]
    }
   ],
   "source": [
    "x = [2100, 2300, 2500, 2700, 2900, 3100]\n",
    "tot = np.sum(x)\n",
    "print(tot)\n",
    "avg = np.mean(x)\n",
    "print(avg)\n",
    "variation = [x-avg]\n",
    "print(variation)\n",
    "print(np.sum(variation)) # 편차의 합은 0\n",
    "# 편차의 합이 0이라는 말은 모든 개발자는 연봉이 2520만원에서 아무차이가 없다는 말과\n",
    "# 같음 -> 논리적 오류에 빠짐\n"
   ]
  },
  {
   "cell_type": "code",
   "execution_count": 18,
   "metadata": {},
   "outputs": [
    {
     "name": "stdout",
     "output_type": "stream",
     "text": [
      "60.0\n",
      "434.4\n",
      "20.842264752180842\n"
     ]
    }
   ],
   "source": [
    "# 분산과 표준편차를 함수로 만들어 계산\n",
    "# 분산과 표준편차를 알면 발생할 일을 예측 가능\n",
    "import math\n",
    "\n",
    "def var(data):  # 편차의 제곱의 평균, MSE\n",
    "    avg = sum(data) / len(data)\n",
    "    total = 0\n",
    "\n",
    "    for i in data:\n",
    "        total += (avg - i) ** 2\n",
    "\n",
    "    return total / len(data)\n",
    "\n",
    "def std(data):  # 표준 편차, RMSE\n",
    "    return math.sqrt(var(data))\n",
    "\n",
    "a = [72, 61, 91, 31, 45]\n",
    "\n",
    "print(sum(a) / len(a))   # 평균 출력\n",
    "print(var(a))            # 분산 출력\n",
    "print(std(a))            # 표준편차 출력"
   ]
  },
  {
   "cell_type": "code",
   "execution_count": 21,
   "metadata": {},
   "outputs": [
    {
     "name": "stdout",
     "output_type": "stream",
     "text": [
      "434.4\n",
      "20.842264752180842\n"
     ]
    }
   ],
   "source": [
    "import numpy as np\n",
    "\n",
    "a = [72, 61, 91, 31, 45]\n",
    "\n",
    "print(np.var(a))   # 모분산 출력\n",
    "print(np.std(a))   # 모표준편차 출력"
   ]
  },
  {
   "cell_type": "code",
   "execution_count": 22,
   "metadata": {},
   "outputs": [
    {
     "name": "stdout",
     "output_type": "stream",
     "text": [
      "543.0\n",
      "23.302360395462088\n"
     ]
    }
   ],
   "source": [
    "print(np.var(a, ddof=1))   # 표본 분산 출력, n-ddof\n",
    "print(np.std(a, ddof=1))   # 표본 표준편차 출력"
   ]
  },
  {
   "cell_type": "code",
   "execution_count": 24,
   "metadata": {},
   "outputs": [
    {
     "name": "stdout",
     "output_type": "stream",
     "text": [
      "20.959999999999997\n",
      "0.0020960000000000037\n"
     ]
    }
   ],
   "source": [
    "# 분산의 차이 확인\n",
    "import numpy as np\n",
    "\n",
    "a = [173, 181, 168, 175, 179]\n",
    "b = [1.73, 1.81, 1.68, 1.75, 1.79]\n",
    "\n",
    "print(np.var(a))\n",
    "print(np.var(b)) # 단위 변경시 차이의 제곱을 적용해야함."
   ]
  },
  {
   "cell_type": "code",
   "execution_count": 25,
   "metadata": {},
   "outputs": [
    {
     "name": "stdout",
     "output_type": "stream",
     "text": [
      "[-0.48053723  1.26687088 -1.5726673  -0.0436852   0.83001885]\n",
      "[-0.48053723  1.26687088 -1.5726673  -0.0436852   0.83001885]\n"
     ]
    }
   ],
   "source": [
    "# 데이터의 표준값 확인, 단위의 통일\n",
    "# 표준화를 해야 변수의 가중치가 동일하게 영향을 발생함.\n",
    "# 특정 변수가 분석 방향을 심하게 왜곡하는 것을 방지함.\n",
    "a = [173, 181, 168, 175, 179]\n",
    "b = [1.73, 1.81, 1.68, 1.75, 1.79]\n",
    "\n",
    "def standardize(x):\n",
    "    return (x - np.mean(x)) / np.std(x)\n",
    "\n",
    "print(standardize(a))\n",
    "print(standardize(b))"
   ]
  },
  {
   "cell_type": "code",
   "execution_count": 52,
   "metadata": {},
   "outputs": [
    {
     "name": "stdout",
     "output_type": "stream",
     "text": [
      "5\n"
     ]
    }
   ],
   "source": [
    "# 1부터 6까지의 정수의 난수를 생성\n",
    "r_int = np.random.randint(6) + 1  # 0부터 5까지의 난수에 1을 더한다\n",
    "print(r_int)  # 1부터 6까지가 랜덤으로 표시된다"
   ]
  },
  {
   "cell_type": "code",
   "execution_count": 84,
   "metadata": {},
   "outputs": [
    {
     "name": "stdout",
     "output_type": "stream",
     "text": [
      "0.9714976220265368\n"
     ]
    }
   ],
   "source": [
    "# 0부터 1까지 소수의 난수를 생성\n",
    "r_dec = np.random.rand()   # 0부터 1 사이의 소수를 랜덤으로 반환한다\n",
    "print(r_dec)"
   ]
  },
  {
   "cell_type": "code",
   "execution_count": 85,
   "metadata": {},
   "outputs": [
    {
     "data": {
      "image/png": "[encoded data removed]",
      "text/plain": [
       "<Figure size 432x288 with 1 Axes>"
      ]
     },
     "metadata": {
      "needs_background": "light"
     },
     "output_type": "display_data"
    }
   ],
   "source": [
    "# 난수의 균일한 균등 분포\n",
    "n = 1000  # 샘플 수\n",
    "x = np.random.rand(n)  # 0-1의 균일한 난수\n",
    "y = np.random.rand(n)  # 0-1의 균일한 난수\n",
    "\n",
    "plt.scatter(x, y)  # 산포도의 플롯\n",
    "plt.grid()\n",
    "plt.show()"
   ]
  },
  {
   "cell_type": "code",
   "execution_count": 86,
   "metadata": {},
   "outputs": [
    {
     "data": {
      "image/png": "[encoded data removed]",
      "text/plain": [
       "<Figure size 432x288 with 1 Axes>"
      ]
     },
     "metadata": {
      "needs_background": "light"
     },
     "output_type": "display_data"
    }
   ],
   "source": [
    "# 정규분포를 따른 난수의 분포, 가우시안 분포\n",
    "n = 1000  # 샘플 수\n",
    "x = np.random.randn(n)  # 정규분포를 따른 난수의 분포\n",
    "y = np.random.randn(n)  # 정규분포를 따른 난수의 분포\n",
    "\n",
    "plt.scatter(x, y)  # 산포도의 플롯\n",
    "plt.grid()\n",
    "plt.show()"
   ]
  },
  {
   "cell_type": "code",
   "execution_count": null,
   "metadata": {},
   "outputs": [],
   "source": []
  },
  {
   "cell_type": "code",
   "execution_count": null,
   "metadata": {},
   "outputs": [],
   "source": []
  },
  {
   "cell_type": "code",
   "execution_count": null,
   "metadata": {},
   "outputs": [],
   "source": []
  }
 ],
 "metadata": {
  "kernelspec": {
   "display_name": "ai",
   "language": "python",
   "name": "ai"
  },
  "language_info": {
   "codemirror_mode": {
    "name": "ipython",
    "version": 3
   },
   "file_extension": ".py",
   "mimetype": "text/x-python",
   "name": "python",
   "nbconvert_exporter": "python",
   "pygments_lexer": "ipython3",
   "version": "3.7.11"
  }
 },
 "nbformat": 4,
 "nbformat_minor": 4
}
