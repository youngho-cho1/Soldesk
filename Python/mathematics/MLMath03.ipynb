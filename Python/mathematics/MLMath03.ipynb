{
 "cells": [
  {
   "cell_type": "markdown",
   "metadata": {},
   "source": [
    "## 빙어 낚시터를 방문시 잡을 수 있는 물고기의 예상 크기는?"
   ]
  },
  {
   "cell_type": "code",
   "execution_count": 2,
   "metadata": {},
   "outputs": [],
   "source": [
    "import numpy as np"
   ]
  },
  {
   "cell_type": "code",
   "execution_count": 12,
   "metadata": {},
   "outputs": [
    {
     "name": "stdout",
     "output_type": "stream",
     "text": [
      "<class 'numpy.ndarray'>\n",
      "(5,)\n",
      "[ 6  7  8  9 10]\n"
     ]
    }
   ],
   "source": [
    "# 가상의 데이터를 만들기위하여 도메인 조사\n",
    "fish = np.arange(6, 11)\n",
    "print(type(fish))\n",
    "print(fish.shape)\n",
    "print(fish)"
   ]
  },
  {
   "cell_type": "code",
   "execution_count": 13,
   "metadata": {},
   "outputs": [
    {
     "name": "stdout",
     "output_type": "stream",
     "text": [
      "40\n"
     ]
    }
   ],
   "source": [
    "tot = sum(fish)\n",
    "print(tot)"
   ]
  },
  {
   "cell_type": "code",
   "execution_count": 5,
   "metadata": {},
   "outputs": [
    {
     "name": "stdout",
     "output_type": "stream",
     "text": [
      "7.0\n"
     ]
    }
   ],
   "source": [
    "mean = tot / len(fish)\n",
    "print(mean)"
   ]
  },
  {
   "cell_type": "code",
   "execution_count": 16,
   "metadata": {},
   "outputs": [
    {
     "name": "stdout",
     "output_type": "stream",
     "text": [
      "<class 'numpy.ndarray'>\n",
      "[ 9 10  6  7  9  6  6  7 10 10  7  8 10  8 10  9 10  8 10  8 10  7  7  6\n",
      "  7  7  7  7  6 10  7  6  6  9  8  7  6  9  7  7  9 10  6  7  9 10  8 10\n",
      "  6  9  7  8  6 10  7  8  8  7  6  7  9 10  9  7  9  6  6  8  8  7  9 10\n",
      "  8  6  6  7  7  9  6  6 10  8 10  9  9  6  9 10  9 10 10 10  7  6 10  8\n",
      "  6  8 10  7]\n"
     ]
    }
   ],
   "source": [
    "np.random.seed(1)\n",
    "fish = np.random.randint(6, 11, size=100)  # 빙어 100 마리 \n",
    "print(type(fish))\n",
    "print(fish)"
   ]
  },
  {
   "cell_type": "code",
   "execution_count": 18,
   "metadata": {},
   "outputs": [
    {
     "name": "stdout",
     "output_type": "stream",
     "text": [
      "797\n"
     ]
    }
   ],
   "source": [
    "tot = np.sum(fish)\n",
    "print(tot)"
   ]
  },
  {
   "cell_type": "code",
   "execution_count": 19,
   "metadata": {},
   "outputs": [
    {
     "name": "stdout",
     "output_type": "stream",
     "text": [
      "7.97\n"
     ]
    }
   ],
   "source": [
    "mean = np.mean(fish)\n",
    "print(mean)"
   ]
  },
  {
   "cell_type": "code",
   "execution_count": 20,
   "metadata": {},
   "outputs": [
    {
     "name": "stdout",
     "output_type": "stream",
     "text": [
      "예상되는 물고기의 크기: 7.97 cm\n",
      "기대되는 물고기의 크기: 7.97 cm\n",
      "대표적으로 많이 잡히는 물고기의 크기: 7.97 cm\n"
     ]
    }
   ],
   "source": [
    "print('예상되는 물고기의 크기:', mean, 'cm')\n",
    "print('기대되는 물고기의 크기:', mean, 'cm') # 기대값\n",
    "print('대표적으로 많이 잡히는 물고기의 크기:', mean, 'cm')"
   ]
  },
  {
   "cell_type": "code",
   "execution_count": 21,
   "metadata": {},
   "outputs": [
    {
     "name": "stdout",
     "output_type": "stream",
     "text": [
      "-1.0300000000000002\n",
      "-2.0300000000000002\n",
      "1.9699999999999998\n",
      "0.9699999999999998\n",
      "-1.0300000000000002\n",
      "1.9699999999999998\n",
      "1.9699999999999998\n",
      "0.9699999999999998\n",
      "-2.0300000000000002\n",
      "-2.0300000000000002\n"
     ]
    }
   ],
   "source": [
    "# 7.97 cm의 물고기만 잡히는 않음, 편차: 평균으로부터의 차이\n",
    "for item in fish[0:10]:\n",
    "    print(mean-item) # 개별 항목에 대한 편차, 편차 = 평균 - 데이터"
   ]
  },
  {
   "cell_type": "code",
   "execution_count": 11,
   "metadata": {},
   "outputs": [],
   "source": [
    "# 평균으로부터의 차이(편차)는 0이 나와야 정확히 빙어의 크기를 예측 가능하다.\n",
    "# 편차가 작아야 기대값이 정확하다."
   ]
  },
  {
   "cell_type": "code",
   "execution_count": 25,
   "metadata": {},
   "outputs": [
    {
     "name": "stdout",
     "output_type": "stream",
     "text": [
      "편차의 합: -0.0\n"
     ]
    }
   ],
   "source": [
    "# 100마리를 잡은 사람이 평균 7.97 cm라고하는데 모든 차이를 알고싶다.\n",
    "fish_devi = 0; # 편차의 합\n",
    "for item in fish:  \n",
    "    fish_devi = fish_devi + (mean-item) # 개별 항목에 대한 편차의 누적 합\n",
    "    \n",
    "print('편차의 합: {0:.1f}'.format(fish_devi))    \n",
    "# 100마리의 빙어는 모두 7.97 cm로 편차가 없다."
   ]
  },
  {
   "cell_type": "code",
   "execution_count": 26,
   "metadata": {},
   "outputs": [
    {
     "data": {
      "text/plain": [
       "array([-2, -1,  0,  1,  2,  3,  4,  5])"
      ]
     },
     "execution_count": 26,
     "metadata": {},
     "output_type": "execute_result"
    }
   ],
   "source": [
    "# 편차의 합은 왜 0?\n",
    "src = np.arange(-2, 6)\n",
    "src"
   ]
  },
  {
   "cell_type": "code",
   "execution_count": 27,
   "metadata": {},
   "outputs": [
    {
     "name": "stdout",
     "output_type": "stream",
     "text": [
      "mean: 1.5\n",
      "3.5\n",
      "2.5\n",
      "1.5\n",
      "0.5\n",
      "-0.5\n",
      "-1.5\n",
      "-2.5\n",
      "-3.5\n"
     ]
    }
   ],
   "source": [
    "m = np.mean(src)\n",
    "print('mean:', m)\n",
    "for item in src:\n",
    "    print(m-item)"
   ]
  },
  {
   "cell_type": "code",
   "execution_count": 28,
   "metadata": {},
   "outputs": [
    {
     "name": "stdout",
     "output_type": "stream",
     "text": [
      "편차의 합: 0.0\n"
     ]
    }
   ],
   "source": [
    "hap = 0\n",
    "for item in src:\n",
    "    hap = hap + (m-item)\n",
    "    \n",
    "print('편차의 합:', hap)    "
   ]
  },
  {
   "cell_type": "code",
   "execution_count": null,
   "metadata": {},
   "outputs": [],
   "source": []
  },
  {
   "cell_type": "code",
   "execution_count": 16,
   "metadata": {},
   "outputs": [],
   "source": [
    "# 100마리의 빙어는 모두 7.97 cm로 편차가 없다.\n",
    "# 편차가 존재하는데 편차가 없다는 논리적 모순에 빠짐."
   ]
  },
  {
   "cell_type": "code",
   "execution_count": 29,
   "metadata": {},
   "outputs": [
    {
     "name": "stdout",
     "output_type": "stream",
     "text": [
      "평균: 7.97\n",
      "편차의 합: 216.9\n"
     ]
    }
   ],
   "source": [
    "# 편차의 부호를 변경하여 모두 더함.\n",
    "fish_devi = 0  # 편차\n",
    "fish_devi_square = 0; # 편차의 합\n",
    "for item in fish:\n",
    "    fish_devi = mean - item\n",
    "    fish_devi_square = fish_devi_square + (fish_devi ** 2)\n",
    "\n",
    "print('평균:', mean)    \n",
    "print('편차의 합: {0:.1f}'.format(fish_devi_square)) "
   ]
  },
  {
   "cell_type": "code",
   "execution_count": 30,
   "metadata": {},
   "outputs": [
    {
     "data": {
      "text/plain": [
       "2.191010101010102"
      ]
     },
     "execution_count": 30,
     "metadata": {},
     "output_type": "execute_result"
    }
   ],
   "source": [
    "# 평균 편차를 알고 싶음, 분산, 2.191 cm\n",
    "var = fish_devi_square / (100-1)     # 표본분산 : -1 하는것\n",
    "# 분산: 데이터들이 평균(대표값)으로부터 얼마나 떨어져 있는지의 척도\n",
    "var"
   ]
  },
  {
   "cell_type": "code",
   "execution_count": 19,
   "metadata": {},
   "outputs": [],
   "source": [
    "# 인하대학교 앞에 김밥천국 인수시 분산이 너무 큰 경우 발견\n",
    "# 3월 ~ 6월, 9월 ~ 11월만 장가사 잘됨, 방학때 매출액이 매우 낮음\n",
    "# 일정하지 않은 매출액으로 운영에 어려움이 많아 인수 포기."
   ]
  },
  {
   "cell_type": "code",
   "execution_count": 31,
   "metadata": {},
   "outputs": [
    {
     "name": "stdout",
     "output_type": "stream",
     "text": [
      "2.0\n",
      "3.0\n",
      "4.0\n",
      "3.1622776601683795\n",
      "1.4802061008555876\n"
     ]
    }
   ],
   "source": [
    "# 분산은 음수를 양수로 변경하기위해 편차를 제곱했음으로 실제 편차가 아님.\n",
    "print(np.sqrt(4))\n",
    "print(np.sqrt(9))\n",
    "print(np.sqrt(16))\n",
    "print(np.sqrt(10))\n",
    "sd = np.sqrt(var)\n",
    "print(sd) # 빙어 잡을 시 상황에 따라 약 1.4802 ** 2를 2.191에 근사함(근접함)"
   ]
  },
  {
   "cell_type": "code",
   "execution_count": 21,
   "metadata": {},
   "outputs": [
    {
     "name": "stdout",
     "output_type": "stream",
     "text": [
      "평균: 6.97\n",
      "분산: 2.1691000000000007\n",
      "표준편차: 1.472786474679884\n",
      "예상 빙어의 크기: 5.497213525320116  ~ 8.442786474679885\n"
     ]
    }
   ],
   "source": [
    "print('평균:', mean)    # 실제 편차가 제곱되어 있음\n",
    "print('분산:', var)    # 실제 편차가 제곱되어 있음\n",
    "print('표준편차:', sd) # 제곱을 해제함.\n",
    "print('예상 빙어의 크기:', mean-sd,' ~',mean+sd)"
   ]
  },
  {
   "cell_type": "code",
   "execution_count": 22,
   "metadata": {},
   "outputs": [
    {
     "data": {
      "text/plain": [
       "array([8, 9, 5, 6, 8, 5, 5, 6, 9, 9, 6, 7, 9, 7, 9, 8, 9, 7, 9, 7, 9, 6,\n",
       "       6, 5, 6, 6, 6, 6, 5, 9, 6, 5, 5, 8, 7, 6, 5, 8, 6, 6, 8, 9, 5, 6,\n",
       "       8, 9, 7, 9, 5, 8, 6, 7, 5, 9, 6, 7, 7, 6, 5, 6, 8, 9, 8, 6, 8, 5,\n",
       "       5, 7, 7, 6, 8, 9, 7, 5, 5, 6, 6, 8, 5, 5, 9, 7, 9, 8, 8, 5, 8, 9,\n",
       "       8, 9, 9, 9, 6, 5, 9, 7, 5, 7, 9, 6])"
      ]
     },
     "execution_count": 22,
     "metadata": {},
     "output_type": "execute_result"
    }
   ],
   "source": [
    "fish"
   ]
  },
  {
   "cell_type": "code",
   "execution_count": 33,
   "metadata": {},
   "outputs": [
    {
     "data": {
      "text/plain": [
       "2.1691"
      ]
     },
     "execution_count": 33,
     "metadata": {},
     "output_type": "execute_result"
    }
   ],
   "source": [
    "np.var(fish)"
   ]
  },
  {
   "cell_type": "code",
   "execution_count": 32,
   "metadata": {},
   "outputs": [
    {
     "data": {
      "text/plain": [
       "1.4727864746798838"
      ]
     },
     "execution_count": 32,
     "metadata": {},
     "output_type": "execute_result"
    }
   ],
   "source": [
    "print(np.std(fish)) # 모표준편차\n",
    "print(np.std(fish, ddof=1)) # 표본표준편차\n"
   ]
  },
  {
   "cell_type": "markdown",
   "metadata": {},
   "source": [
    "## 통계에서의 분산과 표준편차\n",
    "- 실제 데이터 분석시 모집단의 모든 데이터를 수집하지 못하는 경우가 일반적임.\n",
    "- A 친구가 잡은 빙어는 그 호수에서 잡은 전체 빙어중 극히 일부임.\n",
    "- 그렇다면 그 친구의 분산과 표준편차를 신뢰하기는 어렵다.\n",
    "- 100마리의 빙어에 대해서만 산출된 데이터\n",
    "- 평균: 6.97\n",
    "- 분산: 2.1691000000000007\n",
    "- 표준편차: 1.472786474679884\n",
    "- 예상 빙어의 크기: 5.497213525320116  ~ 8.442786474679885"
   ]
  },
  {
   "cell_type": "code",
   "execution_count": 25,
   "metadata": {},
   "outputs": [
    {
     "data": {
      "text/plain": [
       "0.2"
      ]
     },
     "execution_count": 25,
     "metadata": {},
     "output_type": "execute_result"
    }
   ],
   "source": [
    "1/5"
   ]
  },
  {
   "cell_type": "code",
   "execution_count": 26,
   "metadata": {},
   "outputs": [
    {
     "data": {
      "text/plain": [
       "0.25"
      ]
     },
     "execution_count": 26,
     "metadata": {},
     "output_type": "execute_result"
    }
   ],
   "source": [
    "1/4  # 분모의 수가 줄어들면 나누기 값은 증가함"
   ]
  },
  {
   "cell_type": "code",
   "execution_count": 27,
   "metadata": {},
   "outputs": [
    {
     "name": "stdout",
     "output_type": "stream",
     "text": [
      "mean: 6.97\n",
      "편차의 합: 216.910\n",
      "모분산: 2.169\n",
      "표본 분산: 2.191\n"
     ]
    }
   ],
   "source": [
    "# 호수 전체(모집단)에서의 평균\n",
    "print('mean:', mean)\n",
    "print('편차의 합: {0:.3f}'.format(fish_devi_square)) \n",
    "sample_var = fish_devi_square / (100-1)  # n-1\n",
    "print('모분산: {0:.3f}'.format(var)) # 전체 데이터 인식\n",
    "print('표본 분산: {0:.3f}'.format(sample_var)) # 부분데이터로 인식"
   ]
  },
  {
   "cell_type": "code",
   "execution_count": 30,
   "metadata": {},
   "outputs": [
    {
     "name": "stdout",
     "output_type": "stream",
     "text": [
      "모표준편차: 1.473\n",
      "표본 쵸준편차: 1.480\n"
     ]
    }
   ],
   "source": [
    "# 모든 데이터를 가지고 있는 우리는 모분산을 알고 있으니 일반적인\n",
    "# 분석 환경에서는 모분산을 알 수 없는 경우가 대부분임.\n",
    "std = np.sqrt(var)\n",
    "sample_std = np.sqrt(sample_var)\n",
    "print('모표준편차: {0:.3f}'.format(std)) # 전체 데이터 인식\n",
    "print('표본 표준편차: {0:.3f}'.format(sample_std)) # 부분데이터로 인식"
   ]
  },
  {
   "cell_type": "code",
   "execution_count": 32,
   "metadata": {},
   "outputs": [
    {
     "name": "stdout",
     "output_type": "stream",
     "text": [
      "[-2, -1, 0, 1, 2]\n"
     ]
    }
   ],
   "source": [
    "fish = [i for i in range(-2, 3)]\n",
    "print(fish)"
   ]
  },
  {
   "cell_type": "code",
   "execution_count": 38,
   "metadata": {},
   "outputs": [
    {
     "name": "stdout",
     "output_type": "stream",
     "text": [
      "합계: 0\n",
      "모분산: 2.0\n",
      "모분산: 2.0\n",
      "표본 모분산: 2.5\n",
      "모표준편차: 1.4142135623730951\n",
      "표본 표준편차: 1.5811388300841898\n"
     ]
    }
   ],
   "source": [
    "print('합계:', np.sum(fish))\n",
    "print('모분산:', np.var(fish))\n",
    "print('모분산:', np.var(fish, ddof=0))        # n-ddof -> 5 - 0 -> 5\n",
    "print('표본 모분산:', np.var(fish, ddof=1))   # n-ddof -> 5 - 1 -> 4\n",
    "print('모표준편차:', np.std(fish, ddof=0))    # n-ddof -> 5 - 0 -> 5\n",
    "print('표본 표준편차:', np.std(fish, ddof=1)) # n-ddof -> 5 - 1 -> 4"
   ]
  },
  {
   "cell_type": "markdown",
   "metadata": {},
   "source": [
    "### 표본 분산, 표본 표준편차의 실습"
   ]
  },
  {
   "cell_type": "code",
   "execution_count": 42,
   "metadata": {},
   "outputs": [
    {
     "name": "stdout",
     "output_type": "stream",
     "text": [
      "[ 1  2  3  4  5  6  7  8  9 10 11 12 13 14 15 16 17 18 19 20]\n",
      "호수 전체의 모분산: 33.25\n",
      "호수 전체를 표본으로본 표본 분산: 35.0\n"
     ]
    }
   ],
   "source": [
    "# 모분산: 모든 모집단의 수를 대상으로 함\n",
    "# 표본분산: 모집단의 모든 수를 대상으로 분산을 구하기 어려움으로 표본을\n",
    "# 이용하여 분산을 구하고 마치 모든 데이터를 대상으로 한것처럼 사용함.\n",
    "# 표본은 모집단의 성질을 가지고 있다고 통계적으로 이론이 정립되어있음.\n",
    "# 호수 전체에는 1 ~ 20cm의 20마리의 물고기가 있음.\n",
    "parent = np.arange(1, 21)\n",
    "print(parent)\n",
    "parent_vari = np.var(parent)\n",
    "print('호수 전체의 모분산:', parent_vari)  #  ddof=0\n",
    "print('호수 전체를 표본으로본 표본 분산:', np.var(parent, ddof=1))"
   ]
  },
  {
   "cell_type": "code",
   "execution_count": 47,
   "metadata": {},
   "outputs": [
    {
     "name": "stdout",
     "output_type": "stream",
     "text": [
      "[1 2 3 4]\n",
      "첫번째 낚시꾼이 잡은 물고기의 표본 분산: 1.6666666666666667\n"
     ]
    }
   ],
   "source": [
    "# 첫번째 낚시꾼\n",
    "fisher1 = np.arange(1, 5)\n",
    "print(fisher1)\n",
    "fisher1_vari = np.var(fisher1, ddof=1)\n",
    "print('첫번째 낚시꾼이 잡은 물고기의 표본 분산:', fisher1_vari)"
   ]
  },
  {
   "cell_type": "code",
   "execution_count": 48,
   "metadata": {},
   "outputs": [
    {
     "name": "stdout",
     "output_type": "stream",
     "text": [
      "[ 5  6  7  8  9 10]\n",
      "두번째 낚시꾼이 잡은 물고기의 표본 분산: 3.5\n"
     ]
    }
   ],
   "source": [
    "# 두번째 낚시꾼\n",
    "fisher2 = np.arange(5, 11)\n",
    "print(fisher2)\n",
    "fisher2_vari = np.var(fisher2, ddof=1)\n",
    "print('두번째 낚시꾼이 잡은 물고기의 표본 분산:', fisher2_vari)"
   ]
  },
  {
   "cell_type": "code",
   "execution_count": 49,
   "metadata": {},
   "outputs": [
    {
     "name": "stdout",
     "output_type": "stream",
     "text": [
      "[11 12 13 14 15]\n",
      "세번째 낚시꾼이 잡은 물고기의 분산: 2.5\n"
     ]
    }
   ],
   "source": [
    "# 세번째 낚시꾼\n",
    "fisher3 = np.arange(11, 16)\n",
    "print(fisher3)\n",
    "fisher3_vari = np.var(fisher3, ddof=1)\n",
    "print('세번째 낚시꾼이 잡은 물고기의 분산:', fisher3_vari)"
   ]
  },
  {
   "cell_type": "code",
   "execution_count": 50,
   "metadata": {},
   "outputs": [
    {
     "name": "stdout",
     "output_type": "stream",
     "text": [
      "[16 17 18 19 20]\n",
      "네번째 낚시꾼이 잡은 물고기의 분산: 2.5\n"
     ]
    }
   ],
   "source": [
    "# 네번째 낚시꾼\n",
    "fisher4 = np.arange(16, 21)\n",
    "print(fisher4)\n",
    "fisher4_vari = np.var(fisher4, ddof=1)\n",
    "print('네번째 낚시꾼이 잡은 물고기의 분산:', fisher4_vari)"
   ]
  },
  {
   "cell_type": "code",
   "execution_count": null,
   "metadata": {},
   "outputs": [],
   "source": [
    "# 4명의 낚시꾼은 호수의 물고기 20마리를 전부 잡는데 성공함."
   ]
  },
  {
   "cell_type": "code",
   "execution_count": 53,
   "metadata": {},
   "outputs": [
    {
     "name": "stdout",
     "output_type": "stream",
     "text": [
      "4명의 낚시꾼이 잡은 물고기의 표본 분산의 합: 10.166666666666668\n",
      "호수 전체의 분산: 33.25\n"
     ]
    }
   ],
   "source": [
    "# 4명의 낚시꾼이 잡은 물고기의 분산\n",
    "fisher_vari_tot = fisher1_vari+fisher2_vari+fisher3_vari+fisher4_vari\n",
    "print('4명의 낚시꾼이 잡은 물고기의 표본 분산의 합:', fisher_vari_tot)\n",
    "print('호수 전체의 분산:', parent_vari)"
   ]
  },
  {
   "cell_type": "code",
   "execution_count": 54,
   "metadata": {},
   "outputs": [],
   "source": [
    "# 표본의 경우 데이터가 모집단보다 작음으로 물리적으로 거리도 적게 떨어짐\n",
    "# 따라서 분산의 값도 모집단을 분할하여 소규모 데이터로 나눈후 분산값을 더해도\n",
    "# 모집단보다 작아지는 통계량이 발생함.\n",
    "# 해결방법은 데이터의 갯수를 n-1하여 1개를 줄임으로 분산의 값을 증가시킴"
   ]
  },
  {
   "cell_type": "code",
   "execution_count": 57,
   "metadata": {},
   "outputs": [
    {
     "name": "stdout",
     "output_type": "stream",
     "text": [
      "[1 2 3 4]\n",
      "[2.25 0.25 0.25 2.25]\n",
      "편차의 제곱의 합: 5.0\n",
      "첫번째 낚시꾼이 잡은 물고기의 표본 분산: 1.6666666666666667\n"
     ]
    }
   ],
   "source": [
    "# 첫번째 낚시꾼 표본 분산\n",
    "fisher1 = np.arange(1, 5)\n",
    "print(fisher1)\n",
    "fisher1_mean = np.mean(fisher1)\n",
    "fisher1_divi = (fisher1 - fisher1_mean) ** 2 # 편차의 제곱\n",
    "print(fisher1_divi)\n",
    "fisher1_divi_tot = np.sum(fisher1_divi) # 편차의 제곱의 합\n",
    "print('편차의 제곱의 합:', fisher1_divi_tot)\n",
    "fisher1_vari = fisher1_divi_tot / (len(fisher1)-1)\n",
    "print('첫번째 낚시꾼이 잡은 물고기의 표본 분산:', fisher1_vari)"
   ]
  },
  {
   "cell_type": "code",
   "execution_count": 59,
   "metadata": {},
   "outputs": [
    {
     "name": "stdout",
     "output_type": "stream",
     "text": [
      "[ 5  6  7  8  9 10]\n",
      "[6.25 2.25 0.25 0.25 2.25 6.25]\n",
      "편차의 제곱의 합: 17.5\n",
      "두번째 낚시꾼이 잡은 물고기의 표본 분산: 3.5\n"
     ]
    }
   ],
   "source": [
    "# 두번째 낚시꾼 표본 분산\n",
    "fisher2 = np.arange(5, 11)\n",
    "print(fisher2)\n",
    "fisher2_mean = np.mean(fisher2)\n",
    "fisher2_divi = (fisher2 - fisher2_mean) ** 2 # 편차의 제곱\n",
    "print(fisher2_divi)\n",
    "fisher2_divi_tot = np.sum(fisher2_divi) # 편차의 제곱의 합\n",
    "print('편차의 제곱의 합:', fisher2_divi_tot)\n",
    "fisher2_vari = fisher2_divi_tot / (len(fisher2)-1)\n",
    "print('두번째 낚시꾼이 잡은 물고기의 표본 분산:', fisher2_vari)"
   ]
  },
  {
   "cell_type": "code",
   "execution_count": null,
   "metadata": {},
   "outputs": [],
   "source": []
  },
  {
   "cell_type": "code",
   "execution_count": null,
   "metadata": {},
   "outputs": [],
   "source": []
  },
  {
   "cell_type": "code",
   "execution_count": null,
   "metadata": {},
   "outputs": [],
   "source": []
  },
  {
   "cell_type": "code",
   "execution_count": null,
   "metadata": {},
   "outputs": [],
   "source": []
  }
 ],
 "metadata": {
  "kernelspec": {
   "display_name": "ai",
   "language": "python",
   "name": "ai"
  },
  "language_info": {
   "codemirror_mode": {
    "name": "ipython",
    "version": 3
   },
   "file_extension": ".py",
   "mimetype": "text/x-python",
   "name": "python",
   "nbconvert_exporter": "python",
   "pygments_lexer": "ipython3",
   "version": "3.7.11"
  }
 },
 "nbformat": 4,
 "nbformat_minor": 4
}
