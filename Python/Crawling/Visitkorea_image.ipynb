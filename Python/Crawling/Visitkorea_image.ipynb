{
 "cells": [
  {
   "cell_type": "markdown",
   "metadata": {},
   "source": [
    "### [01] 대한민국 구석구석 이미지 저장\n",
    "- https://korean.visitkorea.or.kr/main/main.do"
   ]
  },
  {
   "cell_type": "code",
   "execution_count": 1,
   "metadata": {},
   "outputs": [],
   "source": [
    "import time   # sleep 지연\n",
    "import os     # folder create \n",
    "import math   # ceil\n",
    "\n",
    "import pandas as pd  # Excel과 비슷한 구조를 지원하는 데이터 분석 패키지\n",
    "\n",
    "from bs4 import BeautifulSoup      # Scraping(Crawling) package\n",
    "from urllib.request import urlopen # 인터넷 접속후 페이지 소스 loading\n",
    "from urllib.request import urlretrieve # 요청을 파일로 저장\n",
    "from urllib.parse import quote     # 한글 처리 함수\n",
    "from urllib.error import HTTPError # HTTP Exception\n",
    "from requests import get           # GET 방식 호출\n",
    "\n",
    "from selenium import webdriver  # 크롤링 이벤트 발생\n",
    "\n",
    "import cx_Oracle  # Oracle\n",
    "from sqlalchemy import create_engine  # Pandas -> Oracle\n",
    "\n",
    "def load(url, second): # 페이지 열기\n",
    "    try:\n",
    "        driver.get(url)\n",
    "        time.sleep(second) # Web page loading을 기다림\n",
    "    except HTTPError as e:\n",
    "        print(e)\n",
    "        return None\n",
    "    \n",
    "def getbs(): # bs 객체 생성\n",
    "    try:\n",
    "        bs = BeautifulSoup(driver.page_source, 'html.parser') \n",
    "    except HTTPError as e:\n",
    "        print(e)\n",
    "        return None\n",
    "    else:\n",
    "        return bs\n"
   ]
  },
  {
   "cell_type": "code",
   "execution_count": 2,
   "metadata": {},
   "outputs": [],
   "source": [
    "# import cell과 분리, 반복 실행시 창이 계속 열림으로 1회만 실행 권장\n",
    "driver = webdriver.Chrome('C:/kd/chromedriver.exe')\n",
    "# 같은 도메인이라도 데스크탑과 모바일에서의 접속에 따라 디자인이 다른\n",
    "# 경우가 있음으로 screen width, height를 이용해 데스크탑에 접속한다는 표시\n",
    "# 데스크탑 기준으로 크롤링 스크립트를 제작한 경우,\n",
    "# 모바일에 태그 검색이 안되는 경우가 많음.\n",
    "driver.set_window_size(1200, 800)"
   ]
  },
  {
   "cell_type": "code",
   "execution_count": 3,
   "metadata": {},
   "outputs": [
    {
     "name": "stdout",
     "output_type": "stream",
     "text": [
      "C:/kd/ws_python/notebook/crawling/data/Visitkorea_image_2022-03-21-12-13-51\n"
     ]
    }
   ],
   "source": [
    "# 이미지를 가져올 주소 확인\n",
    "# https://korean.visitkorea.or.kr/detail/rem_detail.do?cotid=c3831373-d011-40d9-96ff-6125888a0d4a&con_type=11200\n",
    "load('https://korean.visitkorea.or.kr/detail/rem_detail.do?cotid=c3831373-d011-40d9-96ff-6125888a0d4a&con_type=11200', 2)\n",
    "\n",
    "# 절대 경로 지정, 상대 경로 에러, 기준 폴더 설정\n",
    "fdir = \"C:/kd/ws_python/notebook/crawling/data/\";  \n",
    "os.chdir(fdir)\n",
    "\n",
    "# 파일을 저장할 폴더를 생성합니다\n",
    "now = time.localtime() # 년-월-일-시-분-초\n",
    "\n",
    "# newf = 'Visitkorea_image_%04d-%02d-%02d-%02d-%02d-%02d' % (now.tm_year, now.tm_mon, now.tm_mday, now.tm_hour, now.tm_min, now.tm_sec)\n",
    "\n",
    "fmt = 'Visitkorea_image_{0:04d}-{1:02d}-{2:02d}-{3:02d}-{4:02d}-{5:02d}'\n",
    "newf = fmt.format(now.tm_year, now.tm_mon, now.tm_mday, now.tm_hour, now.tm_min, now.tm_sec)\n",
    "\n",
    "storef = fdir + newf\n",
    "if (os.path.exists(storef) == False): # 폴더가 존재하는지 확인\n",
    "    os.makedirs(storef) # 이미지 저장 폴더\n",
    "    os.chdir(storef)  # 생성된 폴더로 이동\n",
    "    print(storef)"
   ]
  },
  {
   "cell_type": "code",
   "execution_count": 4,
   "metadata": {},
   "outputs": [
    {
     "name": "stdout",
     "output_type": "stream",
     "text": [
      "검색된 이미지: 7\n",
      "https://cdn.visitkorea.or.kr/img/call?cmd=VIEW&id=3bfa35e6-87c9-4211-b7b8-7f3e15f5dde2\n"
     ]
    }
   ],
   "source": [
    "bs = getbs() \n",
    "\n",
    "# <div class=\"box_txtPhoto\"...><img... 목록 검색\n",
    "tags = bs.select('div.box_txtPhoto img')  # F12 -> div.box_txtPhoto img \n",
    "print('검색된 이미지:', len(tags))  \n",
    "print(tags[0]['src'])  # 첫번째 이미지의 파일명"
   ]
  },
  {
   "cell_type": "code",
   "execution_count": 5,
   "metadata": {},
   "outputs": [
    {
     "name": "stdout",
     "output_type": "stream",
     "text": [
      "https://cdn.visitkorea.or.kr/img/call?cmd=VIEW&id=3bfa35e6-87c9-4211-b7b8-7f3e15f5dde2\n",
      "https://cdn.visitkorea.or.kr/img/call?cmd=VIEW&id=1cdae5be-9111-4877-a88d-b59ebac57bd5\n",
      "https://cdn.visitkorea.or.kr/img/call?cmd=VIEW&id=99a9d575-a020-4299-aaba-967ffb262668\n",
      "https://cdn.visitkorea.or.kr/img/call?cmd=VIEW&id=2d531426-b637-47d9-b9a4-1ce93a90e7af\n",
      "https://cdn.visitkorea.or.kr/img/call?cmd=VIEW&id=466b67cd-d70a-4d1c-947f-3862c423b1d8\n",
      "https://cdn.visitkorea.or.kr/img/call?cmd=VIEW&id=09439c02-3a7d-43a8-8a4b-ef5a4090d102\n",
      "https://cdn.visitkorea.or.kr/img/call?cmd=VIEW&id=597a73ce-3062-43c8-89d0-d9b4bd1f7b04\n"
     ]
    }
   ],
   "source": [
    "for index, tag in enumerate(tags):\n",
    "    index = index + 1  #  1 ~\n",
    "    print(tag['src'])\n",
    "    # urlopen(str(i+1) + '.jpg') # 1.jpg, 2.jpg, 3.jpg...  # X\n",
    "    # urlopen('https://cdn.visitkorea.or.kr/img/call?cmd=VIEW&id=3bfa35e6-87c9-4211-b7b8-7f3e15f5dde2') X\n",
    "    urlretrieve(tag['src'], str(index) + '.jpg') # 요청, 저장할 파일명    \n",
    "    \n",
    "    time.sleep(2) # 저장할 시간을 부여하기위해 2초의 사간을 지연시킴"
   ]
  },
  {
   "cell_type": "code",
   "execution_count": null,
   "metadata": {},
   "outputs": [],
   "source": []
  },
  {
   "cell_type": "code",
   "execution_count": null,
   "metadata": {},
   "outputs": [],
   "source": []
  },
  {
   "cell_type": "code",
   "execution_count": null,
   "metadata": {},
   "outputs": [],
   "source": []
  },
  {
   "cell_type": "code",
   "execution_count": null,
   "metadata": {},
   "outputs": [],
   "source": []
  }
 ],
 "metadata": {
  "kernelspec": {
   "display_name": "ai",
   "language": "python",
   "name": "ai"
  },
  "language_info": {
   "codemirror_mode": {
    "name": "ipython",
    "version": 3
   },
   "file_extension": ".py",
   "mimetype": "text/x-python",
   "name": "python",
   "nbconvert_exporter": "python",
   "pygments_lexer": "ipython3",
   "version": "3.7.11"
  }
 },
 "nbformat": 4,
 "nbformat_minor": 4
}
