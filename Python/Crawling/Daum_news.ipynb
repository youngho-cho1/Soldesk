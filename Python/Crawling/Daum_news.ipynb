{
 "cells": [
  {
   "cell_type": "markdown",
   "metadata": {},
   "source": [
    "### 많이 본 뉴스의 제목을 수집하기"
   ]
  },
  {
   "cell_type": "code",
   "execution_count": 2,
   "metadata": {},
   "outputs": [],
   "source": [
    "from bs4 import BeautifulSoup\n",
    "from urllib.request import urlopen\n",
    "from urllib.parse import quote  # 한글 처리 함수\n",
    "from urllib.error import HTTPError\n",
    "\n",
    "def getbs(url):\n",
    "    try:\n",
    "        html = urlopen(url)\n",
    "        bs = BeautifulSoup(html, 'html.parser')\n",
    "    except HTTPError as e:\n",
    "        print(e)\n",
    "        return None\n",
    "    else:\n",
    "        return bs"
   ]
  },
  {
   "cell_type": "code",
   "execution_count": 4,
   "metadata": {},
   "outputs": [
    {
     "name": "stdout",
     "output_type": "stream",
     "text": [
      "노무현과 달라도 너무 다른 문재인\n"
     ]
    }
   ],
   "source": [
    "bs = getbs(\"https://news.daum.net/ranking/popular\")\n",
    "tag = bs.select(\"#mArticle > div.rank_news > ul.list_news2 > li:nth-child(1) > div.cont_thumb > strong > a\")[0]\n",
    "print(tag.text)"
   ]
  },
  {
   "cell_type": "code",
   "execution_count": 8,
   "metadata": {},
   "outputs": [
    {
     "name": "stdout",
     "output_type": "stream",
     "text": [
      "1. 노무현과 달라도 너무 다른 문재인\n",
      "2. [황출새] \"재난지원금 대상자 조롱한 국힘 장제원 아들 '노엘' 外\"\n",
      "3. '제자 아내 살해' 혐의 60대, 교도소서 극단적 선택 '사망'\n",
      "4. [단독] 공수처, 고발장 작성자 손준성 아닌 '제3자'로 파악\n",
      "5. 태풍 '찬투', 이례적 진로..17일까지 상하이서 정체\n",
      "6. 쓰레기시멘트 아파트 권장하는 정부? 충격적인 시나리오 [최병성 리포트]\n",
      "7. 창고에 구찌·프라다 가득..온라인 명품, 박스 보면 정품 안다? [르포]\n",
      "8. 이준석 \"박지원, 공모 의혹 해명 불충분하면 사퇴·경질 요구할 것\"\n",
      "9. 겨울철 패딩 대목 코앞인데..\"대란 올지도\" 초비상\n",
      "10. 외신들, 북한 순항미사일 시험발사 성공 긴급 타전(상보)\n",
      "11. '표창원 보좌관' 출신 김숙정 검사 '고발사주' 수사팀에..\"편향성 논란\"\n",
      "12. [황출새]추미애\"박지원-조성은 공모 의혹, 강도 잡았더니 누가 신고 했냐 호들갑\"\n",
      "13. '의원직 사퇴' 추격 이낙연 25.1%..이재명과 격차 11.8%p→3.6%p\n",
      "14. 檢, 윤석열 주변 수사 총력.. 부인 주가조작 의혹 사건 등 잇달아 압수수색\n",
      "15. [뉴스돋보기] 이재명 대세론 굳혀지나..조성은 \"원장님이나 제가 원한 날짜 아냐\" 논란\n",
      "16. \"건강한 男청소년, 화이자 부작용 확률이 코로나 입원보다 커\"\n",
      "17. 김부선 \"내가 거짓말? 이재명 지지자들 단체로 실성..모지리들\"\n",
      "18. 인기 많던 '중국어'가 어쩌다가..\"우려했던 일이 현실 됐다\"\n",
      "19. 60대男 \"아내는 12살\"..아프간 난민 '막장 결혼' 실체는?\n",
      "20. 무릎 꿇은 4성 장군.. 미국이 '영웅'을 떠나보내는 법\n",
      "21. \"왜 옆 테이블은 6명이냐\" 싸움 잦자 생각해낸 묘안\n",
      "22. 덤프트럭 통행 항의하던 70대 여성 트럭에 치여 숨져\n",
      "23. 화이자 접종 2시간40분만에 사망..\"인과성 없다\" 결론에 반발\n",
      "24. 폐경기 여성이 특히 조심해야 할 '위험도' 1순위 병은?\n",
      "25. 두툼한 뱃살 없애는데 기본이 되는 5가지\n",
      "26. 현금 2억과 수상한 편지..직장 동료의 끔찍한 결말\n",
      "27. \"무슬림들이 집까지 쫓아와..대구 이슬람 확산 막아달라\" 청원\n",
      "28. [인터뷰]조성은 \"'우리 원장님이 원한 시점' 발언한 이유는..\"\n",
      "29. 영어 퇴출 나선 중국, 원서 못보게 하고 시험도 줄인다\n",
      "30. '윤석열 흑서' : 한 번도 경험해보지 못한 대선후보\n",
      "31. \"이재명 27.8%·윤석열 26.4% '양강'..홍준표 16.4%·이낙연 16.3% '약진'\"\n",
      "32. 조선일보 \"국정원장 그렇게 한가한 자리인가\" 박지원 총공세\n",
      "33. \"상하이서 쉬었다  갑니다\" 초대형 태풍 '찬투'..추석 앞두고 한반도 물폭탄\n",
      "34. 엄마 뇌출혈에 직장까지 관둔 아들, 아버지는 폭행 살해..왜?\n",
      "35. 문재인 대통령이 만난 유다인, 이 아이의 숨겨진 비밀\n",
      "36. 원룸 보증금 빼 직원들 월급 주고 생 마감.. 23년 맥줏집 사장의 비극\n",
      "37. 추미애 \"박지원-조성은 사전 공모? 강도 잡았더니 누가 신고했냐 호들갑\"\n",
      "38. [제보는Y] \"세금 받아먹는 XX가!\"..지하철역 '악성 민원인'\n",
      "39. 이준석 \"박지원-조성은 만남 8월 11일..10·12일 휴대폰 캡쳐\"\n",
      "40. \"한국은 불공평한 나라\"..재난지원금 배제된 조선족 뿔났다\n",
      "41. [시선집중] '추가 폭로' 조성은 \"국민의힘, 공작 얘기할수록 바보 돼\"\n",
      "42. 尹측 \"조성은 자백, 훅 들어오니 당황..박지원과 정치공작 공모\"\n",
      "43. 101세 철학자 \"文, 취임사와 정반대.. 나라가 무너지고 있다\"\n",
      "44. [영상]'고발 사주' 진상규명 뭉개는 국민의힘..'박지원 게이트' 띄우기 열중\n",
      "45. \"9월2일, 원장님 원했던 거 아냐\" 논란에 조성은 \"말꼬리 잡기..애초 상의 여지 없다는 의미\"\n",
      "46. 제네시스 주면 뭐하나..암행 순찰에 활용 못하는 전남경찰\n",
      "47. 김건희 논문 검증 포기에..강민정 \"국민대, 75년 역사 시궁창에\"\n",
      "48. \"아이X, 남자가 왜 임산부석에\"..성추행범 허위신고한 女\n",
      "49. 침묵 깬 조성은, 박지원 사전 공모 논란 해명..\"말꼬리 잡기 식 억지 연결\"\n",
      "50. 원룸 빼 직원 월급 주고 떠났다, 23년 차 자영업자의 비극\n"
     ]
    }
   ],
   "source": [
    "#mArticle > div.rank_news > ul.list_news2 > li:nth-child(1) > div.cont_thumb > strong > a\n",
    "#mArticle > div.rank_news > ul.list_news2 > li:nth-child(2) > div.cont_thumb > strong > a\n",
    "tags = bs.select(\"#mArticle > div.rank_news > ul.list_news2 > li\")\n",
    "for i, tag in enumerate(tags):\n",
    "    title = tag.select('a.link_txt')[0].text\n",
    "    print('{0}. {1}'.format(i+1, title))"
   ]
  },
  {
   "cell_type": "code",
   "execution_count": null,
   "metadata": {},
   "outputs": [],
   "source": []
  },
  {
   "cell_type": "code",
   "execution_count": null,
   "metadata": {},
   "outputs": [],
   "source": []
  },
  {
   "cell_type": "code",
   "execution_count": null,
   "metadata": {},
   "outputs": [],
   "source": []
  },
  {
   "cell_type": "code",
   "execution_count": null,
   "metadata": {},
   "outputs": [],
   "source": []
  },
  {
   "cell_type": "code",
   "execution_count": null,
   "metadata": {},
   "outputs": [],
   "source": []
  },
  {
   "cell_type": "code",
   "execution_count": null,
   "metadata": {},
   "outputs": [],
   "source": []
  }
 ],
 "metadata": {
  "kernelspec": {
   "display_name": "ai",
   "language": "python",
   "name": "ai"
  },
  "language_info": {
   "codemirror_mode": {
    "name": "ipython",
    "version": 3
   },
   "file_extension": ".py",
   "mimetype": "text/x-python",
   "name": "python",
   "nbconvert_exporter": "python",
   "pygments_lexer": "ipython3",
   "version": "3.7.11"
  }
 },
 "nbformat": 4,
 "nbformat_minor": 4
}
