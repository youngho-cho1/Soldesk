{
 "cells": [
  {
   "cell_type": "markdown",
   "metadata": {},
   "source": [
    "### [01] 한국 증권 거래소, 파일 다운로드\n",
    "- http://data.krx.co.kr/contents/MDC/MAIN/main/index.cmd"
   ]
  },
  {
   "cell_type": "code",
   "execution_count": 1,
   "metadata": {},
   "outputs": [],
   "source": [
    "import time   # sleep 지연\n",
    "import os     # folder create \n",
    "import math   # ceil\n",
    "\n",
    "import pandas as pd  # Excel과 비슷한 구조를 지원하는 데이터 분석 패키지\n",
    "\n",
    "from bs4 import BeautifulSoup      # Scraping(Crawling) package\n",
    "from urllib.request import urlopen # 인터넷 접속후 페이지 소스 loading\n",
    "from urllib.request import urlretrieve # 요청을 파일로 저장\n",
    "from urllib.parse import quote     # 한글 처리 함수\n",
    "from urllib.error import HTTPError # HTTP Exception\n",
    "from requests import get           # GET 방식 호출\n",
    "\n",
    "from selenium import webdriver  # 크롤링 이벤트 발생\n",
    "\n",
    "import cx_Oracle  # Oracle\n",
    "from sqlalchemy import create_engine  # Pandas -> Oracle\n",
    "\n",
    "def load(url, second): # 페이지 열기\n",
    "    try:\n",
    "        driver.get(url)\n",
    "        time.sleep(second) # Web page loading을 기다림\n",
    "    except HTTPError as e:\n",
    "        print(e)\n",
    "        return None\n",
    "    \n",
    "def getbs(): # bs 객체 생성\n",
    "    try:\n",
    "        bs = BeautifulSoup(driver.page_source, 'html.parser') \n",
    "    except HTTPError as e:\n",
    "        print(e)\n",
    "        return None\n",
    "    else:\n",
    "        return bs    "
   ]
  },
  {
   "cell_type": "code",
   "execution_count": 2,
   "metadata": {},
   "outputs": [],
   "source": [
    "# 절대 경로 지정, 상대 경로 에러, 기준 폴더 설정\n",
    "# 경로 인식 에러\n",
    "# fdir = \"C:/kd/ws_python/notebook/crawling/data/\";  \n",
    "# 경로 인식 에러\n",
    "# fdir = \"C:\\kd\\ws_python\\notebook\\crawling\\data\\\";\n",
    "\n",
    "fdir = \"C:\\\\kd\\\\ws_python\\\\notebook\\\\crawling\\\\data\\\\\";\n",
    "\n",
    "options = webdriver.ChromeOptions()\n",
    "path = \"C:/kd/chromedriver.exe\"\n",
    "driver = webdriver.Chrome(path,options=options)\n",
    "\n",
    "# 브러우저 인식 파일(pdf. jpg, csv, excel...) 파일을 열지말고 다운로드 지정\n",
    "options.add_experimental_option(\"prefs\", {\n",
    "      \"download.default_directory\": fdir,\n",
    "      \"download.prompt_for_download\": False,\n",
    "      \"plugins.always_open_pdf_externally\": True\n",
    "})\n",
    "\n",
    "# 다운로드 폴더 설정\n",
    "driver.command_executor._commands[\"send_command\"] = (\"POST\", '/session/$sessionId/chromium/send_command')\n",
    "params = {'cmd': 'Page.setDownloadBehavior', 'params': {'behavior': 'allow', 'downloadPath': fdir}}\n",
    "command_result = driver.execute(\"send_command\", params)\n",
    "\n",
    "driver.set_window_size(1200, 800)\n",
    "\n",
    "load('http://data.krx.co.kr/contents/MDC/MAIN/main/index.cmd', 3)"
   ]
  },
  {
   "cell_type": "code",
   "execution_count": 3,
   "metadata": {},
   "outputs": [
    {
     "name": "stdout",
     "output_type": "stream",
     "text": [
      "<selenium.webdriver.remote.webelement.WebElement (session=\"4775326b1139f44087345407477c91dd\", element=\"9e86f00e-c7c1-42f3-9315-d7769f030926\")>\n"
     ]
    }
   ],
   "source": [
    "tag = driver.find_element_by_xpath('//*[@id=\"jsMainLnbWrap\"]/button')\n",
    "print(tag)  # selenium.webdriver.remote.webelement.WebElement\n",
    "tag.click()\n",
    "time.sleep(3)    "
   ]
  },
  {
   "cell_type": "code",
   "execution_count": null,
   "metadata": {},
   "outputs": [],
   "source": []
  },
  {
   "cell_type": "code",
   "execution_count": null,
   "metadata": {},
   "outputs": [],
   "source": []
  }
 ],
 "metadata": {
  "kernelspec": {
   "display_name": "ai",
   "language": "python",
   "name": "ai"
  },
  "language_info": {
   "codemirror_mode": {
    "name": "ipython",
    "version": 3
   },
   "file_extension": ".py",
   "mimetype": "text/x-python",
   "name": "python",
   "nbconvert_exporter": "python",
   "pygments_lexer": "ipython3",
   "version": "3.7.11"
  }
 },
 "nbformat": 4,
 "nbformat_minor": 2
}
