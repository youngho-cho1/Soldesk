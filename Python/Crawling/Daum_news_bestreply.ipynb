{
 "cells": [
  {
   "cell_type": "markdown",
   "metadata": {},
   "source": [
    "### 많이 본 뉴스의 제목을 수집하기"
   ]
  },
  {
   "cell_type": "code",
   "execution_count": 2,
   "metadata": {},
   "outputs": [],
   "source": [
    "from bs4 import BeautifulSoup\n",
    "from urllib.request import urlopen\n",
    "from urllib.parse import quote  # 한글 처리 함수\n",
    "from urllib.error import HTTPError\n",
    "\n",
    "def getbs(url):\n",
    "    try:\n",
    "        html = urlopen(url)\n",
    "        bs = BeautifulSoup(html, 'html.parser')\n",
    "    except HTTPError as e:\n",
    "        print(e)\n",
    "        return None\n",
    "    else:\n",
    "        return bs"
   ]
  },
  {
   "cell_type": "code",
   "execution_count": 3,
   "metadata": {},
   "outputs": [
    {
     "name": "stdout",
     "output_type": "stream",
     "text": [
      "\"한국은 불공평한 나라\"..재난지원금 배제된 조선족 뿔났다\n"
     ]
    }
   ],
   "source": [
    "bs = getbs(\"https://news.daum.net/ranking/bestreply\")\n",
    "tag = bs.select(\"#mArticle > div.rank_news > ul.list_news2 > li:nth-child(1) > div.cont_thumb > strong > a\")[0]\n",
    "print(tag.text)"
   ]
  },
  {
   "cell_type": "code",
   "execution_count": 5,
   "metadata": {},
   "outputs": [
    {
     "name": "stdout",
     "output_type": "stream",
     "text": [
      "1. \"한국은 불공평한 나라\"..재난지원금 배제된 조선족 뿔났다 (9,165)\n",
      "2. 101세 철학자 \"文, 취임사와 정반대.. 나라가 무너지고 있다\" (5,568)\n",
      "3. [황출새] \"재난지원금 대상자 조롱한 국힘 장제원 아들 '노엘' 外\" (3,445)\n",
      "4. 노무현과 달라도 너무 다른 문재인 (3,354)\n",
      "5. 김건희 논문 검증 포기에..강민정 \"국민대, 75년 역사 시궁창에\" (2,809)\n",
      "6. 김부선 \"내가 거짓말? 이재명 지지자들 단체로 실성..모지리들\" (2,771)\n",
      "7. \"무슬림들이 집까지 쫓아와..대구 이슬람 확산 막아달라\" 청원 (2,480)\n",
      "8. 조선일보 \"국정원장 그렇게 한가한 자리인가\" 박지원 총공세 (2,417)\n",
      "9. 국민대 '김건희 논문 의혹 봉합'에.. 내부서도 \"왜 조사 안 하나\" (2,360)\n",
      "10. 이준석 \"박지원, 공모 의혹 해명 불충분하면 사퇴·경질 요구할 것\" (1,758)\n",
      "11. [단독] 공수처, 고발장 작성자 손준성 아닌 '제3자'로 파악 (1,235)\n",
      "12. 쓰레기시멘트 아파트 권장하는 정부? 충격적인 시나리오 [최병성 리포트] (1,204)\n",
      "13. 외신들, 북한 순항미사일 시험발사 성공 긴급 타전(상보) (1,141)\n",
      "14. '의원직 사퇴' 추격 이낙연 25.1%..이재명과 격차 11.8%p→3.6%p (1,118)\n",
      "15. 인기 많던 '중국어'가 어쩌다가..\"우려했던 일이 현실 됐다\" (956)\n",
      "16. '윤석열 흑서' : 한 번도 경험해보지 못한 대선후보 (839)\n",
      "17. 겨울철 패딩 대목 코앞인데..\"대란 올지도\" 초비상 (830)\n",
      "18. [뉴스돋보기] 이재명 대세론 굳혀지나..조성은 \"원장님이나 제가 원한 날짜 아냐\" 논란 (747)\n",
      "19. [황출새]추미애\"박지원-조성은 공모 의혹, 강도 잡았더니 누가 신고 했냐 호들갑\" (616)\n",
      "20. '표창원 보좌관' 출신 김숙정 검사 '고발사주' 수사팀에..\"편향성 논란\" (583)\n",
      "21. 檢, 윤석열 주변 수사 총력.. 부인 주가조작 의혹 사건 등 잇달아 압수수색 (565)\n",
      "22. 무릎 꿇은 4성 장군.. 미국이 '영웅'을 떠나보내는 법 (526)\n",
      "23. 영어 퇴출 나선 중국, 원서 못보게 하고 시험도 줄인다 (501)\n",
      "24. [영상]'고발 사주' 진상규명 뭉개는 국민의힘..'박지원 게이트' 띄우기 열중 (485)\n",
      "25. 오세훈 \"서울시 10년간 시민단체 1조 지원..전용 ATM기로 전락\" (457)\n",
      "26. [제보는Y] \"세금 받아먹는 XX가!\"..지하철역 '악성 민원인' (355)\n",
      "27. 창고에 구찌·프라다 가득..온라인 명품, 박스 보면 정품 안다? [르포] (347)\n",
      "28. 60대男 \"아내는 12살\"..아프간 난민 '막장 결혼' 실체는? (297)\n",
      "29. '언론 제보자는 공익신고자 될 수 없다' 윤석열 주장은 '거짓' (297)\n",
      "30. '제자 아내 살해' 혐의 60대, 교도소서 극단적 선택 '사망' (294)\n",
      "31. \"이재명 27.8%·윤석열 26.4% '양강'..홍준표 16.4%·이낙연 16.3% '약진'\" (283)\n",
      "32. 화이자 접종 2시간40분만에 사망..\"인과성 없다\" 결론에 반발 (274)\n",
      "33. [뉴시스Pic] 이재명, 1차 슈퍼위크에서 과반 얻어 1위 (254)\n",
      "34. 尹측 \"조성은 자백, 훅 들어오니 당황..박지원과 정치공작 공모\" (250)\n",
      "35. 추미애 \"박지원-조성은 사전 공모? 강도 잡았더니 누가 신고했냐 호들갑\" (225)\n",
      "36. \"건강한 男청소년, 화이자 부작용 확률이 코로나 입원보다 커\" (223)\n",
      "37. [인터뷰]조성은 \"'우리 원장님이 원한 시점' 발언한 이유는..\" (191)\n",
      "38. 이준석 \"박지원-조성은 만남 8월 11일..10·12일 휴대폰 캡쳐\" (188)\n",
      "39. 이낙연, 이재명에 3%p차 맹추격..윤석열-홍준표 오차범위 접전 (180)\n",
      "40. 이낙연 \"'될 것 같은 사람' 아닌 '돼야 할 사람'..흠 없는 후보로\" (152)\n",
      "41. 태풍 '찬투', 이례적 진로..17일까지 상하이서 정체 (140)\n",
      "42. 덤프트럭 통행 항의하던 70대 여성 트럭에 치여 숨져 (135)\n",
      "43. [포착] 이준석·원희룡 떡볶이 회동..녹취록 갈등 봉합 (133)\n",
      "44. 침묵 깬 조성은, 박지원 사전 공모 논란 해명..\"말꼬리 잡기 식 억지 연결\" (126)\n",
      "45. 이낙연 \"다자녀 기준 2명으로..만 5세까지 매달 100만원 양육비\" (122)\n",
      "46. [시선집중] '추가 폭로' 조성은 \"국민의힘, 공작 얘기할수록 바보 돼\" (114)\n",
      "47. 강병원 \"조국 논문은 엄정 조사..국민대, 윤석열 눈치봐\" (110)\n",
      "48. 이낙연, 이재명 대장동 의혹에 \"관심 갖고 주목 중..진실 드러나야\" (108)\n",
      "49. \"아이X, 남자가 왜 임산부석에\"..성추행범 허위신고한 女 (105)\n",
      "50. 조성은 \"원장님 원한 날짜\" 파장..野 \"공모 자백\" 맹폭, 조 \"말꼬리 잡기\" (64)\n"
     ]
    }
   ],
   "source": [
    "#mArticle > div.rank_news > ul.list_news2 > li:nth-child(1) > div.cont_thumb > strong > a\n",
    "#mArticle > div.rank_news > ul.list_news2 > li:nth-child(2) > div.cont_thumb > strong > a\n",
    "tags = bs.select(\"#mArticle > div.rank_news > ul.list_news2 > li\")\n",
    "for i, tag in enumerate(tags):\n",
    "    title = tag.select('a.link_txt')[0].text\n",
    "    cnt = tag.select('span.ico_news2')[0].text\n",
    "    print('{0}. {1} ({2})'.format(i+1, title, cnt))"
   ]
  },
  {
   "cell_type": "code",
   "execution_count": null,
   "metadata": {},
   "outputs": [],
   "source": []
  },
  {
   "cell_type": "code",
   "execution_count": null,
   "metadata": {},
   "outputs": [],
   "source": []
  },
  {
   "cell_type": "code",
   "execution_count": null,
   "metadata": {},
   "outputs": [],
   "source": []
  },
  {
   "cell_type": "code",
   "execution_count": null,
   "metadata": {},
   "outputs": [],
   "source": []
  },
  {
   "cell_type": "code",
   "execution_count": null,
   "metadata": {},
   "outputs": [],
   "source": []
  },
  {
   "cell_type": "code",
   "execution_count": null,
   "metadata": {},
   "outputs": [],
   "source": []
  }
 ],
 "metadata": {
  "kernelspec": {
   "display_name": "ai",
   "language": "python",
   "name": "ai"
  },
  "language_info": {
   "codemirror_mode": {
    "name": "ipython",
    "version": 3
   },
   "file_extension": ".py",
   "mimetype": "text/x-python",
   "name": "python",
   "nbconvert_exporter": "python",
   "pygments_lexer": "ipython3",
   "version": "3.7.11"
  }
 },
 "nbformat": 4,
 "nbformat_minor": 4
}
