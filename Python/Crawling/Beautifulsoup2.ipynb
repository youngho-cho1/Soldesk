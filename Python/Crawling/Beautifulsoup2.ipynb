{
 "cells": [
  {
   "cell_type": "markdown",
   "metadata": {},
   "source": [
    "### 웹에 접속하여 태그를 크롤링\n",
    "- SSL 에러 관련\n",
    "- import ssl\n",
    "- ssl._create_default_https_context = ssl._create_unverified_context\n"
   ]
  },
  {
   "cell_type": "code",
   "execution_count": 1,
   "metadata": {},
   "outputs": [
    {
     "name": "stdout",
     "output_type": "stream",
     "text": [
      "b'<html>\\n<head>\\n<title>A Useful Page</title>\\n</head>\\n<body>\\n<h1>An Interesting Title</h1>\\n<div>\\nLorem ipsum dolor sit amet, consectetur adipisicing elit, sed do eiusmod tempor incididunt ut labore et dolore magna aliqua. Ut enim ad minim veniam, quis nostrud exercitation ullamco laboris nisi ut aliquip ex ea commodo consequat. Duis aute irure dolor in reprehenderit in voluptate velit esse cillum dolore eu fugiat nulla pariatur. Excepteur sint occaecat cupidatat non proident, sunt in culpa qui officia deserunt mollit anim id est laborum.\\n</div>\\n</body>\\n</html>\\n'\n"
     ]
    }
   ],
   "source": [
    "# urllib 패키지의 request 모듈(python 파일)에서 urlopen() 함수를 가져옴\n",
    "from urllib.request import urlopen\n",
    "\n",
    "# Retrieve HTML string from the URL\n",
    "# 한글 출력, b': 바이트 스트림을 의미, 한글 깨짐\n",
    "html = urlopen(\"http://www.pythonscraping.com/exercises/exercise1.html\")\n",
    "print(html.read())"
   ]
  },
  {
   "cell_type": "code",
   "execution_count": 3,
   "metadata": {},
   "outputs": [
    {
     "name": "stdout",
     "output_type": "stream",
     "text": [
      "<class 'bytes'>\n",
      "<!DOCTYPE html>\n",
      "<html class=\"client-nojs\" lang=\"en\" dir=\"ltr\">\n",
      "<head>\n",
      "<meta charset=\"UTF-8\"/>\n",
      "<title>Kevin Bacon - Wikipedia</title>\n",
      "<script>document.documentElement.className=\"client-js\";RLCONF={\"wgBreakFrames\":false,\"wgSeparatorTransformTable\":[\"\",\"\"],\"wgDigitTransformTable\":[\"\",\"\"],\"wgDefaultDateFormat\":\"dmy\",\"wgMonthNames\":[\"\",\"January\",\"February\",\"March\",\"April\",\"May\",\"June\",\"July\",\"August\",\"September\",\"October\",\"November\",\"December\"],\"wgRequestId\":\"4b56cef3-9988-4c03-b44a-fe764444a337\",\"wg\n"
     ]
    }
   ],
   "source": [
    "html = urlopen(\"https://en.wikipedia.org/wiki/Kevin_Bacon\").read()\n",
    "print(type(html))\n",
    "print(str(html, 'utf-8')[:500])  # bytes -> str"
   ]
  },
  {
   "cell_type": "code",
   "execution_count": 4,
   "metadata": {},
   "outputs": [
    {
     "name": "stdout",
     "output_type": "stream",
     "text": [
      "utf-8\n"
     ]
    }
   ],
   "source": [
    "import sys\n",
    "print(sys.getdefaultencoding())"
   ]
  },
  {
   "cell_type": "code",
   "execution_count": null,
   "metadata": {},
   "outputs": [],
   "source": [
    "# ERROR, 한글 표현 불가능\n",
    "html = urlopen(\"https://ko.wikipedia.org/wiki/케빈_베이컨\").read()\n",
    "print(type(html))\n",
    "print(str(html, 'utf-8')[:500])  # bytes -> str"
   ]
  },
  {
   "cell_type": "code",
   "execution_count": 6,
   "metadata": {},
   "outputs": [
    {
     "name": "stdout",
     "output_type": "stream",
     "text": [
      "<class 'bytes'>\n",
      "<!DOCTYPE html>\n",
      "<html class=\"client-nojs\" lang=\"ko\" dir=\"ltr\">\n",
      "<head>\n",
      "<meta charset=\"UTF-8\"/>\n",
      "<title>케빈 베이컨 - 위키백과, 우리 모두의 백과사전</title>\n",
      "<script>document.documentElement.className=\"client-js\";RLCONF={\"wgBreakFrames\":false,\"wgSeparatorTransformTable\":[\"\",\"\"],\"wgDigitTransformTable\":[\"\",\"\"],\"wgDefaultDateFormat\":\"ko\",\"wgMonthNames\":[\"\",\"1월\",\"2월\",\"3월\",\"4월\",\"5월\",\"6월\",\"7월\",\"8월\",\"9월\",\"10월\",\"11월\",\"12월\"],\"wgRequestId\":\"484689b2-6bd0-41ad-a031-416bdf74a2d9\",\"wgCSPNonce\":false,\"wgCanonicalNamespace\":\"\",\"wg\n"
     ]
    }
   ],
   "source": [
    "# Chrome은 한글 입력시 문자 코드로 변경하여 처리함으로 한글 처리 가능\n",
    "# Chrome의 URL을 복사하여 사용\n",
    "html = urlopen(\"https://ko.wikipedia.org/wiki/%EC%BC%80%EB%B9%88_%EB%B2%A0%EC%9D%B4%EC%BB%A8\").read()\n",
    "print(type(html))\n",
    "print(str(html, 'utf-8')[:500])  # bytes -> str"
   ]
  },
  {
   "cell_type": "code",
   "execution_count": null,
   "metadata": {},
   "outputs": [],
   "source": [
    "# UnicodeEncodeError\n",
    "html = urlopen(\"https://ko.wikipedia.org/wiki/\" + \"케빈_베이컨\").read()\n",
    "print(type(html))\n",
    "print(str(html, 'utf-8')[:500])  # bytes -> str"
   ]
  },
  {
   "cell_type": "code",
   "execution_count": 7,
   "metadata": {},
   "outputs": [
    {
     "data": {
      "text/plain": [
       "'%EC%BC%80%EB%B9%88_%EB%B2%A0%EC%9D%B4%EC%BB%A8'"
      ]
     },
     "execution_count": 7,
     "metadata": {},
     "output_type": "execute_result"
    }
   ],
   "source": [
    "from urllib.parse import quote # 한글 처리 함수\n",
    "quote(\"케빈_베이컨\")"
   ]
  },
  {
   "cell_type": "code",
   "execution_count": 8,
   "metadata": {},
   "outputs": [
    {
     "name": "stdout",
     "output_type": "stream",
     "text": [
      "<class 'bytes'>\n",
      "<!DOCTYPE html>\n",
      "<html class=\"client-nojs\" lang=\"ko\" dir=\"ltr\">\n",
      "<head>\n",
      "<meta charset=\"UTF-8\"/>\n",
      "<title>케빈 베이컨 - 위키백과, 우리 모두의 백과사전</title>\n",
      "<script>document.documentElement.className=\"client-js\";RLCONF={\"wgBreakFrames\":false,\"wgSeparatorTransformTable\":[\"\",\"\"],\"wgDigitTransformTable\":[\"\",\"\"],\"wgDefaultDateFormat\":\"ko\",\"wgMonthNames\":[\"\",\"1월\",\"2월\",\"3월\",\"4월\",\"5월\",\"6월\",\"7월\",\"8월\",\"9월\",\"10월\",\"11월\",\"12월\"],\"wgRequestId\":\"484689b2-6bd0-41ad-a031-416bdf74a2d9\",\"wgCSPNonce\":false,\"wgCanonicalNamespace\":\"\",\"wg\n"
     ]
    }
   ],
   "source": [
    "html = urlopen(\"https://ko.wikipedia.org/wiki/\" + quote(\"케빈_베이컨\")).read()\n",
    "print(type(html))\n",
    "print(str(html, 'utf-8')[:500])  # bytes -> str"
   ]
  },
  {
   "cell_type": "code",
   "execution_count": null,
   "metadata": {},
   "outputs": [],
   "source": [
    "# 존재하지 않는 URL은 많은 메시지 출력과 서버라면 처리중 다운이됨.\n",
    "html = urlopen(\"http://www.pythonscraping.com/exercises/exercise1000.html\")"
   ]
  },
  {
   "cell_type": "code",
   "execution_count": 10,
   "metadata": {},
   "outputs": [],
   "source": [
    "from bs4 import BeautifulSoup\n",
    "from urllib.request import urlopen\n",
    "from urllib.parse import quote  # 한글 처리 함수\n",
    "from urllib.error import HTTPError\n",
    "\n",
    "def getbs(url):\n",
    "    try:\n",
    "        html = urlopen(url)\n",
    "        bs = BeautifulSoup(html, 'html.parser')\n",
    "    except HTTPError as e:\n",
    "        print(e)\n",
    "        return None\n",
    "    else:\n",
    "        return bs"
   ]
  },
  {
   "cell_type": "code",
   "execution_count": 11,
   "metadata": {},
   "outputs": [
    {
     "name": "stdout",
     "output_type": "stream",
     "text": [
      "HTTP Error 404: Not Found\n",
      "주소가 없습니다.\n"
     ]
    }
   ],
   "source": [
    "bs = getbs(\"http://www.pythonscraping.com/exercises/exercise1000.html\")\n",
    "if bs == None:\n",
    "    print('주소가 없습니다.')"
   ]
  },
  {
   "cell_type": "code",
   "execution_count": null,
   "metadata": {},
   "outputs": [],
   "source": [
    "# CSS class 기반 검색, 여러개의 태그 출력\n",
    "# http://www.pythonscraping.com/pages/warandpeace.html 접속\n",
    "# Chrome -> F12 -> Elements tab -> Ctrl + F -> class=\"green\" 검색 안됨.\n",
    "# Chrome -> F12 -> Elements tab -> Ctrl + F -> .green 검색됨."
   ]
  },
  {
   "cell_type": "code",
   "execution_count": 14,
   "metadata": {},
   "outputs": [
    {
     "name": "stdout",
     "output_type": "stream",
     "text": [
      "<span class=\"green\">Anna\n",
      "Pavlovna Scherer</span>\n",
      "<span class=\"green\">Empress Marya\n",
      "Fedorovna</span>\n",
      "<span class=\"green\">Prince Vasili Kuragin</span>\n",
      "<span class=\"green\">Anna Pavlovna</span>\n",
      "<span class=\"green\">St. Petersburg</span>\n"
     ]
    }
   ],
   "source": [
    "bs = getbs(\"http://www.pythonscraping.com/pages/warandpeace.html\")\n",
    "tags = bs.select('span.green')\n",
    "\n",
    "for tag in tags[0:5]:\n",
    "    print(tag)"
   ]
  },
  {
   "cell_type": "code",
   "execution_count": 15,
   "metadata": {},
   "outputs": [
    {
     "name": "stdout",
     "output_type": "stream",
     "text": [
      "<span class=\"green\">Anna\n",
      "Pavlovna Scherer</span>\n",
      "<span class=\"green\">Empress Marya\n",
      "Fedorovna</span>\n",
      "<span class=\"green\">Prince Vasili Kuragin</span>\n",
      "<span class=\"green\">Anna Pavlovna</span>\n",
      "<span class=\"green\">St. Petersburg</span>\n"
     ]
    }
   ],
   "source": [
    "tags = bs.select(\"span[class='green']\") # []: 태그의 속성 선언\n",
    "for tag in tags[0:5]:\n",
    "    print(tag)"
   ]
  },
  {
   "cell_type": "code",
   "execution_count": 17,
   "metadata": {},
   "outputs": [
    {
     "name": "stdout",
     "output_type": "stream",
     "text": [
      "<class 'bs4.element.ResultSet'>\n",
      "<class 'bs4.element.Tag'>\n"
     ]
    }
   ],
   "source": [
    "tags = bs.select('#text')\n",
    "print(type(tags))    # <class 'bs4.element.ResultSet'>\n",
    "print(type(tags[0])) # <class 'bs4.element.Tag'>"
   ]
  },
  {
   "cell_type": "code",
   "execution_count": 18,
   "metadata": {},
   "outputs": [
    {
     "name": "stdout",
     "output_type": "stream",
     "text": [
      "<class 'str'>\n",
      "<div id=\"text\">\n",
      "\"<span class=\"red\">Well, Prince, so Genoa and Lucca are now just family estates of t\n"
     ]
    }
   ],
   "source": [
    "print(type(str(tags[0]))) \n",
    "print(str(tags[0])[0:100])"
   ]
  },
  {
   "cell_type": "code",
   "execution_count": 19,
   "metadata": {},
   "outputs": [
    {
     "name": "stdout",
     "output_type": "stream",
     "text": [
      "[<tr><th>\n",
      "Item Title\n",
      "</th><th>\n",
      "Description\n",
      "</th><th>\n",
      "Cost\n",
      "</th><th>\n",
      "Image\n",
      "</th></tr>, <tr class=\"gift\" id=\"gift1\"><td>\n",
      "Vegetable Basket\n",
      "</td><td>\n",
      "This vegetable basket is the perfect gift for your health conscious (or overweight) friends!\n",
      "<span class=\"excitingNote\">Now with super-colorful bell peppers!</span>\n",
      "</td><td>\n",
      "$15.00\n",
      "</td><td>\n",
      "<img src=\"../img/gifts/img1.jpg\"/>\n",
      "</td></tr>, <tr class=\"gift\" id=\"gift2\"><td>\n",
      "Russian Nesting Dolls\n",
      "</td><td>\n",
      "Hand-painted by trained monkeys, these exquisite dolls are priceless! And by \"priceless,\" we mean \"extremely expensive\"! <span class=\"excitingNote\">8 entire dolls per set! Octuple the presents!</span>\n",
      "</td><td>\n",
      "$10,000.52\n",
      "</td><td>\n",
      "<img src=\"../img/gifts/img2.jpg\"/>\n",
      "</td></tr>, <tr class=\"gift\" id=\"gift3\"><td>\n",
      "Fish Painting\n",
      "</td><td>\n",
      "If something seems fishy about this painting, it's because it's a fish! <span class=\"excitingNote\">Also hand-painted by trained monkeys!</span>\n",
      "</td><td>\n",
      "$10,005.00\n",
      "</td><td>\n",
      "<img src=\"../img/gifts/img3.jpg\"/>\n",
      "</td></tr>, <tr class=\"gift\" id=\"gift4\"><td>\n",
      "Dead Parrot\n",
      "</td><td>\n",
      "This is an ex-parrot! <span class=\"excitingNote\">Or maybe he's only resting?</span>\n",
      "</td><td>\n",
      "$0.50\n",
      "</td><td>\n",
      "<img src=\"../img/gifts/img4.jpg\"/>\n",
      "</td></tr>, <tr class=\"gift\" id=\"gift5\"><td>\n",
      "Mystery Box\n",
      "</td><td>\n",
      "If you love suprises, this mystery box is for you! Do not place on light-colored surfaces. May cause oil staining. <span class=\"excitingNote\">Keep your friends guessing!</span>\n",
      "</td><td>\n",
      "$1.50\n",
      "</td><td>\n",
      "<img src=\"../img/gifts/img6.jpg\"/>\n",
      "</td></tr>]\n"
     ]
    }
   ],
   "source": [
    "# 자식 태그의 검색\n",
    "# Chrome이 자동 생성한 <TBODY>는 포함안됨.\n",
    "# Chrome -> F12 -> Elements tab -> Ctrl + F -> #giftList tr검색됨.\n",
    "bs = getbs(\"http://www.pythonscraping.com/pages/page3.html\")\n",
    "tags = bs.select('#giftList tr')\n",
    "print(tags)"
   ]
  },
  {
   "cell_type": "code",
   "execution_count": 20,
   "metadata": {},
   "outputs": [
    {
     "name": "stdout",
     "output_type": "stream",
     "text": [
      "<th>\n",
      "Item Title\n",
      "</th>\n",
      "<th>\n",
      "Description\n",
      "</th>\n",
      "<th>\n",
      "Cost\n",
      "</th>\n",
      "<th>\n",
      "Image\n",
      "</th>\n"
     ]
    }
   ],
   "source": [
    "# Item Title\n",
    "# <class 'bs4.element.Tag'> 에서 연쇄적으로 select 호출 가능\n",
    "ths = tags[0].select('th') # 첫번째 <tr>에서 <th> 수집\n",
    "for th in ths:\n",
    "    print(th)"
   ]
  },
  {
   "cell_type": "code",
   "execution_count": 22,
   "metadata": {},
   "outputs": [
    {
     "name": "stdout",
     "output_type": "stream",
     "text": [
      "<class 'bs4.element.NavigableString'>\n",
      "<class 'str'>\n",
      "> test <\n"
     ]
    }
   ],
   "source": [
    "print(type(tags[1].select('td')[0].string))# <class 'bs4.element.NavigableString'>\n",
    "print(type(tags[1].select('td')[0].text)) # <class 'str'>\n",
    "print('   > test <   '.strip())"
   ]
  },
  {
   "cell_type": "code",
   "execution_count": 23,
   "metadata": {},
   "outputs": [
    {
     "name": "stdout",
     "output_type": "stream",
     "text": [
      "Vegetable Basket\n",
      "Russian Nesting Dolls\n",
      "Fish Painting\n",
      "Dead Parrot\n",
      "Mystery Box\n"
     ]
    }
   ],
   "source": [
    "for i in range(1, len(tags)): # 행순환\n",
    "    # 각각의 행에서 첫번째 td 만 추출, \\n 개행 문자 제거\n",
    "    print(tags[i].select('td')[0].text.strip())"
   ]
  },
  {
   "cell_type": "code",
   "execution_count": 24,
   "metadata": {},
   "outputs": [
    {
     "name": "stdout",
     "output_type": "stream",
     "text": [
      "<img src=\"../img/gifts/logo.jpg\" style=\"float:left;\"/>\n",
      "<img src=\"../img/gifts/img1.jpg\"/>\n",
      "<img src=\"../img/gifts/img2.jpg\"/>\n",
      "<img src=\"../img/gifts/img3.jpg\"/>\n",
      "<img src=\"../img/gifts/img4.jpg\"/>\n",
      "<img src=\"../img/gifts/img6.jpg\"/>\n"
     ]
    }
   ],
   "source": [
    "imgs = bs.select('img') # 모든 img tag\n",
    "for img in imgs:\n",
    "    print(img)"
   ]
  },
  {
   "cell_type": "code",
   "execution_count": 25,
   "metadata": {},
   "outputs": [
    {
     "name": "stdout",
     "output_type": "stream",
     "text": [
      "../img/gifts/img1.jpg\n",
      "../img/gifts/img2.jpg\n",
      "../img/gifts/img3.jpg\n",
      "../img/gifts/img4.jpg\n",
      "../img/gifts/img6.jpg\n"
     ]
    }
   ],
   "source": [
    "# 소스상에 <tbody> 실제 존재하지 않음으로 명시하면 안됨.\n",
    "imgs = bs.select('#giftList > tr > td > img') # 모든 img tag\n",
    "for img in imgs:\n",
    "    print(img['src'])"
   ]
  },
  {
   "cell_type": "code",
   "execution_count": 27,
   "metadata": {},
   "outputs": [
    {
     "name": "stdout",
     "output_type": "stream",
     "text": [
      "갯수: 1\n",
      "[<table id=\"giftList\">\n",
      "<tr><th>\n",
      "Item Title\n",
      "</th><th>\n",
      "Description\n",
      "</th><th>\n",
      "Cost\n",
      "</th><th>\n",
      "Image\n",
      "</th></tr>\n",
      "<tr class=\"gift\" id=\"gift1\"><td>\n",
      "Vegetable Basket\n",
      "</td><td>\n",
      "This vegetable basket is the perfect gift for your health conscious (or overweight) friends!\n",
      "<span class=\"excitingNote\">Now with super-colorful bell peppers!</span>\n",
      "</td><td>\n",
      "$15.00\n",
      "</td><td>\n",
      "<img src=\"../img/gifts/img1.jpg\"/>\n",
      "</td></tr>\n",
      "<tr class=\"gift\" id=\"gift2\"><td>\n",
      "Russian Nesting Dolls\n",
      "</td><td>\n",
      "Hand-painted by trained monkeys, these exquisite dolls are priceless! And by \"priceless,\" we mean \"extremely expensive\"! <span class=\"excitingNote\">8 entire dolls per set! Octuple the presents!</span>\n",
      "</td><td>\n",
      "$10,000.52\n",
      "</td><td>\n",
      "<img src=\"../img/gifts/img2.jpg\"/>\n",
      "</td></tr>\n",
      "<tr class=\"gift\" id=\"gift3\"><td>\n",
      "Fish Painting\n",
      "</td><td>\n",
      "If something seems fishy about this painting, it's because it's a fish! <span class=\"excitingNote\">Also hand-painted by trained monkeys!</span>\n",
      "</td><td>\n",
      "$10,005.00\n",
      "</td><td>\n",
      "<img src=\"../img/gifts/img3.jpg\"/>\n",
      "</td></tr>\n",
      "<tr class=\"gift\" id=\"gift4\"><td>\n",
      "Dead Parrot\n",
      "</td><td>\n",
      "This is an ex-parrot! <span class=\"excitingNote\">Or maybe he's only resting?</span>\n",
      "</td><td>\n",
      "$0.50\n",
      "</td><td>\n",
      "<img src=\"../img/gifts/img4.jpg\"/>\n",
      "</td></tr>\n",
      "<tr class=\"gift\" id=\"gift5\"><td>\n",
      "Mystery Box\n",
      "</td><td>\n",
      "If you love suprises, this mystery box is for you! Do not place on light-colored surfaces. May cause oil staining. <span class=\"excitingNote\">Keep your friends guessing!</span>\n",
      "</td><td>\n",
      "$1.50\n",
      "</td><td>\n",
      "<img src=\"../img/gifts/img6.jpg\"/>\n",
      "</td></tr>\n",
      "</table>]\n"
     ]
    }
   ],
   "source": [
    "tags = bs.select('#giftList')\n",
    "print('갯수:', len(tags))\n",
    "print(tags)"
   ]
  },
  {
   "cell_type": "code",
   "execution_count": 28,
   "metadata": {},
   "outputs": [
    {
     "name": "stdout",
     "output_type": "stream",
     "text": [
      "<class 'bs4.element.ResultSet'>\n",
      "<class 'bs4.element.Tag'>\n"
     ]
    }
   ],
   "source": [
    "print(type(tags)) # <class 'bs4.element.ResultSet'>, select 사용 불가능\n",
    "print(type(tags[0])) # <class 'bs4.element.Tag'>, <table id=\"giftList\">"
   ]
  },
  {
   "cell_type": "code",
   "execution_count": 29,
   "metadata": {},
   "outputs": [
    {
     "name": "stdout",
     "output_type": "stream",
     "text": [
      "[]\n"
     ]
    }
   ],
   "source": [
    "imgs = bs.select('#gift1 > img')\n",
    "print(imgs)"
   ]
  },
  {
   "cell_type": "code",
   "execution_count": 30,
   "metadata": {},
   "outputs": [
    {
     "name": "stdout",
     "output_type": "stream",
     "text": [
      "[<img src=\"../img/gifts/img1.jpg\"/>]\n"
     ]
    }
   ],
   "source": [
    "imgs = bs.select('#gift1 > td > img') # 직계 자식, 자식 관계를 생략하면 안됨.\n",
    "print(imgs)"
   ]
  },
  {
   "cell_type": "code",
   "execution_count": 31,
   "metadata": {},
   "outputs": [
    {
     "name": "stdout",
     "output_type": "stream",
     "text": [
      "[<img src=\"../img/gifts/img1.jpg\"/>]\n"
     ]
    }
   ],
   "source": [
    "imgs = bs.select('#gift1 img')  # 모든 자식이 해당\n",
    "print(imgs)"
   ]
  },
  {
   "cell_type": "code",
   "execution_count": 34,
   "metadata": {},
   "outputs": [
    {
     "name": "stdout",
     "output_type": "stream",
     "text": [
      "../img/gifts/img1.jpg\n"
     ]
    }
   ],
   "source": [
    "fname = bs.select('#gift1 > td > img')[0]['src']\n",
    "print(fname)"
   ]
  },
  {
   "cell_type": "code",
   "execution_count": null,
   "metadata": {},
   "outputs": [],
   "source": []
  }
 ],
 "metadata": {
  "kernelspec": {
   "display_name": "ai",
   "language": "python",
   "name": "ai"
  },
  "language_info": {
   "codemirror_mode": {
    "name": "ipython",
    "version": 3
   },
   "file_extension": ".py",
   "mimetype": "text/x-python",
   "name": "python",
   "nbconvert_exporter": "python",
   "pygments_lexer": "ipython3",
   "version": "3.7.11"
  }
 },
 "nbformat": 4,
 "nbformat_minor": 4
}
