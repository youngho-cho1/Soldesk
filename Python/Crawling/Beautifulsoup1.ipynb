{
 "cells": [
  {
   "cell_type": "markdown",
   "metadata": {},
   "source": [
    "### Beautifulsoup 기초"
   ]
  },
  {
   "cell_type": "code",
   "execution_count": 2,
   "metadata": {},
   "outputs": [],
   "source": [
    "import warnings\n",
    "warnings.filterwarnings(action='ignore')"
   ]
  },
  {
   "cell_type": "code",
   "execution_count": 3,
   "metadata": {},
   "outputs": [
    {
     "name": "stdout",
     "output_type": "stream",
     "text": [
      "Name: beautifulsoup4"
     ]
    },
    {
     "name": "stderr",
     "output_type": "stream",
     "text": [
      "WARNING: Ignoring invalid distribution -ip (c:\\programdata\\anaconda3\\envs\\ai\\lib\\site-packages)\n"
     ]
    },
    {
     "name": "stdout",
     "output_type": "stream",
     "text": [
      "\n",
      "Version: 4.10.0\n",
      "Summary: Screen-scraping library\n",
      "Home-page: http://www.crummy.com/software/BeautifulSoup/bs4/\n",
      "Author: Leonard Richardson\n",
      "Author-email: leonardr@segfault.org\n",
      "License: MIT\n",
      "Location: c:\\programdata\\anaconda3\\envs\\ai\\lib\\site-packages\n",
      "Requires: soupsieve\n",
      "Required-by: \n"
     ]
    }
   ],
   "source": [
    "!pip show beautifulsoup4"
   ]
  },
  {
   "cell_type": "code",
   "execution_count": 4,
   "metadata": {},
   "outputs": [
    {
     "name": "stdout",
     "output_type": "stream",
     "text": [
      "Name: selenium"
     ]
    },
    {
     "name": "stderr",
     "output_type": "stream",
     "text": [
      "WARNING: Ignoring invalid distribution -ip (c:\\programdata\\anaconda3\\envs\\ai\\lib\\site-packages)\n"
     ]
    },
    {
     "name": "stdout",
     "output_type": "stream",
     "text": [
      "\n",
      "Version: 4.1.3\n",
      "Summary: \n",
      "Home-page: https://www.selenium.dev\n",
      "Author: \n",
      "Author-email: \n",
      "License: Apache 2.0\n",
      "Location: c:\\programdata\\anaconda3\\envs\\ai\\lib\\site-packages\n",
      "Requires: trio, trio-websocket, urllib3\n",
      "Required-by: \n"
     ]
    }
   ],
   "source": [
    "!pip show selenium"
   ]
  },
  {
   "cell_type": "code",
   "execution_count": 6,
   "metadata": {},
   "outputs": [],
   "source": [
    "from bs4 import BeautifulSoup # bs4 패키지에서 BeautifulSoup class import"
   ]
  },
  {
   "cell_type": "code",
   "execution_count": 7,
   "metadata": {},
   "outputs": [
    {
     "data": {
      "text/plain": [
       "<title> HTML 연습 </title>"
      ]
     },
     "execution_count": 7,
     "metadata": {},
     "output_type": "execute_result"
    }
   ],
   "source": [
    "ex1 = '''\n",
    "<html>\n",
    "    <head>\n",
    "        <title> HTML 연습 </title>\n",
    "    </head>\n",
    "    <body>\n",
    "        <p align=\"center\"> text 1 </p>\n",
    "        <img src=\"c:\\\\temp\\\\image\\\\여름.png\">\n",
    "    </body>\n",
    "</html>\n",
    "'''\n",
    "bs = BeautifulSoup(ex1, 'html.parser') # parser: html 태그 해석기\n",
    "bs.find('title') # 태그 검색"
   ]
  },
  {
   "cell_type": "code",
   "execution_count": 8,
   "metadata": {},
   "outputs": [
    {
     "data": {
      "text/plain": [
       "<p align=\"center\"> text 1 </p>"
      ]
     },
     "execution_count": 8,
     "metadata": {},
     "output_type": "execute_result"
    }
   ],
   "source": [
    "bs.find('p')"
   ]
  },
  {
   "cell_type": "code",
   "execution_count": 9,
   "metadata": {},
   "outputs": [
    {
     "name": "stdout",
     "output_type": "stream",
     "text": [
      "<p align=\"center\"> text 1 </p>\n",
      "<class 'bs4.element.Tag'>\n"
     ]
    }
   ],
   "source": [
    "ex2 = '''\n",
    "<html>\n",
    "    <head>\n",
    "        <title> HTML 연습 </title>\n",
    "    </head>\n",
    "    <body>\n",
    "        <p align=\"center\"> text 1 </p>\n",
    "        <p align=\"right\"> text 2 </p>\n",
    "        <p align=\"left\"> text 3 </p>\n",
    "        <img src=\"c:/temp/image/여름.png\">\n",
    "    </body>\n",
    "</html>\n",
    "'''\n",
    "bs = BeautifulSoup(ex2, 'html.parser')\n",
    "tag = bs.find('p') # 첫번째 p 태그만 검색\n",
    "print(tag)\n",
    "print(type(tag))"
   ]
  },
  {
   "cell_type": "code",
   "execution_count": 10,
   "metadata": {},
   "outputs": [
    {
     "name": "stdout",
     "output_type": "stream",
     "text": [
      "<p align=\"center\"> text 1 </p>\n",
      "<p align=\"right\"> text 2 </p>\n",
      "<p align=\"left\"> text 3 </p>\n",
      "<img src=\"c:/temp/image/여름.png\"/>\n"
     ]
    }
   ],
   "source": [
    "print(bs.find('p', align=\"center\")) # 속성의 사용\n",
    "print(bs.find('p', align=\"right\"))\n",
    "print(bs.find('p', align=\"left\"))\n",
    "print(bs.find('img', src=\"c:/temp/image/여름.png\"))"
   ]
  },
  {
   "cell_type": "code",
   "execution_count": 13,
   "metadata": {},
   "outputs": [
    {
     "name": "stdout",
     "output_type": "stream",
     "text": [
      "<class 'bs4.element.ResultSet'>\n"
     ]
    }
   ],
   "source": [
    "p_list = bs.find_all('p')\n",
    "print(type(p_list))"
   ]
  },
  {
   "cell_type": "code",
   "execution_count": 14,
   "metadata": {},
   "outputs": [
    {
     "name": "stdout",
     "output_type": "stream",
     "text": [
      "[<p align=\"center\"> text 1 </p>, <p align=\"right\"> text 2 </p>, <p align=\"left\"> text 3 </p>]\n"
     ]
    }
   ],
   "source": [
    "print(p_list)"
   ]
  },
  {
   "cell_type": "code",
   "execution_count": 15,
   "metadata": {},
   "outputs": [
    {
     "name": "stdout",
     "output_type": "stream",
     "text": [
      "<p align=\"center\"> text 1 </p>\n",
      "<p align=\"right\"> text 2 </p>\n",
      "<p align=\"left\"> text 3 </p>\n"
     ]
    }
   ],
   "source": [
    "for tag in p_list:\n",
    "    print(tag)"
   ]
  },
  {
   "cell_type": "code",
   "execution_count": 18,
   "metadata": {},
   "outputs": [
    {
     "name": "stdout",
     "output_type": "stream",
     "text": [
      "<p align=\"center\"> text 1 </p>\n",
      "<p align=\"right\"> text 2 </p>\n",
      "<p align=\"left\"> text 3 </p>\n",
      "<img src=\"c:/temp/image/여름.png\"/>\n"
     ]
    }
   ],
   "source": [
    "tags = bs.find_all(['p', 'img']) # tags name\n",
    "for tag in tags:\n",
    "    print(tag)"
   ]
  },
  {
   "cell_type": "code",
   "execution_count": 19,
   "metadata": {},
   "outputs": [],
   "source": [
    "tags = bs.find_all(['P', 'IMG']) # 대소문자 구분됨.\n",
    "for tag in tags:\n",
    "    print(tag)"
   ]
  },
  {
   "cell_type": "code",
   "execution_count": 20,
   "metadata": {},
   "outputs": [
    {
     "name": "stdout",
     "output_type": "stream",
     "text": [
      "\n",
      "<HTML>\n",
      "    <HEAD>\n",
      "        <TITLE> HTML 연습 </TITLE>\n",
      "    </HEAD>\n",
      "    <BODY>\n",
      "        <P ALIGN=\"CENTER\"> TEXT 1 </P>\n",
      "        <P ALIGN=\"RIGHT\"> TEXT 2 </P>\n",
      "        <P ALIGN=\"LEFT\"> TEXT 3 </P>\n",
      "        <IMG SRC=\"C:/TEMP/IMAGE/여름.PNG\">\n",
      "    </BODY>\n",
      "</HTML>\n",
      "\n"
     ]
    }
   ],
   "source": [
    "ex3 = ex2.upper()\n",
    "print(ex3)"
   ]
  },
  {
   "cell_type": "code",
   "execution_count": 26,
   "metadata": {},
   "outputs": [],
   "source": [
    "bs = BeautifulSoup(ex3, 'html.parser') # 객체 생성, new 사용 안함"
   ]
  },
  {
   "cell_type": "code",
   "execution_count": 27,
   "metadata": {},
   "outputs": [],
   "source": [
    "# 소스 문자열이 대소문자인것은 관련이 없음, 찾으려는 태그는 소문자로 명시! ★\n",
    "tags = bs.find_all(['P', 'IMG']) # 대소문자 구분\n",
    "for tag in tags:\n",
    "    print(tag)"
   ]
  },
  {
   "cell_type": "code",
   "execution_count": 28,
   "metadata": {},
   "outputs": [
    {
     "name": "stdout",
     "output_type": "stream",
     "text": [
      "<p align=\"CENTER\"> TEXT 1 </p>\n",
      "<p align=\"RIGHT\"> TEXT 2 </p>\n",
      "<p align=\"LEFT\"> TEXT 3 </p>\n",
      "<img src=\"C:/TEMP/IMAGE/여름.PNG\"/>\n"
     ]
    }
   ],
   "source": [
    "# 소스 문자열이 대소문자인것은 관련이 없음, 찾으려는 태그는 소문자로 명시! ★\n",
    "tags = bs.find_all(['p', 'img']) # 대소문자 구분\n",
    "for tag in tags:\n",
    "    print(tag)"
   ]
  },
  {
   "cell_type": "code",
   "execution_count": 29,
   "metadata": {},
   "outputs": [
    {
     "name": "stdout",
     "output_type": "stream",
     "text": [
      "<body>\n",
      "<p align=\"CENTER\"> TEXT 1 </p>\n",
      "<p align=\"RIGHT\"> TEXT 2 </p>\n",
      "<p align=\"LEFT\"> TEXT 3 </p>\n",
      "<img src=\"C:/TEMP/IMAGE/여름.PNG\"/>\n",
      "</body>\n"
     ]
    }
   ],
   "source": [
    "tag = bs.find('body')\n",
    "print(tag)"
   ]
  },
  {
   "cell_type": "code",
   "execution_count": 31,
   "metadata": {},
   "outputs": [
    {
     "name": "stdout",
     "output_type": "stream",
     "text": [
      "None\n"
     ]
    }
   ],
   "source": [
    "print(tag.string) # body tag의 문자열 출력"
   ]
  },
  {
   "cell_type": "code",
   "execution_count": 34,
   "metadata": {},
   "outputs": [
    {
     "name": "stdout",
     "output_type": "stream",
     "text": [
      "<title> HTML 연습 </title>\n",
      " HTML 연습 \n"
     ]
    }
   ],
   "source": [
    "tag = bs.find('title')\n",
    "print(tag)\n",
    "print(tag.string) # 태그의 값(tag body)"
   ]
  },
  {
   "cell_type": "code",
   "execution_count": 35,
   "metadata": {},
   "outputs": [
    {
     "name": "stdout",
     "output_type": "stream",
     "text": [
      " TEXT 1 \n"
     ]
    }
   ],
   "source": [
    "# tag = bs.find('p', align=\"center\") # X, 속성값은 대소문자를 구별함.\n",
    "tag = bs.find('p', align=\"CENTER\")\n",
    "print(tag.string)"
   ]
  },
  {
   "cell_type": "code",
   "execution_count": 36,
   "metadata": {},
   "outputs": [
    {
     "name": "stdout",
     "output_type": "stream",
     "text": [
      "\n",
      "<html>\n",
      "    <head>\n",
      "        <title> html 연습 </title>\n",
      "    </head>\n",
      "    <body>\n",
      "        <p align=\"center\"> text 1 </p>\n",
      "        <p align=\"right\"> text 2 </p>\n",
      "        <p align=\"left\"> text 3 </p>\n",
      "        <img src=\"c:/temp/image/여름.png\">\n",
      "    </body>\n",
      "</html>\n",
      "\n"
     ]
    }
   ],
   "source": [
    "# 대소문자의 구분 문제로 인하여 html source를 소문자 기준으로 이용하면 편함.\n",
    "ex4 = ex3.lower()\n",
    "print(ex4)\n",
    "bs = BeautifulSoup(ex4, 'html.parser')"
   ]
  },
  {
   "cell_type": "code",
   "execution_count": 37,
   "metadata": {},
   "outputs": [
    {
     "name": "stdout",
     "output_type": "stream",
     "text": [
      " text 1 \n"
     ]
    }
   ],
   "source": [
    "tag = bs.find('p', align=\"center\")\n",
    "print(tag.string)"
   ]
  },
  {
   "cell_type": "code",
   "execution_count": 39,
   "metadata": {},
   "outputs": [
    {
     "name": "stdout",
     "output_type": "stream",
     "text": [
      "None\n",
      "c:/temp/image/여름.png\n"
     ]
    }
   ],
   "source": [
    "tag = bs.find('img')  # <img src=\"c:/temp/image/여름.png\">\n",
    "print(tag.string)\n",
    "print(tag['src'])  # []: 속성의 접근"
   ]
  },
  {
   "cell_type": "code",
   "execution_count": 48,
   "metadata": {},
   "outputs": [],
   "source": [
    "ex5 = '''\n",
    "<html>\n",
    "    <head>\n",
    "        <title> HTML 연습 </title>\n",
    "    </head>\n",
    "    <body>\n",
    "        <h1>이벤트 당첨자</h1>\n",
    "        <div>왕눈이</div>\n",
    "        <div>아로미</div>\n",
    "        <div>투투투</div>\n",
    "    </body>\n",
    "</html>\n",
    "'''\n",
    "bs = BeautifulSoup(ex5, 'html.parser')"
   ]
  },
  {
   "cell_type": "code",
   "execution_count": 49,
   "metadata": {},
   "outputs": [
    {
     "name": "stdout",
     "output_type": "stream",
     "text": [
      "<class 'bs4.element.ResultSet'>\n",
      "[<div>왕눈이</div>, <div>아로미</div>, <div>투투투</div>]\n"
     ]
    }
   ],
   "source": [
    "tags = bs.find_all('div')\n",
    "print(type(tags))\n",
    "print(tags)"
   ]
  },
  {
   "cell_type": "code",
   "execution_count": 50,
   "metadata": {},
   "outputs": [
    {
     "name": "stdout",
     "output_type": "stream",
     "text": [
      "이벤트 당첨자\n",
      "왕눈이\n",
      "아로미\n",
      "투투투\n"
     ]
    }
   ],
   "source": [
    "print('이벤트 당첨자')\n",
    "for tag in tags:\n",
    "    print(tag.string)"
   ]
  },
  {
   "cell_type": "code",
   "execution_count": 51,
   "metadata": {},
   "outputs": [],
   "source": [
    "ex6 = ''' \n",
    "<html> \n",
    "    <head> \n",
    "        <h1> 사야할 과일 </h1>\n",
    "    </head> \n",
    "    <body> \n",
    "        <h1> 시장가서 사야할 과일 목록 </h1> \n",
    "        <div> \n",
    "          <p id='fruits1' class='name1' title='바나나'> 바나나 \n",
    "            <span class = 'price'> 3000원 </span> \n",
    "            <span class = 'count'> 10개 </span> \n",
    "            <span class = 'store'> 바나나가게 </span> \n",
    "            <a href = 'https://www.banana.com'> banana.com </a> \n",
    "          </p>\n",
    "        </div> \n",
    "        <div> \n",
    "          <p id='fruits2' class='name2' title='체리'> 체리 \n",
    "            <span class = 'price'> 100원 </span> \n",
    "            <span class = 'count'> 50개 </span> \n",
    "            <span class = 'store'> 체리가게</span> \n",
    "            <a href = 'https://www.cherry.com'> cherry.com </a>\n",
    "          </p> \n",
    "        </div> \n",
    "        <div> \n",
    "          <p id='fruits3' class='name3' title='오렌지'> 오렌지\n",
    "            <span class = 'price'> 500원 </span> \n",
    "            <span class = 'count'> 20개 </span> \n",
    "            <span class = 'store'> 오렌지가게</span> \n",
    "            <a href = 'https://www.orange.com'> orange.com </a>\n",
    "          </p> \n",
    "        <div> \n",
    "    </body> \n",
    "</html>\n",
    "'''\n",
    "bs = BeautifulSoup(ex6, 'html.parser')"
   ]
  },
  {
   "cell_type": "code",
   "execution_count": 53,
   "metadata": {},
   "outputs": [
    {
     "name": "stdout",
     "output_type": "stream",
     "text": [
      "<class 'bs4.element.ResultSet'>\n",
      "[<p class=\"name1\" id=\"fruits1\" title=\"바나나\"> 바나나 \n",
      "            <span class=\"price\"> 3000원 </span>\n",
      "<span class=\"count\"> 10개 </span>\n",
      "<span class=\"store\"> 바나나가게 </span>\n",
      "<a href=\"https://www.banana.com\"> banana.com </a>\n",
      "</p>, <p class=\"name2\" id=\"fruits2\" title=\"체리\"> 체리 \n",
      "            <span class=\"price\"> 100원 </span>\n",
      "<span class=\"count\"> 50개 </span>\n",
      "<span class=\"store\"> 체리가게</span>\n",
      "<a href=\"https://www.cherry.com\"> cherry.com </a>\n",
      "</p>, <p class=\"name3\" id=\"fruits3\" title=\"오렌지\"> 오렌지\n",
      "            <span class=\"price\"> 500원 </span>\n",
      "<span class=\"count\"> 20개 </span>\n",
      "<span class=\"store\"> 오렌지가게</span>\n",
      "<a href=\"https://www.orange.com\"> orange.com </a>\n",
      "</p>]\n"
     ]
    }
   ],
   "source": [
    "tags = bs.select('p')  # fild_all()과 비슷\n",
    "print(type(tags))\n",
    "print(tags)"
   ]
  },
  {
   "cell_type": "code",
   "execution_count": 54,
   "metadata": {},
   "outputs": [
    {
     "name": "stdout",
     "output_type": "stream",
     "text": [
      "<class 'bs4.element.ResultSet'>\n",
      "[<p class=\"name1\" id=\"fruits1\" title=\"바나나\"> 바나나 \n",
      "            <span class=\"price\"> 3000원 </span>\n",
      "<span class=\"count\"> 10개 </span>\n",
      "<span class=\"store\"> 바나나가게 </span>\n",
      "<a href=\"https://www.banana.com\"> banana.com </a>\n",
      "</p>]\n"
     ]
    }
   ],
   "source": [
    "# <p id='fruits1' class='name1' title='바나나'>\n",
    "# 태그가 1개이더라도 <class 'bs4.element.ResultSet'> 이 리턴됨\n",
    "tags = bs.select('.name1') # class가 name1인 모든 태그\n",
    "print(type(tags))  \n",
    "print(tags)"
   ]
  },
  {
   "cell_type": "code",
   "execution_count": 55,
   "metadata": {},
   "outputs": [
    {
     "name": "stdout",
     "output_type": "stream",
     "text": [
      "<span class=\"price\"> 3000원 </span>\n",
      "<span class=\"count\"> 10개 </span>\n",
      "<span class=\"store\"> 바나나가게 </span>\n",
      "<span class=\"price\"> 100원 </span>\n",
      "<span class=\"count\"> 50개 </span>\n",
      "<span class=\"store\"> 체리가게</span>\n",
      "<span class=\"price\"> 500원 </span>\n",
      "<span class=\"count\"> 20개 </span>\n",
      "<span class=\"store\"> 오렌지가게</span>\n"
     ]
    }
   ],
   "source": [
    "tags = bs.select('div > p > span') # >: child tag\n",
    "for tag in tags:\n",
    "    print(tag)"
   ]
  },
  {
   "cell_type": "code",
   "execution_count": 56,
   "metadata": {},
   "outputs": [
    {
     "name": "stdout",
     "output_type": "stream",
     "text": [
      "<span class=\"store\"> 바나나가게 </span>\n",
      "<span class=\"store\"> 체리가게</span>\n",
      "<span class=\"store\"> 오렌지가게</span>\n"
     ]
    }
   ],
   "source": [
    "# 상점명만 찾는 경우\n",
    "tags = bs.select('div > p > span.store') # >: child tag\n",
    "for tag in tags:\n",
    "    print(tag)"
   ]
  },
  {
   "cell_type": "code",
   "execution_count": 57,
   "metadata": {},
   "outputs": [
    {
     "name": "stdout",
     "output_type": "stream",
     "text": [
      "<span class=\"store\"> 바나나가게 </span>\n",
      "<span class=\"store\"> 체리가게</span>\n",
      "<span class=\"store\"> 오렌지가게</span>\n"
     ]
    }
   ],
   "source": [
    "print(tags[0])\n",
    "print(tags[1])\n",
    "print(tags[2])"
   ]
  },
  {
   "cell_type": "code",
   "execution_count": 61,
   "metadata": {},
   "outputs": [
    {
     "name": "stdout",
     "output_type": "stream",
     "text": [
      "[<span class=\"store\"> 오렌지가게</span>]\n",
      "<class 'bs4.element.ResultSet'>\n"
     ]
    }
   ],
   "source": [
    "tags = bs.select('p.name3 > span.store')\n",
    "print(tags)\n",
    "print(type(tags))"
   ]
  },
  {
   "cell_type": "code",
   "execution_count": 63,
   "metadata": {},
   "outputs": [
    {
     "name": "stdout",
     "output_type": "stream",
     "text": [
      "<span class=\"store\"> 오렌지가게</span>\n",
      "<class 'bs4.element.Tag'>\n"
     ]
    }
   ],
   "source": [
    "print(tags[0])\n",
    "print(type(tags[0]))"
   ]
  },
  {
   "cell_type": "code",
   "execution_count": 65,
   "metadata": {},
   "outputs": [
    {
     "name": "stdout",
     "output_type": "stream",
     "text": [
      " 오렌지가게\n",
      "<class 'bs4.element.NavigableString'>\n",
      "오렌지가게\n"
     ]
    }
   ],
   "source": [
    "print(tags[0].string)\n",
    "print(type(tags[0].string)) # <class 'bs4.element.NavigableString'>\n",
    "print(tags[0].string.strip())"
   ]
  },
  {
   "cell_type": "code",
   "execution_count": 66,
   "metadata": {},
   "outputs": [
    {
     "name": "stdout",
     "output_type": "stream",
     "text": [
      "[<p class=\"name3\" id=\"fruits3\" title=\"오렌지\"> 오렌지\n",
      "            <span class=\"price\"> 500원 </span>\n",
      "<span class=\"count\"> 20개 </span>\n",
      "<span class=\"store\"> 오렌지가게</span>\n",
      "<a href=\"https://www.orange.com\"> orange.com </a>\n",
      "</p>]\n"
     ]
    }
   ],
   "source": [
    "tags = bs.select('#fruits3') # #: id\n",
    "print(tags)"
   ]
  },
  {
   "cell_type": "code",
   "execution_count": 67,
   "metadata": {},
   "outputs": [
    {
     "name": "stdout",
     "output_type": "stream",
     "text": [
      "[<span class=\"store\"> 오렌지가게</span>]\n"
     ]
    }
   ],
   "source": [
    "tags = bs.select('#fruits3 > span.store') \n",
    "print(tags)"
   ]
  },
  {
   "cell_type": "code",
   "execution_count": 68,
   "metadata": {},
   "outputs": [
    {
     "name": "stdout",
     "output_type": "stream",
     "text": [
      "[<a href=\"https://www.banana.com\"> banana.com </a>, <a href=\"https://www.cherry.com\"> cherry.com </a>, <a href=\"https://www.orange.com\"> orange.com </a>]\n"
     ]
    }
   ],
   "source": [
    "tags = bs.select('a')\n",
    "print(tags)"
   ]
  },
  {
   "cell_type": "code",
   "execution_count": 69,
   "metadata": {},
   "outputs": [
    {
     "name": "stdout",
     "output_type": "stream",
     "text": [
      "https://www.banana.com\n",
      "https://www.cherry.com\n",
      "https://www.orange.com\n"
     ]
    }
   ],
   "source": [
    "for tag in tags:\n",
    "    print(tag['href'])"
   ]
  },
  {
   "cell_type": "code",
   "execution_count": 70,
   "metadata": {},
   "outputs": [
    {
     "name": "stdout",
     "output_type": "stream",
     "text": [
      "[<tbody>\n",
      "<tr><td>no</td><td>name</td></tr>\n",
      "<tr><td>1</td><td>아로미</td></tr>\n",
      "<tr><td>2</td><td>왕눈이</td></tr>\n",
      "</tbody>]\n"
     ]
    }
   ],
   "source": [
    "# 소스상에 tbody가 있는 경우는 자식태그로 인식이되나\n",
    "# 크롬이 자동으로 생성한 tbody는 인식이 안됨.\n",
    "ex7 = '''\n",
    "<html>\n",
    "    <head>\n",
    "        <title> HTML 연습 </title>\n",
    "    </head>\n",
    "    <body>\n",
    "        <table id='list'>\n",
    "          <tbody>\n",
    "            <tr><td>no</td><td>name</td></tr>\n",
    "            <tr><td>1</td><td>아로미</td></tr>\n",
    "            <tr><td>2</td><td>왕눈이</td></tr>\n",
    "          </tbody>\n",
    "        </table>\n",
    "    </body>\n",
    "</html>\n",
    "'''\n",
    "bs = BeautifulSoup(ex7, 'html.parser')\n",
    "tags = bs.select('#list > tbody')\n",
    "print(tags)"
   ]
  },
  {
   "cell_type": "code",
   "execution_count": 71,
   "metadata": {},
   "outputs": [
    {
     "name": "stdout",
     "output_type": "stream",
     "text": [
      "[]\n"
     ]
    }
   ],
   "source": [
    "tags = bs.select('#list > tr') # 중간의 자식 태그를 생략하면 안됨\n",
    "print(tags)"
   ]
  },
  {
   "cell_type": "code",
   "execution_count": 72,
   "metadata": {},
   "outputs": [
    {
     "name": "stdout",
     "output_type": "stream",
     "text": [
      "[<tr><td>no</td><td>name</td></tr>, <tr><td>1</td><td>아로미</td></tr>, <tr><td>2</td><td>왕눈이</td></tr>]\n"
     ]
    }
   ],
   "source": [
    "tags = bs.select('#list > tbody > tr') # 중간의 자식 태그를 생략하면 안됨\n",
    "print(tags)"
   ]
  },
  {
   "cell_type": "code",
   "execution_count": 73,
   "metadata": {},
   "outputs": [
    {
     "name": "stdout",
     "output_type": "stream",
     "text": [
      "1번\n",
      "None\n",
      "None\n"
     ]
    }
   ],
   "source": [
    "# string: 단순 문자열, tag가 자식으로 있으면 값 출력 안됨. ★\n",
    "# text: 하위 태그의 값을 모두 문자열로 산출\n",
    "ex8='''\n",
    "        <table id='list'>\n",
    "          <tbody>\n",
    "            <tr>\n",
    "              <td>1번</td>\n",
    "              <td>2번 <span>★★★★☆</span></td>\n",
    "              <td>3번 <span>★★★★★</span></td>\n",
    "            </tr>\n",
    "          </tbody>\n",
    "        </table>\n",
    "'''\n",
    "bs = BeautifulSoup(ex8, 'html.parser')\n",
    "tags = bs.select('table > tbody > tr > td')\n",
    "for tag in tags:\n",
    "    print(tag.string)"
   ]
  },
  {
   "cell_type": "code",
   "execution_count": 74,
   "metadata": {},
   "outputs": [
    {
     "name": "stdout",
     "output_type": "stream",
     "text": [
      "1번\n",
      "2번 ★★★★☆\n",
      "3번 ★★★★★\n"
     ]
    }
   ],
   "source": [
    "for tag in tags:\n",
    "    print(tag.text)"
   ]
  },
  {
   "cell_type": "code",
   "execution_count": null,
   "metadata": {},
   "outputs": [],
   "source": []
  }
 ],
 "metadata": {
  "kernelspec": {
   "display_name": "ai",
   "language": "python",
   "name": "ai"
  },
  "language_info": {
   "codemirror_mode": {
    "name": "ipython",
    "version": 3
   },
   "file_extension": ".py",
   "mimetype": "text/x-python",
   "name": "python",
   "nbconvert_exporter": "python",
   "pygments_lexer": "ipython3",
   "version": "3.7.11"
  }
 },
 "nbformat": 4,
 "nbformat_minor": 4
}
